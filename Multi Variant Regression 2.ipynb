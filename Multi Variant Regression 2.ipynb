{
 "cells": [
  {
   "cell_type": "code",
   "execution_count": 1,
   "id": "6b8d633b",
   "metadata": {},
   "outputs": [],
   "source": [
    "import numpy as np \n",
    "import pandas as pd\n",
    "import matplotlib.pyplot as plt \n",
    "import seaborn as sb \n",
    "import numpy_financial as npf\n",
    "from sklearn.metrics import confusion_matrix, accuracy_score "
   ]
  },
  {
   "cell_type": "code",
   "execution_count": 2,
   "id": "5902d268",
   "metadata": {},
   "outputs": [
    {
     "data": {
      "text/html": [
       "<div>\n",
       "<style scoped>\n",
       "    .dataframe tbody tr th:only-of-type {\n",
       "        vertical-align: middle;\n",
       "    }\n",
       "\n",
       "    .dataframe tbody tr th {\n",
       "        vertical-align: top;\n",
       "    }\n",
       "\n",
       "    .dataframe thead th {\n",
       "        text-align: right;\n",
       "    }\n",
       "</style>\n",
       "<table border=\"1\" class=\"dataframe\">\n",
       "  <thead>\n",
       "    <tr style=\"text-align: right;\">\n",
       "      <th></th>\n",
       "      <th>ListingKey</th>\n",
       "      <th>ListingNumber</th>\n",
       "      <th>ListingCreationDate</th>\n",
       "      <th>CreditGrade</th>\n",
       "      <th>Term</th>\n",
       "      <th>LoanStatus</th>\n",
       "      <th>ClosedDate</th>\n",
       "      <th>BorrowerAPR</th>\n",
       "      <th>BorrowerRate</th>\n",
       "      <th>LenderYield</th>\n",
       "      <th>...</th>\n",
       "      <th>LP_ServiceFees</th>\n",
       "      <th>LP_CollectionFees</th>\n",
       "      <th>LP_GrossPrincipalLoss</th>\n",
       "      <th>LP_NetPrincipalLoss</th>\n",
       "      <th>LP_NonPrincipalRecoverypayments</th>\n",
       "      <th>PercentFunded</th>\n",
       "      <th>Recommendations</th>\n",
       "      <th>InvestmentFromFriendsCount</th>\n",
       "      <th>InvestmentFromFriendsAmount</th>\n",
       "      <th>Investors</th>\n",
       "    </tr>\n",
       "  </thead>\n",
       "  <tbody>\n",
       "    <tr>\n",
       "      <th>0</th>\n",
       "      <td>1021339766868145413AB3B</td>\n",
       "      <td>193129</td>\n",
       "      <td>09:29.3</td>\n",
       "      <td>C</td>\n",
       "      <td>36</td>\n",
       "      <td>Completed</td>\n",
       "      <td>8/14/2009 0:00</td>\n",
       "      <td>0.16516</td>\n",
       "      <td>0.1580</td>\n",
       "      <td>0.1380</td>\n",
       "      <td>...</td>\n",
       "      <td>-133.18</td>\n",
       "      <td>0.0</td>\n",
       "      <td>0.0</td>\n",
       "      <td>0.0</td>\n",
       "      <td>0.0</td>\n",
       "      <td>1.0</td>\n",
       "      <td>0</td>\n",
       "      <td>0</td>\n",
       "      <td>0.0</td>\n",
       "      <td>258</td>\n",
       "    </tr>\n",
       "    <tr>\n",
       "      <th>1</th>\n",
       "      <td>10273602499503308B223C1</td>\n",
       "      <td>1209647</td>\n",
       "      <td>28:07.9</td>\n",
       "      <td>NaN</td>\n",
       "      <td>36</td>\n",
       "      <td>Current</td>\n",
       "      <td>NaN</td>\n",
       "      <td>0.12016</td>\n",
       "      <td>0.0920</td>\n",
       "      <td>0.0820</td>\n",
       "      <td>...</td>\n",
       "      <td>0.00</td>\n",
       "      <td>0.0</td>\n",
       "      <td>0.0</td>\n",
       "      <td>0.0</td>\n",
       "      <td>0.0</td>\n",
       "      <td>1.0</td>\n",
       "      <td>0</td>\n",
       "      <td>0</td>\n",
       "      <td>0.0</td>\n",
       "      <td>1</td>\n",
       "    </tr>\n",
       "    <tr>\n",
       "      <th>2</th>\n",
       "      <td>0EE9337825851032864889A</td>\n",
       "      <td>81716</td>\n",
       "      <td>00:47.1</td>\n",
       "      <td>HR</td>\n",
       "      <td>36</td>\n",
       "      <td>Completed</td>\n",
       "      <td>12/17/2009 0:00</td>\n",
       "      <td>0.28269</td>\n",
       "      <td>0.2750</td>\n",
       "      <td>0.2400</td>\n",
       "      <td>...</td>\n",
       "      <td>-24.20</td>\n",
       "      <td>0.0</td>\n",
       "      <td>0.0</td>\n",
       "      <td>0.0</td>\n",
       "      <td>0.0</td>\n",
       "      <td>1.0</td>\n",
       "      <td>0</td>\n",
       "      <td>0</td>\n",
       "      <td>0.0</td>\n",
       "      <td>41</td>\n",
       "    </tr>\n",
       "    <tr>\n",
       "      <th>3</th>\n",
       "      <td>0EF5356002482715299901A</td>\n",
       "      <td>658116</td>\n",
       "      <td>02:35.0</td>\n",
       "      <td>NaN</td>\n",
       "      <td>36</td>\n",
       "      <td>Current</td>\n",
       "      <td>NaN</td>\n",
       "      <td>0.12528</td>\n",
       "      <td>0.0974</td>\n",
       "      <td>0.0874</td>\n",
       "      <td>...</td>\n",
       "      <td>-108.01</td>\n",
       "      <td>0.0</td>\n",
       "      <td>0.0</td>\n",
       "      <td>0.0</td>\n",
       "      <td>0.0</td>\n",
       "      <td>1.0</td>\n",
       "      <td>0</td>\n",
       "      <td>0</td>\n",
       "      <td>0.0</td>\n",
       "      <td>158</td>\n",
       "    </tr>\n",
       "    <tr>\n",
       "      <th>4</th>\n",
       "      <td>0F023589499656230C5E3E2</td>\n",
       "      <td>909464</td>\n",
       "      <td>38:39.1</td>\n",
       "      <td>NaN</td>\n",
       "      <td>36</td>\n",
       "      <td>Current</td>\n",
       "      <td>NaN</td>\n",
       "      <td>0.24614</td>\n",
       "      <td>0.2085</td>\n",
       "      <td>0.1985</td>\n",
       "      <td>...</td>\n",
       "      <td>-60.27</td>\n",
       "      <td>0.0</td>\n",
       "      <td>0.0</td>\n",
       "      <td>0.0</td>\n",
       "      <td>0.0</td>\n",
       "      <td>1.0</td>\n",
       "      <td>0</td>\n",
       "      <td>0</td>\n",
       "      <td>0.0</td>\n",
       "      <td>20</td>\n",
       "    </tr>\n",
       "  </tbody>\n",
       "</table>\n",
       "<p>5 rows × 81 columns</p>\n",
       "</div>"
      ],
      "text/plain": [
       "                ListingKey  ListingNumber ListingCreationDate CreditGrade  \\\n",
       "0  1021339766868145413AB3B         193129             09:29.3           C   \n",
       "1  10273602499503308B223C1        1209647             28:07.9         NaN   \n",
       "2  0EE9337825851032864889A          81716             00:47.1          HR   \n",
       "3  0EF5356002482715299901A         658116             02:35.0         NaN   \n",
       "4  0F023589499656230C5E3E2         909464             38:39.1         NaN   \n",
       "\n",
       "   Term LoanStatus       ClosedDate  BorrowerAPR  BorrowerRate  LenderYield  \\\n",
       "0    36  Completed   8/14/2009 0:00      0.16516        0.1580       0.1380   \n",
       "1    36    Current              NaN      0.12016        0.0920       0.0820   \n",
       "2    36  Completed  12/17/2009 0:00      0.28269        0.2750       0.2400   \n",
       "3    36    Current              NaN      0.12528        0.0974       0.0874   \n",
       "4    36    Current              NaN      0.24614        0.2085       0.1985   \n",
       "\n",
       "   ...  LP_ServiceFees  LP_CollectionFees  LP_GrossPrincipalLoss  \\\n",
       "0  ...         -133.18                0.0                    0.0   \n",
       "1  ...            0.00                0.0                    0.0   \n",
       "2  ...          -24.20                0.0                    0.0   \n",
       "3  ...         -108.01                0.0                    0.0   \n",
       "4  ...          -60.27                0.0                    0.0   \n",
       "\n",
       "   LP_NetPrincipalLoss LP_NonPrincipalRecoverypayments  PercentFunded  \\\n",
       "0                  0.0                             0.0            1.0   \n",
       "1                  0.0                             0.0            1.0   \n",
       "2                  0.0                             0.0            1.0   \n",
       "3                  0.0                             0.0            1.0   \n",
       "4                  0.0                             0.0            1.0   \n",
       "\n",
       "   Recommendations InvestmentFromFriendsCount InvestmentFromFriendsAmount  \\\n",
       "0                0                          0                         0.0   \n",
       "1                0                          0                         0.0   \n",
       "2                0                          0                         0.0   \n",
       "3                0                          0                         0.0   \n",
       "4                0                          0                         0.0   \n",
       "\n",
       "  Investors  \n",
       "0       258  \n",
       "1         1  \n",
       "2        41  \n",
       "3       158  \n",
       "4        20  \n",
       "\n",
       "[5 rows x 81 columns]"
      ]
     },
     "execution_count": 2,
     "metadata": {},
     "output_type": "execute_result"
    }
   ],
   "source": [
    "df= pd.read_csv('downloads/ProsperLoanData.csv')\n",
    "df.head()"
   ]
  },
  {
   "cell_type": "code",
   "execution_count": 3,
   "id": "9f1b5d0c",
   "metadata": {},
   "outputs": [],
   "source": [
    "df1 = df[['BorrowerRate','EstimatedReturn','ProsperRating (numeric)','ListingCategory (numeric)',' IsBorrowerHomeowner','CreditScoreRangeLower',\n",
    "         'OpenCreditLines','InquiriesLast6Months','PublicRecordsLast12Months','BankcardUtilization','DebtToIncomeRatio','StatedMonthlyIncome','LoanOriginalAmount','LoanOriginationDate','LoanStatus']]"
   ]
  },
  {
   "cell_type": "code",
   "execution_count": 4,
   "id": "4c5cedd6",
   "metadata": {},
   "outputs": [],
   "source": [
    "import datetime"
   ]
  },
  {
   "cell_type": "code",
   "execution_count": 5,
   "id": "05a40e98",
   "metadata": {},
   "outputs": [
    {
     "name": "stderr",
     "output_type": "stream",
     "text": [
      "C:\\Users\\JAHANL~1\\AppData\\Local\\Temp/ipykernel_12100/199776526.py:1: SettingWithCopyWarning: \n",
      "A value is trying to be set on a copy of a slice from a DataFrame.\n",
      "Try using .loc[row_indexer,col_indexer] = value instead\n",
      "\n",
      "See the caveats in the documentation: https://pandas.pydata.org/pandas-docs/stable/user_guide/indexing.html#returning-a-view-versus-a-copy\n",
      "  df1['Datetime']= pd.to_datetime(df1['LoanOriginationDate'])\n"
     ]
    }
   ],
   "source": [
    "df1['Datetime']= pd.to_datetime(df1['LoanOriginationDate'])\n"
   ]
  },
  {
   "cell_type": "code",
   "execution_count": 6,
   "id": "32514504",
   "metadata": {},
   "outputs": [],
   "source": [
    "cutoff_date ='2009-12-31'\n",
    "df1= df1.loc[df1['Datetime'] >= cutoff_date]"
   ]
  },
  {
   "cell_type": "code",
   "execution_count": 7,
   "id": "bd717a20",
   "metadata": {},
   "outputs": [],
   "source": [
    "df1= df1.drop(['Datetime'],axis=1)\n"
   ]
  },
  {
   "cell_type": "code",
   "execution_count": 8,
   "id": "3bc832ff",
   "metadata": {},
   "outputs": [],
   "source": [
    "df1.drop(df1.index[np.where(df1['LoanStatus'] == 'Current')], inplace=True)\n",
    "df1.drop(df1.index[np.where(df1['LoanStatus'] == 'Past Due (1-15 days)')], inplace=True)\n",
    "df1.drop(df1.index[np.where(df1['LoanStatus'] == 'Past Due (16-30 days)')], inplace=True)\n",
    "df1.drop(df1.index[np.where(df1['LoanStatus'] == 'Past Due (61-90 days)')], inplace=True)\n",
    "df1.drop(df1.index[np.where(df1['LoanStatus'] == 'Past Due (31-60 days)')], inplace=True)\n",
    "df1.drop(df1.index[np.where(df1['LoanStatus'] == 'Past Due (91-120 days)')], inplace=True)\n",
    "df1.drop(df1.index[np.where(df1['LoanStatus'] == 'Past Due (>120 days)')], inplace=True)\n",
    "df1.drop(df1.index[np.where(df1['LoanStatus'] == 'FinalPaymentInProgress')], inplace=True)\n"
   ]
  },
  {
   "cell_type": "code",
   "execution_count": 9,
   "id": "8199e70d",
   "metadata": {},
   "outputs": [
    {
     "data": {
      "text/html": [
       "<div>\n",
       "<style scoped>\n",
       "    .dataframe tbody tr th:only-of-type {\n",
       "        vertical-align: middle;\n",
       "    }\n",
       "\n",
       "    .dataframe tbody tr th {\n",
       "        vertical-align: top;\n",
       "    }\n",
       "\n",
       "    .dataframe thead th {\n",
       "        text-align: right;\n",
       "    }\n",
       "</style>\n",
       "<table border=\"1\" class=\"dataframe\">\n",
       "  <thead>\n",
       "    <tr style=\"text-align: right;\">\n",
       "      <th></th>\n",
       "      <th>BorrowerRate</th>\n",
       "      <th>EstimatedReturn</th>\n",
       "      <th>ProsperRating (numeric)</th>\n",
       "      <th>ListingCategory (numeric)</th>\n",
       "      <th>IsBorrowerHomeowner</th>\n",
       "      <th>CreditScoreRangeLower</th>\n",
       "      <th>OpenCreditLines</th>\n",
       "      <th>InquiriesLast6Months</th>\n",
       "      <th>PublicRecordsLast12Months</th>\n",
       "      <th>BankcardUtilization</th>\n",
       "      <th>DebtToIncomeRatio</th>\n",
       "      <th>StatedMonthlyIncome</th>\n",
       "      <th>LoanOriginalAmount</th>\n",
       "      <th>LoanOriginationDate</th>\n",
       "      <th>LoanStatus</th>\n",
       "    </tr>\n",
       "  </thead>\n",
       "  <tbody>\n",
       "    <tr>\n",
       "      <th>15</th>\n",
       "      <td>0.3177</td>\n",
       "      <td>0.1246</td>\n",
       "      <td>1.0</td>\n",
       "      <td>13</td>\n",
       "      <td>True</td>\n",
       "      <td>700.0</td>\n",
       "      <td>9.0</td>\n",
       "      <td>0.0</td>\n",
       "      <td>0.0</td>\n",
       "      <td>0.97</td>\n",
       "      <td>0.49</td>\n",
       "      <td>5500.000000</td>\n",
       "      <td>4000</td>\n",
       "      <td>4/19/2012 0:00</td>\n",
       "      <td>Defaulted</td>\n",
       "    </tr>\n",
       "    <tr>\n",
       "      <th>23</th>\n",
       "      <td>0.2419</td>\n",
       "      <td>0.1051</td>\n",
       "      <td>3.0</td>\n",
       "      <td>15</td>\n",
       "      <td>False</td>\n",
       "      <td>680.0</td>\n",
       "      <td>7.0</td>\n",
       "      <td>0.0</td>\n",
       "      <td>0.0</td>\n",
       "      <td>0.84</td>\n",
       "      <td>0.39</td>\n",
       "      <td>2500.000000</td>\n",
       "      <td>2000</td>\n",
       "      <td>4/26/2013 0:00</td>\n",
       "      <td>Defaulted</td>\n",
       "    </tr>\n",
       "    <tr>\n",
       "      <th>26</th>\n",
       "      <td>0.2809</td>\n",
       "      <td>0.1248</td>\n",
       "      <td>2.0</td>\n",
       "      <td>1</td>\n",
       "      <td>False</td>\n",
       "      <td>660.0</td>\n",
       "      <td>6.0</td>\n",
       "      <td>2.0</td>\n",
       "      <td>0.0</td>\n",
       "      <td>0.30</td>\n",
       "      <td>0.11</td>\n",
       "      <td>3885.916667</td>\n",
       "      <td>4000</td>\n",
       "      <td>2/21/2013 0:00</td>\n",
       "      <td>Completed</td>\n",
       "    </tr>\n",
       "    <tr>\n",
       "      <th>27</th>\n",
       "      <td>0.0920</td>\n",
       "      <td>0.0608</td>\n",
       "      <td>6.0</td>\n",
       "      <td>1</td>\n",
       "      <td>True</td>\n",
       "      <td>700.0</td>\n",
       "      <td>16.0</td>\n",
       "      <td>2.0</td>\n",
       "      <td>0.0</td>\n",
       "      <td>0.09</td>\n",
       "      <td>0.26</td>\n",
       "      <td>6666.666667</td>\n",
       "      <td>4000</td>\n",
       "      <td>6/24/2010 0:00</td>\n",
       "      <td>Completed</td>\n",
       "    </tr>\n",
       "    <tr>\n",
       "      <th>30</th>\n",
       "      <td>0.0999</td>\n",
       "      <td>0.0517</td>\n",
       "      <td>6.0</td>\n",
       "      <td>20</td>\n",
       "      <td>False</td>\n",
       "      <td>740.0</td>\n",
       "      <td>4.0</td>\n",
       "      <td>0.0</td>\n",
       "      <td>0.0</td>\n",
       "      <td>0.13</td>\n",
       "      <td>0.11</td>\n",
       "      <td>3750.000000</td>\n",
       "      <td>10000</td>\n",
       "      <td>2/7/2012 0:00</td>\n",
       "      <td>Completed</td>\n",
       "    </tr>\n",
       "    <tr>\n",
       "      <th>...</th>\n",
       "      <td>...</td>\n",
       "      <td>...</td>\n",
       "      <td>...</td>\n",
       "      <td>...</td>\n",
       "      <td>...</td>\n",
       "      <td>...</td>\n",
       "      <td>...</td>\n",
       "      <td>...</td>\n",
       "      <td>...</td>\n",
       "      <td>...</td>\n",
       "      <td>...</td>\n",
       "      <td>...</td>\n",
       "      <td>...</td>\n",
       "      <td>...</td>\n",
       "      <td>...</td>\n",
       "    </tr>\n",
       "    <tr>\n",
       "      <th>113908</th>\n",
       "      <td>0.3220</td>\n",
       "      <td>0.1557</td>\n",
       "      <td>2.0</td>\n",
       "      <td>3</td>\n",
       "      <td>False</td>\n",
       "      <td>700.0</td>\n",
       "      <td>15.0</td>\n",
       "      <td>1.0</td>\n",
       "      <td>0.0</td>\n",
       "      <td>0.00</td>\n",
       "      <td>NaN</td>\n",
       "      <td>2833.333333</td>\n",
       "      <td>7500</td>\n",
       "      <td>12/8/2010 0:00</td>\n",
       "      <td>Completed</td>\n",
       "    </tr>\n",
       "    <tr>\n",
       "      <th>113913</th>\n",
       "      <td>0.1030</td>\n",
       "      <td>0.0717</td>\n",
       "      <td>6.0</td>\n",
       "      <td>1</td>\n",
       "      <td>True</td>\n",
       "      <td>780.0</td>\n",
       "      <td>19.0</td>\n",
       "      <td>0.0</td>\n",
       "      <td>0.0</td>\n",
       "      <td>0.59</td>\n",
       "      <td>0.25</td>\n",
       "      <td>9750.000000</td>\n",
       "      <td>8000</td>\n",
       "      <td>5/5/2010 0:00</td>\n",
       "      <td>Completed</td>\n",
       "    </tr>\n",
       "    <tr>\n",
       "      <th>113928</th>\n",
       "      <td>0.1899</td>\n",
       "      <td>0.1147</td>\n",
       "      <td>4.0</td>\n",
       "      <td>3</td>\n",
       "      <td>False</td>\n",
       "      <td>740.0</td>\n",
       "      <td>3.0</td>\n",
       "      <td>0.0</td>\n",
       "      <td>0.0</td>\n",
       "      <td>0.00</td>\n",
       "      <td>0.27</td>\n",
       "      <td>2333.333333</td>\n",
       "      <td>2000</td>\n",
       "      <td>6/10/2011 0:00</td>\n",
       "      <td>Completed</td>\n",
       "    </tr>\n",
       "    <tr>\n",
       "      <th>113929</th>\n",
       "      <td>0.2639</td>\n",
       "      <td>0.1093</td>\n",
       "      <td>2.0</td>\n",
       "      <td>2</td>\n",
       "      <td>False</td>\n",
       "      <td>660.0</td>\n",
       "      <td>7.0</td>\n",
       "      <td>2.0</td>\n",
       "      <td>0.0</td>\n",
       "      <td>0.11</td>\n",
       "      <td>0.05</td>\n",
       "      <td>4333.333333</td>\n",
       "      <td>2500</td>\n",
       "      <td>7/10/2013 0:00</td>\n",
       "      <td>Completed</td>\n",
       "    </tr>\n",
       "    <tr>\n",
       "      <th>113935</th>\n",
       "      <td>0.2605</td>\n",
       "      <td>0.1595</td>\n",
       "      <td>4.0</td>\n",
       "      <td>2</td>\n",
       "      <td>True</td>\n",
       "      <td>680.0</td>\n",
       "      <td>11.0</td>\n",
       "      <td>1.0</td>\n",
       "      <td>0.0</td>\n",
       "      <td>0.69</td>\n",
       "      <td>0.48</td>\n",
       "      <td>3875.000000</td>\n",
       "      <td>15000</td>\n",
       "      <td>11/21/2011 0:00</td>\n",
       "      <td>Completed</td>\n",
       "    </tr>\n",
       "  </tbody>\n",
       "</table>\n",
       "<p>24176 rows × 15 columns</p>\n",
       "</div>"
      ],
      "text/plain": [
       "        BorrowerRate  EstimatedReturn  ProsperRating (numeric)  \\\n",
       "15            0.3177           0.1246                      1.0   \n",
       "23            0.2419           0.1051                      3.0   \n",
       "26            0.2809           0.1248                      2.0   \n",
       "27            0.0920           0.0608                      6.0   \n",
       "30            0.0999           0.0517                      6.0   \n",
       "...              ...              ...                      ...   \n",
       "113908        0.3220           0.1557                      2.0   \n",
       "113913        0.1030           0.0717                      6.0   \n",
       "113928        0.1899           0.1147                      4.0   \n",
       "113929        0.2639           0.1093                      2.0   \n",
       "113935        0.2605           0.1595                      4.0   \n",
       "\n",
       "        ListingCategory (numeric)   IsBorrowerHomeowner  \\\n",
       "15                             13                  True   \n",
       "23                             15                 False   \n",
       "26                              1                 False   \n",
       "27                              1                  True   \n",
       "30                             20                 False   \n",
       "...                           ...                   ...   \n",
       "113908                          3                 False   \n",
       "113913                          1                  True   \n",
       "113928                          3                 False   \n",
       "113929                          2                 False   \n",
       "113935                          2                  True   \n",
       "\n",
       "        CreditScoreRangeLower  OpenCreditLines  InquiriesLast6Months  \\\n",
       "15                      700.0              9.0                   0.0   \n",
       "23                      680.0              7.0                   0.0   \n",
       "26                      660.0              6.0                   2.0   \n",
       "27                      700.0             16.0                   2.0   \n",
       "30                      740.0              4.0                   0.0   \n",
       "...                       ...              ...                   ...   \n",
       "113908                  700.0             15.0                   1.0   \n",
       "113913                  780.0             19.0                   0.0   \n",
       "113928                  740.0              3.0                   0.0   \n",
       "113929                  660.0              7.0                   2.0   \n",
       "113935                  680.0             11.0                   1.0   \n",
       "\n",
       "        PublicRecordsLast12Months  BankcardUtilization  DebtToIncomeRatio  \\\n",
       "15                            0.0                 0.97               0.49   \n",
       "23                            0.0                 0.84               0.39   \n",
       "26                            0.0                 0.30               0.11   \n",
       "27                            0.0                 0.09               0.26   \n",
       "30                            0.0                 0.13               0.11   \n",
       "...                           ...                  ...                ...   \n",
       "113908                        0.0                 0.00                NaN   \n",
       "113913                        0.0                 0.59               0.25   \n",
       "113928                        0.0                 0.00               0.27   \n",
       "113929                        0.0                 0.11               0.05   \n",
       "113935                        0.0                 0.69               0.48   \n",
       "\n",
       "        StatedMonthlyIncome  LoanOriginalAmount LoanOriginationDate LoanStatus  \n",
       "15              5500.000000                4000      4/19/2012 0:00  Defaulted  \n",
       "23              2500.000000                2000      4/26/2013 0:00  Defaulted  \n",
       "26              3885.916667                4000      2/21/2013 0:00  Completed  \n",
       "27              6666.666667                4000      6/24/2010 0:00  Completed  \n",
       "30              3750.000000               10000       2/7/2012 0:00  Completed  \n",
       "...                     ...                 ...                 ...        ...  \n",
       "113908          2833.333333                7500      12/8/2010 0:00  Completed  \n",
       "113913          9750.000000                8000       5/5/2010 0:00  Completed  \n",
       "113928          2333.333333                2000      6/10/2011 0:00  Completed  \n",
       "113929          4333.333333                2500      7/10/2013 0:00  Completed  \n",
       "113935          3875.000000               15000     11/21/2011 0:00  Completed  \n",
       "\n",
       "[24176 rows x 15 columns]"
      ]
     },
     "execution_count": 9,
     "metadata": {},
     "output_type": "execute_result"
    }
   ],
   "source": [
    "df1"
   ]
  },
  {
   "cell_type": "code",
   "execution_count": 10,
   "id": "463b3ec1",
   "metadata": {},
   "outputs": [],
   "source": [
    "from scipy.stats import spearmanr\n"
   ]
  },
  {
   "cell_type": "code",
   "execution_count": 11,
   "id": "5ede9650",
   "metadata": {},
   "outputs": [
    {
     "data": {
      "text/plain": [
       "array([0.3177, 0.2419, 0.2809, ..., 0.1899, 0.2639, 0.2605])"
      ]
     },
     "execution_count": 11,
     "metadata": {},
     "output_type": "execute_result"
    }
   ],
   "source": [
    "x=np.array(df1['BorrowerRate'])\n",
    "x"
   ]
  },
  {
   "cell_type": "code",
   "execution_count": 12,
   "id": "953892c5",
   "metadata": {},
   "outputs": [
    {
     "data": {
      "text/plain": [
       "(24176,)"
      ]
     },
     "execution_count": 12,
     "metadata": {},
     "output_type": "execute_result"
    }
   ],
   "source": [
    "y=np.array(df1['EstimatedReturn'])\n",
    "y.shape"
   ]
  },
  {
   "cell_type": "code",
   "execution_count": 13,
   "id": "2626dfab",
   "metadata": {},
   "outputs": [
    {
     "data": {
      "text/html": [
       "<div>\n",
       "<style scoped>\n",
       "    .dataframe tbody tr th:only-of-type {\n",
       "        vertical-align: middle;\n",
       "    }\n",
       "\n",
       "    .dataframe tbody tr th {\n",
       "        vertical-align: top;\n",
       "    }\n",
       "\n",
       "    .dataframe thead th {\n",
       "        text-align: right;\n",
       "    }\n",
       "</style>\n",
       "<table border=\"1\" class=\"dataframe\">\n",
       "  <thead>\n",
       "    <tr style=\"text-align: right;\">\n",
       "      <th></th>\n",
       "      <th>BorrowerRate</th>\n",
       "      <th>EstimatedReturn</th>\n",
       "      <th>ProsperRating (numeric)</th>\n",
       "      <th>ListingCategory (numeric)</th>\n",
       "      <th>IsBorrowerHomeowner</th>\n",
       "      <th>CreditScoreRangeLower</th>\n",
       "      <th>OpenCreditLines</th>\n",
       "      <th>InquiriesLast6Months</th>\n",
       "      <th>PublicRecordsLast12Months</th>\n",
       "      <th>BankcardUtilization</th>\n",
       "      <th>DebtToIncomeRatio</th>\n",
       "      <th>StatedMonthlyIncome</th>\n",
       "      <th>LoanOriginalAmount</th>\n",
       "      <th>LoanOriginationDate</th>\n",
       "      <th>LoanStatus</th>\n",
       "    </tr>\n",
       "  </thead>\n",
       "  <tbody>\n",
       "    <tr>\n",
       "      <th>15</th>\n",
       "      <td>0.3177</td>\n",
       "      <td>0.1246</td>\n",
       "      <td>1.0</td>\n",
       "      <td>13</td>\n",
       "      <td>True</td>\n",
       "      <td>700.0</td>\n",
       "      <td>9.0</td>\n",
       "      <td>0.0</td>\n",
       "      <td>0.0</td>\n",
       "      <td>0.97</td>\n",
       "      <td>0.49</td>\n",
       "      <td>5500.000000</td>\n",
       "      <td>4000</td>\n",
       "      <td>4/19/2012 0:00</td>\n",
       "      <td>Defaulted</td>\n",
       "    </tr>\n",
       "    <tr>\n",
       "      <th>23</th>\n",
       "      <td>0.2419</td>\n",
       "      <td>0.1051</td>\n",
       "      <td>3.0</td>\n",
       "      <td>15</td>\n",
       "      <td>False</td>\n",
       "      <td>680.0</td>\n",
       "      <td>7.0</td>\n",
       "      <td>0.0</td>\n",
       "      <td>0.0</td>\n",
       "      <td>0.84</td>\n",
       "      <td>0.39</td>\n",
       "      <td>2500.000000</td>\n",
       "      <td>2000</td>\n",
       "      <td>4/26/2013 0:00</td>\n",
       "      <td>Defaulted</td>\n",
       "    </tr>\n",
       "    <tr>\n",
       "      <th>26</th>\n",
       "      <td>0.2809</td>\n",
       "      <td>0.1248</td>\n",
       "      <td>2.0</td>\n",
       "      <td>1</td>\n",
       "      <td>False</td>\n",
       "      <td>660.0</td>\n",
       "      <td>6.0</td>\n",
       "      <td>2.0</td>\n",
       "      <td>0.0</td>\n",
       "      <td>0.30</td>\n",
       "      <td>0.11</td>\n",
       "      <td>3885.916667</td>\n",
       "      <td>4000</td>\n",
       "      <td>2/21/2013 0:00</td>\n",
       "      <td>Completed</td>\n",
       "    </tr>\n",
       "    <tr>\n",
       "      <th>27</th>\n",
       "      <td>0.0920</td>\n",
       "      <td>0.0608</td>\n",
       "      <td>6.0</td>\n",
       "      <td>1</td>\n",
       "      <td>True</td>\n",
       "      <td>700.0</td>\n",
       "      <td>16.0</td>\n",
       "      <td>2.0</td>\n",
       "      <td>0.0</td>\n",
       "      <td>0.09</td>\n",
       "      <td>0.26</td>\n",
       "      <td>6666.666667</td>\n",
       "      <td>4000</td>\n",
       "      <td>6/24/2010 0:00</td>\n",
       "      <td>Completed</td>\n",
       "    </tr>\n",
       "    <tr>\n",
       "      <th>30</th>\n",
       "      <td>0.0999</td>\n",
       "      <td>0.0517</td>\n",
       "      <td>6.0</td>\n",
       "      <td>20</td>\n",
       "      <td>False</td>\n",
       "      <td>740.0</td>\n",
       "      <td>4.0</td>\n",
       "      <td>0.0</td>\n",
       "      <td>0.0</td>\n",
       "      <td>0.13</td>\n",
       "      <td>0.11</td>\n",
       "      <td>3750.000000</td>\n",
       "      <td>10000</td>\n",
       "      <td>2/7/2012 0:00</td>\n",
       "      <td>Completed</td>\n",
       "    </tr>\n",
       "    <tr>\n",
       "      <th>...</th>\n",
       "      <td>...</td>\n",
       "      <td>...</td>\n",
       "      <td>...</td>\n",
       "      <td>...</td>\n",
       "      <td>...</td>\n",
       "      <td>...</td>\n",
       "      <td>...</td>\n",
       "      <td>...</td>\n",
       "      <td>...</td>\n",
       "      <td>...</td>\n",
       "      <td>...</td>\n",
       "      <td>...</td>\n",
       "      <td>...</td>\n",
       "      <td>...</td>\n",
       "      <td>...</td>\n",
       "    </tr>\n",
       "    <tr>\n",
       "      <th>113908</th>\n",
       "      <td>0.3220</td>\n",
       "      <td>0.1557</td>\n",
       "      <td>2.0</td>\n",
       "      <td>3</td>\n",
       "      <td>False</td>\n",
       "      <td>700.0</td>\n",
       "      <td>15.0</td>\n",
       "      <td>1.0</td>\n",
       "      <td>0.0</td>\n",
       "      <td>0.00</td>\n",
       "      <td>NaN</td>\n",
       "      <td>2833.333333</td>\n",
       "      <td>7500</td>\n",
       "      <td>12/8/2010 0:00</td>\n",
       "      <td>Completed</td>\n",
       "    </tr>\n",
       "    <tr>\n",
       "      <th>113913</th>\n",
       "      <td>0.1030</td>\n",
       "      <td>0.0717</td>\n",
       "      <td>6.0</td>\n",
       "      <td>1</td>\n",
       "      <td>True</td>\n",
       "      <td>780.0</td>\n",
       "      <td>19.0</td>\n",
       "      <td>0.0</td>\n",
       "      <td>0.0</td>\n",
       "      <td>0.59</td>\n",
       "      <td>0.25</td>\n",
       "      <td>9750.000000</td>\n",
       "      <td>8000</td>\n",
       "      <td>5/5/2010 0:00</td>\n",
       "      <td>Completed</td>\n",
       "    </tr>\n",
       "    <tr>\n",
       "      <th>113928</th>\n",
       "      <td>0.1899</td>\n",
       "      <td>0.1147</td>\n",
       "      <td>4.0</td>\n",
       "      <td>3</td>\n",
       "      <td>False</td>\n",
       "      <td>740.0</td>\n",
       "      <td>3.0</td>\n",
       "      <td>0.0</td>\n",
       "      <td>0.0</td>\n",
       "      <td>0.00</td>\n",
       "      <td>0.27</td>\n",
       "      <td>2333.333333</td>\n",
       "      <td>2000</td>\n",
       "      <td>6/10/2011 0:00</td>\n",
       "      <td>Completed</td>\n",
       "    </tr>\n",
       "    <tr>\n",
       "      <th>113929</th>\n",
       "      <td>0.2639</td>\n",
       "      <td>0.1093</td>\n",
       "      <td>2.0</td>\n",
       "      <td>2</td>\n",
       "      <td>False</td>\n",
       "      <td>660.0</td>\n",
       "      <td>7.0</td>\n",
       "      <td>2.0</td>\n",
       "      <td>0.0</td>\n",
       "      <td>0.11</td>\n",
       "      <td>0.05</td>\n",
       "      <td>4333.333333</td>\n",
       "      <td>2500</td>\n",
       "      <td>7/10/2013 0:00</td>\n",
       "      <td>Completed</td>\n",
       "    </tr>\n",
       "    <tr>\n",
       "      <th>113935</th>\n",
       "      <td>0.2605</td>\n",
       "      <td>0.1595</td>\n",
       "      <td>4.0</td>\n",
       "      <td>2</td>\n",
       "      <td>True</td>\n",
       "      <td>680.0</td>\n",
       "      <td>11.0</td>\n",
       "      <td>1.0</td>\n",
       "      <td>0.0</td>\n",
       "      <td>0.69</td>\n",
       "      <td>0.48</td>\n",
       "      <td>3875.000000</td>\n",
       "      <td>15000</td>\n",
       "      <td>11/21/2011 0:00</td>\n",
       "      <td>Completed</td>\n",
       "    </tr>\n",
       "  </tbody>\n",
       "</table>\n",
       "<p>24176 rows × 15 columns</p>\n",
       "</div>"
      ],
      "text/plain": [
       "        BorrowerRate  EstimatedReturn  ProsperRating (numeric)  \\\n",
       "15            0.3177           0.1246                      1.0   \n",
       "23            0.2419           0.1051                      3.0   \n",
       "26            0.2809           0.1248                      2.0   \n",
       "27            0.0920           0.0608                      6.0   \n",
       "30            0.0999           0.0517                      6.0   \n",
       "...              ...              ...                      ...   \n",
       "113908        0.3220           0.1557                      2.0   \n",
       "113913        0.1030           0.0717                      6.0   \n",
       "113928        0.1899           0.1147                      4.0   \n",
       "113929        0.2639           0.1093                      2.0   \n",
       "113935        0.2605           0.1595                      4.0   \n",
       "\n",
       "        ListingCategory (numeric)   IsBorrowerHomeowner  \\\n",
       "15                             13                  True   \n",
       "23                             15                 False   \n",
       "26                              1                 False   \n",
       "27                              1                  True   \n",
       "30                             20                 False   \n",
       "...                           ...                   ...   \n",
       "113908                          3                 False   \n",
       "113913                          1                  True   \n",
       "113928                          3                 False   \n",
       "113929                          2                 False   \n",
       "113935                          2                  True   \n",
       "\n",
       "        CreditScoreRangeLower  OpenCreditLines  InquiriesLast6Months  \\\n",
       "15                      700.0              9.0                   0.0   \n",
       "23                      680.0              7.0                   0.0   \n",
       "26                      660.0              6.0                   2.0   \n",
       "27                      700.0             16.0                   2.0   \n",
       "30                      740.0              4.0                   0.0   \n",
       "...                       ...              ...                   ...   \n",
       "113908                  700.0             15.0                   1.0   \n",
       "113913                  780.0             19.0                   0.0   \n",
       "113928                  740.0              3.0                   0.0   \n",
       "113929                  660.0              7.0                   2.0   \n",
       "113935                  680.0             11.0                   1.0   \n",
       "\n",
       "        PublicRecordsLast12Months  BankcardUtilization  DebtToIncomeRatio  \\\n",
       "15                            0.0                 0.97               0.49   \n",
       "23                            0.0                 0.84               0.39   \n",
       "26                            0.0                 0.30               0.11   \n",
       "27                            0.0                 0.09               0.26   \n",
       "30                            0.0                 0.13               0.11   \n",
       "...                           ...                  ...                ...   \n",
       "113908                        0.0                 0.00                NaN   \n",
       "113913                        0.0                 0.59               0.25   \n",
       "113928                        0.0                 0.00               0.27   \n",
       "113929                        0.0                 0.11               0.05   \n",
       "113935                        0.0                 0.69               0.48   \n",
       "\n",
       "        StatedMonthlyIncome  LoanOriginalAmount LoanOriginationDate LoanStatus  \n",
       "15              5500.000000                4000      4/19/2012 0:00  Defaulted  \n",
       "23              2500.000000                2000      4/26/2013 0:00  Defaulted  \n",
       "26              3885.916667                4000      2/21/2013 0:00  Completed  \n",
       "27              6666.666667                4000      6/24/2010 0:00  Completed  \n",
       "30              3750.000000               10000       2/7/2012 0:00  Completed  \n",
       "...                     ...                 ...                 ...        ...  \n",
       "113908          2833.333333                7500      12/8/2010 0:00  Completed  \n",
       "113913          9750.000000                8000       5/5/2010 0:00  Completed  \n",
       "113928          2333.333333                2000      6/10/2011 0:00  Completed  \n",
       "113929          4333.333333                2500      7/10/2013 0:00  Completed  \n",
       "113935          3875.000000               15000     11/21/2011 0:00  Completed  \n",
       "\n",
       "[24176 rows x 15 columns]"
      ]
     },
     "execution_count": 13,
     "metadata": {},
     "output_type": "execute_result"
    }
   ],
   "source": [
    "df1"
   ]
  },
  {
   "cell_type": "code",
   "execution_count": 14,
   "id": "e5b3d6dc",
   "metadata": {},
   "outputs": [],
   "source": [
    "df1=df1.dropna(subset=['EstimatedReturn', 'DebtToIncomeRatio', 'ProsperRating (numeric)'])"
   ]
  },
  {
   "cell_type": "code",
   "execution_count": 15,
   "id": "7ed6d44f",
   "metadata": {},
   "outputs": [
    {
     "data": {
      "text/plain": [
       "Index(['BorrowerRate', 'EstimatedReturn', 'ProsperRating (numeric)',\n",
       "       'ListingCategory (numeric)', ' IsBorrowerHomeowner',\n",
       "       'CreditScoreRangeLower', 'OpenCreditLines', 'InquiriesLast6Months',\n",
       "       'PublicRecordsLast12Months', 'BankcardUtilization', 'DebtToIncomeRatio',\n",
       "       'StatedMonthlyIncome', 'LoanOriginalAmount', 'LoanOriginationDate',\n",
       "       'LoanStatus'],\n",
       "      dtype='object')"
      ]
     },
     "execution_count": 15,
     "metadata": {},
     "output_type": "execute_result"
    }
   ],
   "source": [
    "df1.columns\n"
   ]
  },
  {
   "cell_type": "code",
   "execution_count": 16,
   "id": "a9123c65",
   "metadata": {},
   "outputs": [
    {
     "data": {
      "text/plain": [
       "(1.0, 0.0)"
      ]
     },
     "execution_count": 16,
     "metadata": {},
     "output_type": "execute_result"
    }
   ],
   "source": [
    "corr, pval = spearmanr(df1['BorrowerRate'],df1['BorrowerRate'])\n",
    "corr, pval"
   ]
  },
  {
   "cell_type": "code",
   "execution_count": 17,
   "id": "5eae17ff",
   "metadata": {},
   "outputs": [],
   "source": [
    "corr, pval = spearmanr(df1['BorrowerRate'],df1['EstimatedReturn'])\n"
   ]
  },
  {
   "cell_type": "code",
   "execution_count": 18,
   "id": "22bd0209",
   "metadata": {},
   "outputs": [],
   "source": [
    "corr, pval = spearmanr(df1['BorrowerRate'],df1['BorrowerRate'])"
   ]
  },
  {
   "cell_type": "code",
   "execution_count": 19,
   "id": "bbfa1d00",
   "metadata": {},
   "outputs": [
    {
     "data": {
      "text/plain": [
       "Index(['BorrowerRate', 'EstimatedReturn', 'ProsperRating (numeric)',\n",
       "       'ListingCategory (numeric)', ' IsBorrowerHomeowner',\n",
       "       'CreditScoreRangeLower', 'OpenCreditLines', 'InquiriesLast6Months',\n",
       "       'PublicRecordsLast12Months', 'BankcardUtilization', 'DebtToIncomeRatio',\n",
       "       'StatedMonthlyIncome', 'LoanOriginalAmount', 'LoanOriginationDate',\n",
       "       'LoanStatus'],\n",
       "      dtype='object')"
      ]
     },
     "execution_count": 19,
     "metadata": {},
     "output_type": "execute_result"
    }
   ],
   "source": [
    "df1.columns"
   ]
  },
  {
   "cell_type": "code",
   "execution_count": 20,
   "id": "472df417",
   "metadata": {},
   "outputs": [
    {
     "data": {
      "text/plain": [
       "(1.0, 0.0)"
      ]
     },
     "execution_count": 20,
     "metadata": {},
     "output_type": "execute_result"
    }
   ],
   "source": [
    "corr, pval = spearmanr(df1['BorrowerRate'],df1['BorrowerRate'])\n",
    "corr, pval"
   ]
  },
  {
   "cell_type": "code",
   "execution_count": 21,
   "id": "bec4aff4",
   "metadata": {},
   "outputs": [
    {
     "data": {
      "text/plain": [
       "(0.8030520074856639, 0.0)"
      ]
     },
     "execution_count": 21,
     "metadata": {},
     "output_type": "execute_result"
    }
   ],
   "source": [
    "corr, pval = spearmanr(df1['BorrowerRate'],df1['EstimatedReturn'])\n",
    "corr, pval"
   ]
  },
  {
   "cell_type": "code",
   "execution_count": 22,
   "id": "9342b755",
   "metadata": {},
   "outputs": [
    {
     "data": {
      "text/plain": [
       "(-0.9491051166540087, 0.0)"
      ]
     },
     "execution_count": 22,
     "metadata": {},
     "output_type": "execute_result"
    }
   ],
   "source": [
    "corr, pval = spearmanr(df1['BorrowerRate'],df1['ProsperRating (numeric)'])\n",
    "corr, pval"
   ]
  },
  {
   "cell_type": "code",
   "execution_count": 23,
   "id": "f882ede1",
   "metadata": {},
   "outputs": [
    {
     "data": {
      "text/plain": [
       "(0.02259556842986406, 0.00097128022158398)"
      ]
     },
     "execution_count": 23,
     "metadata": {},
     "output_type": "execute_result"
    }
   ],
   "source": [
    "corr, pval = spearmanr(df1['BorrowerRate'],df1['ListingCategory (numeric)'])\n",
    "corr, pval"
   ]
  },
  {
   "cell_type": "code",
   "execution_count": 24,
   "id": "2791035e",
   "metadata": {},
   "outputs": [
    {
     "data": {
      "text/plain": [
       "(-0.07284156057192907, 1.8028394060235885e-26)"
      ]
     },
     "execution_count": 24,
     "metadata": {},
     "output_type": "execute_result"
    }
   ],
   "source": [
    "corr, pval = spearmanr(df1['BorrowerRate'],df1[' IsBorrowerHomeowner'])\n",
    "corr, pval"
   ]
  },
  {
   "cell_type": "code",
   "execution_count": 25,
   "id": "54db7c06",
   "metadata": {},
   "outputs": [
    {
     "data": {
      "text/plain": [
       "(-0.5625233323137722, 0.0)"
      ]
     },
     "execution_count": 25,
     "metadata": {},
     "output_type": "execute_result"
    }
   ],
   "source": [
    "corr, pval = spearmanr(df1['BorrowerRate'],df1['CreditScoreRangeLower'])\n",
    "corr, pval"
   ]
  },
  {
   "cell_type": "code",
   "execution_count": 26,
   "id": "416284c7",
   "metadata": {},
   "outputs": [
    {
     "data": {
      "text/plain": [
       "(-0.07147294537874851, 1.5230501773973718e-25)"
      ]
     },
     "execution_count": 26,
     "metadata": {},
     "output_type": "execute_result"
    }
   ],
   "source": [
    "corr, pval = spearmanr(df1['BorrowerRate'],df1['OpenCreditLines'])\n",
    "corr, pval"
   ]
  },
  {
   "cell_type": "code",
   "execution_count": 27,
   "id": "aa2eee66",
   "metadata": {},
   "outputs": [
    {
     "data": {
      "text/plain": [
       "(0.2905358338572551, 0.0)"
      ]
     },
     "execution_count": 27,
     "metadata": {},
     "output_type": "execute_result"
    }
   ],
   "source": [
    "corr, pval = spearmanr(df1['BorrowerRate'],df1['InquiriesLast6Months'])\n",
    "corr, pval"
   ]
  },
  {
   "cell_type": "code",
   "execution_count": 28,
   "id": "adb03aca",
   "metadata": {},
   "outputs": [
    {
     "data": {
      "text/plain": [
       "(0.04172583057336635, 1.1053041555339495e-09)"
      ]
     },
     "execution_count": 28,
     "metadata": {},
     "output_type": "execute_result"
    }
   ],
   "source": [
    "corr, pval = spearmanr(df1['BorrowerRate'],df1['PublicRecordsLast12Months'])\n",
    "corr, pval"
   ]
  },
  {
   "cell_type": "code",
   "execution_count": 29,
   "id": "bada29af",
   "metadata": {},
   "outputs": [
    {
     "data": {
      "text/plain": [
       "(0.3103943372425455, 0.0)"
      ]
     },
     "execution_count": 29,
     "metadata": {},
     "output_type": "execute_result"
    }
   ],
   "source": [
    "corr, pval = spearmanr(df1['BorrowerRate'],df1['BankcardUtilization'])\n",
    "corr, pval"
   ]
  },
  {
   "cell_type": "code",
   "execution_count": 30,
   "id": "76dc255e",
   "metadata": {},
   "outputs": [
    {
     "data": {
      "text/plain": [
       "(0.24687272385618875, 2.451764421208164e-293)"
      ]
     },
     "execution_count": 30,
     "metadata": {},
     "output_type": "execute_result"
    }
   ],
   "source": [
    "corr, pval = spearmanr(df1['BorrowerRate'],df1['DebtToIncomeRatio'])\n",
    "corr, pval"
   ]
  },
  {
   "cell_type": "code",
   "execution_count": 31,
   "id": "955ee12e",
   "metadata": {},
   "outputs": [
    {
     "data": {
      "text/plain": [
       "(-0.22583580504281536, 1.4753350004574345e-244)"
      ]
     },
     "execution_count": 31,
     "metadata": {},
     "output_type": "execute_result"
    }
   ],
   "source": [
    "corr, pval = spearmanr(df1['BorrowerRate'],df1['StatedMonthlyIncome'])\n",
    "corr, pval"
   ]
  },
  {
   "cell_type": "code",
   "execution_count": 32,
   "id": "56fadf95",
   "metadata": {},
   "outputs": [
    {
     "data": {
      "text/plain": [
       "(-0.2777283875998925, 0.0)"
      ]
     },
     "execution_count": 32,
     "metadata": {},
     "output_type": "execute_result"
    }
   ],
   "source": [
    "corr, pval = spearmanr(df1['BorrowerRate'],df1['LoanOriginalAmount'])\n",
    "corr, pval"
   ]
  },
  {
   "cell_type": "code",
   "execution_count": 33,
   "id": "daac6e69",
   "metadata": {},
   "outputs": [
    {
     "data": {
      "text/plain": [
       "(-0.18543019737040436, 3.748367684295453e-164)"
      ]
     },
     "execution_count": 33,
     "metadata": {},
     "output_type": "execute_result"
    }
   ],
   "source": [
    "corr, pval = spearmanr(df1['BorrowerRate'],df1['LoanStatus'])\n",
    "corr, pval"
   ]
  },
  {
   "cell_type": "code",
   "execution_count": 34,
   "id": "ed24d7e1",
   "metadata": {},
   "outputs": [
    {
     "data": {
      "text/plain": [
       "(-0.17353945302760213, 1.0246708639027424e-143)"
      ]
     },
     "execution_count": 34,
     "metadata": {},
     "output_type": "execute_result"
    }
   ],
   "source": [
    "corr, pval = spearmanr(df1['EstimatedReturn'],df1['LoanStatus'])\n",
    "corr, pval"
   ]
  },
  {
   "cell_type": "code",
   "execution_count": 35,
   "id": "5b5090d2",
   "metadata": {},
   "outputs": [
    {
     "data": {
      "text/plain": [
       "(-0.06489620816581985, 2.4718483071100797e-21)"
      ]
     },
     "execution_count": 35,
     "metadata": {},
     "output_type": "execute_result"
    }
   ],
   "source": [
    "corr, pval = spearmanr(df1['EstimatedReturn'],df1['LoanOriginalAmount'])\n",
    "corr, pval"
   ]
  },
  {
   "cell_type": "code",
   "execution_count": 36,
   "id": "a29dac32",
   "metadata": {},
   "outputs": [
    {
     "data": {
      "text/plain": [
       "(-0.17646932171632115, 1.2839455499511591e-148)"
      ]
     },
     "execution_count": 36,
     "metadata": {},
     "output_type": "execute_result"
    }
   ],
   "source": [
    "corr, pval = spearmanr(df1['EstimatedReturn'],df1['StatedMonthlyIncome'])\n",
    "corr, pval"
   ]
  },
  {
   "cell_type": "code",
   "execution_count": 37,
   "id": "96e8842f",
   "metadata": {},
   "outputs": [
    {
     "data": {
      "text/plain": [
       "(0.19426414445487744, 2.83967990022086e-180)"
      ]
     },
     "execution_count": 37,
     "metadata": {},
     "output_type": "execute_result"
    }
   ],
   "source": [
    "corr, pval = spearmanr(df1['EstimatedReturn'],df1['DebtToIncomeRatio'])\n",
    "corr, pval"
   ]
  },
  {
   "cell_type": "code",
   "execution_count": 38,
   "id": "8b680b11",
   "metadata": {},
   "outputs": [
    {
     "data": {
      "text/plain": [
       "(0.24931726058630427, 2.539719884610263e-299)"
      ]
     },
     "execution_count": 38,
     "metadata": {},
     "output_type": "execute_result"
    }
   ],
   "source": [
    "corr, pval = spearmanr(df1['EstimatedReturn'],df1['BankcardUtilization'])\n",
    "corr, pval"
   ]
  },
  {
   "cell_type": "code",
   "execution_count": 39,
   "id": "dd26d2b6",
   "metadata": {},
   "outputs": [
    {
     "data": {
      "text/plain": [
       "(0.03670084640576249, 8.365586791397622e-08)"
      ]
     },
     "execution_count": 39,
     "metadata": {},
     "output_type": "execute_result"
    }
   ],
   "source": [
    "corr, pval = spearmanr(df1['EstimatedReturn'],df1['PublicRecordsLast12Months'])\n",
    "corr, pval"
   ]
  },
  {
   "cell_type": "code",
   "execution_count": 40,
   "id": "0dfc06a7",
   "metadata": {},
   "outputs": [
    {
     "data": {
      "text/plain": [
       "(0.1754068469430818, 7.875104458983212e-147)"
      ]
     },
     "execution_count": 40,
     "metadata": {},
     "output_type": "execute_result"
    }
   ],
   "source": [
    "corr, pval = spearmanr(df1['EstimatedReturn'],df1['InquiriesLast6Months'])\n",
    "corr, pval"
   ]
  },
  {
   "cell_type": "code",
   "execution_count": 41,
   "id": "50668f88",
   "metadata": {},
   "outputs": [
    {
     "data": {
      "text/plain": [
       "(-0.058554299434852214, 1.183161033219067e-17)"
      ]
     },
     "execution_count": 41,
     "metadata": {},
     "output_type": "execute_result"
    }
   ],
   "source": [
    "corr, pval = spearmanr(df1['EstimatedReturn'],df1['OpenCreditLines'])\n",
    "corr, pval"
   ]
  },
  {
   "cell_type": "code",
   "execution_count": 42,
   "id": "dcd12089",
   "metadata": {},
   "outputs": [
    {
     "data": {
      "text/plain": [
       "(-0.42842608420219824, 0.0)"
      ]
     },
     "execution_count": 42,
     "metadata": {},
     "output_type": "execute_result"
    }
   ],
   "source": [
    "corr, pval = spearmanr(df1['EstimatedReturn'],df1['CreditScoreRangeLower'])\n",
    "corr, pval"
   ]
  },
  {
   "cell_type": "code",
   "execution_count": 43,
   "id": "4b5b6bd0",
   "metadata": {},
   "outputs": [
    {
     "data": {
      "text/plain": [
       "(-0.05854633896307781, 1.1951691660050916e-17)"
      ]
     },
     "execution_count": 43,
     "metadata": {},
     "output_type": "execute_result"
    }
   ],
   "source": [
    "corr, pval = spearmanr(df1['EstimatedReturn'],df1[' IsBorrowerHomeowner'])\n",
    "corr, pval"
   ]
  },
  {
   "cell_type": "code",
   "execution_count": 44,
   "id": "575e3492",
   "metadata": {},
   "outputs": [
    {
     "data": {
      "text/plain": [
       "(0.000714276086519476, 0.9169602208871768)"
      ]
     },
     "execution_count": 44,
     "metadata": {},
     "output_type": "execute_result"
    }
   ],
   "source": [
    "corr, pval = spearmanr(df1['EstimatedReturn'],df1['ListingCategory (numeric)'])\n",
    "corr, pval"
   ]
  },
  {
   "cell_type": "code",
   "execution_count": 45,
   "id": "30f56660",
   "metadata": {},
   "outputs": [
    {
     "data": {
      "text/plain": [
       "(-0.6415676281093213, 0.0)"
      ]
     },
     "execution_count": 45,
     "metadata": {},
     "output_type": "execute_result"
    }
   ],
   "source": [
    "corr, pval = spearmanr(df1['EstimatedReturn'],df1['ProsperRating (numeric)'])\n",
    "corr, pval"
   ]
  },
  {
   "cell_type": "code",
   "execution_count": 46,
   "id": "e4d36659",
   "metadata": {},
   "outputs": [
    {
     "data": {
      "text/plain": [
       "(0.8030520074856639, 0.0)"
      ]
     },
     "execution_count": 46,
     "metadata": {},
     "output_type": "execute_result"
    }
   ],
   "source": [
    "corr, pval = spearmanr(df1['BorrowerRate'],df1['EstimatedReturn'])\n",
    "corr, pval"
   ]
  },
  {
   "cell_type": "code",
   "execution_count": 47,
   "id": "cfa76c95",
   "metadata": {},
   "outputs": [
    {
     "data": {
      "text/plain": [
       "15        0.3177\n",
       "23        0.2419\n",
       "26        0.2809\n",
       "27        0.0920\n",
       "30        0.0999\n",
       "           ...  \n",
       "113905    0.3177\n",
       "113913    0.1030\n",
       "113928    0.1899\n",
       "113929    0.2639\n",
       "113935    0.2605\n",
       "Name: BorrowerRate, Length: 21310, dtype: float64"
      ]
     },
     "execution_count": 47,
     "metadata": {},
     "output_type": "execute_result"
    }
   ],
   "source": [
    "df1['BorrowerRate']"
   ]
  },
  {
   "cell_type": "code",
   "execution_count": 48,
   "id": "9374eb7f",
   "metadata": {},
   "outputs": [],
   "source": [
    "rankedinterest= df1['BorrowerRate'].rank()"
   ]
  },
  {
   "cell_type": "code",
   "execution_count": 49,
   "id": "47e9afe8",
   "metadata": {},
   "outputs": [
    {
     "data": {
      "text/plain": [
       "15        18403.5\n",
       "23        11466.5\n",
       "26        15477.5\n",
       "27         1873.5\n",
       "30         2612.5\n",
       "           ...   \n",
       "113905    18403.5\n",
       "113913     2949.5\n",
       "113928     8193.0\n",
       "113929    13909.0\n",
       "113935    13553.0\n",
       "Name: BorrowerRate, Length: 21310, dtype: float64"
      ]
     },
     "execution_count": 49,
     "metadata": {},
     "output_type": "execute_result"
    }
   ],
   "source": [
    "rankedinterest"
   ]
  },
  {
   "cell_type": "code",
   "execution_count": 50,
   "id": "24512fb5",
   "metadata": {},
   "outputs": [],
   "source": [
    "rankedirr= df1['EstimatedReturn'].rank()"
   ]
  },
  {
   "cell_type": "code",
   "execution_count": 51,
   "id": "ac722e03",
   "metadata": {},
   "outputs": [
    {
     "data": {
      "text/plain": [
       "15        13786.5\n",
       "23         9130.5\n",
       "26        14241.5\n",
       "27         2909.0\n",
       "30         1320.0\n",
       "           ...   \n",
       "113905    13786.5\n",
       "113913     4471.5\n",
       "113928    11215.5\n",
       "113929    10087.0\n",
       "113935    20557.5\n",
       "Name: EstimatedReturn, Length: 21310, dtype: float64"
      ]
     },
     "execution_count": 51,
     "metadata": {},
     "output_type": "execute_result"
    }
   ],
   "source": [
    "rankedirr"
   ]
  },
  {
   "cell_type": "code",
   "execution_count": 52,
   "id": "0e463d6c",
   "metadata": {},
   "outputs": [],
   "source": [
    "df1.insert( 15,'r_IRR', rankedirr, True)"
   ]
  },
  {
   "cell_type": "code",
   "execution_count": 53,
   "id": "ca4edc7f",
   "metadata": {},
   "outputs": [],
   "source": [
    "df1.insert( 16,'r_interes trate',rankedinterest , True)"
   ]
  },
  {
   "cell_type": "code",
   "execution_count": 54,
   "id": "06ae375e",
   "metadata": {},
   "outputs": [
    {
     "data": {
      "text/html": [
       "<div>\n",
       "<style scoped>\n",
       "    .dataframe tbody tr th:only-of-type {\n",
       "        vertical-align: middle;\n",
       "    }\n",
       "\n",
       "    .dataframe tbody tr th {\n",
       "        vertical-align: top;\n",
       "    }\n",
       "\n",
       "    .dataframe thead th {\n",
       "        text-align: right;\n",
       "    }\n",
       "</style>\n",
       "<table border=\"1\" class=\"dataframe\">\n",
       "  <thead>\n",
       "    <tr style=\"text-align: right;\">\n",
       "      <th></th>\n",
       "      <th>BorrowerRate</th>\n",
       "      <th>EstimatedReturn</th>\n",
       "      <th>ProsperRating (numeric)</th>\n",
       "      <th>ListingCategory (numeric)</th>\n",
       "      <th>IsBorrowerHomeowner</th>\n",
       "      <th>CreditScoreRangeLower</th>\n",
       "      <th>OpenCreditLines</th>\n",
       "      <th>InquiriesLast6Months</th>\n",
       "      <th>PublicRecordsLast12Months</th>\n",
       "      <th>BankcardUtilization</th>\n",
       "      <th>DebtToIncomeRatio</th>\n",
       "      <th>StatedMonthlyIncome</th>\n",
       "      <th>LoanOriginalAmount</th>\n",
       "      <th>LoanOriginationDate</th>\n",
       "      <th>LoanStatus</th>\n",
       "      <th>r_IRR</th>\n",
       "      <th>r_interes trate</th>\n",
       "    </tr>\n",
       "  </thead>\n",
       "  <tbody>\n",
       "    <tr>\n",
       "      <th>15</th>\n",
       "      <td>0.3177</td>\n",
       "      <td>0.1246</td>\n",
       "      <td>1.0</td>\n",
       "      <td>13</td>\n",
       "      <td>True</td>\n",
       "      <td>700.0</td>\n",
       "      <td>9.0</td>\n",
       "      <td>0.0</td>\n",
       "      <td>0.0</td>\n",
       "      <td>0.97</td>\n",
       "      <td>0.49</td>\n",
       "      <td>5500.000000</td>\n",
       "      <td>4000</td>\n",
       "      <td>4/19/2012 0:00</td>\n",
       "      <td>Defaulted</td>\n",
       "      <td>13786.5</td>\n",
       "      <td>18403.5</td>\n",
       "    </tr>\n",
       "    <tr>\n",
       "      <th>23</th>\n",
       "      <td>0.2419</td>\n",
       "      <td>0.1051</td>\n",
       "      <td>3.0</td>\n",
       "      <td>15</td>\n",
       "      <td>False</td>\n",
       "      <td>680.0</td>\n",
       "      <td>7.0</td>\n",
       "      <td>0.0</td>\n",
       "      <td>0.0</td>\n",
       "      <td>0.84</td>\n",
       "      <td>0.39</td>\n",
       "      <td>2500.000000</td>\n",
       "      <td>2000</td>\n",
       "      <td>4/26/2013 0:00</td>\n",
       "      <td>Defaulted</td>\n",
       "      <td>9130.5</td>\n",
       "      <td>11466.5</td>\n",
       "    </tr>\n",
       "    <tr>\n",
       "      <th>26</th>\n",
       "      <td>0.2809</td>\n",
       "      <td>0.1248</td>\n",
       "      <td>2.0</td>\n",
       "      <td>1</td>\n",
       "      <td>False</td>\n",
       "      <td>660.0</td>\n",
       "      <td>6.0</td>\n",
       "      <td>2.0</td>\n",
       "      <td>0.0</td>\n",
       "      <td>0.30</td>\n",
       "      <td>0.11</td>\n",
       "      <td>3885.916667</td>\n",
       "      <td>4000</td>\n",
       "      <td>2/21/2013 0:00</td>\n",
       "      <td>Completed</td>\n",
       "      <td>14241.5</td>\n",
       "      <td>15477.5</td>\n",
       "    </tr>\n",
       "    <tr>\n",
       "      <th>27</th>\n",
       "      <td>0.0920</td>\n",
       "      <td>0.0608</td>\n",
       "      <td>6.0</td>\n",
       "      <td>1</td>\n",
       "      <td>True</td>\n",
       "      <td>700.0</td>\n",
       "      <td>16.0</td>\n",
       "      <td>2.0</td>\n",
       "      <td>0.0</td>\n",
       "      <td>0.09</td>\n",
       "      <td>0.26</td>\n",
       "      <td>6666.666667</td>\n",
       "      <td>4000</td>\n",
       "      <td>6/24/2010 0:00</td>\n",
       "      <td>Completed</td>\n",
       "      <td>2909.0</td>\n",
       "      <td>1873.5</td>\n",
       "    </tr>\n",
       "    <tr>\n",
       "      <th>30</th>\n",
       "      <td>0.0999</td>\n",
       "      <td>0.0517</td>\n",
       "      <td>6.0</td>\n",
       "      <td>20</td>\n",
       "      <td>False</td>\n",
       "      <td>740.0</td>\n",
       "      <td>4.0</td>\n",
       "      <td>0.0</td>\n",
       "      <td>0.0</td>\n",
       "      <td>0.13</td>\n",
       "      <td>0.11</td>\n",
       "      <td>3750.000000</td>\n",
       "      <td>10000</td>\n",
       "      <td>2/7/2012 0:00</td>\n",
       "      <td>Completed</td>\n",
       "      <td>1320.0</td>\n",
       "      <td>2612.5</td>\n",
       "    </tr>\n",
       "    <tr>\n",
       "      <th>...</th>\n",
       "      <td>...</td>\n",
       "      <td>...</td>\n",
       "      <td>...</td>\n",
       "      <td>...</td>\n",
       "      <td>...</td>\n",
       "      <td>...</td>\n",
       "      <td>...</td>\n",
       "      <td>...</td>\n",
       "      <td>...</td>\n",
       "      <td>...</td>\n",
       "      <td>...</td>\n",
       "      <td>...</td>\n",
       "      <td>...</td>\n",
       "      <td>...</td>\n",
       "      <td>...</td>\n",
       "      <td>...</td>\n",
       "      <td>...</td>\n",
       "    </tr>\n",
       "    <tr>\n",
       "      <th>113905</th>\n",
       "      <td>0.3177</td>\n",
       "      <td>0.1246</td>\n",
       "      <td>1.0</td>\n",
       "      <td>1</td>\n",
       "      <td>True</td>\n",
       "      <td>740.0</td>\n",
       "      <td>16.0</td>\n",
       "      <td>3.0</td>\n",
       "      <td>0.0</td>\n",
       "      <td>0.75</td>\n",
       "      <td>0.35</td>\n",
       "      <td>3250.000000</td>\n",
       "      <td>4000</td>\n",
       "      <td>12/5/2011 0:00</td>\n",
       "      <td>Chargedoff</td>\n",
       "      <td>13786.5</td>\n",
       "      <td>18403.5</td>\n",
       "    </tr>\n",
       "    <tr>\n",
       "      <th>113913</th>\n",
       "      <td>0.1030</td>\n",
       "      <td>0.0717</td>\n",
       "      <td>6.0</td>\n",
       "      <td>1</td>\n",
       "      <td>True</td>\n",
       "      <td>780.0</td>\n",
       "      <td>19.0</td>\n",
       "      <td>0.0</td>\n",
       "      <td>0.0</td>\n",
       "      <td>0.59</td>\n",
       "      <td>0.25</td>\n",
       "      <td>9750.000000</td>\n",
       "      <td>8000</td>\n",
       "      <td>5/5/2010 0:00</td>\n",
       "      <td>Completed</td>\n",
       "      <td>4471.5</td>\n",
       "      <td>2949.5</td>\n",
       "    </tr>\n",
       "    <tr>\n",
       "      <th>113928</th>\n",
       "      <td>0.1899</td>\n",
       "      <td>0.1147</td>\n",
       "      <td>4.0</td>\n",
       "      <td>3</td>\n",
       "      <td>False</td>\n",
       "      <td>740.0</td>\n",
       "      <td>3.0</td>\n",
       "      <td>0.0</td>\n",
       "      <td>0.0</td>\n",
       "      <td>0.00</td>\n",
       "      <td>0.27</td>\n",
       "      <td>2333.333333</td>\n",
       "      <td>2000</td>\n",
       "      <td>6/10/2011 0:00</td>\n",
       "      <td>Completed</td>\n",
       "      <td>11215.5</td>\n",
       "      <td>8193.0</td>\n",
       "    </tr>\n",
       "    <tr>\n",
       "      <th>113929</th>\n",
       "      <td>0.2639</td>\n",
       "      <td>0.1093</td>\n",
       "      <td>2.0</td>\n",
       "      <td>2</td>\n",
       "      <td>False</td>\n",
       "      <td>660.0</td>\n",
       "      <td>7.0</td>\n",
       "      <td>2.0</td>\n",
       "      <td>0.0</td>\n",
       "      <td>0.11</td>\n",
       "      <td>0.05</td>\n",
       "      <td>4333.333333</td>\n",
       "      <td>2500</td>\n",
       "      <td>7/10/2013 0:00</td>\n",
       "      <td>Completed</td>\n",
       "      <td>10087.0</td>\n",
       "      <td>13909.0</td>\n",
       "    </tr>\n",
       "    <tr>\n",
       "      <th>113935</th>\n",
       "      <td>0.2605</td>\n",
       "      <td>0.1595</td>\n",
       "      <td>4.0</td>\n",
       "      <td>2</td>\n",
       "      <td>True</td>\n",
       "      <td>680.0</td>\n",
       "      <td>11.0</td>\n",
       "      <td>1.0</td>\n",
       "      <td>0.0</td>\n",
       "      <td>0.69</td>\n",
       "      <td>0.48</td>\n",
       "      <td>3875.000000</td>\n",
       "      <td>15000</td>\n",
       "      <td>11/21/2011 0:00</td>\n",
       "      <td>Completed</td>\n",
       "      <td>20557.5</td>\n",
       "      <td>13553.0</td>\n",
       "    </tr>\n",
       "  </tbody>\n",
       "</table>\n",
       "<p>21310 rows × 17 columns</p>\n",
       "</div>"
      ],
      "text/plain": [
       "        BorrowerRate  EstimatedReturn  ProsperRating (numeric)  \\\n",
       "15            0.3177           0.1246                      1.0   \n",
       "23            0.2419           0.1051                      3.0   \n",
       "26            0.2809           0.1248                      2.0   \n",
       "27            0.0920           0.0608                      6.0   \n",
       "30            0.0999           0.0517                      6.0   \n",
       "...              ...              ...                      ...   \n",
       "113905        0.3177           0.1246                      1.0   \n",
       "113913        0.1030           0.0717                      6.0   \n",
       "113928        0.1899           0.1147                      4.0   \n",
       "113929        0.2639           0.1093                      2.0   \n",
       "113935        0.2605           0.1595                      4.0   \n",
       "\n",
       "        ListingCategory (numeric)   IsBorrowerHomeowner  \\\n",
       "15                             13                  True   \n",
       "23                             15                 False   \n",
       "26                              1                 False   \n",
       "27                              1                  True   \n",
       "30                             20                 False   \n",
       "...                           ...                   ...   \n",
       "113905                          1                  True   \n",
       "113913                          1                  True   \n",
       "113928                          3                 False   \n",
       "113929                          2                 False   \n",
       "113935                          2                  True   \n",
       "\n",
       "        CreditScoreRangeLower  OpenCreditLines  InquiriesLast6Months  \\\n",
       "15                      700.0              9.0                   0.0   \n",
       "23                      680.0              7.0                   0.0   \n",
       "26                      660.0              6.0                   2.0   \n",
       "27                      700.0             16.0                   2.0   \n",
       "30                      740.0              4.0                   0.0   \n",
       "...                       ...              ...                   ...   \n",
       "113905                  740.0             16.0                   3.0   \n",
       "113913                  780.0             19.0                   0.0   \n",
       "113928                  740.0              3.0                   0.0   \n",
       "113929                  660.0              7.0                   2.0   \n",
       "113935                  680.0             11.0                   1.0   \n",
       "\n",
       "        PublicRecordsLast12Months  BankcardUtilization  DebtToIncomeRatio  \\\n",
       "15                            0.0                 0.97               0.49   \n",
       "23                            0.0                 0.84               0.39   \n",
       "26                            0.0                 0.30               0.11   \n",
       "27                            0.0                 0.09               0.26   \n",
       "30                            0.0                 0.13               0.11   \n",
       "...                           ...                  ...                ...   \n",
       "113905                        0.0                 0.75               0.35   \n",
       "113913                        0.0                 0.59               0.25   \n",
       "113928                        0.0                 0.00               0.27   \n",
       "113929                        0.0                 0.11               0.05   \n",
       "113935                        0.0                 0.69               0.48   \n",
       "\n",
       "        StatedMonthlyIncome  LoanOriginalAmount LoanOriginationDate  \\\n",
       "15              5500.000000                4000      4/19/2012 0:00   \n",
       "23              2500.000000                2000      4/26/2013 0:00   \n",
       "26              3885.916667                4000      2/21/2013 0:00   \n",
       "27              6666.666667                4000      6/24/2010 0:00   \n",
       "30              3750.000000               10000       2/7/2012 0:00   \n",
       "...                     ...                 ...                 ...   \n",
       "113905          3250.000000                4000      12/5/2011 0:00   \n",
       "113913          9750.000000                8000       5/5/2010 0:00   \n",
       "113928          2333.333333                2000      6/10/2011 0:00   \n",
       "113929          4333.333333                2500      7/10/2013 0:00   \n",
       "113935          3875.000000               15000     11/21/2011 0:00   \n",
       "\n",
       "        LoanStatus    r_IRR  r_interes trate  \n",
       "15       Defaulted  13786.5          18403.5  \n",
       "23       Defaulted   9130.5          11466.5  \n",
       "26       Completed  14241.5          15477.5  \n",
       "27       Completed   2909.0           1873.5  \n",
       "30       Completed   1320.0           2612.5  \n",
       "...            ...      ...              ...  \n",
       "113905  Chargedoff  13786.5          18403.5  \n",
       "113913   Completed   4471.5           2949.5  \n",
       "113928   Completed  11215.5           8193.0  \n",
       "113929   Completed  10087.0          13909.0  \n",
       "113935   Completed  20557.5          13553.0  \n",
       "\n",
       "[21310 rows x 17 columns]"
      ]
     },
     "execution_count": 54,
     "metadata": {},
     "output_type": "execute_result"
    }
   ],
   "source": [
    "df1"
   ]
  },
  {
   "cell_type": "code",
   "execution_count": 55,
   "id": "68c6ac0a",
   "metadata": {},
   "outputs": [],
   "source": [
    "label = []\n",
    "\n",
    "for i in range(len(df1)):\n",
    "    if df1.iloc[i][' IsBorrowerHomeowner'] == True :\n",
    "        label.append(1)\n",
    "    else:\n",
    "        label.append(0) "
   ]
  },
  {
   "cell_type": "code",
   "execution_count": 56,
   "id": "abfe6483",
   "metadata": {},
   "outputs": [],
   "source": [
    "df1.insert(12, 'Home', label , True)"
   ]
  },
  {
   "cell_type": "code",
   "execution_count": 57,
   "id": "9c00aa99",
   "metadata": {},
   "outputs": [],
   "source": [
    "df1=df1.drop([' IsBorrowerHomeowner'], axis=1)"
   ]
  },
  {
   "cell_type": "code",
   "execution_count": 58,
   "id": "22cd4aa7",
   "metadata": {},
   "outputs": [],
   "source": [
    "labels = []\n",
    "\n",
    "for i in range(len(df1)):\n",
    "    if df1.iloc[i]['LoanStatus'] == 'Completed' :\n",
    "        labels.append(1)\n",
    "    else:\n",
    "        labels.append(0)"
   ]
  },
  {
   "cell_type": "code",
   "execution_count": 59,
   "id": "d85a3e5f",
   "metadata": {},
   "outputs": [],
   "source": [
    "df1.insert(12, 'Loanstatu', labels , True)"
   ]
  },
  {
   "cell_type": "code",
   "execution_count": 60,
   "id": "2ce18c4f",
   "metadata": {},
   "outputs": [],
   "source": [
    "df1=df1.drop(['LoanStatus'], axis=1)"
   ]
  },
  {
   "cell_type": "code",
   "execution_count": 61,
   "id": "ea6537ba",
   "metadata": {},
   "outputs": [
    {
     "data": {
      "text/html": [
       "<div>\n",
       "<style scoped>\n",
       "    .dataframe tbody tr th:only-of-type {\n",
       "        vertical-align: middle;\n",
       "    }\n",
       "\n",
       "    .dataframe tbody tr th {\n",
       "        vertical-align: top;\n",
       "    }\n",
       "\n",
       "    .dataframe thead th {\n",
       "        text-align: right;\n",
       "    }\n",
       "</style>\n",
       "<table border=\"1\" class=\"dataframe\">\n",
       "  <thead>\n",
       "    <tr style=\"text-align: right;\">\n",
       "      <th></th>\n",
       "      <th>BorrowerRate</th>\n",
       "      <th>EstimatedReturn</th>\n",
       "      <th>ProsperRating (numeric)</th>\n",
       "      <th>ListingCategory (numeric)</th>\n",
       "      <th>CreditScoreRangeLower</th>\n",
       "      <th>OpenCreditLines</th>\n",
       "      <th>InquiriesLast6Months</th>\n",
       "      <th>PublicRecordsLast12Months</th>\n",
       "      <th>BankcardUtilization</th>\n",
       "      <th>DebtToIncomeRatio</th>\n",
       "      <th>StatedMonthlyIncome</th>\n",
       "      <th>Home</th>\n",
       "      <th>Loanstatu</th>\n",
       "      <th>LoanOriginalAmount</th>\n",
       "      <th>LoanOriginationDate</th>\n",
       "      <th>r_IRR</th>\n",
       "      <th>r_interes trate</th>\n",
       "    </tr>\n",
       "  </thead>\n",
       "  <tbody>\n",
       "    <tr>\n",
       "      <th>15</th>\n",
       "      <td>0.3177</td>\n",
       "      <td>0.1246</td>\n",
       "      <td>1.0</td>\n",
       "      <td>13</td>\n",
       "      <td>700.0</td>\n",
       "      <td>9.0</td>\n",
       "      <td>0.0</td>\n",
       "      <td>0.0</td>\n",
       "      <td>0.97</td>\n",
       "      <td>0.49</td>\n",
       "      <td>5500.000000</td>\n",
       "      <td>1</td>\n",
       "      <td>0</td>\n",
       "      <td>4000</td>\n",
       "      <td>4/19/2012 0:00</td>\n",
       "      <td>13786.5</td>\n",
       "      <td>18403.5</td>\n",
       "    </tr>\n",
       "    <tr>\n",
       "      <th>23</th>\n",
       "      <td>0.2419</td>\n",
       "      <td>0.1051</td>\n",
       "      <td>3.0</td>\n",
       "      <td>15</td>\n",
       "      <td>680.0</td>\n",
       "      <td>7.0</td>\n",
       "      <td>0.0</td>\n",
       "      <td>0.0</td>\n",
       "      <td>0.84</td>\n",
       "      <td>0.39</td>\n",
       "      <td>2500.000000</td>\n",
       "      <td>0</td>\n",
       "      <td>0</td>\n",
       "      <td>2000</td>\n",
       "      <td>4/26/2013 0:00</td>\n",
       "      <td>9130.5</td>\n",
       "      <td>11466.5</td>\n",
       "    </tr>\n",
       "    <tr>\n",
       "      <th>26</th>\n",
       "      <td>0.2809</td>\n",
       "      <td>0.1248</td>\n",
       "      <td>2.0</td>\n",
       "      <td>1</td>\n",
       "      <td>660.0</td>\n",
       "      <td>6.0</td>\n",
       "      <td>2.0</td>\n",
       "      <td>0.0</td>\n",
       "      <td>0.30</td>\n",
       "      <td>0.11</td>\n",
       "      <td>3885.916667</td>\n",
       "      <td>0</td>\n",
       "      <td>1</td>\n",
       "      <td>4000</td>\n",
       "      <td>2/21/2013 0:00</td>\n",
       "      <td>14241.5</td>\n",
       "      <td>15477.5</td>\n",
       "    </tr>\n",
       "    <tr>\n",
       "      <th>27</th>\n",
       "      <td>0.0920</td>\n",
       "      <td>0.0608</td>\n",
       "      <td>6.0</td>\n",
       "      <td>1</td>\n",
       "      <td>700.0</td>\n",
       "      <td>16.0</td>\n",
       "      <td>2.0</td>\n",
       "      <td>0.0</td>\n",
       "      <td>0.09</td>\n",
       "      <td>0.26</td>\n",
       "      <td>6666.666667</td>\n",
       "      <td>1</td>\n",
       "      <td>1</td>\n",
       "      <td>4000</td>\n",
       "      <td>6/24/2010 0:00</td>\n",
       "      <td>2909.0</td>\n",
       "      <td>1873.5</td>\n",
       "    </tr>\n",
       "    <tr>\n",
       "      <th>30</th>\n",
       "      <td>0.0999</td>\n",
       "      <td>0.0517</td>\n",
       "      <td>6.0</td>\n",
       "      <td>20</td>\n",
       "      <td>740.0</td>\n",
       "      <td>4.0</td>\n",
       "      <td>0.0</td>\n",
       "      <td>0.0</td>\n",
       "      <td>0.13</td>\n",
       "      <td>0.11</td>\n",
       "      <td>3750.000000</td>\n",
       "      <td>0</td>\n",
       "      <td>1</td>\n",
       "      <td>10000</td>\n",
       "      <td>2/7/2012 0:00</td>\n",
       "      <td>1320.0</td>\n",
       "      <td>2612.5</td>\n",
       "    </tr>\n",
       "    <tr>\n",
       "      <th>...</th>\n",
       "      <td>...</td>\n",
       "      <td>...</td>\n",
       "      <td>...</td>\n",
       "      <td>...</td>\n",
       "      <td>...</td>\n",
       "      <td>...</td>\n",
       "      <td>...</td>\n",
       "      <td>...</td>\n",
       "      <td>...</td>\n",
       "      <td>...</td>\n",
       "      <td>...</td>\n",
       "      <td>...</td>\n",
       "      <td>...</td>\n",
       "      <td>...</td>\n",
       "      <td>...</td>\n",
       "      <td>...</td>\n",
       "      <td>...</td>\n",
       "    </tr>\n",
       "    <tr>\n",
       "      <th>113905</th>\n",
       "      <td>0.3177</td>\n",
       "      <td>0.1246</td>\n",
       "      <td>1.0</td>\n",
       "      <td>1</td>\n",
       "      <td>740.0</td>\n",
       "      <td>16.0</td>\n",
       "      <td>3.0</td>\n",
       "      <td>0.0</td>\n",
       "      <td>0.75</td>\n",
       "      <td>0.35</td>\n",
       "      <td>3250.000000</td>\n",
       "      <td>1</td>\n",
       "      <td>0</td>\n",
       "      <td>4000</td>\n",
       "      <td>12/5/2011 0:00</td>\n",
       "      <td>13786.5</td>\n",
       "      <td>18403.5</td>\n",
       "    </tr>\n",
       "    <tr>\n",
       "      <th>113913</th>\n",
       "      <td>0.1030</td>\n",
       "      <td>0.0717</td>\n",
       "      <td>6.0</td>\n",
       "      <td>1</td>\n",
       "      <td>780.0</td>\n",
       "      <td>19.0</td>\n",
       "      <td>0.0</td>\n",
       "      <td>0.0</td>\n",
       "      <td>0.59</td>\n",
       "      <td>0.25</td>\n",
       "      <td>9750.000000</td>\n",
       "      <td>1</td>\n",
       "      <td>1</td>\n",
       "      <td>8000</td>\n",
       "      <td>5/5/2010 0:00</td>\n",
       "      <td>4471.5</td>\n",
       "      <td>2949.5</td>\n",
       "    </tr>\n",
       "    <tr>\n",
       "      <th>113928</th>\n",
       "      <td>0.1899</td>\n",
       "      <td>0.1147</td>\n",
       "      <td>4.0</td>\n",
       "      <td>3</td>\n",
       "      <td>740.0</td>\n",
       "      <td>3.0</td>\n",
       "      <td>0.0</td>\n",
       "      <td>0.0</td>\n",
       "      <td>0.00</td>\n",
       "      <td>0.27</td>\n",
       "      <td>2333.333333</td>\n",
       "      <td>0</td>\n",
       "      <td>1</td>\n",
       "      <td>2000</td>\n",
       "      <td>6/10/2011 0:00</td>\n",
       "      <td>11215.5</td>\n",
       "      <td>8193.0</td>\n",
       "    </tr>\n",
       "    <tr>\n",
       "      <th>113929</th>\n",
       "      <td>0.2639</td>\n",
       "      <td>0.1093</td>\n",
       "      <td>2.0</td>\n",
       "      <td>2</td>\n",
       "      <td>660.0</td>\n",
       "      <td>7.0</td>\n",
       "      <td>2.0</td>\n",
       "      <td>0.0</td>\n",
       "      <td>0.11</td>\n",
       "      <td>0.05</td>\n",
       "      <td>4333.333333</td>\n",
       "      <td>0</td>\n",
       "      <td>1</td>\n",
       "      <td>2500</td>\n",
       "      <td>7/10/2013 0:00</td>\n",
       "      <td>10087.0</td>\n",
       "      <td>13909.0</td>\n",
       "    </tr>\n",
       "    <tr>\n",
       "      <th>113935</th>\n",
       "      <td>0.2605</td>\n",
       "      <td>0.1595</td>\n",
       "      <td>4.0</td>\n",
       "      <td>2</td>\n",
       "      <td>680.0</td>\n",
       "      <td>11.0</td>\n",
       "      <td>1.0</td>\n",
       "      <td>0.0</td>\n",
       "      <td>0.69</td>\n",
       "      <td>0.48</td>\n",
       "      <td>3875.000000</td>\n",
       "      <td>1</td>\n",
       "      <td>1</td>\n",
       "      <td>15000</td>\n",
       "      <td>11/21/2011 0:00</td>\n",
       "      <td>20557.5</td>\n",
       "      <td>13553.0</td>\n",
       "    </tr>\n",
       "  </tbody>\n",
       "</table>\n",
       "<p>21310 rows × 17 columns</p>\n",
       "</div>"
      ],
      "text/plain": [
       "        BorrowerRate  EstimatedReturn  ProsperRating (numeric)  \\\n",
       "15            0.3177           0.1246                      1.0   \n",
       "23            0.2419           0.1051                      3.0   \n",
       "26            0.2809           0.1248                      2.0   \n",
       "27            0.0920           0.0608                      6.0   \n",
       "30            0.0999           0.0517                      6.0   \n",
       "...              ...              ...                      ...   \n",
       "113905        0.3177           0.1246                      1.0   \n",
       "113913        0.1030           0.0717                      6.0   \n",
       "113928        0.1899           0.1147                      4.0   \n",
       "113929        0.2639           0.1093                      2.0   \n",
       "113935        0.2605           0.1595                      4.0   \n",
       "\n",
       "        ListingCategory (numeric)  CreditScoreRangeLower  OpenCreditLines  \\\n",
       "15                             13                  700.0              9.0   \n",
       "23                             15                  680.0              7.0   \n",
       "26                              1                  660.0              6.0   \n",
       "27                              1                  700.0             16.0   \n",
       "30                             20                  740.0              4.0   \n",
       "...                           ...                    ...              ...   \n",
       "113905                          1                  740.0             16.0   \n",
       "113913                          1                  780.0             19.0   \n",
       "113928                          3                  740.0              3.0   \n",
       "113929                          2                  660.0              7.0   \n",
       "113935                          2                  680.0             11.0   \n",
       "\n",
       "        InquiriesLast6Months  PublicRecordsLast12Months  BankcardUtilization  \\\n",
       "15                       0.0                        0.0                 0.97   \n",
       "23                       0.0                        0.0                 0.84   \n",
       "26                       2.0                        0.0                 0.30   \n",
       "27                       2.0                        0.0                 0.09   \n",
       "30                       0.0                        0.0                 0.13   \n",
       "...                      ...                        ...                  ...   \n",
       "113905                   3.0                        0.0                 0.75   \n",
       "113913                   0.0                        0.0                 0.59   \n",
       "113928                   0.0                        0.0                 0.00   \n",
       "113929                   2.0                        0.0                 0.11   \n",
       "113935                   1.0                        0.0                 0.69   \n",
       "\n",
       "        DebtToIncomeRatio  StatedMonthlyIncome  Home  Loanstatu  \\\n",
       "15                   0.49          5500.000000     1          0   \n",
       "23                   0.39          2500.000000     0          0   \n",
       "26                   0.11          3885.916667     0          1   \n",
       "27                   0.26          6666.666667     1          1   \n",
       "30                   0.11          3750.000000     0          1   \n",
       "...                   ...                  ...   ...        ...   \n",
       "113905               0.35          3250.000000     1          0   \n",
       "113913               0.25          9750.000000     1          1   \n",
       "113928               0.27          2333.333333     0          1   \n",
       "113929               0.05          4333.333333     0          1   \n",
       "113935               0.48          3875.000000     1          1   \n",
       "\n",
       "        LoanOriginalAmount LoanOriginationDate    r_IRR  r_interes trate  \n",
       "15                    4000      4/19/2012 0:00  13786.5          18403.5  \n",
       "23                    2000      4/26/2013 0:00   9130.5          11466.5  \n",
       "26                    4000      2/21/2013 0:00  14241.5          15477.5  \n",
       "27                    4000      6/24/2010 0:00   2909.0           1873.5  \n",
       "30                   10000       2/7/2012 0:00   1320.0           2612.5  \n",
       "...                    ...                 ...      ...              ...  \n",
       "113905                4000      12/5/2011 0:00  13786.5          18403.5  \n",
       "113913                8000       5/5/2010 0:00   4471.5           2949.5  \n",
       "113928                2000      6/10/2011 0:00  11215.5           8193.0  \n",
       "113929                2500      7/10/2013 0:00  10087.0          13909.0  \n",
       "113935               15000     11/21/2011 0:00  20557.5          13553.0  \n",
       "\n",
       "[21310 rows x 17 columns]"
      ]
     },
     "execution_count": 61,
     "metadata": {},
     "output_type": "execute_result"
    }
   ],
   "source": [
    "df1"
   ]
  },
  {
   "cell_type": "code",
   "execution_count": 62,
   "id": "4237c91c",
   "metadata": {},
   "outputs": [
    {
     "data": {
      "text/plain": [
       "BorrowerRate                 0\n",
       "EstimatedReturn              0\n",
       "ProsperRating (numeric)      0\n",
       "ListingCategory (numeric)    0\n",
       "CreditScoreRangeLower        0\n",
       "OpenCreditLines              0\n",
       "InquiriesLast6Months         0\n",
       "PublicRecordsLast12Months    0\n",
       "BankcardUtilization          0\n",
       "DebtToIncomeRatio            0\n",
       "StatedMonthlyIncome          0\n",
       "Home                         0\n",
       "Loanstatu                    0\n",
       "LoanOriginalAmount           0\n",
       "LoanOriginationDate          0\n",
       "r_IRR                        0\n",
       "r_interes trate              0\n",
       "dtype: int64"
      ]
     },
     "execution_count": 62,
     "metadata": {},
     "output_type": "execute_result"
    }
   ],
   "source": [
    "df1.isnull().sum()"
   ]
  },
  {
   "cell_type": "code",
   "execution_count": 63,
   "id": "669f4a0b",
   "metadata": {},
   "outputs": [],
   "source": [
    "from sklearn.utils import shuffle"
   ]
  },
  {
   "cell_type": "code",
   "execution_count": 64,
   "id": "0b66b548",
   "metadata": {},
   "outputs": [],
   "source": [
    "df2 = shuffle(df1)"
   ]
  },
  {
   "cell_type": "code",
   "execution_count": 65,
   "id": "233b7dda",
   "metadata": {},
   "outputs": [
    {
     "data": {
      "text/html": [
       "<div>\n",
       "<style scoped>\n",
       "    .dataframe tbody tr th:only-of-type {\n",
       "        vertical-align: middle;\n",
       "    }\n",
       "\n",
       "    .dataframe tbody tr th {\n",
       "        vertical-align: top;\n",
       "    }\n",
       "\n",
       "    .dataframe thead th {\n",
       "        text-align: right;\n",
       "    }\n",
       "</style>\n",
       "<table border=\"1\" class=\"dataframe\">\n",
       "  <thead>\n",
       "    <tr style=\"text-align: right;\">\n",
       "      <th></th>\n",
       "      <th>BorrowerRate</th>\n",
       "      <th>EstimatedReturn</th>\n",
       "      <th>ProsperRating (numeric)</th>\n",
       "      <th>ListingCategory (numeric)</th>\n",
       "      <th>CreditScoreRangeLower</th>\n",
       "      <th>OpenCreditLines</th>\n",
       "      <th>InquiriesLast6Months</th>\n",
       "      <th>PublicRecordsLast12Months</th>\n",
       "      <th>BankcardUtilization</th>\n",
       "      <th>DebtToIncomeRatio</th>\n",
       "      <th>StatedMonthlyIncome</th>\n",
       "      <th>Home</th>\n",
       "      <th>Loanstatu</th>\n",
       "      <th>LoanOriginalAmount</th>\n",
       "      <th>LoanOriginationDate</th>\n",
       "      <th>r_IRR</th>\n",
       "      <th>r_interes trate</th>\n",
       "    </tr>\n",
       "  </thead>\n",
       "  <tbody>\n",
       "    <tr>\n",
       "      <th>77298</th>\n",
       "      <td>0.2254</td>\n",
       "      <td>0.0682</td>\n",
       "      <td>2.0</td>\n",
       "      <td>16</td>\n",
       "      <td>680.0</td>\n",
       "      <td>2.0</td>\n",
       "      <td>3.0</td>\n",
       "      <td>0.0</td>\n",
       "      <td>0.79</td>\n",
       "      <td>0.11</td>\n",
       "      <td>5833.333333</td>\n",
       "      <td>0</td>\n",
       "      <td>1</td>\n",
       "      <td>2000</td>\n",
       "      <td>9/17/2012 0:00</td>\n",
       "      <td>4080.0</td>\n",
       "      <td>10609.5</td>\n",
       "    </tr>\n",
       "    <tr>\n",
       "      <th>59522</th>\n",
       "      <td>0.2669</td>\n",
       "      <td>0.1067</td>\n",
       "      <td>2.0</td>\n",
       "      <td>1</td>\n",
       "      <td>660.0</td>\n",
       "      <td>9.0</td>\n",
       "      <td>2.0</td>\n",
       "      <td>0.0</td>\n",
       "      <td>0.68</td>\n",
       "      <td>0.49</td>\n",
       "      <td>2916.666667</td>\n",
       "      <td>0</td>\n",
       "      <td>1</td>\n",
       "      <td>6000</td>\n",
       "      <td>11/8/2011 0:00</td>\n",
       "      <td>9318.5</td>\n",
       "      <td>13989.0</td>\n",
       "    </tr>\n",
       "    <tr>\n",
       "      <th>5988</th>\n",
       "      <td>0.2999</td>\n",
       "      <td>0.1276</td>\n",
       "      <td>2.0</td>\n",
       "      <td>1</td>\n",
       "      <td>640.0</td>\n",
       "      <td>9.0</td>\n",
       "      <td>0.0</td>\n",
       "      <td>0.0</td>\n",
       "      <td>0.66</td>\n",
       "      <td>0.29</td>\n",
       "      <td>3291.666667</td>\n",
       "      <td>0</td>\n",
       "      <td>0</td>\n",
       "      <td>4000</td>\n",
       "      <td>3/8/2012 0:00</td>\n",
       "      <td>14860.0</td>\n",
       "      <td>16419.5</td>\n",
       "    </tr>\n",
       "    <tr>\n",
       "      <th>55726</th>\n",
       "      <td>0.2610</td>\n",
       "      <td>0.1458</td>\n",
       "      <td>3.0</td>\n",
       "      <td>3</td>\n",
       "      <td>620.0</td>\n",
       "      <td>3.0</td>\n",
       "      <td>5.0</td>\n",
       "      <td>0.0</td>\n",
       "      <td>0.51</td>\n",
       "      <td>0.19</td>\n",
       "      <td>3333.333333</td>\n",
       "      <td>0</td>\n",
       "      <td>0</td>\n",
       "      <td>11000</td>\n",
       "      <td>6/26/2012 0:00</td>\n",
       "      <td>18264.5</td>\n",
       "      <td>13596.0</td>\n",
       "    </tr>\n",
       "    <tr>\n",
       "      <th>27624</th>\n",
       "      <td>0.1110</td>\n",
       "      <td>0.0807</td>\n",
       "      <td>6.0</td>\n",
       "      <td>3</td>\n",
       "      <td>680.0</td>\n",
       "      <td>5.0</td>\n",
       "      <td>0.0</td>\n",
       "      <td>0.0</td>\n",
       "      <td>0.51</td>\n",
       "      <td>0.18</td>\n",
       "      <td>5416.666667</td>\n",
       "      <td>0</td>\n",
       "      <td>1</td>\n",
       "      <td>4000</td>\n",
       "      <td>11/7/2011 0:00</td>\n",
       "      <td>5901.5</td>\n",
       "      <td>3449.0</td>\n",
       "    </tr>\n",
       "    <tr>\n",
       "      <th>...</th>\n",
       "      <td>...</td>\n",
       "      <td>...</td>\n",
       "      <td>...</td>\n",
       "      <td>...</td>\n",
       "      <td>...</td>\n",
       "      <td>...</td>\n",
       "      <td>...</td>\n",
       "      <td>...</td>\n",
       "      <td>...</td>\n",
       "      <td>...</td>\n",
       "      <td>...</td>\n",
       "      <td>...</td>\n",
       "      <td>...</td>\n",
       "      <td>...</td>\n",
       "      <td>...</td>\n",
       "      <td>...</td>\n",
       "      <td>...</td>\n",
       "    </tr>\n",
       "    <tr>\n",
       "      <th>75118</th>\n",
       "      <td>0.1493</td>\n",
       "      <td>0.0548</td>\n",
       "      <td>4.0</td>\n",
       "      <td>20</td>\n",
       "      <td>640.0</td>\n",
       "      <td>6.0</td>\n",
       "      <td>0.0</td>\n",
       "      <td>0.0</td>\n",
       "      <td>0.81</td>\n",
       "      <td>0.12</td>\n",
       "      <td>6166.666667</td>\n",
       "      <td>0</td>\n",
       "      <td>1</td>\n",
       "      <td>2000</td>\n",
       "      <td>11/5/2012 0:00</td>\n",
       "      <td>1647.0</td>\n",
       "      <td>5723.0</td>\n",
       "    </tr>\n",
       "    <tr>\n",
       "      <th>92700</th>\n",
       "      <td>0.1380</td>\n",
       "      <td>0.0759</td>\n",
       "      <td>5.0</td>\n",
       "      <td>1</td>\n",
       "      <td>720.0</td>\n",
       "      <td>9.0</td>\n",
       "      <td>1.0</td>\n",
       "      <td>0.0</td>\n",
       "      <td>0.13</td>\n",
       "      <td>0.23</td>\n",
       "      <td>4416.666667</td>\n",
       "      <td>1</td>\n",
       "      <td>1</td>\n",
       "      <td>8780</td>\n",
       "      <td>3/23/2010 0:00</td>\n",
       "      <td>4939.5</td>\n",
       "      <td>4549.5</td>\n",
       "    </tr>\n",
       "    <tr>\n",
       "      <th>6407</th>\n",
       "      <td>0.3099</td>\n",
       "      <td>0.1561</td>\n",
       "      <td>2.0</td>\n",
       "      <td>2</td>\n",
       "      <td>640.0</td>\n",
       "      <td>6.0</td>\n",
       "      <td>4.0</td>\n",
       "      <td>0.0</td>\n",
       "      <td>0.82</td>\n",
       "      <td>0.14</td>\n",
       "      <td>10000.000000</td>\n",
       "      <td>0</td>\n",
       "      <td>1</td>\n",
       "      <td>7500</td>\n",
       "      <td>9/22/2011 0:00</td>\n",
       "      <td>20212.5</td>\n",
       "      <td>16895.0</td>\n",
       "    </tr>\n",
       "    <tr>\n",
       "      <th>82899</th>\n",
       "      <td>0.2839</td>\n",
       "      <td>0.1239</td>\n",
       "      <td>2.0</td>\n",
       "      <td>1</td>\n",
       "      <td>640.0</td>\n",
       "      <td>10.0</td>\n",
       "      <td>0.0</td>\n",
       "      <td>0.0</td>\n",
       "      <td>0.73</td>\n",
       "      <td>0.12</td>\n",
       "      <td>5666.666667</td>\n",
       "      <td>1</td>\n",
       "      <td>1</td>\n",
       "      <td>4000</td>\n",
       "      <td>9/13/2012 0:00</td>\n",
       "      <td>13093.0</td>\n",
       "      <td>15502.5</td>\n",
       "    </tr>\n",
       "    <tr>\n",
       "      <th>81072</th>\n",
       "      <td>0.1020</td>\n",
       "      <td>0.0708</td>\n",
       "      <td>6.0</td>\n",
       "      <td>1</td>\n",
       "      <td>760.0</td>\n",
       "      <td>8.0</td>\n",
       "      <td>0.0</td>\n",
       "      <td>0.0</td>\n",
       "      <td>0.73</td>\n",
       "      <td>0.22</td>\n",
       "      <td>5166.666667</td>\n",
       "      <td>1</td>\n",
       "      <td>1</td>\n",
       "      <td>10000</td>\n",
       "      <td>8/4/2010 0:00</td>\n",
       "      <td>4380.5</td>\n",
       "      <td>2757.5</td>\n",
       "    </tr>\n",
       "  </tbody>\n",
       "</table>\n",
       "<p>21310 rows × 17 columns</p>\n",
       "</div>"
      ],
      "text/plain": [
       "       BorrowerRate  EstimatedReturn  ProsperRating (numeric)  \\\n",
       "77298        0.2254           0.0682                      2.0   \n",
       "59522        0.2669           0.1067                      2.0   \n",
       "5988         0.2999           0.1276                      2.0   \n",
       "55726        0.2610           0.1458                      3.0   \n",
       "27624        0.1110           0.0807                      6.0   \n",
       "...             ...              ...                      ...   \n",
       "75118        0.1493           0.0548                      4.0   \n",
       "92700        0.1380           0.0759                      5.0   \n",
       "6407         0.3099           0.1561                      2.0   \n",
       "82899        0.2839           0.1239                      2.0   \n",
       "81072        0.1020           0.0708                      6.0   \n",
       "\n",
       "       ListingCategory (numeric)  CreditScoreRangeLower  OpenCreditLines  \\\n",
       "77298                         16                  680.0              2.0   \n",
       "59522                          1                  660.0              9.0   \n",
       "5988                           1                  640.0              9.0   \n",
       "55726                          3                  620.0              3.0   \n",
       "27624                          3                  680.0              5.0   \n",
       "...                          ...                    ...              ...   \n",
       "75118                         20                  640.0              6.0   \n",
       "92700                          1                  720.0              9.0   \n",
       "6407                           2                  640.0              6.0   \n",
       "82899                          1                  640.0             10.0   \n",
       "81072                          1                  760.0              8.0   \n",
       "\n",
       "       InquiriesLast6Months  PublicRecordsLast12Months  BankcardUtilization  \\\n",
       "77298                   3.0                        0.0                 0.79   \n",
       "59522                   2.0                        0.0                 0.68   \n",
       "5988                    0.0                        0.0                 0.66   \n",
       "55726                   5.0                        0.0                 0.51   \n",
       "27624                   0.0                        0.0                 0.51   \n",
       "...                     ...                        ...                  ...   \n",
       "75118                   0.0                        0.0                 0.81   \n",
       "92700                   1.0                        0.0                 0.13   \n",
       "6407                    4.0                        0.0                 0.82   \n",
       "82899                   0.0                        0.0                 0.73   \n",
       "81072                   0.0                        0.0                 0.73   \n",
       "\n",
       "       DebtToIncomeRatio  StatedMonthlyIncome  Home  Loanstatu  \\\n",
       "77298               0.11          5833.333333     0          1   \n",
       "59522               0.49          2916.666667     0          1   \n",
       "5988                0.29          3291.666667     0          0   \n",
       "55726               0.19          3333.333333     0          0   \n",
       "27624               0.18          5416.666667     0          1   \n",
       "...                  ...                  ...   ...        ...   \n",
       "75118               0.12          6166.666667     0          1   \n",
       "92700               0.23          4416.666667     1          1   \n",
       "6407                0.14         10000.000000     0          1   \n",
       "82899               0.12          5666.666667     1          1   \n",
       "81072               0.22          5166.666667     1          1   \n",
       "\n",
       "       LoanOriginalAmount LoanOriginationDate    r_IRR  r_interes trate  \n",
       "77298                2000      9/17/2012 0:00   4080.0          10609.5  \n",
       "59522                6000      11/8/2011 0:00   9318.5          13989.0  \n",
       "5988                 4000       3/8/2012 0:00  14860.0          16419.5  \n",
       "55726               11000      6/26/2012 0:00  18264.5          13596.0  \n",
       "27624                4000      11/7/2011 0:00   5901.5           3449.0  \n",
       "...                   ...                 ...      ...              ...  \n",
       "75118                2000      11/5/2012 0:00   1647.0           5723.0  \n",
       "92700                8780      3/23/2010 0:00   4939.5           4549.5  \n",
       "6407                 7500      9/22/2011 0:00  20212.5          16895.0  \n",
       "82899                4000      9/13/2012 0:00  13093.0          15502.5  \n",
       "81072               10000       8/4/2010 0:00   4380.5           2757.5  \n",
       "\n",
       "[21310 rows x 17 columns]"
      ]
     },
     "execution_count": 65,
     "metadata": {},
     "output_type": "execute_result"
    }
   ],
   "source": [
    "df2"
   ]
  },
  {
   "cell_type": "code",
   "execution_count": 66,
   "id": "aa27bfd2",
   "metadata": {},
   "outputs": [],
   "source": [
    "from sklearn.model_selection import train_test_split"
   ]
  },
  {
   "cell_type": "code",
   "execution_count": 67,
   "id": "c88054d2",
   "metadata": {},
   "outputs": [
    {
     "data": {
      "text/plain": [
       "Index(['BorrowerRate', 'EstimatedReturn', 'ProsperRating (numeric)',\n",
       "       'ListingCategory (numeric)', 'CreditScoreRangeLower', 'OpenCreditLines',\n",
       "       'InquiriesLast6Months', 'PublicRecordsLast12Months',\n",
       "       'BankcardUtilization', 'DebtToIncomeRatio', 'StatedMonthlyIncome',\n",
       "       'Home', 'Loanstatu', 'LoanOriginalAmount', 'LoanOriginationDate',\n",
       "       'r_IRR', 'r_interes trate'],\n",
       "      dtype='object')"
      ]
     },
     "execution_count": 67,
     "metadata": {},
     "output_type": "execute_result"
    }
   ],
   "source": [
    "df2.columns"
   ]
  },
  {
   "cell_type": "code",
   "execution_count": 68,
   "id": "07cc9255",
   "metadata": {},
   "outputs": [],
   "source": [
    "#x= df2.drop(['r_interes trate','Loanstatu','EstimatedReturn','LoanOriginationDate'], axis=1)\n",
    "x= df2[['BorrowerRate','ProsperRating (numeric)',\n",
    "       'ListingCategory (numeric)', 'CreditScoreRangeLower', 'OpenCreditLines',\n",
    "       'InquiriesLast6Months', 'PublicRecordsLast12Months',\n",
    "       'BankcardUtilization', 'DebtToIncomeRatio', 'StatedMonthlyIncome',\n",
    "       'Home','LoanOriginalAmount']]"
   ]
  },
  {
   "cell_type": "code",
   "execution_count": 69,
   "id": "0adb993c",
   "metadata": {},
   "outputs": [
    {
     "data": {
      "text/html": [
       "<div>\n",
       "<style scoped>\n",
       "    .dataframe tbody tr th:only-of-type {\n",
       "        vertical-align: middle;\n",
       "    }\n",
       "\n",
       "    .dataframe tbody tr th {\n",
       "        vertical-align: top;\n",
       "    }\n",
       "\n",
       "    .dataframe thead th {\n",
       "        text-align: right;\n",
       "    }\n",
       "</style>\n",
       "<table border=\"1\" class=\"dataframe\">\n",
       "  <thead>\n",
       "    <tr style=\"text-align: right;\">\n",
       "      <th></th>\n",
       "      <th>BorrowerRate</th>\n",
       "      <th>ProsperRating (numeric)</th>\n",
       "      <th>ListingCategory (numeric)</th>\n",
       "      <th>CreditScoreRangeLower</th>\n",
       "      <th>OpenCreditLines</th>\n",
       "      <th>InquiriesLast6Months</th>\n",
       "      <th>PublicRecordsLast12Months</th>\n",
       "      <th>BankcardUtilization</th>\n",
       "      <th>DebtToIncomeRatio</th>\n",
       "      <th>StatedMonthlyIncome</th>\n",
       "      <th>Home</th>\n",
       "      <th>LoanOriginalAmount</th>\n",
       "    </tr>\n",
       "  </thead>\n",
       "  <tbody>\n",
       "    <tr>\n",
       "      <th>77298</th>\n",
       "      <td>0.2254</td>\n",
       "      <td>2.0</td>\n",
       "      <td>16</td>\n",
       "      <td>680.0</td>\n",
       "      <td>2.0</td>\n",
       "      <td>3.0</td>\n",
       "      <td>0.0</td>\n",
       "      <td>0.79</td>\n",
       "      <td>0.11</td>\n",
       "      <td>5833.333333</td>\n",
       "      <td>0</td>\n",
       "      <td>2000</td>\n",
       "    </tr>\n",
       "    <tr>\n",
       "      <th>59522</th>\n",
       "      <td>0.2669</td>\n",
       "      <td>2.0</td>\n",
       "      <td>1</td>\n",
       "      <td>660.0</td>\n",
       "      <td>9.0</td>\n",
       "      <td>2.0</td>\n",
       "      <td>0.0</td>\n",
       "      <td>0.68</td>\n",
       "      <td>0.49</td>\n",
       "      <td>2916.666667</td>\n",
       "      <td>0</td>\n",
       "      <td>6000</td>\n",
       "    </tr>\n",
       "    <tr>\n",
       "      <th>5988</th>\n",
       "      <td>0.2999</td>\n",
       "      <td>2.0</td>\n",
       "      <td>1</td>\n",
       "      <td>640.0</td>\n",
       "      <td>9.0</td>\n",
       "      <td>0.0</td>\n",
       "      <td>0.0</td>\n",
       "      <td>0.66</td>\n",
       "      <td>0.29</td>\n",
       "      <td>3291.666667</td>\n",
       "      <td>0</td>\n",
       "      <td>4000</td>\n",
       "    </tr>\n",
       "    <tr>\n",
       "      <th>55726</th>\n",
       "      <td>0.2610</td>\n",
       "      <td>3.0</td>\n",
       "      <td>3</td>\n",
       "      <td>620.0</td>\n",
       "      <td>3.0</td>\n",
       "      <td>5.0</td>\n",
       "      <td>0.0</td>\n",
       "      <td>0.51</td>\n",
       "      <td>0.19</td>\n",
       "      <td>3333.333333</td>\n",
       "      <td>0</td>\n",
       "      <td>11000</td>\n",
       "    </tr>\n",
       "    <tr>\n",
       "      <th>27624</th>\n",
       "      <td>0.1110</td>\n",
       "      <td>6.0</td>\n",
       "      <td>3</td>\n",
       "      <td>680.0</td>\n",
       "      <td>5.0</td>\n",
       "      <td>0.0</td>\n",
       "      <td>0.0</td>\n",
       "      <td>0.51</td>\n",
       "      <td>0.18</td>\n",
       "      <td>5416.666667</td>\n",
       "      <td>0</td>\n",
       "      <td>4000</td>\n",
       "    </tr>\n",
       "    <tr>\n",
       "      <th>...</th>\n",
       "      <td>...</td>\n",
       "      <td>...</td>\n",
       "      <td>...</td>\n",
       "      <td>...</td>\n",
       "      <td>...</td>\n",
       "      <td>...</td>\n",
       "      <td>...</td>\n",
       "      <td>...</td>\n",
       "      <td>...</td>\n",
       "      <td>...</td>\n",
       "      <td>...</td>\n",
       "      <td>...</td>\n",
       "    </tr>\n",
       "    <tr>\n",
       "      <th>75118</th>\n",
       "      <td>0.1493</td>\n",
       "      <td>4.0</td>\n",
       "      <td>20</td>\n",
       "      <td>640.0</td>\n",
       "      <td>6.0</td>\n",
       "      <td>0.0</td>\n",
       "      <td>0.0</td>\n",
       "      <td>0.81</td>\n",
       "      <td>0.12</td>\n",
       "      <td>6166.666667</td>\n",
       "      <td>0</td>\n",
       "      <td>2000</td>\n",
       "    </tr>\n",
       "    <tr>\n",
       "      <th>92700</th>\n",
       "      <td>0.1380</td>\n",
       "      <td>5.0</td>\n",
       "      <td>1</td>\n",
       "      <td>720.0</td>\n",
       "      <td>9.0</td>\n",
       "      <td>1.0</td>\n",
       "      <td>0.0</td>\n",
       "      <td>0.13</td>\n",
       "      <td>0.23</td>\n",
       "      <td>4416.666667</td>\n",
       "      <td>1</td>\n",
       "      <td>8780</td>\n",
       "    </tr>\n",
       "    <tr>\n",
       "      <th>6407</th>\n",
       "      <td>0.3099</td>\n",
       "      <td>2.0</td>\n",
       "      <td>2</td>\n",
       "      <td>640.0</td>\n",
       "      <td>6.0</td>\n",
       "      <td>4.0</td>\n",
       "      <td>0.0</td>\n",
       "      <td>0.82</td>\n",
       "      <td>0.14</td>\n",
       "      <td>10000.000000</td>\n",
       "      <td>0</td>\n",
       "      <td>7500</td>\n",
       "    </tr>\n",
       "    <tr>\n",
       "      <th>82899</th>\n",
       "      <td>0.2839</td>\n",
       "      <td>2.0</td>\n",
       "      <td>1</td>\n",
       "      <td>640.0</td>\n",
       "      <td>10.0</td>\n",
       "      <td>0.0</td>\n",
       "      <td>0.0</td>\n",
       "      <td>0.73</td>\n",
       "      <td>0.12</td>\n",
       "      <td>5666.666667</td>\n",
       "      <td>1</td>\n",
       "      <td>4000</td>\n",
       "    </tr>\n",
       "    <tr>\n",
       "      <th>81072</th>\n",
       "      <td>0.1020</td>\n",
       "      <td>6.0</td>\n",
       "      <td>1</td>\n",
       "      <td>760.0</td>\n",
       "      <td>8.0</td>\n",
       "      <td>0.0</td>\n",
       "      <td>0.0</td>\n",
       "      <td>0.73</td>\n",
       "      <td>0.22</td>\n",
       "      <td>5166.666667</td>\n",
       "      <td>1</td>\n",
       "      <td>10000</td>\n",
       "    </tr>\n",
       "  </tbody>\n",
       "</table>\n",
       "<p>21310 rows × 12 columns</p>\n",
       "</div>"
      ],
      "text/plain": [
       "       BorrowerRate  ProsperRating (numeric)  ListingCategory (numeric)  \\\n",
       "77298        0.2254                      2.0                         16   \n",
       "59522        0.2669                      2.0                          1   \n",
       "5988         0.2999                      2.0                          1   \n",
       "55726        0.2610                      3.0                          3   \n",
       "27624        0.1110                      6.0                          3   \n",
       "...             ...                      ...                        ...   \n",
       "75118        0.1493                      4.0                         20   \n",
       "92700        0.1380                      5.0                          1   \n",
       "6407         0.3099                      2.0                          2   \n",
       "82899        0.2839                      2.0                          1   \n",
       "81072        0.1020                      6.0                          1   \n",
       "\n",
       "       CreditScoreRangeLower  OpenCreditLines  InquiriesLast6Months  \\\n",
       "77298                  680.0              2.0                   3.0   \n",
       "59522                  660.0              9.0                   2.0   \n",
       "5988                   640.0              9.0                   0.0   \n",
       "55726                  620.0              3.0                   5.0   \n",
       "27624                  680.0              5.0                   0.0   \n",
       "...                      ...              ...                   ...   \n",
       "75118                  640.0              6.0                   0.0   \n",
       "92700                  720.0              9.0                   1.0   \n",
       "6407                   640.0              6.0                   4.0   \n",
       "82899                  640.0             10.0                   0.0   \n",
       "81072                  760.0              8.0                   0.0   \n",
       "\n",
       "       PublicRecordsLast12Months  BankcardUtilization  DebtToIncomeRatio  \\\n",
       "77298                        0.0                 0.79               0.11   \n",
       "59522                        0.0                 0.68               0.49   \n",
       "5988                         0.0                 0.66               0.29   \n",
       "55726                        0.0                 0.51               0.19   \n",
       "27624                        0.0                 0.51               0.18   \n",
       "...                          ...                  ...                ...   \n",
       "75118                        0.0                 0.81               0.12   \n",
       "92700                        0.0                 0.13               0.23   \n",
       "6407                         0.0                 0.82               0.14   \n",
       "82899                        0.0                 0.73               0.12   \n",
       "81072                        0.0                 0.73               0.22   \n",
       "\n",
       "       StatedMonthlyIncome  Home  LoanOriginalAmount  \n",
       "77298          5833.333333     0                2000  \n",
       "59522          2916.666667     0                6000  \n",
       "5988           3291.666667     0                4000  \n",
       "55726          3333.333333     0               11000  \n",
       "27624          5416.666667     0                4000  \n",
       "...                    ...   ...                 ...  \n",
       "75118          6166.666667     0                2000  \n",
       "92700          4416.666667     1                8780  \n",
       "6407          10000.000000     0                7500  \n",
       "82899          5666.666667     1                4000  \n",
       "81072          5166.666667     1               10000  \n",
       "\n",
       "[21310 rows x 12 columns]"
      ]
     },
     "execution_count": 69,
     "metadata": {},
     "output_type": "execute_result"
    }
   ],
   "source": [
    "x"
   ]
  },
  {
   "cell_type": "code",
   "execution_count": 70,
   "id": "cae49b53",
   "metadata": {},
   "outputs": [],
   "source": [
    "y= df2['EstimatedReturn']"
   ]
  },
  {
   "cell_type": "code",
   "execution_count": 71,
   "id": "4d18ab3f",
   "metadata": {},
   "outputs": [
    {
     "data": {
      "text/plain": [
       "77298    0.0682\n",
       "59522    0.1067\n",
       "5988     0.1276\n",
       "55726    0.1458\n",
       "27624    0.0807\n",
       "          ...  \n",
       "75118    0.0548\n",
       "92700    0.0759\n",
       "6407     0.1561\n",
       "82899    0.1239\n",
       "81072    0.0708\n",
       "Name: EstimatedReturn, Length: 21310, dtype: float64"
      ]
     },
     "execution_count": 71,
     "metadata": {},
     "output_type": "execute_result"
    }
   ],
   "source": [
    "y"
   ]
  },
  {
   "cell_type": "code",
   "execution_count": 72,
   "id": "29466ef8",
   "metadata": {},
   "outputs": [],
   "source": [
    "x_train, x_test , y_train, y_test = train_test_split(x, y , train_size=.7)"
   ]
  },
  {
   "cell_type": "code",
   "execution_count": 73,
   "id": "6678fdda",
   "metadata": {},
   "outputs": [],
   "source": [
    "from sklearn import linear_model"
   ]
  },
  {
   "cell_type": "code",
   "execution_count": 74,
   "id": "26bb140c",
   "metadata": {},
   "outputs": [],
   "source": [
    "from sklearn.linear_model import LinearRegression"
   ]
  },
  {
   "cell_type": "code",
   "execution_count": 75,
   "id": "b4aa8e81",
   "metadata": {},
   "outputs": [],
   "source": [
    "model1= LinearRegression().fit(x_train, y_train)"
   ]
  },
  {
   "cell_type": "code",
   "execution_count": 76,
   "id": "99d7642b",
   "metadata": {},
   "outputs": [
    {
     "data": {
      "text/plain": [
       "array([0.12068302, 0.07911619, 0.1532285 , ..., 0.06737144, 0.15133537,\n",
       "       0.15398892])"
      ]
     },
     "execution_count": 76,
     "metadata": {},
     "output_type": "execute_result"
    }
   ],
   "source": [
    "pred1= model1.predict(x_test)\n",
    "pred1"
   ]
  },
  {
   "cell_type": "code",
   "execution_count": 77,
   "id": "12a3c22d",
   "metadata": {},
   "outputs": [
    {
     "data": {
      "text/plain": [
       "(6394,)"
      ]
     },
     "execution_count": 77,
     "metadata": {},
     "output_type": "execute_result"
    }
   ],
   "source": [
    "pred1.shape"
   ]
  },
  {
   "cell_type": "code",
   "execution_count": 78,
   "id": "ac4b31a3",
   "metadata": {},
   "outputs": [
    {
     "data": {
      "text/plain": [
       "0.8186147774421383"
      ]
     },
     "execution_count": 78,
     "metadata": {},
     "output_type": "execute_result"
    }
   ],
   "source": [
    "score= model1.score(x_test, y_test)\n",
    "score"
   ]
  },
  {
   "cell_type": "code",
   "execution_count": 79,
   "id": "43be189e",
   "metadata": {},
   "outputs": [
    {
     "data": {
      "text/plain": [
       "array([ 9.17502490e-01,  2.85613000e-02, -1.92698950e-05, -4.30642687e-05,\n",
       "        5.17322572e-05, -1.13713956e-03, -1.81281805e-03,  8.85437943e-04,\n",
       "        2.93144935e-04, -5.59718555e-08, -3.78205827e-04,  1.20110531e-07])"
      ]
     },
     "execution_count": 79,
     "metadata": {},
     "output_type": "execute_result"
    }
   ],
   "source": [
    "model1.coef_  "
   ]
  },
  {
   "cell_type": "code",
   "execution_count": 80,
   "id": "32374a56",
   "metadata": {},
   "outputs": [
    {
     "data": {
      "text/plain": [
       "array([ 9.17502490e-01,  2.85613000e-02, -1.92698950e-05, -4.30642687e-05,\n",
       "        5.17322572e-05, -1.13713956e-03, -1.81281805e-03,  8.85437943e-04,\n",
       "        2.93144935e-04, -5.59718555e-08, -3.78205827e-04,  1.20110531e-07])"
      ]
     },
     "execution_count": 80,
     "metadata": {},
     "output_type": "execute_result"
    }
   ],
   "source": [
    "model1.coef_"
   ]
  },
  {
   "cell_type": "code",
   "execution_count": 81,
   "id": "a0c1719f",
   "metadata": {},
   "outputs": [],
   "source": [
    "x2=df2[['r_interes trate','ProsperRating (numeric)','CreditScoreRangeLower']]"
   ]
  },
  {
   "cell_type": "code",
   "execution_count": 82,
   "id": "abb333d5",
   "metadata": {},
   "outputs": [
    {
     "data": {
      "text/html": [
       "<div>\n",
       "<style scoped>\n",
       "    .dataframe tbody tr th:only-of-type {\n",
       "        vertical-align: middle;\n",
       "    }\n",
       "\n",
       "    .dataframe tbody tr th {\n",
       "        vertical-align: top;\n",
       "    }\n",
       "\n",
       "    .dataframe thead th {\n",
       "        text-align: right;\n",
       "    }\n",
       "</style>\n",
       "<table border=\"1\" class=\"dataframe\">\n",
       "  <thead>\n",
       "    <tr style=\"text-align: right;\">\n",
       "      <th></th>\n",
       "      <th>r_interes trate</th>\n",
       "      <th>ProsperRating (numeric)</th>\n",
       "      <th>CreditScoreRangeLower</th>\n",
       "    </tr>\n",
       "  </thead>\n",
       "  <tbody>\n",
       "    <tr>\n",
       "      <th>77298</th>\n",
       "      <td>10609.5</td>\n",
       "      <td>2.0</td>\n",
       "      <td>680.0</td>\n",
       "    </tr>\n",
       "    <tr>\n",
       "      <th>59522</th>\n",
       "      <td>13989.0</td>\n",
       "      <td>2.0</td>\n",
       "      <td>660.0</td>\n",
       "    </tr>\n",
       "    <tr>\n",
       "      <th>5988</th>\n",
       "      <td>16419.5</td>\n",
       "      <td>2.0</td>\n",
       "      <td>640.0</td>\n",
       "    </tr>\n",
       "    <tr>\n",
       "      <th>55726</th>\n",
       "      <td>13596.0</td>\n",
       "      <td>3.0</td>\n",
       "      <td>620.0</td>\n",
       "    </tr>\n",
       "    <tr>\n",
       "      <th>27624</th>\n",
       "      <td>3449.0</td>\n",
       "      <td>6.0</td>\n",
       "      <td>680.0</td>\n",
       "    </tr>\n",
       "    <tr>\n",
       "      <th>...</th>\n",
       "      <td>...</td>\n",
       "      <td>...</td>\n",
       "      <td>...</td>\n",
       "    </tr>\n",
       "    <tr>\n",
       "      <th>75118</th>\n",
       "      <td>5723.0</td>\n",
       "      <td>4.0</td>\n",
       "      <td>640.0</td>\n",
       "    </tr>\n",
       "    <tr>\n",
       "      <th>92700</th>\n",
       "      <td>4549.5</td>\n",
       "      <td>5.0</td>\n",
       "      <td>720.0</td>\n",
       "    </tr>\n",
       "    <tr>\n",
       "      <th>6407</th>\n",
       "      <td>16895.0</td>\n",
       "      <td>2.0</td>\n",
       "      <td>640.0</td>\n",
       "    </tr>\n",
       "    <tr>\n",
       "      <th>82899</th>\n",
       "      <td>15502.5</td>\n",
       "      <td>2.0</td>\n",
       "      <td>640.0</td>\n",
       "    </tr>\n",
       "    <tr>\n",
       "      <th>81072</th>\n",
       "      <td>2757.5</td>\n",
       "      <td>6.0</td>\n",
       "      <td>760.0</td>\n",
       "    </tr>\n",
       "  </tbody>\n",
       "</table>\n",
       "<p>21310 rows × 3 columns</p>\n",
       "</div>"
      ],
      "text/plain": [
       "       r_interes trate  ProsperRating (numeric)  CreditScoreRangeLower\n",
       "77298          10609.5                      2.0                  680.0\n",
       "59522          13989.0                      2.0                  660.0\n",
       "5988           16419.5                      2.0                  640.0\n",
       "55726          13596.0                      3.0                  620.0\n",
       "27624           3449.0                      6.0                  680.0\n",
       "...                ...                      ...                    ...\n",
       "75118           5723.0                      4.0                  640.0\n",
       "92700           4549.5                      5.0                  720.0\n",
       "6407           16895.0                      2.0                  640.0\n",
       "82899          15502.5                      2.0                  640.0\n",
       "81072           2757.5                      6.0                  760.0\n",
       "\n",
       "[21310 rows x 3 columns]"
      ]
     },
     "execution_count": 82,
     "metadata": {},
     "output_type": "execute_result"
    }
   ],
   "source": [
    "x2"
   ]
  },
  {
   "cell_type": "code",
   "execution_count": 83,
   "id": "7cf59356",
   "metadata": {},
   "outputs": [
    {
     "data": {
      "text/plain": [
       "Index(['BorrowerRate', 'EstimatedReturn', 'ProsperRating (numeric)',\n",
       "       'ListingCategory (numeric)', 'CreditScoreRangeLower', 'OpenCreditLines',\n",
       "       'InquiriesLast6Months', 'PublicRecordsLast12Months',\n",
       "       'BankcardUtilization', 'DebtToIncomeRatio', 'StatedMonthlyIncome',\n",
       "       'Home', 'Loanstatu', 'LoanOriginalAmount', 'LoanOriginationDate',\n",
       "       'r_IRR', 'r_interes trate'],\n",
       "      dtype='object')"
      ]
     },
     "execution_count": 83,
     "metadata": {},
     "output_type": "execute_result"
    }
   ],
   "source": [
    "df2.columns"
   ]
  },
  {
   "cell_type": "code",
   "execution_count": 84,
   "id": "6f53278c",
   "metadata": {},
   "outputs": [],
   "source": [
    "y2= df2['r_IRR']"
   ]
  },
  {
   "cell_type": "code",
   "execution_count": 85,
   "id": "8e2a3ade",
   "metadata": {},
   "outputs": [
    {
     "data": {
      "text/plain": [
       "77298     4080.0\n",
       "59522     9318.5\n",
       "5988     14860.0\n",
       "55726    18264.5\n",
       "27624     5901.5\n",
       "          ...   \n",
       "75118     1647.0\n",
       "92700     4939.5\n",
       "6407     20212.5\n",
       "82899    13093.0\n",
       "81072     4380.5\n",
       "Name: r_IRR, Length: 21310, dtype: float64"
      ]
     },
     "execution_count": 85,
     "metadata": {},
     "output_type": "execute_result"
    }
   ],
   "source": [
    "y2"
   ]
  },
  {
   "cell_type": "code",
   "execution_count": 86,
   "id": "8d3d00df",
   "metadata": {},
   "outputs": [],
   "source": [
    "x2_train, x2_test , y2_train, y2_test = train_test_split(x2, y2, train_size=.7)"
   ]
  },
  {
   "cell_type": "code",
   "execution_count": 87,
   "id": "2b2786c8",
   "metadata": {},
   "outputs": [],
   "source": [
    "from sklearn import linear_model\n",
    "from sklearn.linear_model import LinearRegression\n"
   ]
  },
  {
   "cell_type": "code",
   "execution_count": 88,
   "id": "f4b39dc1",
   "metadata": {},
   "outputs": [
    {
     "data": {
      "text/plain": [
       "array([ 8905.24054186,  5346.36831876,  9009.32194436, ...,\n",
       "       21679.90833535, 11078.86330638, 14387.64213701])"
      ]
     },
     "execution_count": 88,
     "metadata": {},
     "output_type": "execute_result"
    }
   ],
   "source": [
    "model2= LinearRegression().fit(x2_train, y2_train)\n",
    "pred2= model2.predict(x2_test)\n",
    "pred2"
   ]
  },
  {
   "cell_type": "code",
   "execution_count": 89,
   "id": "a6399d85",
   "metadata": {},
   "outputs": [
    {
     "data": {
      "text/html": [
       "<div>\n",
       "<style scoped>\n",
       "    .dataframe tbody tr th:only-of-type {\n",
       "        vertical-align: middle;\n",
       "    }\n",
       "\n",
       "    .dataframe tbody tr th {\n",
       "        vertical-align: top;\n",
       "    }\n",
       "\n",
       "    .dataframe thead th {\n",
       "        text-align: right;\n",
       "    }\n",
       "</style>\n",
       "<table border=\"1\" class=\"dataframe\">\n",
       "  <thead>\n",
       "    <tr style=\"text-align: right;\">\n",
       "      <th></th>\n",
       "      <th>r_interes trate</th>\n",
       "      <th>ProsperRating (numeric)</th>\n",
       "      <th>CreditScoreRangeLower</th>\n",
       "    </tr>\n",
       "  </thead>\n",
       "  <tbody>\n",
       "    <tr>\n",
       "      <th>27211</th>\n",
       "      <td>8625.0</td>\n",
       "      <td>4.0</td>\n",
       "      <td>680.0</td>\n",
       "    </tr>\n",
       "    <tr>\n",
       "      <th>4855</th>\n",
       "      <td>19599.5</td>\n",
       "      <td>2.0</td>\n",
       "      <td>660.0</td>\n",
       "    </tr>\n",
       "    <tr>\n",
       "      <th>97476</th>\n",
       "      <td>9202.5</td>\n",
       "      <td>4.0</td>\n",
       "      <td>740.0</td>\n",
       "    </tr>\n",
       "    <tr>\n",
       "      <th>12489</th>\n",
       "      <td>6762.0</td>\n",
       "      <td>5.0</td>\n",
       "      <td>660.0</td>\n",
       "    </tr>\n",
       "    <tr>\n",
       "      <th>113846</th>\n",
       "      <td>17549.0</td>\n",
       "      <td>2.0</td>\n",
       "      <td>680.0</td>\n",
       "    </tr>\n",
       "    <tr>\n",
       "      <th>...</th>\n",
       "      <td>...</td>\n",
       "      <td>...</td>\n",
       "      <td>...</td>\n",
       "    </tr>\n",
       "    <tr>\n",
       "      <th>65804</th>\n",
       "      <td>16895.0</td>\n",
       "      <td>2.0</td>\n",
       "      <td>600.0</td>\n",
       "    </tr>\n",
       "    <tr>\n",
       "      <th>39855</th>\n",
       "      <td>9752.5</td>\n",
       "      <td>4.0</td>\n",
       "      <td>680.0</td>\n",
       "    </tr>\n",
       "    <tr>\n",
       "      <th>62012</th>\n",
       "      <td>3992.5</td>\n",
       "      <td>6.0</td>\n",
       "      <td>800.0</td>\n",
       "    </tr>\n",
       "    <tr>\n",
       "      <th>90614</th>\n",
       "      <td>15887.0</td>\n",
       "      <td>2.0</td>\n",
       "      <td>680.0</td>\n",
       "    </tr>\n",
       "    <tr>\n",
       "      <th>10408</th>\n",
       "      <td>17681.0</td>\n",
       "      <td>2.0</td>\n",
       "      <td>660.0</td>\n",
       "    </tr>\n",
       "  </tbody>\n",
       "</table>\n",
       "<p>14916 rows × 3 columns</p>\n",
       "</div>"
      ],
      "text/plain": [
       "        r_interes trate  ProsperRating (numeric)  CreditScoreRangeLower\n",
       "27211            8625.0                      4.0                  680.0\n",
       "4855            19599.5                      2.0                  660.0\n",
       "97476            9202.5                      4.0                  740.0\n",
       "12489            6762.0                      5.0                  660.0\n",
       "113846          17549.0                      2.0                  680.0\n",
       "...                 ...                      ...                    ...\n",
       "65804           16895.0                      2.0                  600.0\n",
       "39855            9752.5                      4.0                  680.0\n",
       "62012            3992.5                      6.0                  800.0\n",
       "90614           15887.0                      2.0                  680.0\n",
       "10408           17681.0                      2.0                  660.0\n",
       "\n",
       "[14916 rows x 3 columns]"
      ]
     },
     "execution_count": 89,
     "metadata": {},
     "output_type": "execute_result"
    }
   ],
   "source": [
    "x2_train"
   ]
  },
  {
   "cell_type": "code",
   "execution_count": 90,
   "id": "c14ace78",
   "metadata": {},
   "outputs": [
    {
     "data": {
      "text/plain": [
       "27211     11698.0\n",
       "4855      18871.0\n",
       "97476      8658.5\n",
       "12489      7569.0\n",
       "113846    17793.0\n",
       "           ...   \n",
       "65804     20212.5\n",
       "39855     10782.5\n",
       "62012      4611.5\n",
       "90614     14284.0\n",
       "10408     16179.0\n",
       "Name: r_IRR, Length: 14916, dtype: float64"
      ]
     },
     "execution_count": 90,
     "metadata": {},
     "output_type": "execute_result"
    }
   ],
   "source": [
    "y2_train"
   ]
  },
  {
   "cell_type": "code",
   "execution_count": 91,
   "id": "3cd83224",
   "metadata": {},
   "outputs": [
    {
     "data": {
      "text/plain": [
       "0.7731226447078797"
      ]
     },
     "execution_count": 91,
     "metadata": {},
     "output_type": "execute_result"
    }
   ],
   "source": [
    "score2= model2.score(x2_test, y2_test)\n",
    "score2"
   ]
  },
  {
   "cell_type": "code",
   "execution_count": 92,
   "id": "8dc0ba7c",
   "metadata": {},
   "outputs": [
    {
     "data": {
      "text/plain": [
       "array([ 1.83549123e+00,  3.95861298e+03, -1.26907191e+01])"
      ]
     },
     "execution_count": 92,
     "metadata": {},
     "output_type": "execute_result"
    }
   ],
   "source": [
    "model2.coef_"
   ]
  },
  {
   "cell_type": "code",
   "execution_count": 93,
   "id": "4f8525e9",
   "metadata": {},
   "outputs": [
    {
     "data": {
      "text/plain": [
       "Index(['BorrowerRate', 'EstimatedReturn', 'ProsperRating (numeric)',\n",
       "       'ListingCategory (numeric)', 'CreditScoreRangeLower', 'OpenCreditLines',\n",
       "       'InquiriesLast6Months', 'PublicRecordsLast12Months',\n",
       "       'BankcardUtilization', 'DebtToIncomeRatio', 'StatedMonthlyIncome',\n",
       "       'Home', 'Loanstatu', 'LoanOriginalAmount', 'LoanOriginationDate',\n",
       "       'r_IRR', 'r_interes trate'],\n",
       "      dtype='object')"
      ]
     },
     "execution_count": 93,
     "metadata": {},
     "output_type": "execute_result"
    }
   ],
   "source": [
    "df2.columns\n"
   ]
  },
  {
   "cell_type": "code",
   "execution_count": 94,
   "id": "052f5d2d",
   "metadata": {},
   "outputs": [],
   "source": [
    "x3= df2[['ListingCategory (numeric)', 'LoanOriginalAmount','r_interes trate']]"
   ]
  },
  {
   "cell_type": "code",
   "execution_count": 95,
   "id": "a9bfd5ca",
   "metadata": {},
   "outputs": [],
   "source": [
    "y3=df2['r_IRR']"
   ]
  },
  {
   "cell_type": "code",
   "execution_count": 96,
   "id": "f7cabbfb",
   "metadata": {},
   "outputs": [],
   "source": [
    "x3_train, x3_test , y3_train, y3_test = train_test_split(x3, y3, train_size=.7)"
   ]
  },
  {
   "cell_type": "code",
   "execution_count": 97,
   "id": "95f0554b",
   "metadata": {},
   "outputs": [
    {
     "data": {
      "text/plain": [
       "array([14042.93969287,  8237.02013527, 15222.76415797, ...,\n",
       "        5619.93807172, 12017.27244128,  2866.36339302])"
      ]
     },
     "execution_count": 97,
     "metadata": {},
     "output_type": "execute_result"
    }
   ],
   "source": [
    "model3= LinearRegression().fit(x3_train, y3_train)\n",
    "pred3= model3.predict(x3_test)\n",
    "pred3"
   ]
  },
  {
   "cell_type": "code",
   "execution_count": 98,
   "id": "5e6bccb9",
   "metadata": {},
   "outputs": [
    {
     "data": {
      "text/plain": [
       "0.6633286740142103"
      ]
     },
     "execution_count": 98,
     "metadata": {},
     "output_type": "execute_result"
    }
   ],
   "source": [
    "score3= model3.score(x3_test, y3_test)\n",
    "score3"
   ]
  },
  {
   "cell_type": "code",
   "execution_count": 99,
   "id": "89f652dd",
   "metadata": {},
   "outputs": [
    {
     "data": {
      "text/plain": [
       "array([-8.95876285,  0.18020517,  0.84763228])"
      ]
     },
     "execution_count": 99,
     "metadata": {},
     "output_type": "execute_result"
    }
   ],
   "source": [
    "model3.coef_"
   ]
  },
  {
   "cell_type": "code",
   "execution_count": 100,
   "id": "b750c483",
   "metadata": {},
   "outputs": [
    {
     "data": {
      "text/plain": [
       "Index(['BorrowerRate', 'EstimatedReturn', 'ProsperRating (numeric)',\n",
       "       'ListingCategory (numeric)', 'CreditScoreRangeLower', 'OpenCreditLines',\n",
       "       'InquiriesLast6Months', 'PublicRecordsLast12Months',\n",
       "       'BankcardUtilization', 'DebtToIncomeRatio', 'StatedMonthlyIncome',\n",
       "       'Home', 'Loanstatu', 'LoanOriginalAmount', 'LoanOriginationDate',\n",
       "       'r_IRR', 'r_interes trate'],\n",
       "      dtype='object')"
      ]
     },
     "execution_count": 100,
     "metadata": {},
     "output_type": "execute_result"
    }
   ],
   "source": [
    "df2.columns"
   ]
  },
  {
   "cell_type": "code",
   "execution_count": 101,
   "id": "f86cb0d8",
   "metadata": {},
   "outputs": [],
   "source": [
    "x4= df2[['Home','StatedMonthlyIncome','r_interes trate']]"
   ]
  },
  {
   "cell_type": "code",
   "execution_count": 102,
   "id": "7dea0531",
   "metadata": {},
   "outputs": [],
   "source": [
    "y4= df2['r_IRR']"
   ]
  },
  {
   "cell_type": "code",
   "execution_count": 103,
   "id": "c508d47e",
   "metadata": {},
   "outputs": [],
   "source": [
    "x4_train, x4_test , y4_train, y4_test = train_test_split(x4, y4, train_size=.7)"
   ]
  },
  {
   "cell_type": "code",
   "execution_count": 104,
   "id": "5cbdf34a",
   "metadata": {},
   "outputs": [
    {
     "data": {
      "text/plain": [
       "array([15624.93454   , 14272.0341611 ,  8511.33957419, ...,\n",
       "       17806.90819167,  8435.90784118, 11170.30251297])"
      ]
     },
     "execution_count": 104,
     "metadata": {},
     "output_type": "execute_result"
    }
   ],
   "source": [
    "model4= LinearRegression().fit(x4_train, y4_train)\n",
    "pred4= model4.predict(x4_test)\n",
    "pred4"
   ]
  },
  {
   "cell_type": "code",
   "execution_count": 105,
   "id": "ff34f65a",
   "metadata": {},
   "outputs": [
    {
     "data": {
      "text/plain": [
       "0.6507202476135383"
      ]
     },
     "execution_count": 105,
     "metadata": {},
     "output_type": "execute_result"
    }
   ],
   "source": [
    "score4= model4.score(x4_test, y4_test)\n",
    "score4"
   ]
  },
  {
   "cell_type": "code",
   "execution_count": 106,
   "id": "bde3461b",
   "metadata": {},
   "outputs": [
    {
     "data": {
      "text/plain": [
       "array([3.39851992, 0.01048877, 0.80420822])"
      ]
     },
     "execution_count": 106,
     "metadata": {},
     "output_type": "execute_result"
    }
   ],
   "source": [
    "model4.coef_"
   ]
  },
  {
   "cell_type": "code",
   "execution_count": 107,
   "id": "c869dcc6",
   "metadata": {},
   "outputs": [],
   "source": [
    "x5= df2[['InquiriesLast6Months', 'PublicRecordsLast12Months','OpenCreditLines','BankcardUtilization','r_interes trate']]"
   ]
  },
  {
   "cell_type": "code",
   "execution_count": 108,
   "id": "87640f84",
   "metadata": {},
   "outputs": [],
   "source": [
    "y5= df2['r_IRR']"
   ]
  },
  {
   "cell_type": "code",
   "execution_count": 109,
   "id": "11c88975",
   "metadata": {},
   "outputs": [],
   "source": [
    "x5_train, x5_test , y5_train, y5_test = train_test_split(x5, y5, train_size=.7)"
   ]
  },
  {
   "cell_type": "code",
   "execution_count": 110,
   "id": "35944c5d",
   "metadata": {},
   "outputs": [
    {
     "data": {
      "text/plain": [
       "array([15833.85976053,  6290.61757157, 10516.99424869, ...,\n",
       "       15629.55372958, 18017.73491117,  7184.36617812])"
      ]
     },
     "execution_count": 110,
     "metadata": {},
     "output_type": "execute_result"
    }
   ],
   "source": [
    "model5= LinearRegression().fit(x5_train, y5_train)\n",
    "pred5= model5.predict(x5_test)\n",
    "pred5"
   ]
  },
  {
   "cell_type": "code",
   "execution_count": 111,
   "id": "687e3b99",
   "metadata": {},
   "outputs": [
    {
     "data": {
      "text/plain": [
       "0.6501697162880435"
      ]
     },
     "execution_count": 111,
     "metadata": {},
     "output_type": "execute_result"
    }
   ],
   "source": [
    "score5= model5.score(x5_test, y5_test)\n",
    "score5"
   ]
  },
  {
   "cell_type": "code",
   "execution_count": 112,
   "id": "740e2a4b",
   "metadata": {},
   "outputs": [
    {
     "data": {
      "text/plain": [
       "array([-295.22756506,   96.97409672,   10.94584937, -261.25840305,\n",
       "          0.83317148])"
      ]
     },
     "execution_count": 112,
     "metadata": {},
     "output_type": "execute_result"
    }
   ],
   "source": [
    "model5.coef_"
   ]
  },
  {
   "cell_type": "code",
   "execution_count": 113,
   "id": "88a104f1",
   "metadata": {},
   "outputs": [],
   "source": [
    "x6= df2[['ProsperRating (numeric)',\n",
    "       'ListingCategory (numeric)', 'CreditScoreRangeLower', 'OpenCreditLines',\n",
    "       'InquiriesLast6Months', 'PublicRecordsLast12Months',\n",
    "       'BankcardUtilization', 'DebtToIncomeRatio', 'StatedMonthlyIncome',\n",
    "       'Home', 'LoanOriginalAmount','r_interes trate']]"
   ]
  },
  {
   "cell_type": "code",
   "execution_count": 114,
   "id": "8c1a9363",
   "metadata": {},
   "outputs": [],
   "source": [
    "y6= df2['r_IRR']"
   ]
  },
  {
   "cell_type": "code",
   "execution_count": 115,
   "id": "8f8b62b6",
   "metadata": {},
   "outputs": [],
   "source": [
    "x6_train, x6_test , y6_train, y6_test = train_test_split(x6, y6, train_size=.7)"
   ]
  },
  {
   "cell_type": "code",
   "execution_count": 116,
   "id": "62def0da",
   "metadata": {},
   "outputs": [
    {
     "data": {
      "text/plain": [
       "array([ 2576.2210239 , 16600.81923178, 15259.82419794, ...,\n",
       "        3024.98843376, 20203.69770196, 13219.49980505])"
      ]
     },
     "execution_count": 116,
     "metadata": {},
     "output_type": "execute_result"
    }
   ],
   "source": [
    "model6= LinearRegression().fit(x6_train, y6_train)\n",
    "pred6= model6.predict(x6_test)\n",
    "pred6"
   ]
  },
  {
   "cell_type": "code",
   "execution_count": 117,
   "id": "2d30cf28",
   "metadata": {},
   "outputs": [
    {
     "data": {
      "text/plain": [
       "0.786149358289868"
      ]
     },
     "execution_count": 117,
     "metadata": {},
     "output_type": "execute_result"
    }
   ],
   "source": [
    "score6= model6.score(x6_test, y6_test)\n",
    "score6"
   ]
  },
  {
   "cell_type": "code",
   "execution_count": 118,
   "id": "ba937cab",
   "metadata": {},
   "outputs": [
    {
     "data": {
      "text/plain": [
       "array([ 3.74969635e+03,  4.14982700e+00, -1.18875108e+01,  2.52160329e+00,\n",
       "       -1.29457501e+02, -7.56996091e+01,  3.04789098e+02,  4.01812352e+01,\n",
       "       -1.97285156e-02, -3.91329628e+01,  7.50358666e-02,  1.79931816e+00])"
      ]
     },
     "execution_count": 118,
     "metadata": {},
     "output_type": "execute_result"
    }
   ],
   "source": [
    "model6.coef_"
   ]
  },
  {
   "cell_type": "code",
   "execution_count": null,
   "id": "96f55801",
   "metadata": {},
   "outputs": [],
   "source": []
  }
 ],
 "metadata": {
  "kernelspec": {
   "display_name": "Python 3 (ipykernel)",
   "language": "python",
   "name": "python3"
  },
  "language_info": {
   "codemirror_mode": {
    "name": "ipython",
    "version": 3
   },
   "file_extension": ".py",
   "mimetype": "text/x-python",
   "name": "python",
   "nbconvert_exporter": "python",
   "pygments_lexer": "ipython3",
   "version": "3.12.10"
  }
 },
 "nbformat": 4,
 "nbformat_minor": 5
}
