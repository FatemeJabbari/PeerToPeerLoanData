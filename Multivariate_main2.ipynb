{
 "cells": [
  {
   "cell_type": "code",
   "execution_count": 1,
   "id": "185bba76",
   "metadata": {},
   "outputs": [],
   "source": [
    "import numpy as np \n",
    "import pandas as pd\n",
    "import matplotlib.pyplot as plt \n",
    "import seaborn as sb \n",
    "import numpy_financial as npf\n",
    "from sklearn.metrics import confusion_matrix, accuracy_score"
   ]
  },
  {
   "cell_type": "code",
   "execution_count": 2,
   "id": "845076ed",
   "metadata": {},
   "outputs": [],
   "source": [
    "from scipy.stats import spearmanr\n"
   ]
  },
  {
   "cell_type": "code",
   "execution_count": 3,
   "id": "6294f268",
   "metadata": {},
   "outputs": [
    {
     "data": {
      "text/html": [
       "<div>\n",
       "<style scoped>\n",
       "    .dataframe tbody tr th:only-of-type {\n",
       "        vertical-align: middle;\n",
       "    }\n",
       "\n",
       "    .dataframe tbody tr th {\n",
       "        vertical-align: top;\n",
       "    }\n",
       "\n",
       "    .dataframe thead th {\n",
       "        text-align: right;\n",
       "    }\n",
       "</style>\n",
       "<table border=\"1\" class=\"dataframe\">\n",
       "  <thead>\n",
       "    <tr style=\"text-align: right;\">\n",
       "      <th></th>\n",
       "      <th>ListingKey</th>\n",
       "      <th>ListingNumber</th>\n",
       "      <th>ListingCreationDate</th>\n",
       "      <th>CreditGrade</th>\n",
       "      <th>Term</th>\n",
       "      <th>LoanStatus</th>\n",
       "      <th>ClosedDate</th>\n",
       "      <th>BorrowerAPR</th>\n",
       "      <th>BorrowerRate</th>\n",
       "      <th>LenderYield</th>\n",
       "      <th>...</th>\n",
       "      <th>LP_ServiceFees</th>\n",
       "      <th>LP_CollectionFees</th>\n",
       "      <th>LP_GrossPrincipalLoss</th>\n",
       "      <th>LP_NetPrincipalLoss</th>\n",
       "      <th>LP_NonPrincipalRecoverypayments</th>\n",
       "      <th>PercentFunded</th>\n",
       "      <th>Recommendations</th>\n",
       "      <th>InvestmentFromFriendsCount</th>\n",
       "      <th>InvestmentFromFriendsAmount</th>\n",
       "      <th>Investors</th>\n",
       "    </tr>\n",
       "  </thead>\n",
       "  <tbody>\n",
       "    <tr>\n",
       "      <th>0</th>\n",
       "      <td>1021339766868145413AB3B</td>\n",
       "      <td>193129</td>\n",
       "      <td>09:29.3</td>\n",
       "      <td>C</td>\n",
       "      <td>36</td>\n",
       "      <td>Completed</td>\n",
       "      <td>8/14/2009 0:00</td>\n",
       "      <td>0.16516</td>\n",
       "      <td>0.1580</td>\n",
       "      <td>0.1380</td>\n",
       "      <td>...</td>\n",
       "      <td>-133.18</td>\n",
       "      <td>0.0</td>\n",
       "      <td>0.0</td>\n",
       "      <td>0.0</td>\n",
       "      <td>0.0</td>\n",
       "      <td>1.0</td>\n",
       "      <td>0</td>\n",
       "      <td>0</td>\n",
       "      <td>0.0</td>\n",
       "      <td>258</td>\n",
       "    </tr>\n",
       "    <tr>\n",
       "      <th>1</th>\n",
       "      <td>10273602499503308B223C1</td>\n",
       "      <td>1209647</td>\n",
       "      <td>28:07.9</td>\n",
       "      <td>NaN</td>\n",
       "      <td>36</td>\n",
       "      <td>Current</td>\n",
       "      <td>NaN</td>\n",
       "      <td>0.12016</td>\n",
       "      <td>0.0920</td>\n",
       "      <td>0.0820</td>\n",
       "      <td>...</td>\n",
       "      <td>0.00</td>\n",
       "      <td>0.0</td>\n",
       "      <td>0.0</td>\n",
       "      <td>0.0</td>\n",
       "      <td>0.0</td>\n",
       "      <td>1.0</td>\n",
       "      <td>0</td>\n",
       "      <td>0</td>\n",
       "      <td>0.0</td>\n",
       "      <td>1</td>\n",
       "    </tr>\n",
       "    <tr>\n",
       "      <th>2</th>\n",
       "      <td>0EE9337825851032864889A</td>\n",
       "      <td>81716</td>\n",
       "      <td>00:47.1</td>\n",
       "      <td>HR</td>\n",
       "      <td>36</td>\n",
       "      <td>Completed</td>\n",
       "      <td>12/17/2009 0:00</td>\n",
       "      <td>0.28269</td>\n",
       "      <td>0.2750</td>\n",
       "      <td>0.2400</td>\n",
       "      <td>...</td>\n",
       "      <td>-24.20</td>\n",
       "      <td>0.0</td>\n",
       "      <td>0.0</td>\n",
       "      <td>0.0</td>\n",
       "      <td>0.0</td>\n",
       "      <td>1.0</td>\n",
       "      <td>0</td>\n",
       "      <td>0</td>\n",
       "      <td>0.0</td>\n",
       "      <td>41</td>\n",
       "    </tr>\n",
       "    <tr>\n",
       "      <th>3</th>\n",
       "      <td>0EF5356002482715299901A</td>\n",
       "      <td>658116</td>\n",
       "      <td>02:35.0</td>\n",
       "      <td>NaN</td>\n",
       "      <td>36</td>\n",
       "      <td>Current</td>\n",
       "      <td>NaN</td>\n",
       "      <td>0.12528</td>\n",
       "      <td>0.0974</td>\n",
       "      <td>0.0874</td>\n",
       "      <td>...</td>\n",
       "      <td>-108.01</td>\n",
       "      <td>0.0</td>\n",
       "      <td>0.0</td>\n",
       "      <td>0.0</td>\n",
       "      <td>0.0</td>\n",
       "      <td>1.0</td>\n",
       "      <td>0</td>\n",
       "      <td>0</td>\n",
       "      <td>0.0</td>\n",
       "      <td>158</td>\n",
       "    </tr>\n",
       "    <tr>\n",
       "      <th>4</th>\n",
       "      <td>0F023589499656230C5E3E2</td>\n",
       "      <td>909464</td>\n",
       "      <td>38:39.1</td>\n",
       "      <td>NaN</td>\n",
       "      <td>36</td>\n",
       "      <td>Current</td>\n",
       "      <td>NaN</td>\n",
       "      <td>0.24614</td>\n",
       "      <td>0.2085</td>\n",
       "      <td>0.1985</td>\n",
       "      <td>...</td>\n",
       "      <td>-60.27</td>\n",
       "      <td>0.0</td>\n",
       "      <td>0.0</td>\n",
       "      <td>0.0</td>\n",
       "      <td>0.0</td>\n",
       "      <td>1.0</td>\n",
       "      <td>0</td>\n",
       "      <td>0</td>\n",
       "      <td>0.0</td>\n",
       "      <td>20</td>\n",
       "    </tr>\n",
       "  </tbody>\n",
       "</table>\n",
       "<p>5 rows × 81 columns</p>\n",
       "</div>"
      ],
      "text/plain": [
       "                ListingKey  ListingNumber ListingCreationDate CreditGrade  \\\n",
       "0  1021339766868145413AB3B         193129             09:29.3           C   \n",
       "1  10273602499503308B223C1        1209647             28:07.9         NaN   \n",
       "2  0EE9337825851032864889A          81716             00:47.1          HR   \n",
       "3  0EF5356002482715299901A         658116             02:35.0         NaN   \n",
       "4  0F023589499656230C5E3E2         909464             38:39.1         NaN   \n",
       "\n",
       "   Term LoanStatus       ClosedDate  BorrowerAPR  BorrowerRate  LenderYield  \\\n",
       "0    36  Completed   8/14/2009 0:00      0.16516        0.1580       0.1380   \n",
       "1    36    Current              NaN      0.12016        0.0920       0.0820   \n",
       "2    36  Completed  12/17/2009 0:00      0.28269        0.2750       0.2400   \n",
       "3    36    Current              NaN      0.12528        0.0974       0.0874   \n",
       "4    36    Current              NaN      0.24614        0.2085       0.1985   \n",
       "\n",
       "   ...  LP_ServiceFees  LP_CollectionFees  LP_GrossPrincipalLoss  \\\n",
       "0  ...         -133.18                0.0                    0.0   \n",
       "1  ...            0.00                0.0                    0.0   \n",
       "2  ...          -24.20                0.0                    0.0   \n",
       "3  ...         -108.01                0.0                    0.0   \n",
       "4  ...          -60.27                0.0                    0.0   \n",
       "\n",
       "   LP_NetPrincipalLoss LP_NonPrincipalRecoverypayments  PercentFunded  \\\n",
       "0                  0.0                             0.0            1.0   \n",
       "1                  0.0                             0.0            1.0   \n",
       "2                  0.0                             0.0            1.0   \n",
       "3                  0.0                             0.0            1.0   \n",
       "4                  0.0                             0.0            1.0   \n",
       "\n",
       "   Recommendations InvestmentFromFriendsCount InvestmentFromFriendsAmount  \\\n",
       "0                0                          0                         0.0   \n",
       "1                0                          0                         0.0   \n",
       "2                0                          0                         0.0   \n",
       "3                0                          0                         0.0   \n",
       "4                0                          0                         0.0   \n",
       "\n",
       "  Investors  \n",
       "0       258  \n",
       "1         1  \n",
       "2        41  \n",
       "3       158  \n",
       "4        20  \n",
       "\n",
       "[5 rows x 81 columns]"
      ]
     },
     "execution_count": 3,
     "metadata": {},
     "output_type": "execute_result"
    }
   ],
   "source": [
    "df= pd.read_csv('downloads/ProsperLoanData.csv')\n",
    "df.head()"
   ]
  },
  {
   "cell_type": "code",
   "execution_count": 4,
   "id": "91a684b4",
   "metadata": {},
   "outputs": [],
   "source": [
    "df1 = df[['BorrowerRate','EstimatedReturn','ProsperRating (numeric)','ListingCategory (numeric)',' IsBorrowerHomeowner','CreditScoreRangeLower',\n",
    "         'OpenCreditLines','InquiriesLast6Months','PublicRecordsLast12Months','BankcardUtilization','DebtToIncomeRatio','StatedMonthlyIncome','LoanOriginalAmount','LoanOriginationDate','LoanStatus']]"
   ]
  },
  {
   "cell_type": "code",
   "execution_count": 5,
   "id": "e6991602",
   "metadata": {},
   "outputs": [],
   "source": [
    "import datetime"
   ]
  },
  {
   "cell_type": "code",
   "execution_count": 6,
   "id": "d7abd860",
   "metadata": {},
   "outputs": [
    {
     "name": "stderr",
     "output_type": "stream",
     "text": [
      "C:\\Users\\JAHANL~1\\AppData\\Local\\Temp/ipykernel_6264/199776526.py:1: SettingWithCopyWarning: \n",
      "A value is trying to be set on a copy of a slice from a DataFrame.\n",
      "Try using .loc[row_indexer,col_indexer] = value instead\n",
      "\n",
      "See the caveats in the documentation: https://pandas.pydata.org/pandas-docs/stable/user_guide/indexing.html#returning-a-view-versus-a-copy\n",
      "  df1['Datetime']= pd.to_datetime(df1['LoanOriginationDate'])\n"
     ]
    }
   ],
   "source": [
    "df1['Datetime']= pd.to_datetime(df1['LoanOriginationDate'])\n"
   ]
  },
  {
   "cell_type": "code",
   "execution_count": 7,
   "id": "e815652b",
   "metadata": {},
   "outputs": [],
   "source": [
    "cutoff_date ='2009-12-31'\n",
    "df1= df1.loc[df1['Datetime'] >= cutoff_date]"
   ]
  },
  {
   "cell_type": "code",
   "execution_count": 8,
   "id": "13c1283b",
   "metadata": {},
   "outputs": [],
   "source": [
    "df1= df1.drop(['Datetime'],axis=1)\n"
   ]
  },
  {
   "cell_type": "code",
   "execution_count": 9,
   "id": "4211618d",
   "metadata": {},
   "outputs": [
    {
     "data": {
      "text/plain": [
       "1           3/3/2014 0:00\n",
       "3          11/1/2012 0:00\n",
       "4          9/20/2013 0:00\n",
       "5         12/24/2013 0:00\n",
       "6          4/18/2013 0:00\n",
       "               ...       \n",
       "113932     4/22/2013 0:00\n",
       "113933     11/7/2011 0:00\n",
       "113934    12/23/2013 0:00\n",
       "113935    11/21/2011 0:00\n",
       "113936     1/21/2014 0:00\n",
       "Name: LoanOriginationDate, Length: 83024, dtype: object"
      ]
     },
     "execution_count": 9,
     "metadata": {},
     "output_type": "execute_result"
    }
   ],
   "source": [
    "df1['LoanOriginationDate']"
   ]
  },
  {
   "cell_type": "code",
   "execution_count": 10,
   "id": "b4c16679",
   "metadata": {},
   "outputs": [],
   "source": [
    "df1.drop(df1.index[np.where(df1['LoanStatus'] == 'Current')], inplace=True)\n",
    "df1.drop(df1.index[np.where(df1['LoanStatus'] == 'Past Due (1-15 days)')], inplace=True)\n",
    "df1.drop(df1.index[np.where(df1['LoanStatus'] == 'Past Due (16-30 days)')], inplace=True)\n",
    "df1.drop(df1.index[np.where(df1['LoanStatus'] == 'Past Due (61-90 days)')], inplace=True)\n",
    "df1.drop(df1.index[np.where(df1['LoanStatus'] == 'Past Due (31-60 days)')], inplace=True)\n",
    "df1.drop(df1.index[np.where(df1['LoanStatus'] == 'Past Due (91-120 days)')], inplace=True)\n",
    "df1.drop(df1.index[np.where(df1['LoanStatus'] == 'Past Due (>120 days)')], inplace=True)\n",
    "df1.drop(df1.index[np.where(df1['LoanStatus'] == 'FinalPaymentInProgress')], inplace=True)\n"
   ]
  },
  {
   "cell_type": "code",
   "execution_count": 11,
   "id": "7fe63fbd",
   "metadata": {},
   "outputs": [
    {
     "data": {
      "text/plain": [
       "Int64Index([], dtype='int64')"
      ]
     },
     "execution_count": 11,
     "metadata": {},
     "output_type": "execute_result"
    }
   ],
   "source": [
    "df1.index[np.where(df1['LoanOriginationDate']=='2012-04-19 00:00:00')]"
   ]
  },
  {
   "cell_type": "code",
   "execution_count": 12,
   "id": "901b8172",
   "metadata": {},
   "outputs": [],
   "source": [
    "df1=df1.dropna(subset=['EstimatedReturn', 'DebtToIncomeRatio', 'ProsperRating (numeric)'])"
   ]
  },
  {
   "cell_type": "code",
   "execution_count": 13,
   "id": "dbd8602d",
   "metadata": {},
   "outputs": [
    {
     "data": {
      "text/plain": [
       "Index(['BorrowerRate', 'EstimatedReturn', 'ProsperRating (numeric)',\n",
       "       'ListingCategory (numeric)', ' IsBorrowerHomeowner',\n",
       "       'CreditScoreRangeLower', 'OpenCreditLines', 'InquiriesLast6Months',\n",
       "       'PublicRecordsLast12Months', 'BankcardUtilization', 'DebtToIncomeRatio',\n",
       "       'StatedMonthlyIncome', 'LoanOriginalAmount', 'LoanOriginationDate',\n",
       "       'LoanStatus'],\n",
       "      dtype='object')"
      ]
     },
     "execution_count": 13,
     "metadata": {},
     "output_type": "execute_result"
    }
   ],
   "source": [
    "df1.columns\n"
   ]
  },
  {
   "cell_type": "code",
   "execution_count": 14,
   "id": "58cbcf80",
   "metadata": {},
   "outputs": [],
   "source": [
    "correlation_matrix = df1.corr(method='spearman')\n"
   ]
  },
  {
   "cell_type": "code",
   "execution_count": 15,
   "id": "6055b170",
   "metadata": {},
   "outputs": [
    {
     "data": {
      "text/html": [
       "<div>\n",
       "<style scoped>\n",
       "    .dataframe tbody tr th:only-of-type {\n",
       "        vertical-align: middle;\n",
       "    }\n",
       "\n",
       "    .dataframe tbody tr th {\n",
       "        vertical-align: top;\n",
       "    }\n",
       "\n",
       "    .dataframe thead th {\n",
       "        text-align: right;\n",
       "    }\n",
       "</style>\n",
       "<table border=\"1\" class=\"dataframe\">\n",
       "  <thead>\n",
       "    <tr style=\"text-align: right;\">\n",
       "      <th></th>\n",
       "      <th>BorrowerRate</th>\n",
       "      <th>EstimatedReturn</th>\n",
       "      <th>ProsperRating (numeric)</th>\n",
       "      <th>ListingCategory (numeric)</th>\n",
       "      <th>IsBorrowerHomeowner</th>\n",
       "      <th>CreditScoreRangeLower</th>\n",
       "      <th>OpenCreditLines</th>\n",
       "      <th>InquiriesLast6Months</th>\n",
       "      <th>PublicRecordsLast12Months</th>\n",
       "      <th>BankcardUtilization</th>\n",
       "      <th>DebtToIncomeRatio</th>\n",
       "      <th>StatedMonthlyIncome</th>\n",
       "      <th>LoanOriginalAmount</th>\n",
       "    </tr>\n",
       "  </thead>\n",
       "  <tbody>\n",
       "    <tr>\n",
       "      <th>BorrowerRate</th>\n",
       "      <td>1.000000</td>\n",
       "      <td>0.803052</td>\n",
       "      <td>-0.949105</td>\n",
       "      <td>0.022596</td>\n",
       "      <td>-0.072842</td>\n",
       "      <td>-0.562523</td>\n",
       "      <td>-0.071473</td>\n",
       "      <td>0.290536</td>\n",
       "      <td>0.041726</td>\n",
       "      <td>0.310394</td>\n",
       "      <td>0.246873</td>\n",
       "      <td>-0.225836</td>\n",
       "      <td>-0.277728</td>\n",
       "    </tr>\n",
       "    <tr>\n",
       "      <th>EstimatedReturn</th>\n",
       "      <td>0.803052</td>\n",
       "      <td>1.000000</td>\n",
       "      <td>-0.641568</td>\n",
       "      <td>0.000714</td>\n",
       "      <td>-0.058546</td>\n",
       "      <td>-0.428426</td>\n",
       "      <td>-0.058554</td>\n",
       "      <td>0.175407</td>\n",
       "      <td>0.036701</td>\n",
       "      <td>0.249317</td>\n",
       "      <td>0.194264</td>\n",
       "      <td>-0.176469</td>\n",
       "      <td>-0.064896</td>\n",
       "    </tr>\n",
       "    <tr>\n",
       "      <th>ProsperRating (numeric)</th>\n",
       "      <td>-0.949105</td>\n",
       "      <td>-0.641568</td>\n",
       "      <td>1.000000</td>\n",
       "      <td>-0.031544</td>\n",
       "      <td>0.084883</td>\n",
       "      <td>0.594665</td>\n",
       "      <td>0.065980</td>\n",
       "      <td>-0.308888</td>\n",
       "      <td>-0.040130</td>\n",
       "      <td>-0.323398</td>\n",
       "      <td>-0.261189</td>\n",
       "      <td>0.232813</td>\n",
       "      <td>0.360201</td>\n",
       "    </tr>\n",
       "    <tr>\n",
       "      <th>ListingCategory (numeric)</th>\n",
       "      <td>0.022596</td>\n",
       "      <td>0.000714</td>\n",
       "      <td>-0.031544</td>\n",
       "      <td>1.000000</td>\n",
       "      <td>-0.055961</td>\n",
       "      <td>0.007886</td>\n",
       "      <td>-0.171117</td>\n",
       "      <td>0.035017</td>\n",
       "      <td>0.025247</td>\n",
       "      <td>-0.110517</td>\n",
       "      <td>-0.138749</td>\n",
       "      <td>-0.043689</td>\n",
       "      <td>-0.200150</td>\n",
       "    </tr>\n",
       "    <tr>\n",
       "      <th>IsBorrowerHomeowner</th>\n",
       "      <td>-0.072842</td>\n",
       "      <td>-0.058546</td>\n",
       "      <td>0.084883</td>\n",
       "      <td>-0.055961</td>\n",
       "      <td>1.000000</td>\n",
       "      <td>0.268686</td>\n",
       "      <td>0.315051</td>\n",
       "      <td>0.021975</td>\n",
       "      <td>-0.014251</td>\n",
       "      <td>0.138850</td>\n",
       "      <td>0.032531</td>\n",
       "      <td>0.318614</td>\n",
       "      <td>0.118856</td>\n",
       "    </tr>\n",
       "    <tr>\n",
       "      <th>CreditScoreRangeLower</th>\n",
       "      <td>-0.562523</td>\n",
       "      <td>-0.428426</td>\n",
       "      <td>0.594665</td>\n",
       "      <td>0.007886</td>\n",
       "      <td>0.268686</td>\n",
       "      <td>1.000000</td>\n",
       "      <td>0.094023</td>\n",
       "      <td>-0.110767</td>\n",
       "      <td>-0.053842</td>\n",
       "      <td>-0.434528</td>\n",
       "      <td>-0.091753</td>\n",
       "      <td>0.163236</td>\n",
       "      <td>0.306675</td>\n",
       "    </tr>\n",
       "    <tr>\n",
       "      <th>OpenCreditLines</th>\n",
       "      <td>-0.071473</td>\n",
       "      <td>-0.058554</td>\n",
       "      <td>0.065980</td>\n",
       "      <td>-0.171117</td>\n",
       "      <td>0.315051</td>\n",
       "      <td>0.094023</td>\n",
       "      <td>1.000000</td>\n",
       "      <td>0.062760</td>\n",
       "      <td>-0.077921</td>\n",
       "      <td>0.178479</td>\n",
       "      <td>0.429445</td>\n",
       "      <td>0.302880</td>\n",
       "      <td>0.170726</td>\n",
       "    </tr>\n",
       "    <tr>\n",
       "      <th>InquiriesLast6Months</th>\n",
       "      <td>0.290536</td>\n",
       "      <td>0.175407</td>\n",
       "      <td>-0.308888</td>\n",
       "      <td>0.035017</td>\n",
       "      <td>0.021975</td>\n",
       "      <td>-0.110767</td>\n",
       "      <td>0.062760</td>\n",
       "      <td>1.000000</td>\n",
       "      <td>0.002569</td>\n",
       "      <td>-0.073415</td>\n",
       "      <td>-0.060760</td>\n",
       "      <td>0.092347</td>\n",
       "      <td>-0.098400</td>\n",
       "    </tr>\n",
       "    <tr>\n",
       "      <th>PublicRecordsLast12Months</th>\n",
       "      <td>0.041726</td>\n",
       "      <td>0.036701</td>\n",
       "      <td>-0.040130</td>\n",
       "      <td>0.025247</td>\n",
       "      <td>-0.014251</td>\n",
       "      <td>-0.053842</td>\n",
       "      <td>-0.077921</td>\n",
       "      <td>0.002569</td>\n",
       "      <td>1.000000</td>\n",
       "      <td>-0.035920</td>\n",
       "      <td>-0.055030</td>\n",
       "      <td>-0.024382</td>\n",
       "      <td>-0.036026</td>\n",
       "    </tr>\n",
       "    <tr>\n",
       "      <th>BankcardUtilization</th>\n",
       "      <td>0.310394</td>\n",
       "      <td>0.249317</td>\n",
       "      <td>-0.323398</td>\n",
       "      <td>-0.110517</td>\n",
       "      <td>0.138850</td>\n",
       "      <td>-0.434528</td>\n",
       "      <td>0.178479</td>\n",
       "      <td>-0.073415</td>\n",
       "      <td>-0.035920</td>\n",
       "      <td>1.000000</td>\n",
       "      <td>0.217414</td>\n",
       "      <td>0.108418</td>\n",
       "      <td>-0.094529</td>\n",
       "    </tr>\n",
       "    <tr>\n",
       "      <th>DebtToIncomeRatio</th>\n",
       "      <td>0.246873</td>\n",
       "      <td>0.194264</td>\n",
       "      <td>-0.261189</td>\n",
       "      <td>-0.138749</td>\n",
       "      <td>0.032531</td>\n",
       "      <td>-0.091753</td>\n",
       "      <td>0.429445</td>\n",
       "      <td>-0.060760</td>\n",
       "      <td>-0.055030</td>\n",
       "      <td>0.217414</td>\n",
       "      <td>1.000000</td>\n",
       "      <td>-0.312640</td>\n",
       "      <td>0.090904</td>\n",
       "    </tr>\n",
       "    <tr>\n",
       "      <th>StatedMonthlyIncome</th>\n",
       "      <td>-0.225836</td>\n",
       "      <td>-0.176469</td>\n",
       "      <td>0.232813</td>\n",
       "      <td>-0.043689</td>\n",
       "      <td>0.318614</td>\n",
       "      <td>0.163236</td>\n",
       "      <td>0.302880</td>\n",
       "      <td>0.092347</td>\n",
       "      <td>-0.024382</td>\n",
       "      <td>0.108418</td>\n",
       "      <td>-0.312640</td>\n",
       "      <td>1.000000</td>\n",
       "      <td>0.296574</td>\n",
       "    </tr>\n",
       "    <tr>\n",
       "      <th>LoanOriginalAmount</th>\n",
       "      <td>-0.277728</td>\n",
       "      <td>-0.064896</td>\n",
       "      <td>0.360201</td>\n",
       "      <td>-0.200150</td>\n",
       "      <td>0.118856</td>\n",
       "      <td>0.306675</td>\n",
       "      <td>0.170726</td>\n",
       "      <td>-0.098400</td>\n",
       "      <td>-0.036026</td>\n",
       "      <td>-0.094529</td>\n",
       "      <td>0.090904</td>\n",
       "      <td>0.296574</td>\n",
       "      <td>1.000000</td>\n",
       "    </tr>\n",
       "  </tbody>\n",
       "</table>\n",
       "</div>"
      ],
      "text/plain": [
       "                           BorrowerRate  EstimatedReturn  \\\n",
       "BorrowerRate                   1.000000         0.803052   \n",
       "EstimatedReturn                0.803052         1.000000   \n",
       "ProsperRating (numeric)       -0.949105        -0.641568   \n",
       "ListingCategory (numeric)      0.022596         0.000714   \n",
       " IsBorrowerHomeowner          -0.072842        -0.058546   \n",
       "CreditScoreRangeLower         -0.562523        -0.428426   \n",
       "OpenCreditLines               -0.071473        -0.058554   \n",
       "InquiriesLast6Months           0.290536         0.175407   \n",
       "PublicRecordsLast12Months      0.041726         0.036701   \n",
       "BankcardUtilization            0.310394         0.249317   \n",
       "DebtToIncomeRatio              0.246873         0.194264   \n",
       "StatedMonthlyIncome           -0.225836        -0.176469   \n",
       "LoanOriginalAmount            -0.277728        -0.064896   \n",
       "\n",
       "                           ProsperRating (numeric)  ListingCategory (numeric)  \\\n",
       "BorrowerRate                             -0.949105                   0.022596   \n",
       "EstimatedReturn                          -0.641568                   0.000714   \n",
       "ProsperRating (numeric)                   1.000000                  -0.031544   \n",
       "ListingCategory (numeric)                -0.031544                   1.000000   \n",
       " IsBorrowerHomeowner                      0.084883                  -0.055961   \n",
       "CreditScoreRangeLower                     0.594665                   0.007886   \n",
       "OpenCreditLines                           0.065980                  -0.171117   \n",
       "InquiriesLast6Months                     -0.308888                   0.035017   \n",
       "PublicRecordsLast12Months                -0.040130                   0.025247   \n",
       "BankcardUtilization                      -0.323398                  -0.110517   \n",
       "DebtToIncomeRatio                        -0.261189                  -0.138749   \n",
       "StatedMonthlyIncome                       0.232813                  -0.043689   \n",
       "LoanOriginalAmount                        0.360201                  -0.200150   \n",
       "\n",
       "                            IsBorrowerHomeowner  CreditScoreRangeLower  \\\n",
       "BorrowerRate                          -0.072842              -0.562523   \n",
       "EstimatedReturn                       -0.058546              -0.428426   \n",
       "ProsperRating (numeric)                0.084883               0.594665   \n",
       "ListingCategory (numeric)             -0.055961               0.007886   \n",
       " IsBorrowerHomeowner                   1.000000               0.268686   \n",
       "CreditScoreRangeLower                  0.268686               1.000000   \n",
       "OpenCreditLines                        0.315051               0.094023   \n",
       "InquiriesLast6Months                   0.021975              -0.110767   \n",
       "PublicRecordsLast12Months             -0.014251              -0.053842   \n",
       "BankcardUtilization                    0.138850              -0.434528   \n",
       "DebtToIncomeRatio                      0.032531              -0.091753   \n",
       "StatedMonthlyIncome                    0.318614               0.163236   \n",
       "LoanOriginalAmount                     0.118856               0.306675   \n",
       "\n",
       "                           OpenCreditLines  InquiriesLast6Months  \\\n",
       "BorrowerRate                     -0.071473              0.290536   \n",
       "EstimatedReturn                  -0.058554              0.175407   \n",
       "ProsperRating (numeric)           0.065980             -0.308888   \n",
       "ListingCategory (numeric)        -0.171117              0.035017   \n",
       " IsBorrowerHomeowner              0.315051              0.021975   \n",
       "CreditScoreRangeLower             0.094023             -0.110767   \n",
       "OpenCreditLines                   1.000000              0.062760   \n",
       "InquiriesLast6Months              0.062760              1.000000   \n",
       "PublicRecordsLast12Months        -0.077921              0.002569   \n",
       "BankcardUtilization               0.178479             -0.073415   \n",
       "DebtToIncomeRatio                 0.429445             -0.060760   \n",
       "StatedMonthlyIncome               0.302880              0.092347   \n",
       "LoanOriginalAmount                0.170726             -0.098400   \n",
       "\n",
       "                           PublicRecordsLast12Months  BankcardUtilization  \\\n",
       "BorrowerRate                                0.041726             0.310394   \n",
       "EstimatedReturn                             0.036701             0.249317   \n",
       "ProsperRating (numeric)                    -0.040130            -0.323398   \n",
       "ListingCategory (numeric)                   0.025247            -0.110517   \n",
       " IsBorrowerHomeowner                       -0.014251             0.138850   \n",
       "CreditScoreRangeLower                      -0.053842            -0.434528   \n",
       "OpenCreditLines                            -0.077921             0.178479   \n",
       "InquiriesLast6Months                        0.002569            -0.073415   \n",
       "PublicRecordsLast12Months                   1.000000            -0.035920   \n",
       "BankcardUtilization                        -0.035920             1.000000   \n",
       "DebtToIncomeRatio                          -0.055030             0.217414   \n",
       "StatedMonthlyIncome                        -0.024382             0.108418   \n",
       "LoanOriginalAmount                         -0.036026            -0.094529   \n",
       "\n",
       "                           DebtToIncomeRatio  StatedMonthlyIncome  \\\n",
       "BorrowerRate                        0.246873            -0.225836   \n",
       "EstimatedReturn                     0.194264            -0.176469   \n",
       "ProsperRating (numeric)            -0.261189             0.232813   \n",
       "ListingCategory (numeric)          -0.138749            -0.043689   \n",
       " IsBorrowerHomeowner                0.032531             0.318614   \n",
       "CreditScoreRangeLower              -0.091753             0.163236   \n",
       "OpenCreditLines                     0.429445             0.302880   \n",
       "InquiriesLast6Months               -0.060760             0.092347   \n",
       "PublicRecordsLast12Months          -0.055030            -0.024382   \n",
       "BankcardUtilization                 0.217414             0.108418   \n",
       "DebtToIncomeRatio                   1.000000            -0.312640   \n",
       "StatedMonthlyIncome                -0.312640             1.000000   \n",
       "LoanOriginalAmount                  0.090904             0.296574   \n",
       "\n",
       "                           LoanOriginalAmount  \n",
       "BorrowerRate                        -0.277728  \n",
       "EstimatedReturn                     -0.064896  \n",
       "ProsperRating (numeric)              0.360201  \n",
       "ListingCategory (numeric)           -0.200150  \n",
       " IsBorrowerHomeowner                 0.118856  \n",
       "CreditScoreRangeLower                0.306675  \n",
       "OpenCreditLines                      0.170726  \n",
       "InquiriesLast6Months                -0.098400  \n",
       "PublicRecordsLast12Months           -0.036026  \n",
       "BankcardUtilization                 -0.094529  \n",
       "DebtToIncomeRatio                    0.090904  \n",
       "StatedMonthlyIncome                  0.296574  \n",
       "LoanOriginalAmount                   1.000000  "
      ]
     },
     "execution_count": 15,
     "metadata": {},
     "output_type": "execute_result"
    }
   ],
   "source": [
    "correlation_matrix"
   ]
  },
  {
   "cell_type": "code",
   "execution_count": 16,
   "id": "1c4d092f",
   "metadata": {},
   "outputs": [
    {
     "data": {
      "text/plain": [
       "<AxesSubplot:>"
      ]
     },
     "execution_count": 16,
     "metadata": {},
     "output_type": "execute_result"
    },
    {
     "data": {
      "image/png": "[encoded data removed]",
      "text/plain": [
       "<Figure size 432x288 with 2 Axes>"
      ]
     },
     "metadata": {
      "needs_background": "light"
     },
     "output_type": "display_data"
    }
   ],
   "source": [
    "sb.heatmap(correlation_matrix, annot=True)"
   ]
  },
  {
   "cell_type": "code",
   "execution_count": 17,
   "id": "7a21c96d",
   "metadata": {},
   "outputs": [],
   "source": [
    "correlation_with_a = correlation_matrix['EstimatedReturn']\n"
   ]
  },
  {
   "cell_type": "code",
   "execution_count": 18,
   "id": "6e8a5d1a",
   "metadata": {},
   "outputs": [
    {
     "data": {
      "text/plain": [
       "BorrowerRate                 0.803052\n",
       "EstimatedReturn              1.000000\n",
       "ProsperRating (numeric)     -0.641568\n",
       "ListingCategory (numeric)    0.000714\n",
       " IsBorrowerHomeowner        -0.058546\n",
       "CreditScoreRangeLower       -0.428426\n",
       "OpenCreditLines             -0.058554\n",
       "InquiriesLast6Months         0.175407\n",
       "PublicRecordsLast12Months    0.036701\n",
       "BankcardUtilization          0.249317\n",
       "DebtToIncomeRatio            0.194264\n",
       "StatedMonthlyIncome         -0.176469\n",
       "LoanOriginalAmount          -0.064896\n",
       "Name: EstimatedReturn, dtype: float64"
      ]
     },
     "execution_count": 18,
     "metadata": {},
     "output_type": "execute_result"
    }
   ],
   "source": [
    "correlation_with_a"
   ]
  },
  {
   "cell_type": "code",
   "execution_count": 19,
   "id": "985c5b0a",
   "metadata": {},
   "outputs": [],
   "source": [
    "sorted_variables = correlation_with_a.abs().sort_values(ascending=False)\n"
   ]
  },
  {
   "cell_type": "code",
   "execution_count": 20,
   "id": "2601efa0",
   "metadata": {},
   "outputs": [],
   "source": [
    "ranked_data = pd.DataFrame()\n",
    "for col in sorted_variables.index:\n",
    "    ranked_data[col] = df[col].rank()"
   ]
  },
  {
   "cell_type": "code",
   "execution_count": 21,
   "id": "12784ded",
   "metadata": {},
   "outputs": [
    {
     "data": {
      "text/html": [
       "<div>\n",
       "<style scoped>\n",
       "    .dataframe tbody tr th:only-of-type {\n",
       "        vertical-align: middle;\n",
       "    }\n",
       "\n",
       "    .dataframe tbody tr th {\n",
       "        vertical-align: top;\n",
       "    }\n",
       "\n",
       "    .dataframe thead th {\n",
       "        text-align: right;\n",
       "    }\n",
       "</style>\n",
       "<table border=\"1\" class=\"dataframe\">\n",
       "  <thead>\n",
       "    <tr style=\"text-align: right;\">\n",
       "      <th></th>\n",
       "      <th>EstimatedReturn</th>\n",
       "      <th>BorrowerRate</th>\n",
       "      <th>ProsperRating (numeric)</th>\n",
       "      <th>CreditScoreRangeLower</th>\n",
       "      <th>BankcardUtilization</th>\n",
       "      <th>DebtToIncomeRatio</th>\n",
       "      <th>StatedMonthlyIncome</th>\n",
       "      <th>InquiriesLast6Months</th>\n",
       "      <th>LoanOriginalAmount</th>\n",
       "      <th>OpenCreditLines</th>\n",
       "      <th>IsBorrowerHomeowner</th>\n",
       "      <th>PublicRecordsLast12Months</th>\n",
       "      <th>ListingCategory (numeric)</th>\n",
       "    </tr>\n",
       "  </thead>\n",
       "  <tbody>\n",
       "    <tr>\n",
       "      <th>0</th>\n",
       "      <td>NaN</td>\n",
       "      <td>43031.5</td>\n",
       "      <td>NaN</td>\n",
       "      <td>20639.0</td>\n",
       "      <td>3391.5</td>\n",
       "      <td>35353.5</td>\n",
       "      <td>26597.5</td>\n",
       "      <td>96907.0</td>\n",
       "      <td>70764.0</td>\n",
       "      <td>13232.0</td>\n",
       "      <td>85198.5</td>\n",
       "      <td>52471.0</td>\n",
       "      <td>8483.0</td>\n",
       "    </tr>\n",
       "    <tr>\n",
       "      <th>1</th>\n",
       "      <td>5117.5</td>\n",
       "      <td>8925.0</td>\n",
       "      <td>72206.0</td>\n",
       "      <td>51350.5</td>\n",
       "      <td>19443.5</td>\n",
       "      <td>39266.5</td>\n",
       "      <td>77342.5</td>\n",
       "      <td>96907.0</td>\n",
       "      <td>77407.5</td>\n",
       "      <td>89768.0</td>\n",
       "      <td>28230.0</td>\n",
       "      <td>52471.0</td>\n",
       "      <td>78990.0</td>\n",
       "    </tr>\n",
       "    <tr>\n",
       "      <th>2</th>\n",
       "      <td>NaN</td>\n",
       "      <td>94058.0</td>\n",
       "      <td>NaN</td>\n",
       "      <td>489.5</td>\n",
       "      <td>NaN</td>\n",
       "      <td>5082.0</td>\n",
       "      <td>10685.5</td>\n",
       "      <td>25003.0</td>\n",
       "      <td>23724.5</td>\n",
       "      <td>NaN</td>\n",
       "      <td>28230.0</td>\n",
       "      <td>NaN</td>\n",
       "      <td>8483.0</td>\n",
       "    </tr>\n",
       "    <tr>\n",
       "      <th>3</th>\n",
       "      <td>8093.0</td>\n",
       "      <td>10949.5</td>\n",
       "      <td>72206.0</td>\n",
       "      <td>109809.5</td>\n",
       "      <td>9056.0</td>\n",
       "      <td>28382.5</td>\n",
       "      <td>22075.0</td>\n",
       "      <td>25003.0</td>\n",
       "      <td>77407.5</td>\n",
       "      <td>20353.5</td>\n",
       "      <td>85198.5</td>\n",
       "      <td>52471.0</td>\n",
       "      <td>111309.5</td>\n",
       "    </tr>\n",
       "    <tr>\n",
       "      <th>4</th>\n",
       "      <td>41644.0</td>\n",
       "      <td>69182.0</td>\n",
       "      <td>23867.5</td>\n",
       "      <td>51350.5</td>\n",
       "      <td>76193.5</td>\n",
       "      <td>65361.0</td>\n",
       "      <td>102033.0</td>\n",
       "      <td>64316.0</td>\n",
       "      <td>96790.0</td>\n",
       "      <td>101593.0</td>\n",
       "      <td>85198.5</td>\n",
       "      <td>52471.0</td>\n",
       "      <td>78990.0</td>\n",
       "    </tr>\n",
       "    <tr>\n",
       "      <th>...</th>\n",
       "      <td>...</td>\n",
       "      <td>...</td>\n",
       "      <td>...</td>\n",
       "      <td>...</td>\n",
       "      <td>...</td>\n",
       "      <td>...</td>\n",
       "      <td>...</td>\n",
       "      <td>...</td>\n",
       "      <td>...</td>\n",
       "      <td>...</td>\n",
       "      <td>...</td>\n",
       "      <td>...</td>\n",
       "      <td>...</td>\n",
       "    </tr>\n",
       "    <tr>\n",
       "      <th>113932</th>\n",
       "      <td>44559.5</td>\n",
       "      <td>58353.0</td>\n",
       "      <td>40177.0</td>\n",
       "      <td>67332.0</td>\n",
       "      <td>75038.5</td>\n",
       "      <td>21496.0</td>\n",
       "      <td>50846.0</td>\n",
       "      <td>25003.0</td>\n",
       "      <td>77407.5</td>\n",
       "      <td>57613.5</td>\n",
       "      <td>85198.5</td>\n",
       "      <td>52471.0</td>\n",
       "      <td>46119.5</td>\n",
       "    </tr>\n",
       "    <tr>\n",
       "      <th>113933</th>\n",
       "      <td>29222.0</td>\n",
       "      <td>17979.5</td>\n",
       "      <td>72206.0</td>\n",
       "      <td>67332.0</td>\n",
       "      <td>62935.5</td>\n",
       "      <td>15677.5</td>\n",
       "      <td>94779.0</td>\n",
       "      <td>64316.0</td>\n",
       "      <td>9507.0</td>\n",
       "      <td>85308.0</td>\n",
       "      <td>85198.5</td>\n",
       "      <td>52471.0</td>\n",
       "      <td>100865.5</td>\n",
       "    </tr>\n",
       "    <tr>\n",
       "      <th>113934</th>\n",
       "      <td>35519.5</td>\n",
       "      <td>72285.0</td>\n",
       "      <td>23867.5</td>\n",
       "      <td>67332.0</td>\n",
       "      <td>67369.5</td>\n",
       "      <td>100337.0</td>\n",
       "      <td>22075.0</td>\n",
       "      <td>64316.0</td>\n",
       "      <td>77407.5</td>\n",
       "      <td>79919.5</td>\n",
       "      <td>85198.5</td>\n",
       "      <td>52471.0</td>\n",
       "      <td>46119.5</td>\n",
       "    </tr>\n",
       "    <tr>\n",
       "      <th>113935</th>\n",
       "      <td>83658.5</td>\n",
       "      <td>89009.0</td>\n",
       "      <td>40177.0</td>\n",
       "      <td>51350.5</td>\n",
       "      <td>62935.5</td>\n",
       "      <td>98939.5</td>\n",
       "      <td>41611.0</td>\n",
       "      <td>64316.0</td>\n",
       "      <td>96790.0</td>\n",
       "      <td>73542.5</td>\n",
       "      <td>85198.5</td>\n",
       "      <td>52471.0</td>\n",
       "      <td>78990.0</td>\n",
       "    </tr>\n",
       "    <tr>\n",
       "      <th>113936</th>\n",
       "      <td>9195.0</td>\n",
       "      <td>14099.5</td>\n",
       "      <td>72206.0</td>\n",
       "      <td>51350.5</td>\n",
       "      <td>75038.5</td>\n",
       "      <td>56670.5</td>\n",
       "      <td>55345.0</td>\n",
       "      <td>25003.0</td>\n",
       "      <td>9507.0</td>\n",
       "      <td>57613.5</td>\n",
       "      <td>28230.0</td>\n",
       "      <td>52471.0</td>\n",
       "      <td>46119.5</td>\n",
       "    </tr>\n",
       "  </tbody>\n",
       "</table>\n",
       "<p>113937 rows × 13 columns</p>\n",
       "</div>"
      ],
      "text/plain": [
       "        EstimatedReturn  BorrowerRate  ProsperRating (numeric)  \\\n",
       "0                   NaN       43031.5                      NaN   \n",
       "1                5117.5        8925.0                  72206.0   \n",
       "2                   NaN       94058.0                      NaN   \n",
       "3                8093.0       10949.5                  72206.0   \n",
       "4               41644.0       69182.0                  23867.5   \n",
       "...                 ...           ...                      ...   \n",
       "113932          44559.5       58353.0                  40177.0   \n",
       "113933          29222.0       17979.5                  72206.0   \n",
       "113934          35519.5       72285.0                  23867.5   \n",
       "113935          83658.5       89009.0                  40177.0   \n",
       "113936           9195.0       14099.5                  72206.0   \n",
       "\n",
       "        CreditScoreRangeLower  BankcardUtilization  DebtToIncomeRatio  \\\n",
       "0                     20639.0               3391.5            35353.5   \n",
       "1                     51350.5              19443.5            39266.5   \n",
       "2                       489.5                  NaN             5082.0   \n",
       "3                    109809.5               9056.0            28382.5   \n",
       "4                     51350.5              76193.5            65361.0   \n",
       "...                       ...                  ...                ...   \n",
       "113932                67332.0              75038.5            21496.0   \n",
       "113933                67332.0              62935.5            15677.5   \n",
       "113934                67332.0              67369.5           100337.0   \n",
       "113935                51350.5              62935.5            98939.5   \n",
       "113936                51350.5              75038.5            56670.5   \n",
       "\n",
       "        StatedMonthlyIncome  InquiriesLast6Months  LoanOriginalAmount  \\\n",
       "0                   26597.5               96907.0             70764.0   \n",
       "1                   77342.5               96907.0             77407.5   \n",
       "2                   10685.5               25003.0             23724.5   \n",
       "3                   22075.0               25003.0             77407.5   \n",
       "4                  102033.0               64316.0             96790.0   \n",
       "...                     ...                   ...                 ...   \n",
       "113932              50846.0               25003.0             77407.5   \n",
       "113933              94779.0               64316.0              9507.0   \n",
       "113934              22075.0               64316.0             77407.5   \n",
       "113935              41611.0               64316.0             96790.0   \n",
       "113936              55345.0               25003.0              9507.0   \n",
       "\n",
       "        OpenCreditLines   IsBorrowerHomeowner  PublicRecordsLast12Months  \\\n",
       "0               13232.0               85198.5                    52471.0   \n",
       "1               89768.0               28230.0                    52471.0   \n",
       "2                   NaN               28230.0                        NaN   \n",
       "3               20353.5               85198.5                    52471.0   \n",
       "4              101593.0               85198.5                    52471.0   \n",
       "...                 ...                   ...                        ...   \n",
       "113932          57613.5               85198.5                    52471.0   \n",
       "113933          85308.0               85198.5                    52471.0   \n",
       "113934          79919.5               85198.5                    52471.0   \n",
       "113935          73542.5               85198.5                    52471.0   \n",
       "113936          57613.5               28230.0                    52471.0   \n",
       "\n",
       "        ListingCategory (numeric)  \n",
       "0                          8483.0  \n",
       "1                         78990.0  \n",
       "2                          8483.0  \n",
       "3                        111309.5  \n",
       "4                         78990.0  \n",
       "...                           ...  \n",
       "113932                    46119.5  \n",
       "113933                   100865.5  \n",
       "113934                    46119.5  \n",
       "113935                    78990.0  \n",
       "113936                    46119.5  \n",
       "\n",
       "[113937 rows x 13 columns]"
      ]
     },
     "execution_count": 21,
     "metadata": {},
     "output_type": "execute_result"
    }
   ],
   "source": [
    "ranked_data"
   ]
  },
  {
   "cell_type": "code",
   "execution_count": 22,
   "id": "dfbabd84",
   "metadata": {},
   "outputs": [
    {
     "name": "stdout",
     "output_type": "stream",
     "text": [
      "Original DataFrame:\n",
      "                     ListingKey  ListingNumber ListingCreationDate  \\\n",
      "0       1021339766868145413AB3B         193129             09:29.3   \n",
      "1       10273602499503308B223C1        1209647             28:07.9   \n",
      "2       0EE9337825851032864889A          81716             00:47.1   \n",
      "3       0EF5356002482715299901A         658116             02:35.0   \n",
      "4       0F023589499656230C5E3E2         909464             38:39.1   \n",
      "...                         ...            ...                 ...   \n",
      "113932  E6D9357655724827169606C         753087             55:02.7   \n",
      "113933  E6DB353036033497292EE43         537216             42:55.3   \n",
      "113934  E6E13596170052029692BB1        1069178             49:12.7   \n",
      "113935  E6EB3531504622671970D9E         539056             18:26.6   \n",
      "113936  E6ED3600409833199F711B7        1140093             27:37.7   \n",
      "\n",
      "       CreditGrade  Term              LoanStatus       ClosedDate  \\\n",
      "0                C    36               Completed   8/14/2009 0:00   \n",
      "1              NaN    36                 Current              NaN   \n",
      "2               HR    36               Completed  12/17/2009 0:00   \n",
      "3              NaN    36                 Current              NaN   \n",
      "4              NaN    36                 Current              NaN   \n",
      "...            ...   ...                     ...              ...   \n",
      "113932         NaN    36                 Current              NaN   \n",
      "113933         NaN    36  FinalPaymentInProgress              NaN   \n",
      "113934         NaN    60                 Current              NaN   \n",
      "113935         NaN    60               Completed   8/13/2013 0:00   \n",
      "113936         NaN    36                 Current              NaN   \n",
      "\n",
      "        BorrowerAPR  BorrowerRate  LenderYield  ...  LP_ServiceFees  \\\n",
      "0           0.16516        0.1580       0.1380  ...         -133.18   \n",
      "1           0.12016        0.0920       0.0820  ...            0.00   \n",
      "2           0.28269        0.2750       0.2400  ...          -24.20   \n",
      "3           0.12528        0.0974       0.0874  ...         -108.01   \n",
      "4           0.24614        0.2085       0.1985  ...          -60.27   \n",
      "...             ...           ...          ...  ...             ...   \n",
      "113932      0.22354        0.1864       0.1764  ...          -75.58   \n",
      "113933      0.13220        0.1110       0.1010  ...          -30.05   \n",
      "113934      0.23984        0.2150       0.2050  ...          -16.91   \n",
      "113935      0.28408        0.2605       0.2505  ...         -235.05   \n",
      "113936      0.13189        0.1039       0.0939  ...           -1.70   \n",
      "\n",
      "        LP_CollectionFees  LP_GrossPrincipalLoss  LP_NetPrincipalLoss  \\\n",
      "0                     0.0                    0.0                  0.0   \n",
      "1                     0.0                    0.0                  0.0   \n",
      "2                     0.0                    0.0                  0.0   \n",
      "3                     0.0                    0.0                  0.0   \n",
      "4                     0.0                    0.0                  0.0   \n",
      "...                   ...                    ...                  ...   \n",
      "113932                0.0                    0.0                  0.0   \n",
      "113933                0.0                    0.0                  0.0   \n",
      "113934                0.0                    0.0                  0.0   \n",
      "113935                0.0                    0.0                  0.0   \n",
      "113936                0.0                    0.0                  0.0   \n",
      "\n",
      "       LP_NonPrincipalRecoverypayments  PercentFunded  Recommendations  \\\n",
      "0                                  0.0            1.0                0   \n",
      "1                                  0.0            1.0                0   \n",
      "2                                  0.0            1.0                0   \n",
      "3                                  0.0            1.0                0   \n",
      "4                                  0.0            1.0                0   \n",
      "...                                ...            ...              ...   \n",
      "113932                             0.0            1.0                0   \n",
      "113933                             0.0            1.0                0   \n",
      "113934                             0.0            1.0                0   \n",
      "113935                             0.0            1.0                0   \n",
      "113936                             0.0            1.0                0   \n",
      "\n",
      "       InvestmentFromFriendsCount InvestmentFromFriendsAmount Investors  \n",
      "0                               0                         0.0       258  \n",
      "1                               0                         0.0         1  \n",
      "2                               0                         0.0        41  \n",
      "3                               0                         0.0       158  \n",
      "4                               0                         0.0        20  \n",
      "...                           ...                         ...       ...  \n",
      "113932                          0                         0.0         1  \n",
      "113933                          0                         0.0        22  \n",
      "113934                          0                         0.0       119  \n",
      "113935                          0                         0.0       274  \n",
      "113936                          0                         0.0         1  \n",
      "\n",
      "[113937 rows x 81 columns]\n",
      "\n",
      "Ranked DataFrame based on Spearman's correlation with variable 'A':\n",
      "        EstimatedReturn  BorrowerRate  ProsperRating (numeric)  \\\n",
      "0                   NaN       43031.5                      NaN   \n",
      "1                5117.5        8925.0                  72206.0   \n",
      "2                   NaN       94058.0                      NaN   \n",
      "3                8093.0       10949.5                  72206.0   \n",
      "4               41644.0       69182.0                  23867.5   \n",
      "...                 ...           ...                      ...   \n",
      "113932          44559.5       58353.0                  40177.0   \n",
      "113933          29222.0       17979.5                  72206.0   \n",
      "113934          35519.5       72285.0                  23867.5   \n",
      "113935          83658.5       89009.0                  40177.0   \n",
      "113936           9195.0       14099.5                  72206.0   \n",
      "\n",
      "        CreditScoreRangeLower  BankcardUtilization  DebtToIncomeRatio  \\\n",
      "0                     20639.0               3391.5            35353.5   \n",
      "1                     51350.5              19443.5            39266.5   \n",
      "2                       489.5                  NaN             5082.0   \n",
      "3                    109809.5               9056.0            28382.5   \n",
      "4                     51350.5              76193.5            65361.0   \n",
      "...                       ...                  ...                ...   \n",
      "113932                67332.0              75038.5            21496.0   \n",
      "113933                67332.0              62935.5            15677.5   \n",
      "113934                67332.0              67369.5           100337.0   \n",
      "113935                51350.5              62935.5            98939.5   \n",
      "113936                51350.5              75038.5            56670.5   \n",
      "\n",
      "        StatedMonthlyIncome  InquiriesLast6Months  LoanOriginalAmount  \\\n",
      "0                   26597.5               96907.0             70764.0   \n",
      "1                   77342.5               96907.0             77407.5   \n",
      "2                   10685.5               25003.0             23724.5   \n",
      "3                   22075.0               25003.0             77407.5   \n",
      "4                  102033.0               64316.0             96790.0   \n",
      "...                     ...                   ...                 ...   \n",
      "113932              50846.0               25003.0             77407.5   \n",
      "113933              94779.0               64316.0              9507.0   \n",
      "113934              22075.0               64316.0             77407.5   \n",
      "113935              41611.0               64316.0             96790.0   \n",
      "113936              55345.0               25003.0              9507.0   \n",
      "\n",
      "        OpenCreditLines   IsBorrowerHomeowner  PublicRecordsLast12Months  \\\n",
      "0               13232.0               85198.5                    52471.0   \n",
      "1               89768.0               28230.0                    52471.0   \n",
      "2                   NaN               28230.0                        NaN   \n",
      "3               20353.5               85198.5                    52471.0   \n",
      "4              101593.0               85198.5                    52471.0   \n",
      "...                 ...                   ...                        ...   \n",
      "113932          57613.5               85198.5                    52471.0   \n",
      "113933          85308.0               85198.5                    52471.0   \n",
      "113934          79919.5               85198.5                    52471.0   \n",
      "113935          73542.5               85198.5                    52471.0   \n",
      "113936          57613.5               28230.0                    52471.0   \n",
      "\n",
      "        ListingCategory (numeric)  \n",
      "0                          8483.0  \n",
      "1                         78990.0  \n",
      "2                          8483.0  \n",
      "3                        111309.5  \n",
      "4                         78990.0  \n",
      "...                           ...  \n",
      "113932                    46119.5  \n",
      "113933                   100865.5  \n",
      "113934                    46119.5  \n",
      "113935                    78990.0  \n",
      "113936                    46119.5  \n",
      "\n",
      "[113937 rows x 13 columns]\n"
     ]
    }
   ],
   "source": [
    "print(\"Original DataFrame:\")\n",
    "print(df)\n",
    "\n",
    "print(\"\\nRanked DataFrame based on Spearman's correlation with variable 'A':\")\n",
    "print(ranked_data)"
   ]
  },
  {
   "cell_type": "code",
   "execution_count": 23,
   "id": "e7707ea5",
   "metadata": {},
   "outputs": [],
   "source": [
    "rankedirr=ranked_data['EstimatedReturn']"
   ]
  },
  {
   "cell_type": "code",
   "execution_count": 24,
   "id": "61c7fc1b",
   "metadata": {},
   "outputs": [],
   "source": [
    "rankedinterest= ranked_data['BorrowerRate']"
   ]
  },
  {
   "cell_type": "code",
   "execution_count": 25,
   "id": "0558b96e",
   "metadata": {},
   "outputs": [],
   "source": [
    "df1.insert( 15,'r_IRR', rankedirr, True)"
   ]
  },
  {
   "cell_type": "code",
   "execution_count": 26,
   "id": "644a15c4",
   "metadata": {},
   "outputs": [],
   "source": [
    "df1.insert( 16,'r_interes trate',rankedinterest , True)"
   ]
  },
  {
   "cell_type": "code",
   "execution_count": 19,
   "id": "ec9d1e74",
   "metadata": {},
   "outputs": [],
   "source": [
    "label = []\n",
    "\n",
    "for i in range(len(df1)):\n",
    "    if df1.iloc[i][' IsBorrowerHomeowner'] == True :\n",
    "        label.append(1)\n",
    "    else:\n",
    "        label.append(0) "
   ]
  },
  {
   "cell_type": "code",
   "execution_count": 20,
   "id": "4a508737",
   "metadata": {},
   "outputs": [],
   "source": [
    "df1.insert(12, 'Home', label , True)"
   ]
  },
  {
   "cell_type": "code",
   "execution_count": 21,
   "id": "6a9c7477",
   "metadata": {},
   "outputs": [],
   "source": [
    "df1=df1.drop([' IsBorrowerHomeowner'], axis=1)"
   ]
  },
  {
   "cell_type": "code",
   "execution_count": 22,
   "id": "b3372580",
   "metadata": {},
   "outputs": [],
   "source": [
    "labels = []\n",
    "\n",
    "for i in range(len(df1)):\n",
    "    if df1.iloc[i]['LoanStatus'] == 'Completed' :\n",
    "        labels.append(1)\n",
    "    else:\n",
    "        labels.append(0)"
   ]
  },
  {
   "cell_type": "code",
   "execution_count": 23,
   "id": "0c35e084",
   "metadata": {},
   "outputs": [],
   "source": [
    "df1.insert(12, 'Loanstatu', labels , True)"
   ]
  },
  {
   "cell_type": "code",
   "execution_count": 24,
   "id": "b68eb379",
   "metadata": {},
   "outputs": [],
   "source": [
    "df1=df1.drop(['LoanStatus'], axis=1)"
   ]
  },
  {
   "cell_type": "code",
   "execution_count": 25,
   "id": "b739fed0",
   "metadata": {},
   "outputs": [],
   "source": [
    "from sklearn.utils import shuffle"
   ]
  },
  {
   "cell_type": "code",
   "execution_count": 26,
   "id": "98f4d5ef",
   "metadata": {},
   "outputs": [],
   "source": [
    "df2 = shuffle(df1)"
   ]
  },
  {
   "cell_type": "code",
   "execution_count": 27,
   "id": "3f9d9801",
   "metadata": {},
   "outputs": [
    {
     "data": {
      "text/html": [
       "<div>\n",
       "<style scoped>\n",
       "    .dataframe tbody tr th:only-of-type {\n",
       "        vertical-align: middle;\n",
       "    }\n",
       "\n",
       "    .dataframe tbody tr th {\n",
       "        vertical-align: top;\n",
       "    }\n",
       "\n",
       "    .dataframe thead th {\n",
       "        text-align: right;\n",
       "    }\n",
       "</style>\n",
       "<table border=\"1\" class=\"dataframe\">\n",
       "  <thead>\n",
       "    <tr style=\"text-align: right;\">\n",
       "      <th></th>\n",
       "      <th>BorrowerRate</th>\n",
       "      <th>EstimatedReturn</th>\n",
       "      <th>ProsperRating (numeric)</th>\n",
       "      <th>ListingCategory (numeric)</th>\n",
       "      <th>CreditScoreRangeLower</th>\n",
       "      <th>OpenCreditLines</th>\n",
       "      <th>InquiriesLast6Months</th>\n",
       "      <th>PublicRecordsLast12Months</th>\n",
       "      <th>BankcardUtilization</th>\n",
       "      <th>DebtToIncomeRatio</th>\n",
       "      <th>StatedMonthlyIncome</th>\n",
       "      <th>Home</th>\n",
       "      <th>Loanstatu</th>\n",
       "      <th>LoanOriginalAmount</th>\n",
       "      <th>LoanOriginationDate</th>\n",
       "    </tr>\n",
       "  </thead>\n",
       "  <tbody>\n",
       "    <tr>\n",
       "      <th>43218</th>\n",
       "      <td>7120.0</td>\n",
       "      <td>7820.0</td>\n",
       "      <td>4.0</td>\n",
       "      <td>1</td>\n",
       "      <td>680.0</td>\n",
       "      <td>7.0</td>\n",
       "      <td>0.0</td>\n",
       "      <td>0.0</td>\n",
       "      <td>0.55</td>\n",
       "      <td>0.17</td>\n",
       "      <td>4004.000000</td>\n",
       "      <td>0</td>\n",
       "      <td>1</td>\n",
       "      <td>1000</td>\n",
       "      <td>5/4/2010 0:00</td>\n",
       "    </tr>\n",
       "    <tr>\n",
       "      <th>76775</th>\n",
       "      <td>9405.0</td>\n",
       "      <td>16549.0</td>\n",
       "      <td>5.0</td>\n",
       "      <td>1</td>\n",
       "      <td>740.0</td>\n",
       "      <td>14.0</td>\n",
       "      <td>2.0</td>\n",
       "      <td>0.0</td>\n",
       "      <td>0.13</td>\n",
       "      <td>0.11</td>\n",
       "      <td>8333.333333</td>\n",
       "      <td>1</td>\n",
       "      <td>1</td>\n",
       "      <td>14000</td>\n",
       "      <td>7/25/2012 0:00</td>\n",
       "    </tr>\n",
       "    <tr>\n",
       "      <th>7497</th>\n",
       "      <td>3218.5</td>\n",
       "      <td>4171.5</td>\n",
       "      <td>6.0</td>\n",
       "      <td>1</td>\n",
       "      <td>720.0</td>\n",
       "      <td>7.0</td>\n",
       "      <td>0.0</td>\n",
       "      <td>0.0</td>\n",
       "      <td>0.95</td>\n",
       "      <td>0.22</td>\n",
       "      <td>6083.333333</td>\n",
       "      <td>1</td>\n",
       "      <td>1</td>\n",
       "      <td>13000</td>\n",
       "      <td>9/28/2012 0:00</td>\n",
       "    </tr>\n",
       "    <tr>\n",
       "      <th>110300</th>\n",
       "      <td>4981.0</td>\n",
       "      <td>6200.0</td>\n",
       "      <td>5.0</td>\n",
       "      <td>2</td>\n",
       "      <td>680.0</td>\n",
       "      <td>10.0</td>\n",
       "      <td>0.0</td>\n",
       "      <td>0.0</td>\n",
       "      <td>0.66</td>\n",
       "      <td>0.23</td>\n",
       "      <td>5000.000000</td>\n",
       "      <td>1</td>\n",
       "      <td>1</td>\n",
       "      <td>6000</td>\n",
       "      <td>8/21/2012 0:00</td>\n",
       "    </tr>\n",
       "    <tr>\n",
       "      <th>7815</th>\n",
       "      <td>10698.5</td>\n",
       "      <td>8867.0</td>\n",
       "      <td>3.0</td>\n",
       "      <td>2</td>\n",
       "      <td>720.0</td>\n",
       "      <td>12.0</td>\n",
       "      <td>0.0</td>\n",
       "      <td>0.0</td>\n",
       "      <td>0.81</td>\n",
       "      <td>0.14</td>\n",
       "      <td>8833.333333</td>\n",
       "      <td>1</td>\n",
       "      <td>1</td>\n",
       "      <td>4000</td>\n",
       "      <td>5/16/2013 0:00</td>\n",
       "    </tr>\n",
       "    <tr>\n",
       "      <th>...</th>\n",
       "      <td>...</td>\n",
       "      <td>...</td>\n",
       "      <td>...</td>\n",
       "      <td>...</td>\n",
       "      <td>...</td>\n",
       "      <td>...</td>\n",
       "      <td>...</td>\n",
       "      <td>...</td>\n",
       "      <td>...</td>\n",
       "      <td>...</td>\n",
       "      <td>...</td>\n",
       "      <td>...</td>\n",
       "      <td>...</td>\n",
       "      <td>...</td>\n",
       "      <td>...</td>\n",
       "    </tr>\n",
       "    <tr>\n",
       "      <th>66224</th>\n",
       "      <td>19599.5</td>\n",
       "      <td>18871.0</td>\n",
       "      <td>2.0</td>\n",
       "      <td>1</td>\n",
       "      <td>660.0</td>\n",
       "      <td>4.0</td>\n",
       "      <td>1.0</td>\n",
       "      <td>0.0</td>\n",
       "      <td>0.00</td>\n",
       "      <td>0.11</td>\n",
       "      <td>6000.000000</td>\n",
       "      <td>1</td>\n",
       "      <td>1</td>\n",
       "      <td>5000</td>\n",
       "      <td>5/13/2011 0:00</td>\n",
       "    </tr>\n",
       "    <tr>\n",
       "      <th>67767</th>\n",
       "      <td>2757.5</td>\n",
       "      <td>4380.5</td>\n",
       "      <td>6.0</td>\n",
       "      <td>1</td>\n",
       "      <td>780.0</td>\n",
       "      <td>5.0</td>\n",
       "      <td>0.0</td>\n",
       "      <td>0.0</td>\n",
       "      <td>0.01</td>\n",
       "      <td>0.13</td>\n",
       "      <td>5416.666667</td>\n",
       "      <td>0</td>\n",
       "      <td>1</td>\n",
       "      <td>10000</td>\n",
       "      <td>5/20/2010 0:00</td>\n",
       "    </tr>\n",
       "    <tr>\n",
       "      <th>44581</th>\n",
       "      <td>15183.5</td>\n",
       "      <td>19446.5</td>\n",
       "      <td>3.0</td>\n",
       "      <td>3</td>\n",
       "      <td>720.0</td>\n",
       "      <td>17.0</td>\n",
       "      <td>1.0</td>\n",
       "      <td>0.0</td>\n",
       "      <td>0.76</td>\n",
       "      <td>0.30</td>\n",
       "      <td>10416.666670</td>\n",
       "      <td>1</td>\n",
       "      <td>1</td>\n",
       "      <td>10000</td>\n",
       "      <td>10/5/2010 0:00</td>\n",
       "    </tr>\n",
       "    <tr>\n",
       "      <th>1285</th>\n",
       "      <td>1873.5</td>\n",
       "      <td>2909.0</td>\n",
       "      <td>6.0</td>\n",
       "      <td>1</td>\n",
       "      <td>740.0</td>\n",
       "      <td>6.0</td>\n",
       "      <td>0.0</td>\n",
       "      <td>0.0</td>\n",
       "      <td>0.34</td>\n",
       "      <td>0.28</td>\n",
       "      <td>1761.333333</td>\n",
       "      <td>0</td>\n",
       "      <td>1</td>\n",
       "      <td>4200</td>\n",
       "      <td>6/4/2010 0:00</td>\n",
       "    </tr>\n",
       "    <tr>\n",
       "      <th>91625</th>\n",
       "      <td>8193.0</td>\n",
       "      <td>11215.5</td>\n",
       "      <td>4.0</td>\n",
       "      <td>2</td>\n",
       "      <td>740.0</td>\n",
       "      <td>6.0</td>\n",
       "      <td>0.0</td>\n",
       "      <td>0.0</td>\n",
       "      <td>0.83</td>\n",
       "      <td>0.25</td>\n",
       "      <td>6250.000000</td>\n",
       "      <td>1</td>\n",
       "      <td>1</td>\n",
       "      <td>13000</td>\n",
       "      <td>9/19/2011 0:00</td>\n",
       "    </tr>\n",
       "  </tbody>\n",
       "</table>\n",
       "<p>21310 rows × 15 columns</p>\n",
       "</div>"
      ],
      "text/plain": [
       "        BorrowerRate  EstimatedReturn  ProsperRating (numeric)  \\\n",
       "43218         7120.0           7820.0                      4.0   \n",
       "76775         9405.0          16549.0                      5.0   \n",
       "7497          3218.5           4171.5                      6.0   \n",
       "110300        4981.0           6200.0                      5.0   \n",
       "7815         10698.5           8867.0                      3.0   \n",
       "...              ...              ...                      ...   \n",
       "66224        19599.5          18871.0                      2.0   \n",
       "67767         2757.5           4380.5                      6.0   \n",
       "44581        15183.5          19446.5                      3.0   \n",
       "1285          1873.5           2909.0                      6.0   \n",
       "91625         8193.0          11215.5                      4.0   \n",
       "\n",
       "        ListingCategory (numeric)  CreditScoreRangeLower  OpenCreditLines  \\\n",
       "43218                           1                  680.0              7.0   \n",
       "76775                           1                  740.0             14.0   \n",
       "7497                            1                  720.0              7.0   \n",
       "110300                          2                  680.0             10.0   \n",
       "7815                            2                  720.0             12.0   \n",
       "...                           ...                    ...              ...   \n",
       "66224                           1                  660.0              4.0   \n",
       "67767                           1                  780.0              5.0   \n",
       "44581                           3                  720.0             17.0   \n",
       "1285                            1                  740.0              6.0   \n",
       "91625                           2                  740.0              6.0   \n",
       "\n",
       "        InquiriesLast6Months  PublicRecordsLast12Months  BankcardUtilization  \\\n",
       "43218                    0.0                        0.0                 0.55   \n",
       "76775                    2.0                        0.0                 0.13   \n",
       "7497                     0.0                        0.0                 0.95   \n",
       "110300                   0.0                        0.0                 0.66   \n",
       "7815                     0.0                        0.0                 0.81   \n",
       "...                      ...                        ...                  ...   \n",
       "66224                    1.0                        0.0                 0.00   \n",
       "67767                    0.0                        0.0                 0.01   \n",
       "44581                    1.0                        0.0                 0.76   \n",
       "1285                     0.0                        0.0                 0.34   \n",
       "91625                    0.0                        0.0                 0.83   \n",
       "\n",
       "        DebtToIncomeRatio  StatedMonthlyIncome  Home  Loanstatu  \\\n",
       "43218                0.17          4004.000000     0          1   \n",
       "76775                0.11          8333.333333     1          1   \n",
       "7497                 0.22          6083.333333     1          1   \n",
       "110300               0.23          5000.000000     1          1   \n",
       "7815                 0.14          8833.333333     1          1   \n",
       "...                   ...                  ...   ...        ...   \n",
       "66224                0.11          6000.000000     1          1   \n",
       "67767                0.13          5416.666667     0          1   \n",
       "44581                0.30         10416.666670     1          1   \n",
       "1285                 0.28          1761.333333     0          1   \n",
       "91625                0.25          6250.000000     1          1   \n",
       "\n",
       "        LoanOriginalAmount LoanOriginationDate  \n",
       "43218                 1000       5/4/2010 0:00  \n",
       "76775                14000      7/25/2012 0:00  \n",
       "7497                 13000      9/28/2012 0:00  \n",
       "110300                6000      8/21/2012 0:00  \n",
       "7815                  4000      5/16/2013 0:00  \n",
       "...                    ...                 ...  \n",
       "66224                 5000      5/13/2011 0:00  \n",
       "67767                10000      5/20/2010 0:00  \n",
       "44581                10000      10/5/2010 0:00  \n",
       "1285                  4200       6/4/2010 0:00  \n",
       "91625                13000      9/19/2011 0:00  \n",
       "\n",
       "[21310 rows x 15 columns]"
      ]
     },
     "execution_count": 27,
     "metadata": {},
     "output_type": "execute_result"
    }
   ],
   "source": [
    "df2"
   ]
  },
  {
   "cell_type": "code",
   "execution_count": 28,
   "id": "2204e298",
   "metadata": {},
   "outputs": [],
   "source": [
    "from sklearn.model_selection import train_test_split"
   ]
  },
  {
   "cell_type": "code",
   "execution_count": 29,
   "id": "71d4244f",
   "metadata": {},
   "outputs": [],
   "source": [
    "x= df2[['BorrowerRate','ProsperRating (numeric)',\n",
    "       'ListingCategory (numeric)', 'CreditScoreRangeLower', 'OpenCreditLines',\n",
    "       'InquiriesLast6Months', 'PublicRecordsLast12Months',\n",
    "       'BankcardUtilization', 'DebtToIncomeRatio', 'StatedMonthlyIncome',\n",
    "       'Home','LoanOriginalAmount']]"
   ]
  },
  {
   "cell_type": "code",
   "execution_count": 30,
   "id": "fe8f3274",
   "metadata": {},
   "outputs": [],
   "source": [
    "y= df2['EstimatedReturn']"
   ]
  },
  {
   "cell_type": "code",
   "execution_count": 31,
   "id": "3ebe34b1",
   "metadata": {},
   "outputs": [],
   "source": [
    "x_train, x_test , y_train, y_test = train_test_split(x, y , train_size=.7)"
   ]
  },
  {
   "cell_type": "code",
   "execution_count": 32,
   "id": "df2a7de0",
   "metadata": {},
   "outputs": [],
   "source": [
    "from sklearn import linear_model"
   ]
  },
  {
   "cell_type": "code",
   "execution_count": 33,
   "id": "f20f3a6f",
   "metadata": {},
   "outputs": [],
   "source": [
    "from sklearn.linear_model import LinearRegression"
   ]
  },
  {
   "cell_type": "code",
   "execution_count": 34,
   "id": "50babe49",
   "metadata": {},
   "outputs": [],
   "source": [
    "model1= LinearRegression().fit(x_train, y_train)"
   ]
  },
  {
   "cell_type": "code",
   "execution_count": 35,
   "id": "aa69a29d",
   "metadata": {},
   "outputs": [
    {
     "data": {
      "text/plain": [
       "array([ 7769.05211452, 15023.72839389,  9984.86161787, ...,\n",
       "        4941.35564159, 16612.16877211,  9542.82048049])"
      ]
     },
     "execution_count": 35,
     "metadata": {},
     "output_type": "execute_result"
    }
   ],
   "source": [
    "pred1= model1.predict(x_test)\n",
    "pred1"
   ]
  },
  {
   "cell_type": "code",
   "execution_count": 36,
   "id": "d3431a7f",
   "metadata": {},
   "outputs": [
    {
     "data": {
      "text/plain": [
       "0.7679169524320922"
      ]
     },
     "execution_count": 36,
     "metadata": {},
     "output_type": "execute_result"
    }
   ],
   "source": [
    "score= model1.score(x_test, y_test)\n",
    "score"
   ]
  },
  {
   "cell_type": "code",
   "execution_count": 37,
   "id": "81d5fb3e",
   "metadata": {},
   "outputs": [
    {
     "data": {
      "text/plain": [
       "array([ 1.80297392e+00,  3.72601939e+03,  7.50034047e+00, -1.17585511e+01,\n",
       "        5.29041220e+00, -1.27855585e+02,  2.99704443e+02,  2.73500399e+02,\n",
       "        4.81306707e+01, -1.93334046e-02, -6.89654834e+01,  7.73145624e-02])"
      ]
     },
     "execution_count": 37,
     "metadata": {},
     "output_type": "execute_result"
    }
   ],
   "source": [
    "model1.coef_  "
   ]
  },
  {
   "cell_type": "code",
   "execution_count": 38,
   "id": "9b79eadb",
   "metadata": {},
   "outputs": [
    {
     "ename": "KeyError",
     "evalue": "\"['r_interes trate'] not in index\"",
     "output_type": "error",
     "traceback": [
      "\u001b[1;31m---------------------------------------------------------------------------\u001b[0m",
      "\u001b[1;31mKeyError\u001b[0m                                  Traceback (most recent call last)",
      "\u001b[1;32mC:\\Users\\JAHANL~1\\AppData\\Local\\Temp/ipykernel_15004/2017331723.py\u001b[0m in \u001b[0;36m<module>\u001b[1;34m\u001b[0m\n\u001b[1;32m----> 1\u001b[1;33m \u001b[0mx2\u001b[0m\u001b[1;33m=\u001b[0m\u001b[0mdf2\u001b[0m\u001b[1;33m[\u001b[0m\u001b[1;33m[\u001b[0m\u001b[1;34m'r_interes trate'\u001b[0m\u001b[1;33m,\u001b[0m\u001b[1;34m'ProsperRating (numeric)'\u001b[0m\u001b[1;33m,\u001b[0m\u001b[1;34m'CreditScoreRangeLower'\u001b[0m\u001b[1;33m]\u001b[0m\u001b[1;33m]\u001b[0m\u001b[1;33m\u001b[0m\u001b[1;33m\u001b[0m\u001b[0m\n\u001b[0m",
      "\u001b[1;32m~\\anaconda3\\lib\\site-packages\\pandas\\core\\frame.py\u001b[0m in \u001b[0;36m__getitem__\u001b[1;34m(self, key)\u001b[0m\n\u001b[0;32m   3462\u001b[0m             \u001b[1;32mif\u001b[0m \u001b[0mis_iterator\u001b[0m\u001b[1;33m(\u001b[0m\u001b[0mkey\u001b[0m\u001b[1;33m)\u001b[0m\u001b[1;33m:\u001b[0m\u001b[1;33m\u001b[0m\u001b[1;33m\u001b[0m\u001b[0m\n\u001b[0;32m   3463\u001b[0m                 \u001b[0mkey\u001b[0m \u001b[1;33m=\u001b[0m \u001b[0mlist\u001b[0m\u001b[1;33m(\u001b[0m\u001b[0mkey\u001b[0m\u001b[1;33m)\u001b[0m\u001b[1;33m\u001b[0m\u001b[1;33m\u001b[0m\u001b[0m\n\u001b[1;32m-> 3464\u001b[1;33m             \u001b[0mindexer\u001b[0m \u001b[1;33m=\u001b[0m \u001b[0mself\u001b[0m\u001b[1;33m.\u001b[0m\u001b[0mloc\u001b[0m\u001b[1;33m.\u001b[0m\u001b[0m_get_listlike_indexer\u001b[0m\u001b[1;33m(\u001b[0m\u001b[0mkey\u001b[0m\u001b[1;33m,\u001b[0m \u001b[0maxis\u001b[0m\u001b[1;33m=\u001b[0m\u001b[1;36m1\u001b[0m\u001b[1;33m)\u001b[0m\u001b[1;33m[\u001b[0m\u001b[1;36m1\u001b[0m\u001b[1;33m]\u001b[0m\u001b[1;33m\u001b[0m\u001b[1;33m\u001b[0m\u001b[0m\n\u001b[0m\u001b[0;32m   3465\u001b[0m \u001b[1;33m\u001b[0m\u001b[0m\n\u001b[0;32m   3466\u001b[0m         \u001b[1;31m# take() does not accept boolean indexers\u001b[0m\u001b[1;33m\u001b[0m\u001b[1;33m\u001b[0m\u001b[0m\n",
      "\u001b[1;32m~\\anaconda3\\lib\\site-packages\\pandas\\core\\indexing.py\u001b[0m in \u001b[0;36m_get_listlike_indexer\u001b[1;34m(self, key, axis)\u001b[0m\n\u001b[0;32m   1312\u001b[0m             \u001b[0mkeyarr\u001b[0m\u001b[1;33m,\u001b[0m \u001b[0mindexer\u001b[0m\u001b[1;33m,\u001b[0m \u001b[0mnew_indexer\u001b[0m \u001b[1;33m=\u001b[0m \u001b[0max\u001b[0m\u001b[1;33m.\u001b[0m\u001b[0m_reindex_non_unique\u001b[0m\u001b[1;33m(\u001b[0m\u001b[0mkeyarr\u001b[0m\u001b[1;33m)\u001b[0m\u001b[1;33m\u001b[0m\u001b[1;33m\u001b[0m\u001b[0m\n\u001b[0;32m   1313\u001b[0m \u001b[1;33m\u001b[0m\u001b[0m\n\u001b[1;32m-> 1314\u001b[1;33m         \u001b[0mself\u001b[0m\u001b[1;33m.\u001b[0m\u001b[0m_validate_read_indexer\u001b[0m\u001b[1;33m(\u001b[0m\u001b[0mkeyarr\u001b[0m\u001b[1;33m,\u001b[0m \u001b[0mindexer\u001b[0m\u001b[1;33m,\u001b[0m \u001b[0maxis\u001b[0m\u001b[1;33m)\u001b[0m\u001b[1;33m\u001b[0m\u001b[1;33m\u001b[0m\u001b[0m\n\u001b[0m\u001b[0;32m   1315\u001b[0m \u001b[1;33m\u001b[0m\u001b[0m\n\u001b[0;32m   1316\u001b[0m         if needs_i8_conversion(ax.dtype) or isinstance(\n",
      "\u001b[1;32m~\\anaconda3\\lib\\site-packages\\pandas\\core\\indexing.py\u001b[0m in \u001b[0;36m_validate_read_indexer\u001b[1;34m(self, key, indexer, axis)\u001b[0m\n\u001b[0;32m   1375\u001b[0m \u001b[1;33m\u001b[0m\u001b[0m\n\u001b[0;32m   1376\u001b[0m             \u001b[0mnot_found\u001b[0m \u001b[1;33m=\u001b[0m \u001b[0mlist\u001b[0m\u001b[1;33m(\u001b[0m\u001b[0mensure_index\u001b[0m\u001b[1;33m(\u001b[0m\u001b[0mkey\u001b[0m\u001b[1;33m)\u001b[0m\u001b[1;33m[\u001b[0m\u001b[0mmissing_mask\u001b[0m\u001b[1;33m.\u001b[0m\u001b[0mnonzero\u001b[0m\u001b[1;33m(\u001b[0m\u001b[1;33m)\u001b[0m\u001b[1;33m[\u001b[0m\u001b[1;36m0\u001b[0m\u001b[1;33m]\u001b[0m\u001b[1;33m]\u001b[0m\u001b[1;33m.\u001b[0m\u001b[0munique\u001b[0m\u001b[1;33m(\u001b[0m\u001b[1;33m)\u001b[0m\u001b[1;33m)\u001b[0m\u001b[1;33m\u001b[0m\u001b[1;33m\u001b[0m\u001b[0m\n\u001b[1;32m-> 1377\u001b[1;33m             \u001b[1;32mraise\u001b[0m \u001b[0mKeyError\u001b[0m\u001b[1;33m(\u001b[0m\u001b[1;34mf\"{not_found} not in index\"\u001b[0m\u001b[1;33m)\u001b[0m\u001b[1;33m\u001b[0m\u001b[1;33m\u001b[0m\u001b[0m\n\u001b[0m\u001b[0;32m   1378\u001b[0m \u001b[1;33m\u001b[0m\u001b[0m\n\u001b[0;32m   1379\u001b[0m \u001b[1;33m\u001b[0m\u001b[0m\n",
      "\u001b[1;31mKeyError\u001b[0m: \"['r_interes trate'] not in index\""
     ]
    }
   ],
   "source": [
    "x2=df2[['r_interes trate','ProsperRating (numeric)','CreditScoreRangeLower']]"
   ]
  },
  {
   "cell_type": "code",
   "execution_count": 47,
   "id": "6aa72e25",
   "metadata": {},
   "outputs": [],
   "source": [
    "y2= df2['r_IRR']"
   ]
  },
  {
   "cell_type": "code",
   "execution_count": 48,
   "id": "69e87980",
   "metadata": {},
   "outputs": [],
   "source": [
    "x2_train, x2_test , y2_train, y2_test = train_test_split(x2, y2, train_size=.7) "
   ]
  },
  {
   "cell_type": "code",
   "execution_count": 49,
   "id": "7548a9ef",
   "metadata": {},
   "outputs": [],
   "source": [
    "from sklearn import linear_model\n",
    "from sklearn.linear_model import LinearRegression\n"
   ]
  },
  {
   "cell_type": "code",
   "execution_count": 50,
   "id": "70449911",
   "metadata": {},
   "outputs": [
    {
     "data": {
      "text/plain": [
       "array([62652.30883576, 87096.25627064, 71632.25225556, ...,\n",
       "       84132.69656776, 76172.52159895, 31887.53905853])"
      ]
     },
     "execution_count": 50,
     "metadata": {},
     "output_type": "execute_result"
    }
   ],
   "source": [
    "model2= LinearRegression().fit(x2_train, y2_train)\n",
    "pred2= model2.predict(x2_test)\n",
    "pred2"
   ]
  },
  {
   "cell_type": "code",
   "execution_count": 51,
   "id": "910460f2",
   "metadata": {},
   "outputs": [
    {
     "data": {
      "text/plain": [
       "0.8805422628178524"
      ]
     },
     "execution_count": 51,
     "metadata": {},
     "output_type": "execute_result"
    }
   ],
   "source": [
    "score2= model2.score(x2_test, y2_test)\n",
    "score2"
   ]
  },
  {
   "cell_type": "code",
   "execution_count": 52,
   "id": "af3bdc96",
   "metadata": {},
   "outputs": [
    {
     "data": {
      "text/plain": [
       "array([ 1.49845344e+00,  1.79304715e+04, -1.48162874e+01])"
      ]
     },
     "execution_count": 52,
     "metadata": {},
     "output_type": "execute_result"
    }
   ],
   "source": [
    "model2.coef_"
   ]
  },
  {
   "cell_type": "code",
   "execution_count": 53,
   "id": "141fcd59",
   "metadata": {},
   "outputs": [],
   "source": [
    "x3= df2[['ListingCategory (numeric)', 'LoanOriginalAmount','r_interes trate']]"
   ]
  },
  {
   "cell_type": "code",
   "execution_count": 54,
   "id": "d1c8957e",
   "metadata": {},
   "outputs": [],
   "source": [
    "y3=df2['r_IRR']"
   ]
  },
  {
   "cell_type": "code",
   "execution_count": 55,
   "id": "f7b8a8cb",
   "metadata": {},
   "outputs": [],
   "source": [
    "x3_train, x3_test , y3_train, y3_test = train_test_split(x3, y3, train_size=.7)"
   ]
  },
  {
   "cell_type": "code",
   "execution_count": 56,
   "id": "a73377fc",
   "metadata": {},
   "outputs": [
    {
     "data": {
      "text/plain": [
       "array([50105.04583353, 69531.67191619, 79175.74361715, ...,\n",
       "       72518.37714241, 52518.71674624, 76320.20499608])"
      ]
     },
     "execution_count": 56,
     "metadata": {},
     "output_type": "execute_result"
    }
   ],
   "source": [
    "model3= LinearRegression().fit(x3_train, y3_train)\n",
    "pred3= model3.predict(x3_test)\n",
    "pred3"
   ]
  },
  {
   "cell_type": "code",
   "execution_count": 57,
   "id": "d2d5497c",
   "metadata": {},
   "outputs": [
    {
     "data": {
      "text/plain": [
       "0.7615244022952953"
      ]
     },
     "execution_count": 57,
     "metadata": {},
     "output_type": "execute_result"
    }
   ],
   "source": [
    "score3= model3.score(x3_test, y3_test)\n",
    "score3"
   ]
  },
  {
   "cell_type": "code",
   "execution_count": 58,
   "id": "584104fa",
   "metadata": {},
   "outputs": [
    {
     "data": {
      "text/plain": [
       "array([-24.79648954,   0.80105969,   0.69348234])"
      ]
     },
     "execution_count": 58,
     "metadata": {},
     "output_type": "execute_result"
    }
   ],
   "source": [
    "model3.coef_"
   ]
  },
  {
   "cell_type": "code",
   "execution_count": 59,
   "id": "865329dd",
   "metadata": {},
   "outputs": [],
   "source": [
    "x4= df2[['Home','StatedMonthlyIncome','r_interes trate']]"
   ]
  },
  {
   "cell_type": "code",
   "execution_count": 60,
   "id": "b6d25586",
   "metadata": {},
   "outputs": [],
   "source": [
    "y4= df2['r_IRR']"
   ]
  },
  {
   "cell_type": "code",
   "execution_count": 61,
   "id": "19e4c3c2",
   "metadata": {},
   "outputs": [],
   "source": [
    "x4_train, x4_test , y4_train, y4_test = train_test_split(x4, y4, train_size=.7)"
   ]
  },
  {
   "cell_type": "code",
   "execution_count": 62,
   "id": "fdf63ede",
   "metadata": {},
   "outputs": [
    {
     "data": {
      "text/plain": [
       "array([79859.82046544, 11111.00679135, 55117.98691762, ...,\n",
       "       38348.34570376, 69123.72641667, 37308.19349987])"
      ]
     },
     "execution_count": 62,
     "metadata": {},
     "output_type": "execute_result"
    }
   ],
   "source": [
    "model4= LinearRegression().fit(x4_train, y4_train)\n",
    "pred4= model4.predict(x4_test)\n",
    "pred4"
   ]
  },
  {
   "cell_type": "code",
   "execution_count": 63,
   "id": "14aa43ab",
   "metadata": {},
   "outputs": [
    {
     "data": {
      "text/plain": [
       "0.730704048004766"
      ]
     },
     "execution_count": 63,
     "metadata": {},
     "output_type": "execute_result"
    }
   ],
   "source": [
    "score4= model4.score(x4_test, y4_test)\n",
    "score4"
   ]
  },
  {
   "cell_type": "code",
   "execution_count": 64,
   "id": "b23788dd",
   "metadata": {},
   "outputs": [
    {
     "data": {
      "text/plain": [
       "array([1.64403250e+02, 1.94799693e-02, 6.62791368e-01])"
      ]
     },
     "execution_count": 64,
     "metadata": {},
     "output_type": "execute_result"
    }
   ],
   "source": [
    "model4.coef_"
   ]
  },
  {
   "cell_type": "code",
   "execution_count": 65,
   "id": "04333951",
   "metadata": {},
   "outputs": [],
   "source": [
    "x5= df2[['InquiriesLast6Months', 'PublicRecordsLast12Months','OpenCreditLines','BankcardUtilization','r_interes trate']]"
   ]
  },
  {
   "cell_type": "code",
   "execution_count": 66,
   "id": "a02975ca",
   "metadata": {},
   "outputs": [],
   "source": [
    "y5= df2['r_IRR']"
   ]
  },
  {
   "cell_type": "code",
   "execution_count": 67,
   "id": "f6035703",
   "metadata": {},
   "outputs": [],
   "source": [
    "x5_train, x5_test , y5_train, y5_test = train_test_split(x5, y5, train_size=.7)"
   ]
  },
  {
   "cell_type": "code",
   "execution_count": 68,
   "id": "f4e3f40d",
   "metadata": {},
   "outputs": [
    {
     "data": {
      "text/plain": [
       "array([72405.4824177 , 82307.1575894 , 71327.52600167, ...,\n",
       "        8718.36577154, 59994.03948739, 78586.72906212])"
      ]
     },
     "execution_count": 68,
     "metadata": {},
     "output_type": "execute_result"
    }
   ],
   "source": [
    "model5= LinearRegression().fit(x5_train, y5_train)\n",
    "pred5= model5.predict(x5_test)\n",
    "pred5"
   ]
  },
  {
   "cell_type": "code",
   "execution_count": 69,
   "id": "2fc69e97",
   "metadata": {},
   "outputs": [
    {
     "data": {
      "text/plain": [
       "0.7553093346866264"
      ]
     },
     "execution_count": 69,
     "metadata": {},
     "output_type": "execute_result"
    }
   ],
   "source": [
    "score5= model5.score(x5_test, y5_test)\n",
    "score5"
   ]
  },
  {
   "cell_type": "code",
   "execution_count": 70,
   "id": "635ee1bd",
   "metadata": {},
   "outputs": [
    {
     "data": {
      "text/plain": [
       "array([-1.35204819e+03, -1.92551720e+03,  9.23593087e+01, -2.38244087e+03,\n",
       "        6.86302911e-01])"
      ]
     },
     "execution_count": 70,
     "metadata": {},
     "output_type": "execute_result"
    }
   ],
   "source": [
    "model5.coef_"
   ]
  },
  {
   "cell_type": "code",
   "execution_count": 71,
   "id": "1157e0c5",
   "metadata": {},
   "outputs": [],
   "source": [
    "x6= df2[['ProsperRating (numeric)',\n",
    "       'ListingCategory (numeric)', 'CreditScoreRangeLower', 'OpenCreditLines',\n",
    "       'InquiriesLast6Months', 'PublicRecordsLast12Months',\n",
    "       'BankcardUtilization', 'DebtToIncomeRatio', 'StatedMonthlyIncome',\n",
    "       'Home', 'LoanOriginalAmount','r_interes trate']]"
   ]
  },
  {
   "cell_type": "code",
   "execution_count": 72,
   "id": "fb786a9d",
   "metadata": {},
   "outputs": [],
   "source": [
    "y6= df2['r_IRR']"
   ]
  },
  {
   "cell_type": "code",
   "execution_count": 73,
   "id": "a12bccbb",
   "metadata": {},
   "outputs": [],
   "source": [
    "x6_train, x6_test , y6_train, y6_test = train_test_split(x6, y6, train_size=.7)"
   ]
  },
  {
   "cell_type": "code",
   "execution_count": 74,
   "id": "494881a4",
   "metadata": {},
   "outputs": [
    {
     "data": {
      "text/plain": [
       "array([15848.00185609, 72220.56926012, 58145.37453236, ...,\n",
       "         325.22489052, 60602.30055091, 71084.2453268 ])"
      ]
     },
     "execution_count": 74,
     "metadata": {},
     "output_type": "execute_result"
    }
   ],
   "source": [
    "model6= LinearRegression().fit(x6_train, y6_train)\n",
    "pred6= model6.predict(x6_test)\n",
    "pred6"
   ]
  },
  {
   "cell_type": "code",
   "execution_count": 75,
   "id": "ae231aa1",
   "metadata": {},
   "outputs": [
    {
     "data": {
      "text/plain": [
       "0.8904126688477307"
      ]
     },
     "execution_count": 75,
     "metadata": {},
     "output_type": "execute_result"
    }
   ],
   "source": [
    "score6= model6.score(x6_test, y6_test)\n",
    "score6"
   ]
  },
  {
   "cell_type": "code",
   "execution_count": 76,
   "id": "02bfb435",
   "metadata": {},
   "outputs": [
    {
     "data": {
      "text/plain": [
       "array([ 1.78464704e+04, -1.64573920e+01, -1.25330135e+01,  3.84374937e+01,\n",
       "       -2.79647100e+02,  1.40414437e+02,  2.47564798e+02,  9.75541978e+01,\n",
       "       -3.61442959e-02, -1.86490372e+02,  3.94877007e-02,  1.49921031e+00])"
      ]
     },
     "execution_count": 76,
     "metadata": {},
     "output_type": "execute_result"
    }
   ],
   "source": [
    "model6.coef_"
   ]
  },
  {
   "cell_type": "code",
   "execution_count": 77,
   "id": "bf283c88",
   "metadata": {},
   "outputs": [],
   "source": [
    " from lazypredict.Supervised import LazyClassifier \n"
   ]
  },
  {
   "cell_type": "code",
   "execution_count": 78,
   "id": "4ae6a717",
   "metadata": {},
   "outputs": [],
   "source": [
    "import numpy as np \n",
    "import pandas as pd\n",
    "import matplotlib.pyplot as plt \n",
    "import seaborn as sb \n",
    "import numpy_financial as npf\n",
    "from sklearn.metrics import confusion_matrix, accuracy_score\n",
    "import klib"
   ]
  },
  {
   "cell_type": "code",
   "execution_count": 79,
   "id": "9eca3e05",
   "metadata": {},
   "outputs": [],
   "source": [
    "clf= LazyClassifier (verbose=0, ignore_warnings=True,custom_metric=None)"
   ]
  },
  {
   "cell_type": "code",
   "execution_count": 80,
   "id": "4187d5f7",
   "metadata": {},
   "outputs": [
    {
     "name": "stderr",
     "output_type": "stream",
     "text": [
      "100%|██████████████████████████████████████████████████████████████████████████████████| 29/29 [00:00<00:00, 42.60it/s]\n"
     ]
    }
   ],
   "source": [
    "models, predictions= clf.fit(x_train, x_test , y_train, y_test )"
   ]
  },
  {
   "cell_type": "code",
   "execution_count": 81,
   "id": "6c961c81",
   "metadata": {},
   "outputs": [
    {
     "name": "stdout",
     "output_type": "stream",
     "text": [
      "Empty DataFrame\n",
      "Columns: [Accuracy, Balanced Accuracy, ROC AUC, F1 Score, Time Taken]\n",
      "Index: []\n"
     ]
    }
   ],
   "source": [
    "print(models)"
   ]
  },
  {
   "cell_type": "code",
   "execution_count": 82,
   "id": "df6edf92",
   "metadata": {},
   "outputs": [],
   "source": [
    "from lazypredict.Supervised import LazyRegressor\n"
   ]
  },
  {
   "cell_type": "code",
   "execution_count": 83,
   "id": "aeb1c842",
   "metadata": {},
   "outputs": [
    {
     "name": "stderr",
     "output_type": "stream",
     "text": [
      " 22%|██████████████████▏                                                                | 9/41 [00:07<00:45,  1.41s/it]"
     ]
    },
    {
     "name": "stdout",
     "output_type": "stream",
     "text": [
      "GammaRegressor model failed to execute\n",
      "Some value(s) of y are out of the valid range for family GammaDistribution\n"
     ]
    },
    {
     "name": "stderr",
     "output_type": "stream",
     "text": [
      " 76%|██████████████████████████████████████████████████████████████                    | 31/41 [05:30<01:57, 11.78s/it]"
     ]
    },
    {
     "name": "stdout",
     "output_type": "stream",
     "text": [
      "PoissonRegressor model failed to execute\n",
      "Some value(s) of y are out of the valid range for family PoissonDistribution\n"
     ]
    },
    {
     "name": "stderr",
     "output_type": "stream",
     "text": [
      " 95%|██████████████████████████████████████████████████████████████████████████████    | 39/41 [05:39<00:04,  2.03s/it]"
     ]
    },
    {
     "name": "stdout",
     "output_type": "stream",
     "text": [
      "[LightGBM] [Info] Auto-choosing row-wise multi-threading, the overhead of testing was 0.002529 seconds.\n",
      "You can set `force_row_wise=true` to remove the overhead.\n",
      "And if memory is not enough, you can set `force_col_wise=true`.\n",
      "[LightGBM] [Info] Total Bins 1094\n",
      "[LightGBM] [Info] Number of data points in the train set: 14916, number of used features: 12\n",
      "[LightGBM] [Info] Start training from score 0.106770\n"
     ]
    },
    {
     "name": "stderr",
     "output_type": "stream",
     "text": [
      "100%|██████████████████████████████████████████████████████████████████████████████████| 41/41 [05:40<00:00,  8.31s/it]\n"
     ]
    }
   ],
   "source": [
    "reg = LazyRegressor(verbose=0,ignore_warnings=False, custom_metric=None )\n",
    "models,predictions = reg.fit(x_train, x_test, y_train, y_test)\n"
   ]
  },
  {
   "cell_type": "code",
   "execution_count": 84,
   "id": "e8382af8",
   "metadata": {},
   "outputs": [
    {
     "name": "stdout",
     "output_type": "stream",
     "text": [
      "                               Adjusted R-Squared  R-Squared  RMSE  Time Taken\n",
      "Model                                                                         \n",
      "ExtraTreesRegressor                          0.94       0.94  0.01        5.36\n",
      "RandomForestRegressor                        0.94       0.94  0.01        8.41\n",
      "BaggingRegressor                             0.93       0.93  0.01        0.71\n",
      "LGBMRegressor                                0.93       0.93  0.01        0.66\n",
      "HistGradientBoostingRegressor                0.93       0.93  0.01        1.68\n",
      "XGBRegressor                                 0.93       0.93  0.01        0.59\n",
      "GradientBoostingRegressor                    0.92       0.92  0.01        2.04\n",
      "ExtraTreeRegressor                           0.88       0.88  0.01        0.11\n",
      "NuSVR                                        0.88       0.88  0.01      132.13\n",
      "DecisionTreeRegressor                        0.88       0.88  0.01        0.17\n",
      "OrthogonalMatchingPursuitCV                  0.82       0.82  0.02        0.17\n",
      "TransformedTargetRegressor                   0.82       0.82  0.02        0.06\n",
      "LinearRegression                             0.82       0.82  0.02        0.09\n",
      "LassoLarsCV                                  0.82       0.82  0.02        0.15\n",
      "LassoLarsIC                                  0.82       0.82  0.02        0.05\n",
      "Lars                                         0.82       0.82  0.02        0.11\n",
      "LarsCV                                       0.82       0.82  0.02        0.19\n",
      "RidgeCV                                      0.82       0.82  0.02        0.07\n",
      "BayesianRidge                                0.82       0.82  0.02        0.05\n",
      "Ridge                                        0.82       0.82  0.02        0.06\n",
      "LassoCV                                      0.82       0.82  0.02        0.51\n",
      "ElasticNetCV                                 0.82       0.82  0.02        0.41\n",
      "SGDRegressor                                 0.82       0.82  0.02        0.06\n",
      "HuberRegressor                               0.82       0.82  0.02        0.20\n",
      "RANSACRegressor                              0.81       0.81  0.02        0.30\n",
      "LinearSVR                                    0.80       0.80  0.02        2.19\n",
      "AdaBoostRegressor                            0.71       0.71  0.02        0.59\n",
      "KNeighborsRegressor                          0.68       0.69  0.02        1.90\n",
      "OrthogonalMatchingPursuit                    0.63       0.63  0.02        0.05\n",
      "GaussianProcessRegressor                     0.53       0.53  0.03      123.64\n",
      "TweedieRegressor                             0.49       0.49  0.03        0.05\n",
      "MLPRegressor                                 0.43       0.43  0.03        1.93\n",
      "Lasso                                       -0.00      -0.00  0.04        0.08\n",
      "ElasticNet                                  -0.00      -0.00  0.04        0.04\n",
      "DummyRegressor                              -0.00      -0.00  0.04        0.03\n",
      "LassoLars                                   -0.00      -0.00  0.04        0.03\n",
      "SVR                                         -0.78      -0.78  0.05        0.27\n",
      "PassiveAggressiveRegressor                  -1.40      -1.40  0.06        0.11\n",
      "KernelRidge                                 -7.74      -7.72  0.11       55.14\n"
     ]
    }
   ],
   "source": [
    "print(models)"
   ]
  },
  {
   "cell_type": "code",
   "execution_count": 86,
   "id": "d1029313",
   "metadata": {},
   "outputs": [
    {
     "name": "stderr",
     "output_type": "stream",
     "text": [
      "100%|██████████████████████████████████████████████████████████████████████████████████| 41/41 [03:47<00:00,  5.54s/it]\n"
     ]
    },
    {
     "name": "stdout",
     "output_type": "stream",
     "text": [
      "[LightGBM] [Info] Auto-choosing col-wise multi-threading, the overhead of testing was 0.000586 seconds.\n",
      "You can set `force_col_wise=true` to remove the overhead.\n",
      "[LightGBM] [Info] Total Bins 273\n",
      "[LightGBM] [Info] Number of data points in the train set: 14916, number of used features: 3\n",
      "[LightGBM] [Info] Start training from score 50704.285298\n"
     ]
    }
   ],
   "source": [
    "reg = LazyRegressor(verbose=0,ignore_warnings=False, custom_metric=None )\n",
    "models,predictions = reg.fit(x2_train, x2_test, y2_train, y2_test)\n"
   ]
  },
  {
   "cell_type": "code",
   "execution_count": 87,
   "id": "49ab87b0",
   "metadata": {},
   "outputs": [
    {
     "name": "stdout",
     "output_type": "stream",
     "text": [
      "                               Adjusted R-Squared  R-Squared     RMSE  \\\n",
      "Model                                                                   \n",
      "RandomForestRegressor                        0.96       0.96  5767.24   \n",
      "BaggingRegressor                             0.96       0.96  5770.44   \n",
      "ExtraTreesRegressor                          0.95       0.95  5870.38   \n",
      "DecisionTreeRegressor                        0.95       0.95  5994.16   \n",
      "ExtraTreeRegressor                           0.95       0.95  6090.53   \n",
      "LGBMRegressor                                0.95       0.95  6266.47   \n",
      "XGBRegressor                                 0.95       0.95  6323.07   \n",
      "HistGradientBoostingRegressor                0.94       0.94  6500.33   \n",
      "KNeighborsRegressor                          0.94       0.94  6755.89   \n",
      "GradientBoostingRegressor                    0.93       0.93  7244.09   \n",
      "SGDRegressor                                 0.88       0.88  9543.85   \n",
      "OrthogonalMatchingPursuitCV                  0.88       0.88  9544.03   \n",
      "Lars                                         0.88       0.88  9544.03   \n",
      "LarsCV                                       0.88       0.88  9544.03   \n",
      "LassoLarsCV                                  0.88       0.88  9544.03   \n",
      "LassoLarsIC                                  0.88       0.88  9544.03   \n",
      "LinearRegression                             0.88       0.88  9544.03   \n",
      "TransformedTargetRegressor                   0.88       0.88  9544.03   \n",
      "BayesianRidge                                0.88       0.88  9544.05   \n",
      "RidgeCV                                      0.88       0.88  9544.07   \n",
      "Lasso                                        0.88       0.88  9544.16   \n",
      "Ridge                                        0.88       0.88  9544.43   \n",
      "LassoCV                                      0.88       0.88  9548.30   \n",
      "LassoLars                                    0.88       0.88  9590.63   \n",
      "HuberRegressor                               0.87       0.87  9824.12   \n",
      "RANSACRegressor                              0.87       0.87  9834.50   \n",
      "PassiveAggressiveRegressor                   0.87       0.87  9894.77   \n",
      "AdaBoostRegressor                            0.82       0.82 11862.59   \n",
      "PoissonRegressor                             0.78       0.78 12929.66   \n",
      "OrthogonalMatchingPursuit                    0.72       0.72 14533.57   \n",
      "ElasticNet                                   0.62       0.62 16910.05   \n",
      "TweedieRegressor                             0.56       0.56 18258.89   \n",
      "GammaRegressor                               0.52       0.52 19182.16   \n",
      "ElasticNetCV                                 0.10       0.10 26157.75   \n",
      "NuSVR                                        0.09       0.09 26331.62   \n",
      "SVR                                          0.04       0.04 27019.74   \n",
      "DummyRegressor                              -0.00      -0.00 27614.31   \n",
      "MLPRegressor                                -0.15      -0.15 29658.65   \n",
      "LinearSVR                                   -1.70      -1.69 45328.71   \n",
      "KernelRidge                                 -2.47      -2.46 51400.19   \n",
      "GaussianProcessRegressor                    -3.59      -3.59 59164.07   \n",
      "\n",
      "                               Time Taken  \n",
      "Model                                      \n",
      "RandomForestRegressor                1.30  \n",
      "BaggingRegressor                     0.16  \n",
      "ExtraTreesRegressor                  1.05  \n",
      "DecisionTreeRegressor                0.04  \n",
      "ExtraTreeRegressor                   0.05  \n",
      "LGBMRegressor                        0.18  \n",
      "XGBRegressor                         0.24  \n",
      "HistGradientBoostingRegressor        0.83  \n",
      "KNeighborsRegressor                  0.12  \n",
      "GradientBoostingRegressor            0.75  \n",
      "SGDRegressor                         0.04  \n",
      "OrthogonalMatchingPursuitCV          0.06  \n",
      "Lars                                 0.05  \n",
      "LarsCV                               0.06  \n",
      "LassoLarsCV                          0.03  \n",
      "LassoLarsIC                          0.02  \n",
      "LinearRegression                     0.03  \n",
      "TransformedTargetRegressor           0.03  \n",
      "BayesianRidge                        0.01  \n",
      "RidgeCV                              0.03  \n",
      "Lasso                                0.03  \n",
      "Ridge                                0.02  \n",
      "LassoCV                              0.23  \n",
      "LassoLars                            0.03  \n",
      "HuberRegressor                       0.10  \n",
      "RANSACRegressor                      0.04  \n",
      "PassiveAggressiveRegressor           0.10  \n",
      "AdaBoostRegressor                    0.25  \n",
      "PoissonRegressor                     0.05  \n",
      "OrthogonalMatchingPursuit            0.02  \n",
      "ElasticNet                           0.02  \n",
      "TweedieRegressor                     0.03  \n",
      "GammaRegressor                       0.05  \n",
      "ElasticNetCV                         0.19  \n",
      "NuSVR                               29.37  \n",
      "SVR                                 33.00  \n",
      "DummyRegressor                       0.00  \n",
      "MLPRegressor                        14.23  \n",
      "LinearSVR                            0.03  \n",
      "KernelRidge                         44.90  \n",
      "GaussianProcessRegressor            99.28  \n"
     ]
    }
   ],
   "source": [
    "print(models)"
   ]
  },
  {
   "cell_type": "code",
   "execution_count": 88,
   "id": "556c30eb",
   "metadata": {},
   "outputs": [
    {
     "name": "stderr",
     "output_type": "stream",
     "text": [
      "100%|██████████████████████████████████████████████████████████████████████████████████| 41/41 [03:37<00:00,  5.30s/it]"
     ]
    },
    {
     "name": "stdout",
     "output_type": "stream",
     "text": [
      "[LightGBM] [Info] Auto-choosing col-wise multi-threading, the overhead of testing was 0.000368 seconds.\n",
      "You can set `force_col_wise=true` to remove the overhead.\n",
      "[LightGBM] [Info] Total Bins 498\n",
      "[LightGBM] [Info] Number of data points in the train set: 14916, number of used features: 3\n",
      "[LightGBM] [Info] Start training from score 50630.642498\n"
     ]
    },
    {
     "name": "stderr",
     "output_type": "stream",
     "text": [
      "\n"
     ]
    }
   ],
   "source": [
    "reg = LazyRegressor(verbose=0,ignore_warnings=False, custom_metric=None )\n",
    "models,predictions = reg.fit(x3_train, x3_test, y3_train, y3_test)\n"
   ]
  },
  {
   "cell_type": "code",
   "execution_count": 89,
   "id": "a9c25137",
   "metadata": {},
   "outputs": [
    {
     "name": "stdout",
     "output_type": "stream",
     "text": [
      "                               Adjusted R-Squared  R-Squared      RMSE  \\\n",
      "Model                                                                    \n",
      "RandomForestRegressor                        0.88       0.88   9705.51   \n",
      "BaggingRegressor                             0.87       0.87   9940.59   \n",
      "ExtraTreesRegressor                          0.87       0.87  10108.75   \n",
      "LGBMRegressor                                0.86       0.86  10366.03   \n",
      "XGBRegressor                                 0.85       0.85  10806.03   \n",
      "HistGradientBoostingRegressor                0.85       0.85  10825.15   \n",
      "GradientBoostingRegressor                    0.83       0.83  11273.25   \n",
      "DecisionTreeRegressor                        0.83       0.83  11411.03   \n",
      "KNeighborsRegressor                          0.80       0.80  12387.45   \n",
      "ExtraTreeRegressor                           0.80       0.80  12404.65   \n",
      "LassoCV                                      0.76       0.76  13485.58   \n",
      "Lasso                                        0.76       0.76  13485.64   \n",
      "LassoLarsCV                                  0.76       0.76  13485.64   \n",
      "TransformedTargetRegressor                   0.76       0.76  13485.64   \n",
      "OrthogonalMatchingPursuitCV                  0.76       0.76  13485.64   \n",
      "LinearRegression                             0.76       0.76  13485.64   \n",
      "Lars                                         0.76       0.76  13485.64   \n",
      "LarsCV                                       0.76       0.76  13485.64   \n",
      "BayesianRidge                                0.76       0.76  13485.64   \n",
      "RidgeCV                                      0.76       0.76  13485.64   \n",
      "Ridge                                        0.76       0.76  13485.64   \n",
      "LassoLars                                    0.76       0.76  13486.83   \n",
      "LassoLarsIC                                  0.76       0.76  13486.84   \n",
      "SGDRegressor                                 0.76       0.76  13490.30   \n",
      "HuberRegressor                               0.76       0.76  13586.69   \n",
      "PassiveAggressiveRegressor                   0.76       0.76  13617.85   \n",
      "OrthogonalMatchingPursuit                    0.74       0.74  13979.61   \n",
      "AdaBoostRegressor                            0.73       0.73  14440.75   \n",
      "RANSACRegressor                              0.71       0.71  14817.35   \n",
      "PoissonRegressor                             0.68       0.68  15696.67   \n",
      "ElasticNet                                   0.67       0.67  15940.88   \n",
      "TweedieRegressor                             0.56       0.56  18350.82   \n",
      "GammaRegressor                               0.55       0.55  18459.57   \n",
      "NuSVR                                        0.07       0.07  26638.71   \n",
      "ElasticNetCV                                 0.06       0.06  26783.96   \n",
      "SVR                                          0.01       0.01  27408.78   \n",
      "DummyRegressor                              -0.00      -0.00  27618.62   \n",
      "MLPRegressor                                -0.24      -0.23  30688.22   \n",
      "LinearSVR                                   -1.80      -1.79  46164.44   \n",
      "KernelRidge                                 -2.61      -2.60  52423.62   \n",
      "GaussianProcessRegressor                   -48.51     -48.48 194258.03   \n",
      "\n",
      "                               Time Taken  \n",
      "Model                                      \n",
      "RandomForestRegressor                2.06  \n",
      "BaggingRegressor                     0.25  \n",
      "ExtraTreesRegressor                  1.55  \n",
      "LGBMRegressor                        0.16  \n",
      "XGBRegressor                         0.20  \n",
      "HistGradientBoostingRegressor        0.62  \n",
      "GradientBoostingRegressor            0.75  \n",
      "DecisionTreeRegressor                0.05  \n",
      "KNeighborsRegressor                  0.11  \n",
      "ExtraTreeRegressor                   0.06  \n",
      "LassoCV                              0.30  \n",
      "Lasso                                0.02  \n",
      "LassoLarsCV                          0.06  \n",
      "TransformedTargetRegressor           0.03  \n",
      "OrthogonalMatchingPursuitCV          0.03  \n",
      "LinearRegression                     0.02  \n",
      "Lars                                 0.03  \n",
      "LarsCV                               0.05  \n",
      "BayesianRidge                        0.02  \n",
      "RidgeCV                              0.03  \n",
      "Ridge                                0.02  \n",
      "LassoLars                            0.03  \n",
      "LassoLarsIC                          0.02  \n",
      "SGDRegressor                         0.02  \n",
      "HuberRegressor                       0.06  \n",
      "PassiveAggressiveRegressor           0.05  \n",
      "OrthogonalMatchingPursuit            0.02  \n",
      "AdaBoostRegressor                    0.21  \n",
      "RANSACRegressor                      0.06  \n",
      "PoissonRegressor                     0.02  \n",
      "ElasticNet                           0.02  \n",
      "TweedieRegressor                     0.03  \n",
      "GammaRegressor                       0.03  \n",
      "NuSVR                               28.95  \n",
      "ElasticNetCV                         0.20  \n",
      "SVR                                 32.47  \n",
      "DummyRegressor                       0.00  \n",
      "MLPRegressor                        12.73  \n",
      "LinearSVR                            0.05  \n",
      "KernelRidge                         45.11  \n",
      "GaussianProcessRegressor            90.76  \n"
     ]
    }
   ],
   "source": [
    "print(models)"
   ]
  },
  {
   "cell_type": "code",
   "execution_count": 90,
   "id": "e8e64ba7",
   "metadata": {},
   "outputs": [
    {
     "name": "stderr",
     "output_type": "stream",
     "text": [
      "100%|██████████████████████████████████████████████████████████████████████████████████| 41/41 [03:41<00:00,  5.40s/it]"
     ]
    },
    {
     "name": "stdout",
     "output_type": "stream",
     "text": [
      "[LightGBM] [Info] Auto-choosing row-wise multi-threading, the overhead of testing was 0.000250 seconds.\n",
      "You can set `force_row_wise=true` to remove the overhead.\n",
      "And if memory is not enough, you can set `force_col_wise=true`.\n",
      "[LightGBM] [Info] Total Bins 508\n",
      "[LightGBM] [Info] Number of data points in the train set: 14916, number of used features: 3\n",
      "[LightGBM] [Info] Start training from score 50708.009218\n"
     ]
    },
    {
     "name": "stderr",
     "output_type": "stream",
     "text": [
      "\n"
     ]
    }
   ],
   "source": [
    "reg = LazyRegressor(verbose=0,ignore_warnings=False, custom_metric=None )\n",
    "models,predictions = reg.fit(x4_train, x4_test, y4_train, y4_test)\n"
   ]
  },
  {
   "cell_type": "code",
   "execution_count": 91,
   "id": "bc82d6a5",
   "metadata": {},
   "outputs": [
    {
     "name": "stdout",
     "output_type": "stream",
     "text": [
      "                               Adjusted R-Squared  R-Squared      RMSE  \\\n",
      "Model                                                                    \n",
      "RandomForestRegressor                        0.85       0.85  10952.72   \n",
      "BaggingRegressor                             0.84       0.84  11185.38   \n",
      "LGBMRegressor                                0.83       0.83  11635.14   \n",
      "ExtraTreesRegressor                          0.82       0.82  11911.67   \n",
      "GradientBoostingRegressor                    0.81       0.81  12285.04   \n",
      "HistGradientBoostingRegressor                0.81       0.81  12326.62   \n",
      "XGBRegressor                                 0.80       0.80  12548.46   \n",
      "DecisionTreeRegressor                        0.79       0.79  12678.12   \n",
      "ExtraTreeRegressor                           0.77       0.77  13398.60   \n",
      "KNeighborsRegressor                          0.75       0.75  14085.59   \n",
      "AdaBoostRegressor                            0.74       0.74  14107.87   \n",
      "Lars                                         0.73       0.73  14490.56   \n",
      "TransformedTargetRegressor                   0.73       0.73  14490.56   \n",
      "LinearRegression                             0.73       0.73  14490.56   \n",
      "Ridge                                        0.73       0.73  14490.57   \n",
      "BayesianRidge                                0.73       0.73  14490.57   \n",
      "Lasso                                        0.73       0.73  14490.59   \n",
      "RidgeCV                                      0.73       0.73  14490.67   \n",
      "SGDRegressor                                 0.73       0.73  14493.04   \n",
      "OrthogonalMatchingPursuitCV                  0.73       0.73  14493.91   \n",
      "OrthogonalMatchingPursuit                    0.73       0.73  14493.91   \n",
      "LassoLars                                    0.73       0.73  14494.95   \n",
      "LassoLarsIC                                  0.73       0.73  14494.98   \n",
      "LassoLarsCV                                  0.73       0.73  14495.21   \n",
      "LarsCV                                       0.73       0.73  14495.21   \n",
      "LassoCV                                      0.73       0.73  14495.63   \n",
      "HuberRegressor                               0.73       0.73  14572.23   \n",
      "PassiveAggressiveRegressor                   0.72       0.72  14650.68   \n",
      "RANSACRegressor                              0.68       0.68  15810.44   \n",
      "ElasticNet                                   0.65       0.65  16563.94   \n",
      "PoissonRegressor                             0.63       0.63  16914.99   \n",
      "TweedieRegressor                             0.55       0.55  18790.86   \n",
      "GammaRegressor                               0.54       0.54  18921.79   \n",
      "NuSVR                                        0.07       0.07  26887.35   \n",
      "ElasticNetCV                                 0.06       0.06  27097.67   \n",
      "SVR                                          0.02       0.02  27609.01   \n",
      "DummyRegressor                              -0.00      -0.00  27924.04   \n",
      "MLPRegressor                                -0.21      -0.21  30666.71   \n",
      "LinearSVR                                   -1.73      -1.73  46162.74   \n",
      "KernelRidge                                 -2.58      -2.58  52814.78   \n",
      "GaussianProcessRegressor                  -556.44    -556.18 659122.81   \n",
      "\n",
      "                               Time Taken  \n",
      "Model                                      \n",
      "RandomForestRegressor                2.41  \n",
      "BaggingRegressor                     0.29  \n",
      "LGBMRegressor                        0.16  \n",
      "ExtraTreesRegressor                  1.56  \n",
      "GradientBoostingRegressor            1.25  \n",
      "HistGradientBoostingRegressor        0.58  \n",
      "XGBRegressor                         0.21  \n",
      "DecisionTreeRegressor                0.05  \n",
      "ExtraTreeRegressor                   0.05  \n",
      "KNeighborsRegressor                  0.13  \n",
      "AdaBoostRegressor                    0.14  \n",
      "Lars                                 0.02  \n",
      "TransformedTargetRegressor           0.02  \n",
      "LinearRegression                     0.03  \n",
      "Ridge                                0.02  \n",
      "BayesianRidge                        0.02  \n",
      "Lasso                                0.02  \n",
      "RidgeCV                              0.03  \n",
      "SGDRegressor                         0.02  \n",
      "OrthogonalMatchingPursuitCV          0.03  \n",
      "OrthogonalMatchingPursuit            0.02  \n",
      "LassoLars                            0.04  \n",
      "LassoLarsIC                          0.02  \n",
      "LassoLarsCV                          0.05  \n",
      "LarsCV                               0.05  \n",
      "LassoCV                              0.27  \n",
      "HuberRegressor                       0.12  \n",
      "PassiveAggressiveRegressor           0.06  \n",
      "RANSACRegressor                      0.03  \n",
      "ElasticNet                           0.03  \n",
      "PoissonRegressor                     0.04  \n",
      "TweedieRegressor                     0.03  \n",
      "GammaRegressor                       0.03  \n",
      "NuSVR                               29.30  \n",
      "ElasticNetCV                         0.21  \n",
      "SVR                                 33.22  \n",
      "DummyRegressor                       0.03  \n",
      "MLPRegressor                        12.93  \n",
      "LinearSVR                            0.03  \n",
      "KernelRidge                         46.14  \n",
      "GaussianProcessRegressor            91.75  \n"
     ]
    }
   ],
   "source": [
    "print(models)"
   ]
  },
  {
   "cell_type": "code",
   "execution_count": 92,
   "id": "9c84e3f1",
   "metadata": {},
   "outputs": [
    {
     "name": "stderr",
     "output_type": "stream",
     "text": [
      "100%|██████████████████████████████████████████████████████████████████████████████████| 41/41 [03:45<00:00,  5.49s/it]"
     ]
    },
    {
     "name": "stdout",
     "output_type": "stream",
     "text": [
      "[LightGBM] [Info] Auto-choosing row-wise multi-threading, the overhead of testing was 0.000215 seconds.\n",
      "You can set `force_row_wise=true` to remove the overhead.\n",
      "And if memory is not enough, you can set `force_col_wise=true`.\n",
      "[LightGBM] [Info] Total Bins 430\n",
      "[LightGBM] [Info] Number of data points in the train set: 14916, number of used features: 5\n",
      "[LightGBM] [Info] Start training from score 50759.719362\n"
     ]
    },
    {
     "name": "stderr",
     "output_type": "stream",
     "text": [
      "\n"
     ]
    }
   ],
   "source": [
    "reg = LazyRegressor(verbose=0,ignore_warnings=False, custom_metric=None )\n",
    "models,predictions = reg.fit(x5_train, x5_test, y5_train, y5_test)\n"
   ]
  },
  {
   "cell_type": "code",
   "execution_count": 93,
   "id": "a33d316f",
   "metadata": {},
   "outputs": [
    {
     "name": "stdout",
     "output_type": "stream",
     "text": [
      "                               Adjusted R-Squared  R-Squared       RMSE  \\\n",
      "Model                                                                     \n",
      "RandomForestRegressor                        0.87       0.87    9885.68   \n",
      "BaggingRegressor                             0.86       0.86   10235.56   \n",
      "ExtraTreesRegressor                          0.86       0.86   10456.29   \n",
      "LGBMRegressor                                0.85       0.85   10844.63   \n",
      "HistGradientBoostingRegressor                0.84       0.84   11264.35   \n",
      "XGBRegressor                                 0.83       0.83   11569.34   \n",
      "GradientBoostingRegressor                    0.83       0.83   11608.99   \n",
      "DecisionTreeRegressor                        0.78       0.78   12910.86   \n",
      "ExtraTreeRegressor                           0.77       0.77   13327.67   \n",
      "SGDRegressor                                 0.76       0.76   13729.83   \n",
      "OrthogonalMatchingPursuitCV                  0.76       0.76   13732.02   \n",
      "LassoCV                                      0.76       0.76   13740.07   \n",
      "Lasso                                        0.76       0.76   13740.51   \n",
      "LassoLarsIC                                  0.76       0.76   13740.53   \n",
      "TransformedTargetRegressor                   0.76       0.76   13740.53   \n",
      "LinearRegression                             0.76       0.76   13740.53   \n",
      "Lars                                         0.76       0.76   13740.53   \n",
      "LarsCV                                       0.76       0.76   13740.53   \n",
      "LassoLarsCV                                  0.76       0.76   13740.53   \n",
      "Ridge                                        0.76       0.76   13740.56   \n",
      "RidgeCV                                      0.76       0.76   13740.56   \n",
      "BayesianRidge                                0.76       0.76   13740.57   \n",
      "LassoLars                                    0.76       0.76   13742.15   \n",
      "HuberRegressor                               0.75       0.75   13827.95   \n",
      "OrthogonalMatchingPursuit                    0.75       0.75   13885.08   \n",
      "PassiveAggressiveRegressor                   0.75       0.75   13904.24   \n",
      "KNeighborsRegressor                          0.75       0.75   13919.20   \n",
      "RANSACRegressor                              0.73       0.73   14377.82   \n",
      "ElasticNet                                   0.66       0.66   16130.53   \n",
      "PoissonRegressor                             0.66       0.66   16219.74   \n",
      "AdaBoostRegressor                            0.59       0.59   17813.04   \n",
      "TweedieRegressor                             0.56       0.56   18338.08   \n",
      "GammaRegressor                               0.56       0.56   18521.74   \n",
      "ElasticNetCV                                 0.07       0.07   26838.70   \n",
      "NuSVR                                        0.06       0.06   26990.70   \n",
      "DummyRegressor                              -0.00      -0.00   27777.61   \n",
      "SVR                                         -0.02      -0.02   28005.14   \n",
      "MLPRegressor                                -0.12      -0.12   29341.63   \n",
      "LinearSVR                                   -1.73      -1.73   45858.29   \n",
      "KernelRidge                                 -2.62      -2.62   52827.33   \n",
      "GaussianProcessRegressor                -22053.97  -22036.72 4123616.42   \n",
      "\n",
      "                               Time Taken  \n",
      "Model                                      \n",
      "RandomForestRegressor                3.17  \n",
      "BaggingRegressor                     0.35  \n",
      "ExtraTreesRegressor                  2.25  \n",
      "LGBMRegressor                        0.18  \n",
      "HistGradientBoostingRegressor        0.50  \n",
      "XGBRegressor                         0.23  \n",
      "GradientBoostingRegressor            1.00  \n",
      "DecisionTreeRegressor                0.06  \n",
      "ExtraTreeRegressor                   0.05  \n",
      "SGDRegressor                         0.04  \n",
      "OrthogonalMatchingPursuitCV          0.05  \n",
      "LassoCV                              0.21  \n",
      "Lasso                                0.03  \n",
      "LassoLarsIC                          0.03  \n",
      "TransformedTargetRegressor           0.03  \n",
      "LinearRegression                     0.01  \n",
      "Lars                                 0.05  \n",
      "LarsCV                               0.07  \n",
      "LassoLarsCV                          0.07  \n",
      "Ridge                                0.02  \n",
      "RidgeCV                              0.03  \n",
      "BayesianRidge                        0.02  \n",
      "LassoLars                            0.03  \n",
      "HuberRegressor                       0.09  \n",
      "OrthogonalMatchingPursuit            0.02  \n",
      "PassiveAggressiveRegressor           0.03  \n",
      "KNeighborsRegressor                  0.47  \n",
      "RANSACRegressor                      0.04  \n",
      "ElasticNet                           0.02  \n",
      "PoissonRegressor                     0.05  \n",
      "AdaBoostRegressor                    0.42  \n",
      "TweedieRegressor                     0.04  \n",
      "GammaRegressor                       0.03  \n",
      "ElasticNetCV                         0.23  \n",
      "NuSVR                               28.44  \n",
      "DummyRegressor                       0.02  \n",
      "SVR                                 33.34  \n",
      "MLPRegressor                        13.41  \n",
      "LinearSVR                            0.04  \n",
      "KernelRidge                         45.57  \n",
      "GaussianProcessRegressor            94.41  \n"
     ]
    }
   ],
   "source": [
    "print(models)"
   ]
  },
  {
   "cell_type": "code",
   "execution_count": 94,
   "id": "1a13fc28",
   "metadata": {},
   "outputs": [
    {
     "name": "stderr",
     "output_type": "stream",
     "text": [
      " 98%|████████████████████████████████████████████████████████████████████████████████  | 40/41 [04:33<00:04,  4.06s/it]"
     ]
    },
    {
     "name": "stdout",
     "output_type": "stream",
     "text": [
      "[LightGBM] [Info] Auto-choosing row-wise multi-threading, the overhead of testing was 0.003202 seconds.\n",
      "You can set `force_row_wise=true` to remove the overhead.\n",
      "And if memory is not enough, you can set `force_col_wise=true`.\n",
      "[LightGBM] [Info] Total Bins 1088\n",
      "[LightGBM] [Info] Number of data points in the train set: 14916, number of used features: 12\n",
      "[LightGBM] [Info] Start training from score 50813.417572\n"
     ]
    },
    {
     "name": "stderr",
     "output_type": "stream",
     "text": [
      "100%|██████████████████████████████████████████████████████████████████████████████████| 41/41 [04:33<00:00,  6.67s/it]\n"
     ]
    }
   ],
   "source": [
    "reg = LazyRegressor(verbose=0,ignore_warnings=False, custom_metric=None )\n",
    "models,predictions = reg.fit(x6_train, x6_test, y6_train, y6_test)\n"
   ]
  },
  {
   "cell_type": "code",
   "execution_count": 95,
   "id": "476c999e",
   "metadata": {},
   "outputs": [
    {
     "name": "stdout",
     "output_type": "stream",
     "text": [
      "                               Adjusted R-Squared  R-Squared     RMSE  \\\n",
      "Model                                                                   \n",
      "RandomForestRegressor                        0.97       0.97  5135.86   \n",
      "BaggingRegressor                             0.96       0.96  5251.82   \n",
      "ExtraTreesRegressor                          0.96       0.96  5253.76   \n",
      "LGBMRegressor                                0.96       0.96  5781.42   \n",
      "XGBRegressor                                 0.95       0.95  5871.61   \n",
      "HistGradientBoostingRegressor                0.95       0.95  6053.19   \n",
      "DecisionTreeRegressor                        0.94       0.94  6541.13   \n",
      "GradientBoostingRegressor                    0.94       0.94  6800.19   \n",
      "ExtraTreeRegressor                           0.92       0.92  7696.07   \n",
      "LarsCV                                       0.89       0.89  9129.73   \n",
      "LassoLarsCV                                  0.89       0.89  9129.73   \n",
      "Lasso                                        0.89       0.89  9129.75   \n",
      "Ridge                                        0.89       0.89  9129.76   \n",
      "BayesianRidge                                0.89       0.89  9129.78   \n",
      "RidgeCV                                      0.89       0.89  9129.79   \n",
      "TransformedTargetRegressor                   0.89       0.89  9129.79   \n",
      "LinearRegression                             0.89       0.89  9129.79   \n",
      "Lars                                         0.89       0.89  9129.79   \n",
      "OrthogonalMatchingPursuitCV                  0.89       0.89  9130.05   \n",
      "LassoCV                                      0.89       0.89  9130.25   \n",
      "LassoLarsIC                                  0.89       0.89  9133.10   \n",
      "SGDRegressor                                 0.89       0.89  9136.97   \n",
      "LassoLars                                    0.89       0.89  9159.65   \n",
      "HuberRegressor                               0.88       0.88  9376.17   \n",
      "PassiveAggressiveRegressor                   0.88       0.88  9467.70   \n",
      "RANSACRegressor                              0.87       0.87 10061.34   \n",
      "AdaBoostRegressor                            0.82       0.82 11839.70   \n",
      "PoissonRegressor                             0.79       0.79 12557.54   \n",
      "KNeighborsRegressor                          0.75       0.75 13907.38   \n",
      "OrthogonalMatchingPursuit                    0.74       0.74 14135.74   \n",
      "ElasticNet                                   0.65       0.65 16380.72   \n",
      "GaussianProcessRegressor                     0.63       0.63 16701.10   \n",
      "TweedieRegressor                             0.58       0.58 17909.53   \n",
      "GammaRegressor                               0.54       0.54 18727.06   \n",
      "ElasticNetCV                                 0.11       0.11 25999.79   \n",
      "NuSVR                                        0.04       0.04 27063.17   \n",
      "DummyRegressor                              -0.00      -0.00 27579.73   \n",
      "SVR                                         -0.06      -0.06 28346.14   \n",
      "MLPRegressor                                -0.21      -0.20 30264.71   \n",
      "LinearSVR                                   -1.68      -1.67 45096.87   \n",
      "KernelRidge                                 -2.51      -2.50 51624.38   \n",
      "\n",
      "                               Time Taken  \n",
      "Model                                      \n",
      "RandomForestRegressor                6.59  \n",
      "BaggingRegressor                     0.64  \n",
      "ExtraTreesRegressor                  3.61  \n",
      "LGBMRegressor                        0.34  \n",
      "XGBRegressor                         0.71  \n",
      "HistGradientBoostingRegressor        1.29  \n",
      "DecisionTreeRegressor                0.14  \n",
      "GradientBoostingRegressor            2.28  \n",
      "ExtraTreeRegressor                   0.08  \n",
      "LarsCV                               0.14  \n",
      "LassoLarsCV                          0.20  \n",
      "Lasso                                0.09  \n",
      "Ridge                                0.05  \n",
      "BayesianRidge                        0.05  \n",
      "RidgeCV                              0.06  \n",
      "TransformedTargetRegressor           0.11  \n",
      "LinearRegression                     0.10  \n",
      "Lars                                 0.09  \n",
      "OrthogonalMatchingPursuitCV          0.09  \n",
      "LassoCV                              0.69  \n",
      "LassoLarsIC                          0.06  \n",
      "SGDRegressor                         0.10  \n",
      "LassoLars                            0.05  \n",
      "HuberRegressor                       0.16  \n",
      "PassiveAggressiveRegressor           0.14  \n",
      "RANSACRegressor                      0.33  \n",
      "AdaBoostRegressor                    0.52  \n",
      "PoissonRegressor                     0.09  \n",
      "KNeighborsRegressor                  2.51  \n",
      "OrthogonalMatchingPursuit            0.08  \n",
      "ElasticNet                           0.02  \n",
      "GaussianProcessRegressor           120.00  \n",
      "TweedieRegressor                     0.06  \n",
      "GammaRegressor                       0.06  \n",
      "ElasticNetCV                         0.25  \n",
      "NuSVR                               30.44  \n",
      "DummyRegressor                       0.05  \n",
      "SVR                                 31.73  \n",
      "MLPRegressor                        15.06  \n",
      "LinearSVR                            0.06  \n",
      "KernelRidge                         54.19  \n"
     ]
    }
   ],
   "source": [
    "print(models)"
   ]
  },
  {
   "cell_type": "code",
   "execution_count": 18,
   "id": "28091dee",
   "metadata": {},
   "outputs": [
    {
     "data": {
      "text/plain": [
       "Index(['BorrowerRate', 'EstimatedReturn', 'ProsperRating (numeric)',\n",
       "       'ListingCategory (numeric)', ' IsBorrowerHomeowner',\n",
       "       'CreditScoreRangeLower', 'OpenCreditLines', 'InquiriesLast6Months',\n",
       "       'PublicRecordsLast12Months', 'BankcardUtilization', 'DebtToIncomeRatio',\n",
       "       'StatedMonthlyIncome', 'LoanOriginalAmount', 'LoanOriginationDate',\n",
       "       'LoanStatus'],\n",
       "      dtype='object')"
      ]
     },
     "execution_count": 18,
     "metadata": {},
     "output_type": "execute_result"
    }
   ],
   "source": [
    "df1.columns"
   ]
  },
  {
   "cell_type": "code",
   "execution_count": 19,
   "id": "faa2fd3e",
   "metadata": {},
   "outputs": [],
   "source": [
    "col_rank= ['BorrowerRate', 'EstimatedReturn', 'ProsperRating (numeric)',\n",
    "       'ListingCategory (numeric)', ' IsBorrowerHomeowner',\n",
    "       'CreditScoreRangeLower', 'OpenCreditLines', 'InquiriesLast6Months',\n",
    "       'PublicRecordsLast12Months', 'BankcardUtilization', 'DebtToIncomeRatio',\n",
    "       'StatedMonthlyIncome', 'LoanOriginalAmount', 'LoanOriginationDate',\n",
    "       'LoanStatus']"
   ]
  },
  {
   "cell_type": "code",
   "execution_count": 22,
   "id": "29d47e78",
   "metadata": {},
   "outputs": [],
   "source": [
    "df1[col_rank]=df1[col_rank].rank(axis=0)"
   ]
  },
  {
   "cell_type": "code",
   "execution_count": 23,
   "id": "c5961186",
   "metadata": {},
   "outputs": [
    {
     "data": {
      "text/plain": [
       "Index(['BorrowerRate', 'EstimatedReturn', 'ProsperRating (numeric)',\n",
       "       'ListingCategory (numeric)', ' IsBorrowerHomeowner',\n",
       "       'CreditScoreRangeLower', 'OpenCreditLines', 'InquiriesLast6Months',\n",
       "       'PublicRecordsLast12Months', 'BankcardUtilization', 'DebtToIncomeRatio',\n",
       "       'StatedMonthlyIncome', 'LoanOriginalAmount', 'LoanOriginationDate',\n",
       "       'LoanStatus'],\n",
       "      dtype='object')"
      ]
     },
     "execution_count": 23,
     "metadata": {},
     "output_type": "execute_result"
    }
   ],
   "source": [
    "df1.columns"
   ]
  },
  {
   "cell_type": "code",
   "execution_count": 24,
   "id": "fe7ffc6f",
   "metadata": {},
   "outputs": [
    {
     "data": {
      "text/html": [
       "<div>\n",
       "<style scoped>\n",
       "    .dataframe tbody tr th:only-of-type {\n",
       "        vertical-align: middle;\n",
       "    }\n",
       "\n",
       "    .dataframe tbody tr th {\n",
       "        vertical-align: top;\n",
       "    }\n",
       "\n",
       "    .dataframe thead th {\n",
       "        text-align: right;\n",
       "    }\n",
       "</style>\n",
       "<table border=\"1\" class=\"dataframe\">\n",
       "  <thead>\n",
       "    <tr style=\"text-align: right;\">\n",
       "      <th></th>\n",
       "      <th>BorrowerRate</th>\n",
       "      <th>EstimatedReturn</th>\n",
       "      <th>ProsperRating (numeric)</th>\n",
       "      <th>ListingCategory (numeric)</th>\n",
       "      <th>IsBorrowerHomeowner</th>\n",
       "      <th>CreditScoreRangeLower</th>\n",
       "      <th>OpenCreditLines</th>\n",
       "      <th>InquiriesLast6Months</th>\n",
       "      <th>PublicRecordsLast12Months</th>\n",
       "      <th>BankcardUtilization</th>\n",
       "      <th>DebtToIncomeRatio</th>\n",
       "      <th>StatedMonthlyIncome</th>\n",
       "      <th>LoanOriginalAmount</th>\n",
       "      <th>LoanOriginationDate</th>\n",
       "      <th>LoanStatus</th>\n",
       "    </tr>\n",
       "  </thead>\n",
       "  <tbody>\n",
       "    <tr>\n",
       "      <th>15</th>\n",
       "      <td>18403.5</td>\n",
       "      <td>13786.5</td>\n",
       "      <td>1422.5</td>\n",
       "      <td>19951.5</td>\n",
       "      <td>15654.5</td>\n",
       "      <td>11343.5</td>\n",
       "      <td>12766.5</td>\n",
       "      <td>4628.0</td>\n",
       "      <td>10547.0</td>\n",
       "      <td>19861.5</td>\n",
       "      <td>20069.0</td>\n",
       "      <td>12896.5</td>\n",
       "      <td>7999.0</td>\n",
       "      <td>10889.0</td>\n",
       "      <td>20905.0</td>\n",
       "    </tr>\n",
       "    <tr>\n",
       "      <th>23</th>\n",
       "      <td>11466.5</td>\n",
       "      <td>9130.5</td>\n",
       "      <td>8287.5</td>\n",
       "      <td>20523.5</td>\n",
       "      <td>4999.5</td>\n",
       "      <td>8371.5</td>\n",
       "      <td>9008.5</td>\n",
       "      <td>4628.0</td>\n",
       "      <td>10547.0</td>\n",
       "      <td>16363.0</td>\n",
       "      <td>18721.5</td>\n",
       "      <td>2565.0</td>\n",
       "      <td>1874.5</td>\n",
       "      <td>11428.0</td>\n",
       "      <td>20905.0</td>\n",
       "    </tr>\n",
       "    <tr>\n",
       "      <th>26</th>\n",
       "      <td>15477.5</td>\n",
       "      <td>14241.5</td>\n",
       "      <td>4366.5</td>\n",
       "      <td>5460.0</td>\n",
       "      <td>4999.5</td>\n",
       "      <td>5190.0</td>\n",
       "      <td>6983.5</td>\n",
       "      <td>16424.5</td>\n",
       "      <td>10547.0</td>\n",
       "      <td>6483.5</td>\n",
       "      <td>3749.0</td>\n",
       "      <td>7468.0</td>\n",
       "      <td>7999.0</td>\n",
       "      <td>7469.0</td>\n",
       "      <td>12375.5</td>\n",
       "    </tr>\n",
       "    <tr>\n",
       "      <th>27</th>\n",
       "      <td>1873.5</td>\n",
       "      <td>2909.0</td>\n",
       "      <td>18365.0</td>\n",
       "      <td>5460.0</td>\n",
       "      <td>15654.5</td>\n",
       "      <td>11343.5</td>\n",
       "      <td>19791.5</td>\n",
       "      <td>16424.5</td>\n",
       "      <td>10547.0</td>\n",
       "      <td>3102.0</td>\n",
       "      <td>14197.5</td>\n",
       "      <td>15548.5</td>\n",
       "      <td>7999.0</td>\n",
       "      <td>14986.5</td>\n",
       "      <td>12375.5</td>\n",
       "    </tr>\n",
       "    <tr>\n",
       "      <th>30</th>\n",
       "      <td>2612.5</td>\n",
       "      <td>1320.0</td>\n",
       "      <td>18365.0</td>\n",
       "      <td>21232.0</td>\n",
       "      <td>4999.5</td>\n",
       "      <td>16325.5</td>\n",
       "      <td>3331.5</td>\n",
       "      <td>4628.0</td>\n",
       "      <td>10547.0</td>\n",
       "      <td>3703.0</td>\n",
       "      <td>3749.0</td>\n",
       "      <td>6979.5</td>\n",
       "      <td>16887.0</td>\n",
       "      <td>8412.0</td>\n",
       "      <td>12375.5</td>\n",
       "    </tr>\n",
       "  </tbody>\n",
       "</table>\n",
       "</div>"
      ],
      "text/plain": [
       "    BorrowerRate  EstimatedReturn  ProsperRating (numeric)  \\\n",
       "15       18403.5          13786.5                   1422.5   \n",
       "23       11466.5           9130.5                   8287.5   \n",
       "26       15477.5          14241.5                   4366.5   \n",
       "27        1873.5           2909.0                  18365.0   \n",
       "30        2612.5           1320.0                  18365.0   \n",
       "\n",
       "    ListingCategory (numeric)   IsBorrowerHomeowner  CreditScoreRangeLower  \\\n",
       "15                    19951.5               15654.5                11343.5   \n",
       "23                    20523.5                4999.5                 8371.5   \n",
       "26                     5460.0                4999.5                 5190.0   \n",
       "27                     5460.0               15654.5                11343.5   \n",
       "30                    21232.0                4999.5                16325.5   \n",
       "\n",
       "    OpenCreditLines  InquiriesLast6Months  PublicRecordsLast12Months  \\\n",
       "15          12766.5                4628.0                    10547.0   \n",
       "23           9008.5                4628.0                    10547.0   \n",
       "26           6983.5               16424.5                    10547.0   \n",
       "27          19791.5               16424.5                    10547.0   \n",
       "30           3331.5                4628.0                    10547.0   \n",
       "\n",
       "    BankcardUtilization  DebtToIncomeRatio  StatedMonthlyIncome  \\\n",
       "15              19861.5            20069.0              12896.5   \n",
       "23              16363.0            18721.5               2565.0   \n",
       "26               6483.5             3749.0               7468.0   \n",
       "27               3102.0            14197.5              15548.5   \n",
       "30               3703.0             3749.0               6979.5   \n",
       "\n",
       "    LoanOriginalAmount  LoanOriginationDate  LoanStatus  \n",
       "15              7999.0              10889.0     20905.0  \n",
       "23              1874.5              11428.0     20905.0  \n",
       "26              7999.0               7469.0     12375.5  \n",
       "27              7999.0              14986.5     12375.5  \n",
       "30             16887.0               8412.0     12375.5  "
      ]
     },
     "execution_count": 24,
     "metadata": {},
     "output_type": "execute_result"
    }
   ],
   "source": [
    "df1.head()"
   ]
  },
  {
   "cell_type": "code",
   "execution_count": 16,
   "id": "60124c19",
   "metadata": {},
   "outputs": [],
   "source": [
    "columns_to_transform = ['EstimatedReturn', 'BorrowerRate']\n",
    "df1[columns_to_transform] = df1[columns_to_transform].rank(axis=0)"
   ]
  },
  {
   "cell_type": "code",
   "execution_count": 17,
   "id": "bfd8c947",
   "metadata": {},
   "outputs": [
    {
     "data": {
      "text/plain": [
       "Index(['BorrowerRate', 'EstimatedReturn', 'ProsperRating (numeric)',\n",
       "       'ListingCategory (numeric)', ' IsBorrowerHomeowner',\n",
       "       'CreditScoreRangeLower', 'OpenCreditLines', 'InquiriesLast6Months',\n",
       "       'PublicRecordsLast12Months', 'BankcardUtilization', 'DebtToIncomeRatio',\n",
       "       'StatedMonthlyIncome', 'LoanOriginalAmount', 'LoanOriginationDate',\n",
       "       'LoanStatus'],\n",
       "      dtype='object')"
      ]
     },
     "execution_count": 17,
     "metadata": {},
     "output_type": "execute_result"
    }
   ],
   "source": [
    "df1.columns"
   ]
  },
  {
   "cell_type": "code",
   "execution_count": 18,
   "id": "f0980636",
   "metadata": {},
   "outputs": [
    {
     "data": {
      "text/html": [
       "<div>\n",
       "<style scoped>\n",
       "    .dataframe tbody tr th:only-of-type {\n",
       "        vertical-align: middle;\n",
       "    }\n",
       "\n",
       "    .dataframe tbody tr th {\n",
       "        vertical-align: top;\n",
       "    }\n",
       "\n",
       "    .dataframe thead th {\n",
       "        text-align: right;\n",
       "    }\n",
       "</style>\n",
       "<table border=\"1\" class=\"dataframe\">\n",
       "  <thead>\n",
       "    <tr style=\"text-align: right;\">\n",
       "      <th></th>\n",
       "      <th>BorrowerRate</th>\n",
       "      <th>EstimatedReturn</th>\n",
       "      <th>ProsperRating (numeric)</th>\n",
       "      <th>ListingCategory (numeric)</th>\n",
       "      <th>IsBorrowerHomeowner</th>\n",
       "      <th>CreditScoreRangeLower</th>\n",
       "      <th>OpenCreditLines</th>\n",
       "      <th>InquiriesLast6Months</th>\n",
       "      <th>PublicRecordsLast12Months</th>\n",
       "      <th>BankcardUtilization</th>\n",
       "      <th>DebtToIncomeRatio</th>\n",
       "      <th>StatedMonthlyIncome</th>\n",
       "      <th>LoanOriginalAmount</th>\n",
       "      <th>LoanOriginationDate</th>\n",
       "      <th>LoanStatus</th>\n",
       "    </tr>\n",
       "  </thead>\n",
       "  <tbody>\n",
       "    <tr>\n",
       "      <th>15</th>\n",
       "      <td>18403.5</td>\n",
       "      <td>13786.5</td>\n",
       "      <td>1.0</td>\n",
       "      <td>13</td>\n",
       "      <td>True</td>\n",
       "      <td>700.0</td>\n",
       "      <td>9.0</td>\n",
       "      <td>0.0</td>\n",
       "      <td>0.0</td>\n",
       "      <td>0.97</td>\n",
       "      <td>0.49</td>\n",
       "      <td>5500.000000</td>\n",
       "      <td>4000</td>\n",
       "      <td>4/19/2012 0:00</td>\n",
       "      <td>Defaulted</td>\n",
       "    </tr>\n",
       "    <tr>\n",
       "      <th>23</th>\n",
       "      <td>11466.5</td>\n",
       "      <td>9130.5</td>\n",
       "      <td>3.0</td>\n",
       "      <td>15</td>\n",
       "      <td>False</td>\n",
       "      <td>680.0</td>\n",
       "      <td>7.0</td>\n",
       "      <td>0.0</td>\n",
       "      <td>0.0</td>\n",
       "      <td>0.84</td>\n",
       "      <td>0.39</td>\n",
       "      <td>2500.000000</td>\n",
       "      <td>2000</td>\n",
       "      <td>4/26/2013 0:00</td>\n",
       "      <td>Defaulted</td>\n",
       "    </tr>\n",
       "    <tr>\n",
       "      <th>26</th>\n",
       "      <td>15477.5</td>\n",
       "      <td>14241.5</td>\n",
       "      <td>2.0</td>\n",
       "      <td>1</td>\n",
       "      <td>False</td>\n",
       "      <td>660.0</td>\n",
       "      <td>6.0</td>\n",
       "      <td>2.0</td>\n",
       "      <td>0.0</td>\n",
       "      <td>0.30</td>\n",
       "      <td>0.11</td>\n",
       "      <td>3885.916667</td>\n",
       "      <td>4000</td>\n",
       "      <td>2/21/2013 0:00</td>\n",
       "      <td>Completed</td>\n",
       "    </tr>\n",
       "    <tr>\n",
       "      <th>27</th>\n",
       "      <td>1873.5</td>\n",
       "      <td>2909.0</td>\n",
       "      <td>6.0</td>\n",
       "      <td>1</td>\n",
       "      <td>True</td>\n",
       "      <td>700.0</td>\n",
       "      <td>16.0</td>\n",
       "      <td>2.0</td>\n",
       "      <td>0.0</td>\n",
       "      <td>0.09</td>\n",
       "      <td>0.26</td>\n",
       "      <td>6666.666667</td>\n",
       "      <td>4000</td>\n",
       "      <td>6/24/2010 0:00</td>\n",
       "      <td>Completed</td>\n",
       "    </tr>\n",
       "    <tr>\n",
       "      <th>30</th>\n",
       "      <td>2612.5</td>\n",
       "      <td>1320.0</td>\n",
       "      <td>6.0</td>\n",
       "      <td>20</td>\n",
       "      <td>False</td>\n",
       "      <td>740.0</td>\n",
       "      <td>4.0</td>\n",
       "      <td>0.0</td>\n",
       "      <td>0.0</td>\n",
       "      <td>0.13</td>\n",
       "      <td>0.11</td>\n",
       "      <td>3750.000000</td>\n",
       "      <td>10000</td>\n",
       "      <td>2/7/2012 0:00</td>\n",
       "      <td>Completed</td>\n",
       "    </tr>\n",
       "  </tbody>\n",
       "</table>\n",
       "</div>"
      ],
      "text/plain": [
       "    BorrowerRate  EstimatedReturn  ProsperRating (numeric)  \\\n",
       "15       18403.5          13786.5                      1.0   \n",
       "23       11466.5           9130.5                      3.0   \n",
       "26       15477.5          14241.5                      2.0   \n",
       "27        1873.5           2909.0                      6.0   \n",
       "30        2612.5           1320.0                      6.0   \n",
       "\n",
       "    ListingCategory (numeric)   IsBorrowerHomeowner  CreditScoreRangeLower  \\\n",
       "15                         13                  True                  700.0   \n",
       "23                         15                 False                  680.0   \n",
       "26                          1                 False                  660.0   \n",
       "27                          1                  True                  700.0   \n",
       "30                         20                 False                  740.0   \n",
       "\n",
       "    OpenCreditLines  InquiriesLast6Months  PublicRecordsLast12Months  \\\n",
       "15              9.0                   0.0                        0.0   \n",
       "23              7.0                   0.0                        0.0   \n",
       "26              6.0                   2.0                        0.0   \n",
       "27             16.0                   2.0                        0.0   \n",
       "30              4.0                   0.0                        0.0   \n",
       "\n",
       "    BankcardUtilization  DebtToIncomeRatio  StatedMonthlyIncome  \\\n",
       "15                 0.97               0.49          5500.000000   \n",
       "23                 0.84               0.39          2500.000000   \n",
       "26                 0.30               0.11          3885.916667   \n",
       "27                 0.09               0.26          6666.666667   \n",
       "30                 0.13               0.11          3750.000000   \n",
       "\n",
       "    LoanOriginalAmount LoanOriginationDate LoanStatus  \n",
       "15                4000      4/19/2012 0:00  Defaulted  \n",
       "23                2000      4/26/2013 0:00  Defaulted  \n",
       "26                4000      2/21/2013 0:00  Completed  \n",
       "27                4000      6/24/2010 0:00  Completed  \n",
       "30               10000       2/7/2012 0:00  Completed  "
      ]
     },
     "execution_count": 18,
     "metadata": {},
     "output_type": "execute_result"
    }
   ],
   "source": [
    "df1.head(5)"
   ]
  },
  {
   "cell_type": "code",
   "execution_count": 39,
   "id": "a04a082d",
   "metadata": {},
   "outputs": [],
   "source": [
    "x2=df2[['BorrowerRate','ProsperRating (numeric)','CreditScoreRangeLower']]"
   ]
  },
  {
   "cell_type": "code",
   "execution_count": 40,
   "id": "d9a8520e",
   "metadata": {},
   "outputs": [],
   "source": [
    "y2=df2['EstimatedReturn']"
   ]
  },
  {
   "cell_type": "code",
   "execution_count": 41,
   "id": "7c8179ff",
   "metadata": {},
   "outputs": [],
   "source": [
    "x2_train, x2_test , y2_train, y2_test = train_test_split(x2, y2, train_size=.7) "
   ]
  },
  {
   "cell_type": "code",
   "execution_count": 42,
   "id": "38f7f71b",
   "metadata": {},
   "outputs": [],
   "source": [
    "from sklearn import linear_model\n",
    "from sklearn.linear_model import LinearRegression\n"
   ]
  },
  {
   "cell_type": "code",
   "execution_count": 43,
   "id": "56874cb9",
   "metadata": {},
   "outputs": [
    {
     "data": {
      "text/plain": [
       "array([14992.93585139,  4343.92297884, 12833.17558605, ...,\n",
       "        4854.2632306 , 14281.15526837, 15647.75635979])"
      ]
     },
     "execution_count": 43,
     "metadata": {},
     "output_type": "execute_result"
    }
   ],
   "source": [
    "model2= LinearRegression().fit(x2_train, y2_train)\n",
    "pred2= model2.predict(x2_test)\n",
    "pred2"
   ]
  },
  {
   "cell_type": "code",
   "execution_count": 44,
   "id": "643e30ac",
   "metadata": {},
   "outputs": [
    {
     "data": {
      "text/plain": [
       "array([ 1.81487529e+00,  3.86138600e+03, -1.18630097e+01])"
      ]
     },
     "execution_count": 44,
     "metadata": {},
     "output_type": "execute_result"
    }
   ],
   "source": [
    "model2.coef_"
   ]
  },
  {
   "cell_type": "code",
   "execution_count": null,
   "id": "052634ba",
   "metadata": {},
   "outputs": [],
   "source": []
  }
 ],
 "metadata": {
  "kernelspec": {
   "display_name": "Python 3 (ipykernel)",
   "language": "python",
   "name": "python3"
  },
  "language_info": {
   "codemirror_mode": {
    "name": "ipython",
    "version": 3
   },
   "file_extension": ".py",
   "mimetype": "text/x-python",
   "name": "python",
   "nbconvert_exporter": "python",
   "pygments_lexer": "ipython3",
   "version": "3.12.10"
  }
 },
 "nbformat": 4,
 "nbformat_minor": 5
}
