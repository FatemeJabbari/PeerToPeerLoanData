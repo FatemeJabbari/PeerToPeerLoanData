{
 "cells": [
  {
   "cell_type": "code",
   "execution_count": 1,
   "id": "bf9ec0ca",
   "metadata": {},
   "outputs": [],
   "source": [
    "import numpy as np \n",
    "import pandas as pd\n",
    "import matplotlib.pyplot as plt \n",
    "import seaborn as sb \n",
    "import numpy_financial as npf\n",
    "from sklearn.metrics import confusion_matrix, accuracy_score\n"
   ]
  },
  {
   "cell_type": "code",
   "execution_count": 2,
   "id": "de46bdb7",
   "metadata": {},
   "outputs": [
    {
     "data": {
      "text/html": [
       "<div>\n",
       "<style scoped>\n",
       "    .dataframe tbody tr th:only-of-type {\n",
       "        vertical-align: middle;\n",
       "    }\n",
       "\n",
       "    .dataframe tbody tr th {\n",
       "        vertical-align: top;\n",
       "    }\n",
       "\n",
       "    .dataframe thead th {\n",
       "        text-align: right;\n",
       "    }\n",
       "</style>\n",
       "<table border=\"1\" class=\"dataframe\">\n",
       "  <thead>\n",
       "    <tr style=\"text-align: right;\">\n",
       "      <th></th>\n",
       "      <th>ListingKey</th>\n",
       "      <th>ListingNumber</th>\n",
       "      <th>ListingCreationDate</th>\n",
       "      <th>CreditGrade</th>\n",
       "      <th>Term</th>\n",
       "      <th>LoanStatus</th>\n",
       "      <th>ClosedDate</th>\n",
       "      <th>BorrowerAPR</th>\n",
       "      <th>BorrowerRate</th>\n",
       "      <th>LenderYield</th>\n",
       "      <th>...</th>\n",
       "      <th>LP_ServiceFees</th>\n",
       "      <th>LP_CollectionFees</th>\n",
       "      <th>LP_GrossPrincipalLoss</th>\n",
       "      <th>LP_NetPrincipalLoss</th>\n",
       "      <th>LP_NonPrincipalRecoverypayments</th>\n",
       "      <th>PercentFunded</th>\n",
       "      <th>Recommendations</th>\n",
       "      <th>InvestmentFromFriendsCount</th>\n",
       "      <th>InvestmentFromFriendsAmount</th>\n",
       "      <th>Investors</th>\n",
       "    </tr>\n",
       "  </thead>\n",
       "  <tbody>\n",
       "    <tr>\n",
       "      <th>0</th>\n",
       "      <td>1021339766868145413AB3B</td>\n",
       "      <td>193129</td>\n",
       "      <td>09:29.3</td>\n",
       "      <td>C</td>\n",
       "      <td>36</td>\n",
       "      <td>Completed</td>\n",
       "      <td>8/14/2009 0:00</td>\n",
       "      <td>0.16516</td>\n",
       "      <td>0.1580</td>\n",
       "      <td>0.1380</td>\n",
       "      <td>...</td>\n",
       "      <td>-133.18</td>\n",
       "      <td>0.0</td>\n",
       "      <td>0.0</td>\n",
       "      <td>0.0</td>\n",
       "      <td>0.0</td>\n",
       "      <td>1.0</td>\n",
       "      <td>0</td>\n",
       "      <td>0</td>\n",
       "      <td>0.0</td>\n",
       "      <td>258</td>\n",
       "    </tr>\n",
       "    <tr>\n",
       "      <th>1</th>\n",
       "      <td>10273602499503308B223C1</td>\n",
       "      <td>1209647</td>\n",
       "      <td>28:07.9</td>\n",
       "      <td>NaN</td>\n",
       "      <td>36</td>\n",
       "      <td>Current</td>\n",
       "      <td>NaN</td>\n",
       "      <td>0.12016</td>\n",
       "      <td>0.0920</td>\n",
       "      <td>0.0820</td>\n",
       "      <td>...</td>\n",
       "      <td>0.00</td>\n",
       "      <td>0.0</td>\n",
       "      <td>0.0</td>\n",
       "      <td>0.0</td>\n",
       "      <td>0.0</td>\n",
       "      <td>1.0</td>\n",
       "      <td>0</td>\n",
       "      <td>0</td>\n",
       "      <td>0.0</td>\n",
       "      <td>1</td>\n",
       "    </tr>\n",
       "    <tr>\n",
       "      <th>2</th>\n",
       "      <td>0EE9337825851032864889A</td>\n",
       "      <td>81716</td>\n",
       "      <td>00:47.1</td>\n",
       "      <td>HR</td>\n",
       "      <td>36</td>\n",
       "      <td>Completed</td>\n",
       "      <td>12/17/2009 0:00</td>\n",
       "      <td>0.28269</td>\n",
       "      <td>0.2750</td>\n",
       "      <td>0.2400</td>\n",
       "      <td>...</td>\n",
       "      <td>-24.20</td>\n",
       "      <td>0.0</td>\n",
       "      <td>0.0</td>\n",
       "      <td>0.0</td>\n",
       "      <td>0.0</td>\n",
       "      <td>1.0</td>\n",
       "      <td>0</td>\n",
       "      <td>0</td>\n",
       "      <td>0.0</td>\n",
       "      <td>41</td>\n",
       "    </tr>\n",
       "    <tr>\n",
       "      <th>3</th>\n",
       "      <td>0EF5356002482715299901A</td>\n",
       "      <td>658116</td>\n",
       "      <td>02:35.0</td>\n",
       "      <td>NaN</td>\n",
       "      <td>36</td>\n",
       "      <td>Current</td>\n",
       "      <td>NaN</td>\n",
       "      <td>0.12528</td>\n",
       "      <td>0.0974</td>\n",
       "      <td>0.0874</td>\n",
       "      <td>...</td>\n",
       "      <td>-108.01</td>\n",
       "      <td>0.0</td>\n",
       "      <td>0.0</td>\n",
       "      <td>0.0</td>\n",
       "      <td>0.0</td>\n",
       "      <td>1.0</td>\n",
       "      <td>0</td>\n",
       "      <td>0</td>\n",
       "      <td>0.0</td>\n",
       "      <td>158</td>\n",
       "    </tr>\n",
       "    <tr>\n",
       "      <th>4</th>\n",
       "      <td>0F023589499656230C5E3E2</td>\n",
       "      <td>909464</td>\n",
       "      <td>38:39.1</td>\n",
       "      <td>NaN</td>\n",
       "      <td>36</td>\n",
       "      <td>Current</td>\n",
       "      <td>NaN</td>\n",
       "      <td>0.24614</td>\n",
       "      <td>0.2085</td>\n",
       "      <td>0.1985</td>\n",
       "      <td>...</td>\n",
       "      <td>-60.27</td>\n",
       "      <td>0.0</td>\n",
       "      <td>0.0</td>\n",
       "      <td>0.0</td>\n",
       "      <td>0.0</td>\n",
       "      <td>1.0</td>\n",
       "      <td>0</td>\n",
       "      <td>0</td>\n",
       "      <td>0.0</td>\n",
       "      <td>20</td>\n",
       "    </tr>\n",
       "  </tbody>\n",
       "</table>\n",
       "<p>5 rows × 81 columns</p>\n",
       "</div>"
      ],
      "text/plain": [
       "                ListingKey  ListingNumber ListingCreationDate CreditGrade  \\\n",
       "0  1021339766868145413AB3B         193129             09:29.3           C   \n",
       "1  10273602499503308B223C1        1209647             28:07.9         NaN   \n",
       "2  0EE9337825851032864889A          81716             00:47.1          HR   \n",
       "3  0EF5356002482715299901A         658116             02:35.0         NaN   \n",
       "4  0F023589499656230C5E3E2         909464             38:39.1         NaN   \n",
       "\n",
       "   Term LoanStatus       ClosedDate  BorrowerAPR  BorrowerRate  LenderYield  \\\n",
       "0    36  Completed   8/14/2009 0:00      0.16516        0.1580       0.1380   \n",
       "1    36    Current              NaN      0.12016        0.0920       0.0820   \n",
       "2    36  Completed  12/17/2009 0:00      0.28269        0.2750       0.2400   \n",
       "3    36    Current              NaN      0.12528        0.0974       0.0874   \n",
       "4    36    Current              NaN      0.24614        0.2085       0.1985   \n",
       "\n",
       "   ...  LP_ServiceFees  LP_CollectionFees  LP_GrossPrincipalLoss  \\\n",
       "0  ...         -133.18                0.0                    0.0   \n",
       "1  ...            0.00                0.0                    0.0   \n",
       "2  ...          -24.20                0.0                    0.0   \n",
       "3  ...         -108.01                0.0                    0.0   \n",
       "4  ...          -60.27                0.0                    0.0   \n",
       "\n",
       "   LP_NetPrincipalLoss LP_NonPrincipalRecoverypayments  PercentFunded  \\\n",
       "0                  0.0                             0.0            1.0   \n",
       "1                  0.0                             0.0            1.0   \n",
       "2                  0.0                             0.0            1.0   \n",
       "3                  0.0                             0.0            1.0   \n",
       "4                  0.0                             0.0            1.0   \n",
       "\n",
       "   Recommendations InvestmentFromFriendsCount InvestmentFromFriendsAmount  \\\n",
       "0                0                          0                         0.0   \n",
       "1                0                          0                         0.0   \n",
       "2                0                          0                         0.0   \n",
       "3                0                          0                         0.0   \n",
       "4                0                          0                         0.0   \n",
       "\n",
       "  Investors  \n",
       "0       258  \n",
       "1         1  \n",
       "2        41  \n",
       "3       158  \n",
       "4        20  \n",
       "\n",
       "[5 rows x 81 columns]"
      ]
     },
     "execution_count": 2,
     "metadata": {},
     "output_type": "execute_result"
    }
   ],
   "source": [
    "df= pd.read_csv('downloads/ProsperLoanData.csv')\n",
    "df.head()"
   ]
  },
  {
   "cell_type": "code",
   "execution_count": 4,
   "id": "44b31110",
   "metadata": {},
   "outputs": [],
   "source": [
    "df1 = df[['BorrowerRate','EstimatedReturn','ProsperRating (numeric)','ListingCategory (numeric)',' IsBorrowerHomeowner','CreditScoreRangeLower',\n",
    "         'OpenCreditLines','InquiriesLast6Months','PublicRecordsLast12Months','BankcardUtilization','DebtToIncomeRatio','StatedMonthlyIncome','LoanOriginalAmount','LoanOriginationDate','LoanStatus']]"
   ]
  },
  {
   "cell_type": "code",
   "execution_count": 5,
   "id": "2eade1ea",
   "metadata": {},
   "outputs": [],
   "source": [
    "import datetime"
   ]
  },
  {
   "cell_type": "code",
   "execution_count": 6,
   "id": "80a77908",
   "metadata": {},
   "outputs": [
    {
     "name": "stderr",
     "output_type": "stream",
     "text": [
      "C:\\Users\\JAHANL~1\\AppData\\Local\\Temp/ipykernel_6748/199776526.py:1: SettingWithCopyWarning: \n",
      "A value is trying to be set on a copy of a slice from a DataFrame.\n",
      "Try using .loc[row_indexer,col_indexer] = value instead\n",
      "\n",
      "See the caveats in the documentation: https://pandas.pydata.org/pandas-docs/stable/user_guide/indexing.html#returning-a-view-versus-a-copy\n",
      "  df1['Datetime']= pd.to_datetime(df1['LoanOriginationDate'])\n"
     ]
    }
   ],
   "source": [
    "df1['Datetime']= pd.to_datetime(df1['LoanOriginationDate'])\n"
   ]
  },
  {
   "cell_type": "code",
   "execution_count": 7,
   "id": "a72b73c1",
   "metadata": {},
   "outputs": [],
   "source": [
    "cutoff_date ='2009-12-31'\n",
    "df1= df1.loc[df1['Datetime'] >= cutoff_date]"
   ]
  },
  {
   "cell_type": "code",
   "execution_count": 8,
   "id": "e4e7d524",
   "metadata": {},
   "outputs": [],
   "source": [
    "df1.drop(df1.index[np.where(df1['LoanStatus'] == 'Current')], inplace=True)\n",
    "df1.drop(df1.index[np.where(df1['LoanStatus'] == 'Past Due (1-15 days)')], inplace=True)\n",
    "df1.drop(df1.index[np.where(df1['LoanStatus'] == 'Past Due (16-30 days)')], inplace=True)\n",
    "df1.drop(df1.index[np.where(df1['LoanStatus'] == 'Past Due (61-90 days)')], inplace=True)\n",
    "df1.drop(df1.index[np.where(df1['LoanStatus'] == 'Past Due (31-60 days)')], inplace=True)\n",
    "df1.drop(df1.index[np.where(df1['LoanStatus'] == 'Past Due (91-120 days)')], inplace=True)\n",
    "df1.drop(df1.index[np.where(df1['LoanStatus'] == 'Past Due (>120 days)')], inplace=True)\n",
    "df1.drop(df1.index[np.where(df1['LoanStatus'] == 'FinalPaymentInProgress')], inplace=True)"
   ]
  },
  {
   "cell_type": "code",
   "execution_count": 10,
   "id": "3f065ddd",
   "metadata": {},
   "outputs": [],
   "source": [
    "label = []\n",
    "\n",
    "for i in range(len(df1)):\n",
    "    if df1.iloc[i][' IsBorrowerHomeowner'] == True :\n",
    "        label.append(1)\n",
    "    else:\n",
    "        label.append(0) "
   ]
  },
  {
   "cell_type": "code",
   "execution_count": 11,
   "id": "05649c44",
   "metadata": {},
   "outputs": [],
   "source": [
    "df1.insert(12, 'Home', label , True)"
   ]
  },
  {
   "cell_type": "code",
   "execution_count": 12,
   "id": "ad18faf9",
   "metadata": {},
   "outputs": [],
   "source": [
    "df1=df1.drop([' IsBorrowerHomeowner'], axis=1)"
   ]
  },
  {
   "cell_type": "code",
   "execution_count": 13,
   "id": "dbd9c97f",
   "metadata": {},
   "outputs": [],
   "source": [
    "labels = []\n",
    "\n",
    "for i in range(len(df1)):\n",
    "    if df1.iloc[i]['LoanStatus'] == 'Completed' :\n",
    "        labels.append(1)\n",
    "    else:\n",
    "        labels.append(0) "
   ]
  },
  {
   "cell_type": "code",
   "execution_count": 14,
   "id": "daf2a79c",
   "metadata": {},
   "outputs": [],
   "source": [
    "df1.insert( 14,'LoanStat', labels, True)"
   ]
  },
  {
   "cell_type": "code",
   "execution_count": 15,
   "id": "d101434b",
   "metadata": {},
   "outputs": [],
   "source": [
    "df1=df1.drop(['LoanStatus'], axis=1)"
   ]
  },
  {
   "cell_type": "code",
   "execution_count": 16,
   "id": "9238e41c",
   "metadata": {},
   "outputs": [],
   "source": [
    "df1=df1.dropna(subset=['EstimatedReturn', 'DebtToIncomeRatio', 'ProsperRating (numeric)'])"
   ]
  },
  {
   "cell_type": "code",
   "execution_count": 17,
   "id": "15759c8a",
   "metadata": {},
   "outputs": [
    {
     "data": {
      "text/plain": [
       "BorrowerRate                 0\n",
       "EstimatedReturn              0\n",
       "ProsperRating (numeric)      0\n",
       "ListingCategory (numeric)    0\n",
       "CreditScoreRangeLower        0\n",
       "OpenCreditLines              0\n",
       "InquiriesLast6Months         0\n",
       "PublicRecordsLast12Months    0\n",
       "BankcardUtilization          0\n",
       "DebtToIncomeRatio            0\n",
       "StatedMonthlyIncome          0\n",
       "Home                         0\n",
       "LoanOriginalAmount           0\n",
       "LoanOriginationDate          0\n",
       "LoanStat                     0\n",
       "Datetime                     0\n",
       "dtype: int64"
      ]
     },
     "execution_count": 17,
     "metadata": {},
     "output_type": "execute_result"
    }
   ],
   "source": [
    "df1.isnull().sum()"
   ]
  },
  {
   "cell_type": "code",
   "execution_count": 18,
   "id": "8a01c7df",
   "metadata": {},
   "outputs": [],
   "source": [
    "from sklearn.utils import shuffle"
   ]
  },
  {
   "cell_type": "code",
   "execution_count": 19,
   "id": "dd49292b",
   "metadata": {},
   "outputs": [],
   "source": [
    "df2 = shuffle(df1)"
   ]
  },
  {
   "cell_type": "code",
   "execution_count": 20,
   "id": "7a31546a",
   "metadata": {},
   "outputs": [],
   "source": [
    "from sklearn.model_selection import train_test_split"
   ]
  },
  {
   "cell_type": "code",
   "execution_count": 21,
   "id": "0f12634f",
   "metadata": {},
   "outputs": [
    {
     "data": {
      "text/plain": [
       "Index(['BorrowerRate', 'EstimatedReturn', 'ProsperRating (numeric)',\n",
       "       'ListingCategory (numeric)', 'CreditScoreRangeLower', 'OpenCreditLines',\n",
       "       'InquiriesLast6Months', 'PublicRecordsLast12Months',\n",
       "       'BankcardUtilization', 'DebtToIncomeRatio', 'StatedMonthlyIncome',\n",
       "       'Home', 'LoanOriginalAmount', 'LoanOriginationDate', 'LoanStat',\n",
       "       'Datetime'],\n",
       "      dtype='object')"
      ]
     },
     "execution_count": 21,
     "metadata": {},
     "output_type": "execute_result"
    }
   ],
   "source": [
    "df2.columns"
   ]
  },
  {
   "cell_type": "code",
   "execution_count": 25,
   "id": "8e500c0e",
   "metadata": {},
   "outputs": [
    {
     "data": {
      "text/plain": [
       "Index(['BorrowerRate', 'EstimatedReturn', 'ProsperRating (numeric)',\n",
       "       'ListingCategory (numeric)', 'CreditScoreRangeLower', 'OpenCreditLines',\n",
       "       'InquiriesLast6Months', 'PublicRecordsLast12Months',\n",
       "       'BankcardUtilization', 'DebtToIncomeRatio', 'StatedMonthlyIncome',\n",
       "       'Home', 'LoanOriginalAmount', 'LoanOriginationDate', 'LoanStat',\n",
       "       'Datetime'],\n",
       "      dtype='object')"
      ]
     },
     "execution_count": 25,
     "metadata": {},
     "output_type": "execute_result"
    }
   ],
   "source": [
    "df2.columns"
   ]
  },
  {
   "cell_type": "code",
   "execution_count": 33,
   "id": "c3948ae7",
   "metadata": {},
   "outputs": [],
   "source": [
    "x= df2[['BorrowerRate','ProsperRating (numeric)','ListingCategory (numeric)','CreditScoreRangeLower','InquiriesLast6Months','PublicRecordsLast12Months','BankcardUtilization','DebtToIncomeRatio','StatedMonthlyIncome','Home',\n",
    "      'LoanOriginalAmount','LoanStat']]"
   ]
  },
  {
   "cell_type": "code",
   "execution_count": 31,
   "id": "b72ce15d",
   "metadata": {},
   "outputs": [],
   "source": [
    "df1= df1.drop(['LoanOriginationDate'], axis=1)"
   ]
  },
  {
   "cell_type": "code",
   "execution_count": 28,
   "id": "69ea3aed",
   "metadata": {},
   "outputs": [
    {
     "data": {
      "text/plain": [
       "Index(['BorrowerRate', 'EstimatedReturn', 'ProsperRating (numeric)',\n",
       "       'ListingCategory (numeric)', 'CreditScoreRangeLower', 'OpenCreditLines',\n",
       "       'InquiriesLast6Months', 'PublicRecordsLast12Months',\n",
       "       'BankcardUtilization', 'DebtToIncomeRatio', 'StatedMonthlyIncome',\n",
       "       'Home', 'LoanOriginalAmount', 'LoanOriginationDate', 'LoanStat',\n",
       "       'Datetime'],\n",
       "      dtype='object')"
      ]
     },
     "execution_count": 28,
     "metadata": {},
     "output_type": "execute_result"
    }
   ],
   "source": [
    "df1.columns"
   ]
  },
  {
   "cell_type": "code",
   "execution_count": 29,
   "id": "3cf22b56",
   "metadata": {},
   "outputs": [
    {
     "data": {
      "text/plain": [
       "array(['4/19/2012 0:00', '4/26/2013 0:00', '2/21/2013 0:00', ...,\n",
       "       '8/1/2011 0:00', '2/20/2014 0:00', '3/2/2010 0:00'], dtype=object)"
      ]
     },
     "execution_count": 29,
     "metadata": {},
     "output_type": "execute_result"
    }
   ],
   "source": [
    "df1['LoanOriginationDate'].unique()"
   ]
  },
  {
   "cell_type": "code",
   "execution_count": 30,
   "id": "75d0bb3a",
   "metadata": {},
   "outputs": [
    {
     "data": {
      "text/plain": [
       "15       2012-04-19\n",
       "23       2013-04-26\n",
       "26       2013-02-21\n",
       "27       2010-06-24\n",
       "30       2012-02-07\n",
       "            ...    \n",
       "113905   2011-12-05\n",
       "113913   2010-05-05\n",
       "113928   2011-06-10\n",
       "113929   2013-07-10\n",
       "113935   2011-11-21\n",
       "Name: Datetime, Length: 21310, dtype: datetime64[ns]"
      ]
     },
     "execution_count": 30,
     "metadata": {},
     "output_type": "execute_result"
    }
   ],
   "source": [
    "df1['Datetime']"
   ]
  },
  {
   "cell_type": "code",
   "execution_count": 34,
   "id": "5904f0dd",
   "metadata": {},
   "outputs": [
    {
     "data": {
      "text/html": [
       "<div>\n",
       "<style scoped>\n",
       "    .dataframe tbody tr th:only-of-type {\n",
       "        vertical-align: middle;\n",
       "    }\n",
       "\n",
       "    .dataframe tbody tr th {\n",
       "        vertical-align: top;\n",
       "    }\n",
       "\n",
       "    .dataframe thead th {\n",
       "        text-align: right;\n",
       "    }\n",
       "</style>\n",
       "<table border=\"1\" class=\"dataframe\">\n",
       "  <thead>\n",
       "    <tr style=\"text-align: right;\">\n",
       "      <th></th>\n",
       "      <th>BorrowerRate</th>\n",
       "      <th>ProsperRating (numeric)</th>\n",
       "      <th>ListingCategory (numeric)</th>\n",
       "      <th>CreditScoreRangeLower</th>\n",
       "      <th>InquiriesLast6Months</th>\n",
       "      <th>PublicRecordsLast12Months</th>\n",
       "      <th>BankcardUtilization</th>\n",
       "      <th>DebtToIncomeRatio</th>\n",
       "      <th>StatedMonthlyIncome</th>\n",
       "      <th>Home</th>\n",
       "      <th>LoanOriginalAmount</th>\n",
       "      <th>LoanStat</th>\n",
       "    </tr>\n",
       "  </thead>\n",
       "  <tbody>\n",
       "    <tr>\n",
       "      <th>35456</th>\n",
       "      <td>0.1990</td>\n",
       "      <td>4.0</td>\n",
       "      <td>1</td>\n",
       "      <td>680.0</td>\n",
       "      <td>0.0</td>\n",
       "      <td>0.0</td>\n",
       "      <td>0.92</td>\n",
       "      <td>0.27</td>\n",
       "      <td>11039.500000</td>\n",
       "      <td>0</td>\n",
       "      <td>6500</td>\n",
       "      <td>1</td>\n",
       "    </tr>\n",
       "    <tr>\n",
       "      <th>79412</th>\n",
       "      <td>0.3199</td>\n",
       "      <td>1.0</td>\n",
       "      <td>2</td>\n",
       "      <td>720.0</td>\n",
       "      <td>6.0</td>\n",
       "      <td>0.0</td>\n",
       "      <td>0.02</td>\n",
       "      <td>0.20</td>\n",
       "      <td>2500.000000</td>\n",
       "      <td>0</td>\n",
       "      <td>4000</td>\n",
       "      <td>1</td>\n",
       "    </tr>\n",
       "    <tr>\n",
       "      <th>102739</th>\n",
       "      <td>0.1390</td>\n",
       "      <td>6.0</td>\n",
       "      <td>7</td>\n",
       "      <td>740.0</td>\n",
       "      <td>0.0</td>\n",
       "      <td>0.0</td>\n",
       "      <td>0.34</td>\n",
       "      <td>0.19</td>\n",
       "      <td>5213.833333</td>\n",
       "      <td>0</td>\n",
       "      <td>2000</td>\n",
       "      <td>1</td>\n",
       "    </tr>\n",
       "    <tr>\n",
       "      <th>42455</th>\n",
       "      <td>0.1830</td>\n",
       "      <td>5.0</td>\n",
       "      <td>1</td>\n",
       "      <td>680.0</td>\n",
       "      <td>1.0</td>\n",
       "      <td>0.0</td>\n",
       "      <td>0.39</td>\n",
       "      <td>0.16</td>\n",
       "      <td>3666.666667</td>\n",
       "      <td>0</td>\n",
       "      <td>11000</td>\n",
       "      <td>1</td>\n",
       "    </tr>\n",
       "    <tr>\n",
       "      <th>36858</th>\n",
       "      <td>0.1499</td>\n",
       "      <td>5.0</td>\n",
       "      <td>1</td>\n",
       "      <td>820.0</td>\n",
       "      <td>0.0</td>\n",
       "      <td>0.0</td>\n",
       "      <td>0.27</td>\n",
       "      <td>0.41</td>\n",
       "      <td>7083.333333</td>\n",
       "      <td>1</td>\n",
       "      <td>3000</td>\n",
       "      <td>1</td>\n",
       "    </tr>\n",
       "    <tr>\n",
       "      <th>...</th>\n",
       "      <td>...</td>\n",
       "      <td>...</td>\n",
       "      <td>...</td>\n",
       "      <td>...</td>\n",
       "      <td>...</td>\n",
       "      <td>...</td>\n",
       "      <td>...</td>\n",
       "      <td>...</td>\n",
       "      <td>...</td>\n",
       "      <td>...</td>\n",
       "      <td>...</td>\n",
       "      <td>...</td>\n",
       "    </tr>\n",
       "    <tr>\n",
       "      <th>74505</th>\n",
       "      <td>0.1449</td>\n",
       "      <td>5.0</td>\n",
       "      <td>13</td>\n",
       "      <td>680.0</td>\n",
       "      <td>0.0</td>\n",
       "      <td>0.0</td>\n",
       "      <td>0.95</td>\n",
       "      <td>0.12</td>\n",
       "      <td>3750.000000</td>\n",
       "      <td>0</td>\n",
       "      <td>2000</td>\n",
       "      <td>1</td>\n",
       "    </tr>\n",
       "    <tr>\n",
       "      <th>21087</th>\n",
       "      <td>0.2599</td>\n",
       "      <td>3.0</td>\n",
       "      <td>1</td>\n",
       "      <td>740.0</td>\n",
       "      <td>4.0</td>\n",
       "      <td>0.0</td>\n",
       "      <td>0.64</td>\n",
       "      <td>0.15</td>\n",
       "      <td>5000.000000</td>\n",
       "      <td>0</td>\n",
       "      <td>6000</td>\n",
       "      <td>1</td>\n",
       "    </tr>\n",
       "    <tr>\n",
       "      <th>87990</th>\n",
       "      <td>0.1550</td>\n",
       "      <td>5.0</td>\n",
       "      <td>1</td>\n",
       "      <td>740.0</td>\n",
       "      <td>1.0</td>\n",
       "      <td>0.0</td>\n",
       "      <td>0.14</td>\n",
       "      <td>0.27</td>\n",
       "      <td>4250.000000</td>\n",
       "      <td>1</td>\n",
       "      <td>8500</td>\n",
       "      <td>1</td>\n",
       "    </tr>\n",
       "    <tr>\n",
       "      <th>106225</th>\n",
       "      <td>0.1551</td>\n",
       "      <td>6.0</td>\n",
       "      <td>1</td>\n",
       "      <td>740.0</td>\n",
       "      <td>0.0</td>\n",
       "      <td>0.0</td>\n",
       "      <td>0.64</td>\n",
       "      <td>0.21</td>\n",
       "      <td>4750.000000</td>\n",
       "      <td>1</td>\n",
       "      <td>5000</td>\n",
       "      <td>0</td>\n",
       "    </tr>\n",
       "    <tr>\n",
       "      <th>54373</th>\n",
       "      <td>0.3149</td>\n",
       "      <td>2.0</td>\n",
       "      <td>7</td>\n",
       "      <td>780.0</td>\n",
       "      <td>1.0</td>\n",
       "      <td>0.0</td>\n",
       "      <td>0.04</td>\n",
       "      <td>2.05</td>\n",
       "      <td>91.666667</td>\n",
       "      <td>0</td>\n",
       "      <td>4000</td>\n",
       "      <td>0</td>\n",
       "    </tr>\n",
       "  </tbody>\n",
       "</table>\n",
       "<p>21310 rows × 12 columns</p>\n",
       "</div>"
      ],
      "text/plain": [
       "        BorrowerRate  ProsperRating (numeric)  ListingCategory (numeric)  \\\n",
       "35456         0.1990                      4.0                          1   \n",
       "79412         0.3199                      1.0                          2   \n",
       "102739        0.1390                      6.0                          7   \n",
       "42455         0.1830                      5.0                          1   \n",
       "36858         0.1499                      5.0                          1   \n",
       "...              ...                      ...                        ...   \n",
       "74505         0.1449                      5.0                         13   \n",
       "21087         0.2599                      3.0                          1   \n",
       "87990         0.1550                      5.0                          1   \n",
       "106225        0.1551                      6.0                          1   \n",
       "54373         0.3149                      2.0                          7   \n",
       "\n",
       "        CreditScoreRangeLower  InquiriesLast6Months  \\\n",
       "35456                   680.0                   0.0   \n",
       "79412                   720.0                   6.0   \n",
       "102739                  740.0                   0.0   \n",
       "42455                   680.0                   1.0   \n",
       "36858                   820.0                   0.0   \n",
       "...                       ...                   ...   \n",
       "74505                   680.0                   0.0   \n",
       "21087                   740.0                   4.0   \n",
       "87990                   740.0                   1.0   \n",
       "106225                  740.0                   0.0   \n",
       "54373                   780.0                   1.0   \n",
       "\n",
       "        PublicRecordsLast12Months  BankcardUtilization  DebtToIncomeRatio  \\\n",
       "35456                         0.0                 0.92               0.27   \n",
       "79412                         0.0                 0.02               0.20   \n",
       "102739                        0.0                 0.34               0.19   \n",
       "42455                         0.0                 0.39               0.16   \n",
       "36858                         0.0                 0.27               0.41   \n",
       "...                           ...                  ...                ...   \n",
       "74505                         0.0                 0.95               0.12   \n",
       "21087                         0.0                 0.64               0.15   \n",
       "87990                         0.0                 0.14               0.27   \n",
       "106225                        0.0                 0.64               0.21   \n",
       "54373                         0.0                 0.04               2.05   \n",
       "\n",
       "        StatedMonthlyIncome  Home  LoanOriginalAmount  LoanStat  \n",
       "35456          11039.500000     0                6500         1  \n",
       "79412           2500.000000     0                4000         1  \n",
       "102739          5213.833333     0                2000         1  \n",
       "42455           3666.666667     0               11000         1  \n",
       "36858           7083.333333     1                3000         1  \n",
       "...                     ...   ...                 ...       ...  \n",
       "74505           3750.000000     0                2000         1  \n",
       "21087           5000.000000     0                6000         1  \n",
       "87990           4250.000000     1                8500         1  \n",
       "106225          4750.000000     1                5000         0  \n",
       "54373             91.666667     0                4000         0  \n",
       "\n",
       "[21310 rows x 12 columns]"
      ]
     },
     "execution_count": 34,
     "metadata": {},
     "output_type": "execute_result"
    }
   ],
   "source": [
    "x"
   ]
  },
  {
   "cell_type": "code",
   "execution_count": 35,
   "id": "60ec2118",
   "metadata": {},
   "outputs": [],
   "source": [
    "y=df2['EstimatedReturn']"
   ]
  },
  {
   "cell_type": "code",
   "execution_count": 36,
   "id": "4d236103",
   "metadata": {},
   "outputs": [
    {
     "data": {
      "text/plain": [
       "35456     0.1196\n",
       "79412     0.1267\n",
       "102739    0.0905\n",
       "42455     0.1280\n",
       "36858     0.0782\n",
       "           ...  \n",
       "74505     0.0731\n",
       "21087     0.1317\n",
       "87990     0.0925\n",
       "106225    0.1115\n",
       "54373     0.1439\n",
       "Name: EstimatedReturn, Length: 21310, dtype: float64"
      ]
     },
     "execution_count": 36,
     "metadata": {},
     "output_type": "execute_result"
    }
   ],
   "source": [
    "y"
   ]
  },
  {
   "cell_type": "code",
   "execution_count": 46,
   "id": "b9d38129",
   "metadata": {},
   "outputs": [
    {
     "ename": "ModuleNotFoundError",
     "evalue": "No module named 'Sklearn'",
     "output_type": "error",
     "traceback": [
      "\u001b[1;31m---------------------------------------------------------------------------\u001b[0m",
      "\u001b[1;31mModuleNotFoundError\u001b[0m                       Traceback (most recent call last)",
      "\u001b[1;32mC:\\Users\\JAHANL~1\\AppData\\Local\\Temp/ipykernel_6748/4102667471.py\u001b[0m in \u001b[0;36m<module>\u001b[1;34m\u001b[0m\n\u001b[1;32m----> 1\u001b[1;33m \u001b[1;32mfrom\u001b[0m \u001b[0mSklearn\u001b[0m\u001b[1;33m.\u001b[0m\u001b[0mcross_validation\u001b[0m \u001b[1;32mimport\u001b[0m \u001b[0mtrain_test_split\u001b[0m\u001b[1;33m\u001b[0m\u001b[1;33m\u001b[0m\u001b[0m\n\u001b[0m",
      "\u001b[1;31mModuleNotFoundError\u001b[0m: No module named 'Sklearn'"
     ]
    }
   ],
   "source": [
    "from Sklearn.cross_validation import train_test_split"
   ]
  },
  {
   "cell_type": "code",
   "execution_count": 47,
   "id": "0ab381d0",
   "metadata": {},
   "outputs": [],
   "source": [
    "x_train, x_test , y_train, y_test = train_test_split(x, y , train_size=.7)"
   ]
  },
  {
   "cell_type": "code",
   "execution_count": 48,
   "id": "d0a5ada5",
   "metadata": {},
   "outputs": [
    {
     "data": {
      "text/html": [
       "<div>\n",
       "<style scoped>\n",
       "    .dataframe tbody tr th:only-of-type {\n",
       "        vertical-align: middle;\n",
       "    }\n",
       "\n",
       "    .dataframe tbody tr th {\n",
       "        vertical-align: top;\n",
       "    }\n",
       "\n",
       "    .dataframe thead th {\n",
       "        text-align: right;\n",
       "    }\n",
       "</style>\n",
       "<table border=\"1\" class=\"dataframe\">\n",
       "  <thead>\n",
       "    <tr style=\"text-align: right;\">\n",
       "      <th></th>\n",
       "      <th>BorrowerRate</th>\n",
       "      <th>ProsperRating (numeric)</th>\n",
       "      <th>ListingCategory (numeric)</th>\n",
       "      <th>CreditScoreRangeLower</th>\n",
       "      <th>InquiriesLast6Months</th>\n",
       "      <th>PublicRecordsLast12Months</th>\n",
       "      <th>BankcardUtilization</th>\n",
       "      <th>DebtToIncomeRatio</th>\n",
       "      <th>StatedMonthlyIncome</th>\n",
       "      <th>Home</th>\n",
       "      <th>LoanOriginalAmount</th>\n",
       "      <th>LoanStat</th>\n",
       "    </tr>\n",
       "  </thead>\n",
       "  <tbody>\n",
       "    <tr>\n",
       "      <th>22502</th>\n",
       "      <td>0.3099</td>\n",
       "      <td>2.0</td>\n",
       "      <td>3</td>\n",
       "      <td>640.0</td>\n",
       "      <td>1.0</td>\n",
       "      <td>0.0</td>\n",
       "      <td>0.50</td>\n",
       "      <td>0.22</td>\n",
       "      <td>4500.000000</td>\n",
       "      <td>1</td>\n",
       "      <td>4000</td>\n",
       "      <td>1</td>\n",
       "    </tr>\n",
       "    <tr>\n",
       "      <th>45738</th>\n",
       "      <td>0.2699</td>\n",
       "      <td>3.0</td>\n",
       "      <td>1</td>\n",
       "      <td>720.0</td>\n",
       "      <td>0.0</td>\n",
       "      <td>0.0</td>\n",
       "      <td>0.00</td>\n",
       "      <td>0.08</td>\n",
       "      <td>11666.666670</td>\n",
       "      <td>0</td>\n",
       "      <td>10000</td>\n",
       "      <td>0</td>\n",
       "    </tr>\n",
       "    <tr>\n",
       "      <th>47886</th>\n",
       "      <td>0.3435</td>\n",
       "      <td>2.0</td>\n",
       "      <td>1</td>\n",
       "      <td>700.0</td>\n",
       "      <td>1.0</td>\n",
       "      <td>0.0</td>\n",
       "      <td>0.67</td>\n",
       "      <td>0.24</td>\n",
       "      <td>6304.416667</td>\n",
       "      <td>1</td>\n",
       "      <td>5000</td>\n",
       "      <td>1</td>\n",
       "    </tr>\n",
       "    <tr>\n",
       "      <th>50954</th>\n",
       "      <td>0.2310</td>\n",
       "      <td>3.0</td>\n",
       "      <td>3</td>\n",
       "      <td>700.0</td>\n",
       "      <td>1.0</td>\n",
       "      <td>0.0</td>\n",
       "      <td>0.36</td>\n",
       "      <td>0.22</td>\n",
       "      <td>7333.333333</td>\n",
       "      <td>0</td>\n",
       "      <td>13500</td>\n",
       "      <td>1</td>\n",
       "    </tr>\n",
       "    <tr>\n",
       "      <th>24968</th>\n",
       "      <td>0.2899</td>\n",
       "      <td>3.0</td>\n",
       "      <td>2</td>\n",
       "      <td>660.0</td>\n",
       "      <td>0.0</td>\n",
       "      <td>0.0</td>\n",
       "      <td>0.81</td>\n",
       "      <td>0.21</td>\n",
       "      <td>6500.000000</td>\n",
       "      <td>1</td>\n",
       "      <td>8000</td>\n",
       "      <td>1</td>\n",
       "    </tr>\n",
       "    <tr>\n",
       "      <th>...</th>\n",
       "      <td>...</td>\n",
       "      <td>...</td>\n",
       "      <td>...</td>\n",
       "      <td>...</td>\n",
       "      <td>...</td>\n",
       "      <td>...</td>\n",
       "      <td>...</td>\n",
       "      <td>...</td>\n",
       "      <td>...</td>\n",
       "      <td>...</td>\n",
       "      <td>...</td>\n",
       "      <td>...</td>\n",
       "    </tr>\n",
       "    <tr>\n",
       "      <th>6713</th>\n",
       "      <td>0.3177</td>\n",
       "      <td>1.0</td>\n",
       "      <td>1</td>\n",
       "      <td>680.0</td>\n",
       "      <td>1.0</td>\n",
       "      <td>0.0</td>\n",
       "      <td>0.94</td>\n",
       "      <td>0.24</td>\n",
       "      <td>5833.333333</td>\n",
       "      <td>1</td>\n",
       "      <td>2000</td>\n",
       "      <td>1</td>\n",
       "    </tr>\n",
       "    <tr>\n",
       "      <th>28410</th>\n",
       "      <td>0.2997</td>\n",
       "      <td>3.0</td>\n",
       "      <td>1</td>\n",
       "      <td>700.0</td>\n",
       "      <td>2.0</td>\n",
       "      <td>0.0</td>\n",
       "      <td>0.76</td>\n",
       "      <td>0.09</td>\n",
       "      <td>2720.000000</td>\n",
       "      <td>1</td>\n",
       "      <td>6000</td>\n",
       "      <td>0</td>\n",
       "    </tr>\n",
       "    <tr>\n",
       "      <th>98556</th>\n",
       "      <td>0.3199</td>\n",
       "      <td>1.0</td>\n",
       "      <td>1</td>\n",
       "      <td>660.0</td>\n",
       "      <td>1.0</td>\n",
       "      <td>0.0</td>\n",
       "      <td>0.94</td>\n",
       "      <td>0.38</td>\n",
       "      <td>2009.250000</td>\n",
       "      <td>0</td>\n",
       "      <td>3500</td>\n",
       "      <td>0</td>\n",
       "    </tr>\n",
       "    <tr>\n",
       "      <th>96984</th>\n",
       "      <td>0.0974</td>\n",
       "      <td>6.0</td>\n",
       "      <td>6</td>\n",
       "      <td>780.0</td>\n",
       "      <td>2.0</td>\n",
       "      <td>0.0</td>\n",
       "      <td>0.01</td>\n",
       "      <td>0.10</td>\n",
       "      <td>6708.333333</td>\n",
       "      <td>0</td>\n",
       "      <td>5500</td>\n",
       "      <td>1</td>\n",
       "    </tr>\n",
       "    <tr>\n",
       "      <th>11551</th>\n",
       "      <td>0.0920</td>\n",
       "      <td>6.0</td>\n",
       "      <td>1</td>\n",
       "      <td>780.0</td>\n",
       "      <td>0.0</td>\n",
       "      <td>0.0</td>\n",
       "      <td>0.32</td>\n",
       "      <td>0.23</td>\n",
       "      <td>8333.333333</td>\n",
       "      <td>1</td>\n",
       "      <td>5000</td>\n",
       "      <td>1</td>\n",
       "    </tr>\n",
       "  </tbody>\n",
       "</table>\n",
       "<p>14916 rows × 12 columns</p>\n",
       "</div>"
      ],
      "text/plain": [
       "       BorrowerRate  ProsperRating (numeric)  ListingCategory (numeric)  \\\n",
       "22502        0.3099                      2.0                          3   \n",
       "45738        0.2699                      3.0                          1   \n",
       "47886        0.3435                      2.0                          1   \n",
       "50954        0.2310                      3.0                          3   \n",
       "24968        0.2899                      3.0                          2   \n",
       "...             ...                      ...                        ...   \n",
       "6713         0.3177                      1.0                          1   \n",
       "28410        0.2997                      3.0                          1   \n",
       "98556        0.3199                      1.0                          1   \n",
       "96984        0.0974                      6.0                          6   \n",
       "11551        0.0920                      6.0                          1   \n",
       "\n",
       "       CreditScoreRangeLower  InquiriesLast6Months  PublicRecordsLast12Months  \\\n",
       "22502                  640.0                   1.0                        0.0   \n",
       "45738                  720.0                   0.0                        0.0   \n",
       "47886                  700.0                   1.0                        0.0   \n",
       "50954                  700.0                   1.0                        0.0   \n",
       "24968                  660.0                   0.0                        0.0   \n",
       "...                      ...                   ...                        ...   \n",
       "6713                   680.0                   1.0                        0.0   \n",
       "28410                  700.0                   2.0                        0.0   \n",
       "98556                  660.0                   1.0                        0.0   \n",
       "96984                  780.0                   2.0                        0.0   \n",
       "11551                  780.0                   0.0                        0.0   \n",
       "\n",
       "       BankcardUtilization  DebtToIncomeRatio  StatedMonthlyIncome  Home  \\\n",
       "22502                 0.50               0.22          4500.000000     1   \n",
       "45738                 0.00               0.08         11666.666670     0   \n",
       "47886                 0.67               0.24          6304.416667     1   \n",
       "50954                 0.36               0.22          7333.333333     0   \n",
       "24968                 0.81               0.21          6500.000000     1   \n",
       "...                    ...                ...                  ...   ...   \n",
       "6713                  0.94               0.24          5833.333333     1   \n",
       "28410                 0.76               0.09          2720.000000     1   \n",
       "98556                 0.94               0.38          2009.250000     0   \n",
       "96984                 0.01               0.10          6708.333333     0   \n",
       "11551                 0.32               0.23          8333.333333     1   \n",
       "\n",
       "       LoanOriginalAmount  LoanStat  \n",
       "22502                4000         1  \n",
       "45738               10000         0  \n",
       "47886                5000         1  \n",
       "50954               13500         1  \n",
       "24968                8000         1  \n",
       "...                   ...       ...  \n",
       "6713                 2000         1  \n",
       "28410                6000         0  \n",
       "98556                3500         0  \n",
       "96984                5500         1  \n",
       "11551                5000         1  \n",
       "\n",
       "[14916 rows x 12 columns]"
      ]
     },
     "execution_count": 48,
     "metadata": {},
     "output_type": "execute_result"
    }
   ],
   "source": [
    "x_train"
   ]
  },
  {
   "cell_type": "code",
   "execution_count": 49,
   "id": "e4de3ee5",
   "metadata": {},
   "outputs": [
    {
     "data": {
      "text/html": [
       "<div>\n",
       "<style scoped>\n",
       "    .dataframe tbody tr th:only-of-type {\n",
       "        vertical-align: middle;\n",
       "    }\n",
       "\n",
       "    .dataframe tbody tr th {\n",
       "        vertical-align: top;\n",
       "    }\n",
       "\n",
       "    .dataframe thead th {\n",
       "        text-align: right;\n",
       "    }\n",
       "</style>\n",
       "<table border=\"1\" class=\"dataframe\">\n",
       "  <thead>\n",
       "    <tr style=\"text-align: right;\">\n",
       "      <th></th>\n",
       "      <th>BorrowerRate</th>\n",
       "      <th>ProsperRating (numeric)</th>\n",
       "      <th>ListingCategory (numeric)</th>\n",
       "      <th>CreditScoreRangeLower</th>\n",
       "      <th>InquiriesLast6Months</th>\n",
       "      <th>PublicRecordsLast12Months</th>\n",
       "      <th>BankcardUtilization</th>\n",
       "      <th>DebtToIncomeRatio</th>\n",
       "      <th>StatedMonthlyIncome</th>\n",
       "      <th>Home</th>\n",
       "      <th>LoanOriginalAmount</th>\n",
       "      <th>LoanStat</th>\n",
       "    </tr>\n",
       "  </thead>\n",
       "  <tbody>\n",
       "    <tr>\n",
       "      <th>43464</th>\n",
       "      <td>0.2625</td>\n",
       "      <td>3.0</td>\n",
       "      <td>6</td>\n",
       "      <td>660.0</td>\n",
       "      <td>3.0</td>\n",
       "      <td>0.0</td>\n",
       "      <td>0.49</td>\n",
       "      <td>0.14</td>\n",
       "      <td>4000.000000</td>\n",
       "      <td>0</td>\n",
       "      <td>2000</td>\n",
       "      <td>1</td>\n",
       "    </tr>\n",
       "    <tr>\n",
       "      <th>18753</th>\n",
       "      <td>0.0759</td>\n",
       "      <td>7.0</td>\n",
       "      <td>3</td>\n",
       "      <td>760.0</td>\n",
       "      <td>2.0</td>\n",
       "      <td>0.0</td>\n",
       "      <td>0.03</td>\n",
       "      <td>0.03</td>\n",
       "      <td>8350.333333</td>\n",
       "      <td>1</td>\n",
       "      <td>2000</td>\n",
       "      <td>1</td>\n",
       "    </tr>\n",
       "    <tr>\n",
       "      <th>10571</th>\n",
       "      <td>0.2932</td>\n",
       "      <td>2.0</td>\n",
       "      <td>1</td>\n",
       "      <td>680.0</td>\n",
       "      <td>7.0</td>\n",
       "      <td>0.0</td>\n",
       "      <td>0.53</td>\n",
       "      <td>0.07</td>\n",
       "      <td>5416.666667</td>\n",
       "      <td>0</td>\n",
       "      <td>4000</td>\n",
       "      <td>1</td>\n",
       "    </tr>\n",
       "    <tr>\n",
       "      <th>55320</th>\n",
       "      <td>0.1621</td>\n",
       "      <td>5.0</td>\n",
       "      <td>1</td>\n",
       "      <td>740.0</td>\n",
       "      <td>1.0</td>\n",
       "      <td>0.0</td>\n",
       "      <td>0.83</td>\n",
       "      <td>0.06</td>\n",
       "      <td>21666.666670</td>\n",
       "      <td>1</td>\n",
       "      <td>15000</td>\n",
       "      <td>1</td>\n",
       "    </tr>\n",
       "    <tr>\n",
       "      <th>89206</th>\n",
       "      <td>0.1490</td>\n",
       "      <td>5.0</td>\n",
       "      <td>1</td>\n",
       "      <td>740.0</td>\n",
       "      <td>0.0</td>\n",
       "      <td>0.0</td>\n",
       "      <td>0.64</td>\n",
       "      <td>0.32</td>\n",
       "      <td>3500.000000</td>\n",
       "      <td>1</td>\n",
       "      <td>7500</td>\n",
       "      <td>1</td>\n",
       "    </tr>\n",
       "    <tr>\n",
       "      <th>...</th>\n",
       "      <td>...</td>\n",
       "      <td>...</td>\n",
       "      <td>...</td>\n",
       "      <td>...</td>\n",
       "      <td>...</td>\n",
       "      <td>...</td>\n",
       "      <td>...</td>\n",
       "      <td>...</td>\n",
       "      <td>...</td>\n",
       "      <td>...</td>\n",
       "      <td>...</td>\n",
       "      <td>...</td>\n",
       "    </tr>\n",
       "    <tr>\n",
       "      <th>90989</th>\n",
       "      <td>0.1900</td>\n",
       "      <td>3.0</td>\n",
       "      <td>7</td>\n",
       "      <td>720.0</td>\n",
       "      <td>7.0</td>\n",
       "      <td>0.0</td>\n",
       "      <td>0.62</td>\n",
       "      <td>0.08</td>\n",
       "      <td>11250.000000</td>\n",
       "      <td>0</td>\n",
       "      <td>1000</td>\n",
       "      <td>1</td>\n",
       "    </tr>\n",
       "    <tr>\n",
       "      <th>38277</th>\n",
       "      <td>0.2284</td>\n",
       "      <td>4.0</td>\n",
       "      <td>15</td>\n",
       "      <td>720.0</td>\n",
       "      <td>2.0</td>\n",
       "      <td>0.0</td>\n",
       "      <td>0.51</td>\n",
       "      <td>0.19</td>\n",
       "      <td>5583.333333</td>\n",
       "      <td>1</td>\n",
       "      <td>15000</td>\n",
       "      <td>1</td>\n",
       "    </tr>\n",
       "    <tr>\n",
       "      <th>83220</th>\n",
       "      <td>0.3200</td>\n",
       "      <td>1.0</td>\n",
       "      <td>1</td>\n",
       "      <td>640.0</td>\n",
       "      <td>0.0</td>\n",
       "      <td>0.0</td>\n",
       "      <td>1.04</td>\n",
       "      <td>0.06</td>\n",
       "      <td>6791.666667</td>\n",
       "      <td>0</td>\n",
       "      <td>5460</td>\n",
       "      <td>1</td>\n",
       "    </tr>\n",
       "    <tr>\n",
       "      <th>110950</th>\n",
       "      <td>0.3199</td>\n",
       "      <td>2.0</td>\n",
       "      <td>1</td>\n",
       "      <td>660.0</td>\n",
       "      <td>2.0</td>\n",
       "      <td>0.0</td>\n",
       "      <td>0.74</td>\n",
       "      <td>0.24</td>\n",
       "      <td>3250.000000</td>\n",
       "      <td>1</td>\n",
       "      <td>4000</td>\n",
       "      <td>1</td>\n",
       "    </tr>\n",
       "    <tr>\n",
       "      <th>49520</th>\n",
       "      <td>0.0920</td>\n",
       "      <td>6.0</td>\n",
       "      <td>1</td>\n",
       "      <td>760.0</td>\n",
       "      <td>1.0</td>\n",
       "      <td>0.0</td>\n",
       "      <td>0.36</td>\n",
       "      <td>0.16</td>\n",
       "      <td>7416.666667</td>\n",
       "      <td>1</td>\n",
       "      <td>5900</td>\n",
       "      <td>1</td>\n",
       "    </tr>\n",
       "  </tbody>\n",
       "</table>\n",
       "<p>6394 rows × 12 columns</p>\n",
       "</div>"
      ],
      "text/plain": [
       "        BorrowerRate  ProsperRating (numeric)  ListingCategory (numeric)  \\\n",
       "43464         0.2625                      3.0                          6   \n",
       "18753         0.0759                      7.0                          3   \n",
       "10571         0.2932                      2.0                          1   \n",
       "55320         0.1621                      5.0                          1   \n",
       "89206         0.1490                      5.0                          1   \n",
       "...              ...                      ...                        ...   \n",
       "90989         0.1900                      3.0                          7   \n",
       "38277         0.2284                      4.0                         15   \n",
       "83220         0.3200                      1.0                          1   \n",
       "110950        0.3199                      2.0                          1   \n",
       "49520         0.0920                      6.0                          1   \n",
       "\n",
       "        CreditScoreRangeLower  InquiriesLast6Months  \\\n",
       "43464                   660.0                   3.0   \n",
       "18753                   760.0                   2.0   \n",
       "10571                   680.0                   7.0   \n",
       "55320                   740.0                   1.0   \n",
       "89206                   740.0                   0.0   \n",
       "...                       ...                   ...   \n",
       "90989                   720.0                   7.0   \n",
       "38277                   720.0                   2.0   \n",
       "83220                   640.0                   0.0   \n",
       "110950                  660.0                   2.0   \n",
       "49520                   760.0                   1.0   \n",
       "\n",
       "        PublicRecordsLast12Months  BankcardUtilization  DebtToIncomeRatio  \\\n",
       "43464                         0.0                 0.49               0.14   \n",
       "18753                         0.0                 0.03               0.03   \n",
       "10571                         0.0                 0.53               0.07   \n",
       "55320                         0.0                 0.83               0.06   \n",
       "89206                         0.0                 0.64               0.32   \n",
       "...                           ...                  ...                ...   \n",
       "90989                         0.0                 0.62               0.08   \n",
       "38277                         0.0                 0.51               0.19   \n",
       "83220                         0.0                 1.04               0.06   \n",
       "110950                        0.0                 0.74               0.24   \n",
       "49520                         0.0                 0.36               0.16   \n",
       "\n",
       "        StatedMonthlyIncome  Home  LoanOriginalAmount  LoanStat  \n",
       "43464           4000.000000     0                2000         1  \n",
       "18753           8350.333333     1                2000         1  \n",
       "10571           5416.666667     0                4000         1  \n",
       "55320          21666.666670     1               15000         1  \n",
       "89206           3500.000000     1                7500         1  \n",
       "...                     ...   ...                 ...       ...  \n",
       "90989          11250.000000     0                1000         1  \n",
       "38277           5583.333333     1               15000         1  \n",
       "83220           6791.666667     0                5460         1  \n",
       "110950          3250.000000     1                4000         1  \n",
       "49520           7416.666667     1                5900         1  \n",
       "\n",
       "[6394 rows x 12 columns]"
      ]
     },
     "execution_count": 49,
     "metadata": {},
     "output_type": "execute_result"
    }
   ],
   "source": [
    "x_test"
   ]
  },
  {
   "cell_type": "code",
   "execution_count": 50,
   "id": "0481382b",
   "metadata": {},
   "outputs": [],
   "source": [
    "from sklearn.linear_model import LinearRegression"
   ]
  },
  {
   "cell_type": "code",
   "execution_count": 137,
   "id": "f34e48cf",
   "metadata": {},
   "outputs": [
    {
     "ename": "TypeError",
     "evalue": "predict() missing 1 required positional argument: 'X'",
     "output_type": "error",
     "traceback": [
      "\u001b[1;31m---------------------------------------------------------------------------\u001b[0m",
      "\u001b[1;31mTypeError\u001b[0m                                 Traceback (most recent call last)",
      "\u001b[1;32mC:\\Users\\JAHANL~1\\AppData\\Local\\Temp/ipykernel_6748/2701638956.py\u001b[0m in \u001b[0;36m<module>\u001b[1;34m\u001b[0m\n\u001b[1;32m----> 1\u001b[1;33m \u001b[0mpredict1\u001b[0m\u001b[1;33m=\u001b[0m \u001b[0mLinearRegression\u001b[0m\u001b[1;33m.\u001b[0m\u001b[0mpredict\u001b[0m\u001b[1;33m(\u001b[0m\u001b[0mx_test\u001b[0m\u001b[1;33m)\u001b[0m\u001b[1;33m\u001b[0m\u001b[1;33m\u001b[0m\u001b[0m\n\u001b[0m",
      "\u001b[1;31mTypeError\u001b[0m: predict() missing 1 required positional argument: 'X'"
     ]
    }
   ],
   "source": []
  },
  {
   "cell_type": "code",
   "execution_count": 51,
   "id": "14176463",
   "metadata": {},
   "outputs": [],
   "source": [
    "model1= LinearRegression().fit(x_train, y_train)"
   ]
  },
  {
   "cell_type": "code",
   "execution_count": 52,
   "id": "777f7024",
   "metadata": {},
   "outputs": [
    {
     "data": {
      "text/plain": [
       "LinearRegression()"
      ]
     },
     "execution_count": 52,
     "metadata": {},
     "output_type": "execute_result"
    }
   ],
   "source": [
    "model1"
   ]
  },
  {
   "cell_type": "code",
   "execution_count": 139,
   "id": "9a0b8b6e",
   "metadata": {},
   "outputs": [
    {
     "data": {
      "text/plain": [
       "array([0.12756304, 0.06626573, 0.12340962, ..., 0.1275718 , 0.15290403,\n",
       "       0.05455485])"
      ]
     },
     "execution_count": 139,
     "metadata": {},
     "output_type": "execute_result"
    }
   ],
   "source": [
    "pred1= model1.predict(x_test)\n",
    "pred1"
   ]
  },
  {
   "cell_type": "code",
   "execution_count": 54,
   "id": "6f27e143",
   "metadata": {},
   "outputs": [],
   "source": [
    "score= model1.score(x_test, y_test)"
   ]
  },
  {
   "cell_type": "code",
   "execution_count": 56,
   "id": "d5a3e942",
   "metadata": {},
   "outputs": [
    {
     "name": "stdout",
     "output_type": "stream",
     "text": [
      " Model1 Score:0.80\n"
     ]
    }
   ],
   "source": [
    "print(f\" Model1 Score:{score:.2f}\")"
   ]
  },
  {
   "cell_type": "code",
   "execution_count": 106,
   "id": "8c501c3d",
   "metadata": {},
   "outputs": [
    {
     "data": {
      "text/plain": [
       "Index(['BorrowerRate', 'EstimatedReturn', 'ProsperRating (numeric)',\n",
       "       'ListingCategory (numeric)', 'CreditScoreRangeLower', 'OpenCreditLines',\n",
       "       'InquiriesLast6Months', 'PublicRecordsLast12Months',\n",
       "       'BankcardUtilization', 'DebtToIncomeRatio', 'StatedMonthlyIncome',\n",
       "       'Home', 'LoanOriginalAmount', 'LoanOriginationDate', 'LoanStat',\n",
       "       'Datetime'],\n",
       "      dtype='object')"
      ]
     },
     "execution_count": 106,
     "metadata": {},
     "output_type": "execute_result"
    }
   ],
   "source": [
    "df2.columns"
   ]
  },
  {
   "cell_type": "code",
   "execution_count": 111,
   "id": "d8504dee",
   "metadata": {},
   "outputs": [],
   "source": [
    "x= df2[['BorrowerRate','ProsperRating (numeric)','CreditScoreRangeLower']]"
   ]
  },
  {
   "cell_type": "code",
   "execution_count": 112,
   "id": "8fe09e56",
   "metadata": {},
   "outputs": [],
   "source": [
    "y2= df2['EstimatedReturn']"
   ]
  },
  {
   "cell_type": "code",
   "execution_count": 113,
   "id": "9ac268fc",
   "metadata": {},
   "outputs": [],
   "source": [
    "x2_train, x2_test , y2_train, y2_test = train_test_split(x2, y2 , train_size=.7)"
   ]
  },
  {
   "cell_type": "code",
   "execution_count": 114,
   "id": "9c563fa9",
   "metadata": {},
   "outputs": [],
   "source": [
    "model2= LinearRegression().fit(x2_train, y2_train)"
   ]
  },
  {
   "cell_type": "code",
   "execution_count": 141,
   "id": "5068e484",
   "metadata": {},
   "outputs": [
    {
     "data": {
      "text/plain": [
       "array([0.14940432, 0.14491204, 0.14024508, ..., 0.15303508, 0.14156424,\n",
       "       0.11931544])"
      ]
     },
     "execution_count": 141,
     "metadata": {},
     "output_type": "execute_result"
    }
   ],
   "source": [
    "pred2= model2.predict(x2_test)\n",
    "pred2"
   ]
  },
  {
   "cell_type": "code",
   "execution_count": 142,
   "id": "0d3d4a52",
   "metadata": {},
   "outputs": [
    {
     "ename": "AttributeError",
     "evalue": "'numpy.ndarray' object has no attribute 'value_counts'",
     "output_type": "error",
     "traceback": [
      "\u001b[1;31m---------------------------------------------------------------------------\u001b[0m",
      "\u001b[1;31mAttributeError\u001b[0m                            Traceback (most recent call last)",
      "\u001b[1;32mC:\\Users\\JAHANL~1\\AppData\\Local\\Temp/ipykernel_6748/2651061608.py\u001b[0m in \u001b[0;36m<module>\u001b[1;34m\u001b[0m\n\u001b[1;32m----> 1\u001b[1;33m \u001b[0mpred2\u001b[0m\u001b[1;33m.\u001b[0m\u001b[0mvalue_counts\u001b[0m\u001b[1;33m(\u001b[0m\u001b[1;33m)\u001b[0m\u001b[1;33m\u001b[0m\u001b[1;33m\u001b[0m\u001b[0m\n\u001b[0m",
      "\u001b[1;31mAttributeError\u001b[0m: 'numpy.ndarray' object has no attribute 'value_counts'"
     ]
    }
   ],
   "source": []
  },
  {
   "cell_type": "code",
   "execution_count": 116,
   "id": "fc614c70",
   "metadata": {},
   "outputs": [],
   "source": [
    "score= model2.score(x2_test, y2_test)"
   ]
  },
  {
   "cell_type": "code",
   "execution_count": 143,
   "id": "4377b008",
   "metadata": {},
   "outputs": [
    {
     "data": {
      "text/plain": [
       "array([0.10941026, 0.10864416, 0.10864416, ..., 0.10557975, 0.10201299,\n",
       "       0.09882299])"
      ]
     },
     "execution_count": 143,
     "metadata": {},
     "output_type": "execute_result"
    }
   ],
   "source": [
    "pred3= model3.predict(x3_test)\n",
    "pred3"
   ]
  },
  {
   "cell_type": "code",
   "execution_count": 117,
   "id": "ba4b2354",
   "metadata": {},
   "outputs": [
    {
     "data": {
      "text/plain": [
       "0.6122297441675664"
      ]
     },
     "execution_count": 117,
     "metadata": {},
     "output_type": "execute_result"
    }
   ],
   "source": [
    "score"
   ]
  },
  {
   "cell_type": "code",
   "execution_count": 118,
   "id": "1d4505fb",
   "metadata": {},
   "outputs": [],
   "source": [
    "x3= df2[['ListingCategory (numeric)','LoanOriginalAmount']]"
   ]
  },
  {
   "cell_type": "code",
   "execution_count": 119,
   "id": "ca33bc95",
   "metadata": {},
   "outputs": [
    {
     "data": {
      "text/html": [
       "<div>\n",
       "<style scoped>\n",
       "    .dataframe tbody tr th:only-of-type {\n",
       "        vertical-align: middle;\n",
       "    }\n",
       "\n",
       "    .dataframe tbody tr th {\n",
       "        vertical-align: top;\n",
       "    }\n",
       "\n",
       "    .dataframe thead th {\n",
       "        text-align: right;\n",
       "    }\n",
       "</style>\n",
       "<table border=\"1\" class=\"dataframe\">\n",
       "  <thead>\n",
       "    <tr style=\"text-align: right;\">\n",
       "      <th></th>\n",
       "      <th>ListingCategory (numeric)</th>\n",
       "      <th>LoanOriginalAmount</th>\n",
       "    </tr>\n",
       "  </thead>\n",
       "  <tbody>\n",
       "    <tr>\n",
       "      <th>35456</th>\n",
       "      <td>1</td>\n",
       "      <td>6500</td>\n",
       "    </tr>\n",
       "    <tr>\n",
       "      <th>79412</th>\n",
       "      <td>2</td>\n",
       "      <td>4000</td>\n",
       "    </tr>\n",
       "    <tr>\n",
       "      <th>102739</th>\n",
       "      <td>7</td>\n",
       "      <td>2000</td>\n",
       "    </tr>\n",
       "    <tr>\n",
       "      <th>42455</th>\n",
       "      <td>1</td>\n",
       "      <td>11000</td>\n",
       "    </tr>\n",
       "    <tr>\n",
       "      <th>36858</th>\n",
       "      <td>1</td>\n",
       "      <td>3000</td>\n",
       "    </tr>\n",
       "    <tr>\n",
       "      <th>...</th>\n",
       "      <td>...</td>\n",
       "      <td>...</td>\n",
       "    </tr>\n",
       "    <tr>\n",
       "      <th>74505</th>\n",
       "      <td>13</td>\n",
       "      <td>2000</td>\n",
       "    </tr>\n",
       "    <tr>\n",
       "      <th>21087</th>\n",
       "      <td>1</td>\n",
       "      <td>6000</td>\n",
       "    </tr>\n",
       "    <tr>\n",
       "      <th>87990</th>\n",
       "      <td>1</td>\n",
       "      <td>8500</td>\n",
       "    </tr>\n",
       "    <tr>\n",
       "      <th>106225</th>\n",
       "      <td>1</td>\n",
       "      <td>5000</td>\n",
       "    </tr>\n",
       "    <tr>\n",
       "      <th>54373</th>\n",
       "      <td>7</td>\n",
       "      <td>4000</td>\n",
       "    </tr>\n",
       "  </tbody>\n",
       "</table>\n",
       "<p>21310 rows × 2 columns</p>\n",
       "</div>"
      ],
      "text/plain": [
       "        ListingCategory (numeric)  LoanOriginalAmount\n",
       "35456                           1                6500\n",
       "79412                           2                4000\n",
       "102739                          7                2000\n",
       "42455                           1               11000\n",
       "36858                           1                3000\n",
       "...                           ...                 ...\n",
       "74505                          13                2000\n",
       "21087                           1                6000\n",
       "87990                           1                8500\n",
       "106225                          1                5000\n",
       "54373                           7                4000\n",
       "\n",
       "[21310 rows x 2 columns]"
      ]
     },
     "execution_count": 119,
     "metadata": {},
     "output_type": "execute_result"
    }
   ],
   "source": [
    "x3"
   ]
  },
  {
   "cell_type": "code",
   "execution_count": 120,
   "id": "2ec6c696",
   "metadata": {},
   "outputs": [],
   "source": [
    "y3= df2['EstimatedReturn']\n"
   ]
  },
  {
   "cell_type": "code",
   "execution_count": 121,
   "id": "86024dbd",
   "metadata": {},
   "outputs": [],
   "source": [
    "x3_train, x3_test , y3_train, y3_test = train_test_split(x3, y3 , train_size=.7)"
   ]
  },
  {
   "cell_type": "code",
   "execution_count": 122,
   "id": "2357cbbd",
   "metadata": {},
   "outputs": [],
   "source": [
    "model3= LinearRegression().fit(x3_train, y3_train)"
   ]
  },
  {
   "cell_type": "code",
   "execution_count": 144,
   "id": "e55e453c",
   "metadata": {},
   "outputs": [
    {
     "data": {
      "text/plain": [
       "array([0.10941026, 0.10864416, 0.10864416, ..., 0.10557975, 0.10201299,\n",
       "       0.09882299])"
      ]
     },
     "execution_count": 144,
     "metadata": {},
     "output_type": "execute_result"
    }
   ],
   "source": [
    "pred3= model3.predict(x3_test)\n",
    "pred3"
   ]
  },
  {
   "cell_type": "code",
   "execution_count": 123,
   "id": "b7ae8c14",
   "metadata": {},
   "outputs": [],
   "source": [
    "score= model3.score(x3_test, y3_test)"
   ]
  },
  {
   "cell_type": "code",
   "execution_count": 124,
   "id": "0995aaa1",
   "metadata": {},
   "outputs": [
    {
     "data": {
      "text/plain": [
       "0.009121850388337571"
      ]
     },
     "execution_count": 124,
     "metadata": {},
     "output_type": "execute_result"
    }
   ],
   "source": [
    "score"
   ]
  },
  {
   "cell_type": "code",
   "execution_count": 129,
   "id": "3625585b",
   "metadata": {},
   "outputs": [],
   "source": [
    "x4= df2[['Home','StatedMonthlyIncome']]"
   ]
  },
  {
   "cell_type": "code",
   "execution_count": 130,
   "id": "e3543ae9",
   "metadata": {},
   "outputs": [
    {
     "data": {
      "text/plain": [
       "Index(['BorrowerRate', 'EstimatedReturn', 'ProsperRating (numeric)',\n",
       "       'ListingCategory (numeric)', 'CreditScoreRangeLower', 'OpenCreditLines',\n",
       "       'InquiriesLast6Months', 'PublicRecordsLast12Months',\n",
       "       'BankcardUtilization', 'DebtToIncomeRatio', 'StatedMonthlyIncome',\n",
       "       'Home', 'LoanOriginalAmount', 'LoanOriginationDate', 'LoanStat',\n",
       "       'Datetime'],\n",
       "      dtype='object')"
      ]
     },
     "execution_count": 130,
     "metadata": {},
     "output_type": "execute_result"
    }
   ],
   "source": [
    "df2.columns"
   ]
  },
  {
   "cell_type": "code",
   "execution_count": 133,
   "id": "78ba6020",
   "metadata": {},
   "outputs": [],
   "source": [
    "y4=df2['EstimatedReturn']"
   ]
  },
  {
   "cell_type": "code",
   "execution_count": 150,
   "id": "3bcc6520",
   "metadata": {},
   "outputs": [],
   "source": [
    "x4_train, x4_test , y4_train, y4_test = train_test_split(x4, y4 , train_size=.7)"
   ]
  },
  {
   "cell_type": "code",
   "execution_count": 151,
   "id": "e95302df",
   "metadata": {},
   "outputs": [],
   "source": [
    "model4= LinearRegression().fit(x4_train, y4_train)\n",
    "score= model4.score(x4_test, y4_test)"
   ]
  },
  {
   "cell_type": "code",
   "execution_count": 152,
   "id": "df14fcfc",
   "metadata": {},
   "outputs": [
    {
     "data": {
      "text/plain": [
       "0.11135827821485533"
      ]
     },
     "execution_count": 152,
     "metadata": {},
     "output_type": "execute_result"
    }
   ],
   "source": [
    "score"
   ]
  },
  {
   "cell_type": "code",
   "execution_count": 153,
   "id": "74e9e045",
   "metadata": {},
   "outputs": [
    {
     "data": {
      "text/plain": [
       "array([0.09176252, 0.1072042 , 0.12220439, ..., 0.10418939, 0.10894263,\n",
       "       0.1070589 ])"
      ]
     },
     "execution_count": 153,
     "metadata": {},
     "output_type": "execute_result"
    }
   ],
   "source": [
    "pred4= model4.predict(x4_test)\n",
    "pred4"
   ]
  },
  {
   "cell_type": "code",
   "execution_count": 154,
   "id": "c97879ed",
   "metadata": {},
   "outputs": [
    {
     "data": {
      "text/plain": [
       "array([0.10941026, 0.10864416, 0.10864416, ..., 0.10557975, 0.10201299,\n",
       "       0.09882299])"
      ]
     },
     "execution_count": 154,
     "metadata": {},
     "output_type": "execute_result"
    }
   ],
   "source": [
    "pred3= model3.predict(x3_test)\n",
    "pred3"
   ]
  },
  {
   "cell_type": "code",
   "execution_count": 158,
   "id": "1aeafc36",
   "metadata": {},
   "outputs": [],
   "source": [
    "x5= df2[['OpenCreditLines','InquiriesLast6Months','PublicRecordsLast12Months','BankcardUtilization']]"
   ]
  },
  {
   "cell_type": "code",
   "execution_count": 147,
   "id": "6c2a493c",
   "metadata": {},
   "outputs": [
    {
     "data": {
      "text/plain": [
       "Index(['BorrowerRate', 'EstimatedReturn', 'ProsperRating (numeric)',\n",
       "       'ListingCategory (numeric)', 'CreditScoreRangeLower', 'OpenCreditLines',\n",
       "       'InquiriesLast6Months', 'PublicRecordsLast12Months',\n",
       "       'BankcardUtilization', 'DebtToIncomeRatio', 'StatedMonthlyIncome',\n",
       "       'Home', 'LoanOriginalAmount', 'LoanOriginationDate', 'LoanStat',\n",
       "       'Datetime'],\n",
       "      dtype='object')"
      ]
     },
     "execution_count": 147,
     "metadata": {},
     "output_type": "execute_result"
    }
   ],
   "source": [
    "df2.columns"
   ]
  },
  {
   "cell_type": "code",
   "execution_count": 159,
   "id": "d5a71560",
   "metadata": {},
   "outputs": [],
   "source": [
    "y5= df2['EstimatedReturn']"
   ]
  },
  {
   "cell_type": "code",
   "execution_count": 160,
   "id": "2c318641",
   "metadata": {},
   "outputs": [],
   "source": [
    "x5_train, x5_test , y5_train, y5_test = train_test_split(x5, y5 , train_size=.7)"
   ]
  },
  {
   "cell_type": "code",
   "execution_count": 161,
   "id": "f377a9be",
   "metadata": {},
   "outputs": [],
   "source": [
    "model5= LinearRegression().fit(x5_train, y5_train)\n",
    "score= model5.score(x5_test, y5_test)"
   ]
  },
  {
   "cell_type": "code",
   "execution_count": 162,
   "id": "56917594",
   "metadata": {},
   "outputs": [
    {
     "data": {
      "text/plain": [
       "0.09404404968193292"
      ]
     },
     "execution_count": 162,
     "metadata": {},
     "output_type": "execute_result"
    }
   ],
   "source": [
    "score"
   ]
  },
  {
   "cell_type": "code",
   "execution_count": 163,
   "id": "b102fca2",
   "metadata": {},
   "outputs": [
    {
     "data": {
      "text/plain": [
       "array([0.11665876, 0.1048179 , 0.10682002, ..., 0.10216993, 0.11000752,\n",
       "       0.10643549])"
      ]
     },
     "execution_count": 163,
     "metadata": {},
     "output_type": "execute_result"
    }
   ],
   "source": [
    "pred5= model5.predict(x5_test)\n",
    "pred5"
   ]
  },
  {
   "cell_type": "code",
   "execution_count": 165,
   "id": "692b7a47",
   "metadata": {},
   "outputs": [
    {
     "data": {
      "text/plain": [
       "6394"
      ]
     },
     "execution_count": 165,
     "metadata": {},
     "output_type": "execute_result"
    }
   ],
   "source": [
    "pd.DataFrame(pred5).value_counts().sum()"
   ]
  },
  {
   "cell_type": "code",
   "execution_count": 166,
   "id": "ce168897",
   "metadata": {},
   "outputs": [
    {
     "ename": "ModuleNotFoundError",
     "evalue": "No module named 'CHAID'",
     "output_type": "error",
     "traceback": [
      "\u001b[1;31m---------------------------------------------------------------------------\u001b[0m",
      "\u001b[1;31mModuleNotFoundError\u001b[0m                       Traceback (most recent call last)",
      "\u001b[1;32mC:\\Users\\JAHANL~1\\AppData\\Local\\Temp/ipykernel_6748/1791710074.py\u001b[0m in \u001b[0;36m<module>\u001b[1;34m\u001b[0m\n\u001b[1;32m----> 1\u001b[1;33m \u001b[1;32mfrom\u001b[0m \u001b[0mCHAID\u001b[0m \u001b[1;32mimport\u001b[0m \u001b[0mTree\u001b[0m\u001b[1;33m,\u001b[0m \u001b[0mNominalColumn\u001b[0m\u001b[1;33m\u001b[0m\u001b[1;33m\u001b[0m\u001b[0m\n\u001b[0m",
      "\u001b[1;31mModuleNotFoundError\u001b[0m: No module named 'CHAID'"
     ]
    }
   ],
   "source": []
  },
  {
   "cell_type": "code",
   "execution_count": 168,
   "id": "2ff23b26",
   "metadata": {},
   "outputs": [
    {
     "name": "stdout",
     "output_type": "stream",
     "text": [
      "Note: you may need to restart the kernel to use updated packages.\n"
     ]
    },
    {
     "name": "stderr",
     "output_type": "stream",
     "text": [
      "ERROR: Could not find a version that satisfies the requirement CHIAID (from versions: none)\n",
      "ERROR: No matching distribution found for CHIAID\n"
     ]
    }
   ],
   "source": []
  },
  {
   "cell_type": "code",
   "execution_count": 172,
   "id": "b59aae0f",
   "metadata": {},
   "outputs": [
    {
     "ename": "ValueError",
     "evalue": "continuous is not supported",
     "output_type": "error",
     "traceback": [
      "\u001b[1;31m---------------------------------------------------------------------------\u001b[0m",
      "\u001b[1;31mValueError\u001b[0m                                Traceback (most recent call last)",
      "\u001b[1;32mC:\\Users\\JAHANL~1\\AppData\\Local\\Temp/ipykernel_6748/3729965560.py\u001b[0m in \u001b[0;36m<module>\u001b[1;34m\u001b[0m\n\u001b[1;32m----> 1\u001b[1;33m \u001b[0mcon_mat\u001b[0m \u001b[1;33m=\u001b[0m \u001b[0mconfusion_matrix\u001b[0m\u001b[1;33m(\u001b[0m\u001b[0my3_test\u001b[0m\u001b[1;33m,\u001b[0m \u001b[0mpred3\u001b[0m\u001b[1;33m)\u001b[0m\u001b[1;33m\u001b[0m\u001b[1;33m\u001b[0m\u001b[0m\n\u001b[0m\u001b[0;32m      2\u001b[0m sb.heatmap(con_mat, annot=True, annot_kws={\"size\": 20},cmap=\"summer_r\", xticklabels=np.unique(df2.EstimatedReturn),\n\u001b[0;32m      3\u001b[0m            yticklabels=np.unique(df2.EstimatedReturn))\n\u001b[0;32m      4\u001b[0m \u001b[0mplt\u001b[0m\u001b[1;33m.\u001b[0m\u001b[0mtitle\u001b[0m\u001b[1;33m(\u001b[0m\u001b[1;34m\"Confusion Matrix of the classifier\"\u001b[0m\u001b[1;33m)\u001b[0m\u001b[1;33m\u001b[0m\u001b[1;33m\u001b[0m\u001b[0m\n\u001b[0;32m      5\u001b[0m \u001b[0mplt\u001b[0m\u001b[1;33m.\u001b[0m\u001b[0mylabel\u001b[0m\u001b[1;33m(\u001b[0m\u001b[1;34m'Actual labels'\u001b[0m\u001b[1;33m)\u001b[0m\u001b[1;33m\u001b[0m\u001b[1;33m\u001b[0m\u001b[0m\n",
      "\u001b[1;32m~\\anaconda3\\lib\\site-packages\\sklearn\\utils\\validation.py\u001b[0m in \u001b[0;36minner_f\u001b[1;34m(*args, **kwargs)\u001b[0m\n\u001b[0;32m     61\u001b[0m             \u001b[0mextra_args\u001b[0m \u001b[1;33m=\u001b[0m \u001b[0mlen\u001b[0m\u001b[1;33m(\u001b[0m\u001b[0margs\u001b[0m\u001b[1;33m)\u001b[0m \u001b[1;33m-\u001b[0m \u001b[0mlen\u001b[0m\u001b[1;33m(\u001b[0m\u001b[0mall_args\u001b[0m\u001b[1;33m)\u001b[0m\u001b[1;33m\u001b[0m\u001b[1;33m\u001b[0m\u001b[0m\n\u001b[0;32m     62\u001b[0m             \u001b[1;32mif\u001b[0m \u001b[0mextra_args\u001b[0m \u001b[1;33m<=\u001b[0m \u001b[1;36m0\u001b[0m\u001b[1;33m:\u001b[0m\u001b[1;33m\u001b[0m\u001b[1;33m\u001b[0m\u001b[0m\n\u001b[1;32m---> 63\u001b[1;33m                 \u001b[1;32mreturn\u001b[0m \u001b[0mf\u001b[0m\u001b[1;33m(\u001b[0m\u001b[1;33m*\u001b[0m\u001b[0margs\u001b[0m\u001b[1;33m,\u001b[0m \u001b[1;33m**\u001b[0m\u001b[0mkwargs\u001b[0m\u001b[1;33m)\u001b[0m\u001b[1;33m\u001b[0m\u001b[1;33m\u001b[0m\u001b[0m\n\u001b[0m\u001b[0;32m     64\u001b[0m \u001b[1;33m\u001b[0m\u001b[0m\n\u001b[0;32m     65\u001b[0m             \u001b[1;31m# extra_args > 0\u001b[0m\u001b[1;33m\u001b[0m\u001b[1;33m\u001b[0m\u001b[0m\n",
      "\u001b[1;32m~\\anaconda3\\lib\\site-packages\\sklearn\\metrics\\_classification.py\u001b[0m in \u001b[0;36mconfusion_matrix\u001b[1;34m(y_true, y_pred, labels, sample_weight, normalize)\u001b[0m\n\u001b[0;32m    297\u001b[0m \u001b[1;33m\u001b[0m\u001b[0m\n\u001b[0;32m    298\u001b[0m     \"\"\"\n\u001b[1;32m--> 299\u001b[1;33m     \u001b[0my_type\u001b[0m\u001b[1;33m,\u001b[0m \u001b[0my_true\u001b[0m\u001b[1;33m,\u001b[0m \u001b[0my_pred\u001b[0m \u001b[1;33m=\u001b[0m \u001b[0m_check_targets\u001b[0m\u001b[1;33m(\u001b[0m\u001b[0my_true\u001b[0m\u001b[1;33m,\u001b[0m \u001b[0my_pred\u001b[0m\u001b[1;33m)\u001b[0m\u001b[1;33m\u001b[0m\u001b[1;33m\u001b[0m\u001b[0m\n\u001b[0m\u001b[0;32m    300\u001b[0m     \u001b[1;32mif\u001b[0m \u001b[0my_type\u001b[0m \u001b[1;32mnot\u001b[0m \u001b[1;32min\u001b[0m \u001b[1;33m(\u001b[0m\u001b[1;34m\"binary\"\u001b[0m\u001b[1;33m,\u001b[0m \u001b[1;34m\"multiclass\"\u001b[0m\u001b[1;33m)\u001b[0m\u001b[1;33m:\u001b[0m\u001b[1;33m\u001b[0m\u001b[1;33m\u001b[0m\u001b[0m\n\u001b[0;32m    301\u001b[0m         \u001b[1;32mraise\u001b[0m \u001b[0mValueError\u001b[0m\u001b[1;33m(\u001b[0m\u001b[1;34m\"%s is not supported\"\u001b[0m \u001b[1;33m%\u001b[0m \u001b[0my_type\u001b[0m\u001b[1;33m)\u001b[0m\u001b[1;33m\u001b[0m\u001b[1;33m\u001b[0m\u001b[0m\n",
      "\u001b[1;32m~\\anaconda3\\lib\\site-packages\\sklearn\\metrics\\_classification.py\u001b[0m in \u001b[0;36m_check_targets\u001b[1;34m(y_true, y_pred)\u001b[0m\n\u001b[0;32m     98\u001b[0m     \u001b[1;31m# No metrics support \"multiclass-multioutput\" format\u001b[0m\u001b[1;33m\u001b[0m\u001b[1;33m\u001b[0m\u001b[0m\n\u001b[0;32m     99\u001b[0m     \u001b[1;32mif\u001b[0m \u001b[1;33m(\u001b[0m\u001b[0my_type\u001b[0m \u001b[1;32mnot\u001b[0m \u001b[1;32min\u001b[0m \u001b[1;33m[\u001b[0m\u001b[1;34m\"binary\"\u001b[0m\u001b[1;33m,\u001b[0m \u001b[1;34m\"multiclass\"\u001b[0m\u001b[1;33m,\u001b[0m \u001b[1;34m\"multilabel-indicator\"\u001b[0m\u001b[1;33m]\u001b[0m\u001b[1;33m)\u001b[0m\u001b[1;33m:\u001b[0m\u001b[1;33m\u001b[0m\u001b[1;33m\u001b[0m\u001b[0m\n\u001b[1;32m--> 100\u001b[1;33m         \u001b[1;32mraise\u001b[0m \u001b[0mValueError\u001b[0m\u001b[1;33m(\u001b[0m\u001b[1;34m\"{0} is not supported\"\u001b[0m\u001b[1;33m.\u001b[0m\u001b[0mformat\u001b[0m\u001b[1;33m(\u001b[0m\u001b[0my_type\u001b[0m\u001b[1;33m)\u001b[0m\u001b[1;33m)\u001b[0m\u001b[1;33m\u001b[0m\u001b[1;33m\u001b[0m\u001b[0m\n\u001b[0m\u001b[0;32m    101\u001b[0m \u001b[1;33m\u001b[0m\u001b[0m\n\u001b[0;32m    102\u001b[0m     \u001b[1;32mif\u001b[0m \u001b[0my_type\u001b[0m \u001b[1;32min\u001b[0m \u001b[1;33m[\u001b[0m\u001b[1;34m\"binary\"\u001b[0m\u001b[1;33m,\u001b[0m \u001b[1;34m\"multiclass\"\u001b[0m\u001b[1;33m]\u001b[0m\u001b[1;33m:\u001b[0m\u001b[1;33m\u001b[0m\u001b[1;33m\u001b[0m\u001b[0m\n",
      "\u001b[1;31mValueError\u001b[0m: continuous is not supported"
     ]
    }
   ],
   "source": [
    "con_mat = confusion_matrix(y3_test, pred3)\n",
    "sb.heatmap(con_mat, annot=True, annot_kws={\"size\": 20},cmap=\"summer_r\", xticklabels=np.unique(df2.EstimatedReturn),\n",
    "           yticklabels=np.unique(df2.EstimatedReturn))\n",
    "plt.title(\"Confusion Matrix of the classifier\")\n",
    "plt.ylabel('Actual labels')\n",
    "plt.xlabel('Predicted labels')\n",
    "plt.show()"
   ]
  },
  {
   "cell_type": "code",
   "execution_count": null,
   "id": "24b19e9c",
   "metadata": {},
   "outputs": [],
   "source": []
  }
 ],
 "metadata": {
  "kernelspec": {
   "display_name": "Python 3 (ipykernel)",
   "language": "python",
   "name": "python3"
  },
  "language_info": {
   "codemirror_mode": {
    "name": "ipython",
    "version": 3
   },
   "file_extension": ".py",
   "mimetype": "text/x-python",
   "name": "python",
   "nbconvert_exporter": "python",
   "pygments_lexer": "ipython3",
   "version": "3.12.10"
  }
 },
 "nbformat": 4,
 "nbformat_minor": 5
}
