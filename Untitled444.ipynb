{
 "cells": [
  {
   "cell_type": "code",
   "execution_count": 3,
   "id": "5268b5c6",
   "metadata": {},
   "outputs": [],
   "source": [
    "from lazypredict.Supervised import LazyClassifier \n"
   ]
  },
  {
   "cell_type": "code",
   "execution_count": 2,
   "id": "fbb061bb",
   "metadata": {},
   "outputs": [
    {
     "name": "stdout",
     "output_type": "stream",
     "text": [
      "Collecting lazypredict\n",
      "  Downloading lazypredict-0.2.12-py2.py3-none-any.whl (12 kB)\n",
      "Requirement already satisfied: pandas in c:\\users\\jahan laptop\\anaconda3\\lib\\site-packages (from lazypredict) (1.3.4)\n",
      "Requirement already satisfied: click in c:\\users\\jahan laptop\\anaconda3\\lib\\site-packages (from lazypredict) (8.0.3)\n",
      "Requirement already satisfied: scikit-learn in c:\\users\\jahan laptop\\anaconda3\\lib\\site-packages (from lazypredict) (0.24.2)\n",
      "Collecting xgboost\n",
      "  Downloading xgboost-2.0.2-py3-none-win_amd64.whl (99.8 MB)\n",
      "Collecting lightgbm\n",
      "  Downloading lightgbm-4.1.0-py3-none-win_amd64.whl (1.3 MB)\n",
      "Requirement already satisfied: joblib in c:\\users\\jahan laptop\\anaconda3\\lib\\site-packages (from lazypredict) (1.1.0)\n",
      "Requirement already satisfied: tqdm in c:\\users\\jahan laptop\\anaconda3\\lib\\site-packages (from lazypredict) (4.62.3)\n",
      "Requirement already satisfied: colorama in c:\\users\\jahan laptop\\anaconda3\\lib\\site-packages (from click->lazypredict) (0.4.4)\n",
      "Requirement already satisfied: numpy in c:\\users\\jahan laptop\\anaconda3\\lib\\site-packages (from lightgbm->lazypredict) (1.24.1)\n",
      "Requirement already satisfied: scipy in c:\\users\\jahan laptop\\anaconda3\\lib\\site-packages (from lightgbm->lazypredict) (1.10.0)\n",
      "Requirement already satisfied: python-dateutil>=2.7.3 in c:\\users\\jahan laptop\\anaconda3\\lib\\site-packages (from pandas->lazypredict) (2.8.2)\n",
      "Requirement already satisfied: pytz>=2017.3 in c:\\users\\jahan laptop\\anaconda3\\lib\\site-packages (from pandas->lazypredict) (2021.3)\n",
      "Requirement already satisfied: six>=1.5 in c:\\users\\jahan laptop\\anaconda3\\lib\\site-packages (from python-dateutil>=2.7.3->pandas->lazypredict) (1.16.0)\n",
      "Requirement already satisfied: threadpoolctl>=2.0.0 in c:\\users\\jahan laptop\\anaconda3\\lib\\site-packages (from scikit-learn->lazypredict) (2.2.0)\n",
      "Installing collected packages: xgboost, lightgbm, lazypredict\n",
      "Successfully installed lazypredict-0.2.12 lightgbm-4.1.0 xgboost-2.0.2\n"
     ]
    }
   ],
   "source": [
    "!pip install lazypredict"
   ]
  },
  {
   "cell_type": "code",
   "execution_count": 4,
   "id": "08000d81",
   "metadata": {},
   "outputs": [],
   "source": [
    "import numpy as np \n",
    "import pandas as pd\n",
    "import matplotlib.pyplot as plt \n",
    "import seaborn as sb \n",
    "import numpy_financial as npf\n",
    "from sklearn.metrics import confusion_matrix, accuracy_score\n",
    "import klib"
   ]
  },
  {
   "cell_type": "code",
   "execution_count": 5,
   "id": "590231b0",
   "metadata": {},
   "outputs": [
    {
     "data": {
      "text/html": [
       "<div>\n",
       "<style scoped>\n",
       "    .dataframe tbody tr th:only-of-type {\n",
       "        vertical-align: middle;\n",
       "    }\n",
       "\n",
       "    .dataframe tbody tr th {\n",
       "        vertical-align: top;\n",
       "    }\n",
       "\n",
       "    .dataframe thead th {\n",
       "        text-align: right;\n",
       "    }\n",
       "</style>\n",
       "<table border=\"1\" class=\"dataframe\">\n",
       "  <thead>\n",
       "    <tr style=\"text-align: right;\">\n",
       "      <th></th>\n",
       "      <th>ListingKey</th>\n",
       "      <th>ListingNumber</th>\n",
       "      <th>ListingCreationDate</th>\n",
       "      <th>CreditGrade</th>\n",
       "      <th>Term</th>\n",
       "      <th>LoanStatus</th>\n",
       "      <th>ClosedDate</th>\n",
       "      <th>BorrowerAPR</th>\n",
       "      <th>BorrowerRate</th>\n",
       "      <th>LenderYield</th>\n",
       "      <th>...</th>\n",
       "      <th>LP_ServiceFees</th>\n",
       "      <th>LP_CollectionFees</th>\n",
       "      <th>LP_GrossPrincipalLoss</th>\n",
       "      <th>LP_NetPrincipalLoss</th>\n",
       "      <th>LP_NonPrincipalRecoverypayments</th>\n",
       "      <th>PercentFunded</th>\n",
       "      <th>Recommendations</th>\n",
       "      <th>InvestmentFromFriendsCount</th>\n",
       "      <th>InvestmentFromFriendsAmount</th>\n",
       "      <th>Investors</th>\n",
       "    </tr>\n",
       "  </thead>\n",
       "  <tbody>\n",
       "    <tr>\n",
       "      <th>0</th>\n",
       "      <td>1021339766868145413AB3B</td>\n",
       "      <td>193129</td>\n",
       "      <td>09:29.3</td>\n",
       "      <td>C</td>\n",
       "      <td>36</td>\n",
       "      <td>Completed</td>\n",
       "      <td>8/14/2009 0:00</td>\n",
       "      <td>0.17</td>\n",
       "      <td>0.16</td>\n",
       "      <td>0.14</td>\n",
       "      <td>...</td>\n",
       "      <td>-133.18</td>\n",
       "      <td>0.00</td>\n",
       "      <td>0.00</td>\n",
       "      <td>0.00</td>\n",
       "      <td>0.00</td>\n",
       "      <td>1.00</td>\n",
       "      <td>0</td>\n",
       "      <td>0</td>\n",
       "      <td>0.00</td>\n",
       "      <td>258</td>\n",
       "    </tr>\n",
       "    <tr>\n",
       "      <th>1</th>\n",
       "      <td>10273602499503308B223C1</td>\n",
       "      <td>1209647</td>\n",
       "      <td>28:07.9</td>\n",
       "      <td>NaN</td>\n",
       "      <td>36</td>\n",
       "      <td>Current</td>\n",
       "      <td>NaN</td>\n",
       "      <td>0.12</td>\n",
       "      <td>0.09</td>\n",
       "      <td>0.08</td>\n",
       "      <td>...</td>\n",
       "      <td>0.00</td>\n",
       "      <td>0.00</td>\n",
       "      <td>0.00</td>\n",
       "      <td>0.00</td>\n",
       "      <td>0.00</td>\n",
       "      <td>1.00</td>\n",
       "      <td>0</td>\n",
       "      <td>0</td>\n",
       "      <td>0.00</td>\n",
       "      <td>1</td>\n",
       "    </tr>\n",
       "    <tr>\n",
       "      <th>2</th>\n",
       "      <td>0EE9337825851032864889A</td>\n",
       "      <td>81716</td>\n",
       "      <td>00:47.1</td>\n",
       "      <td>HR</td>\n",
       "      <td>36</td>\n",
       "      <td>Completed</td>\n",
       "      <td>12/17/2009 0:00</td>\n",
       "      <td>0.28</td>\n",
       "      <td>0.28</td>\n",
       "      <td>0.24</td>\n",
       "      <td>...</td>\n",
       "      <td>-24.20</td>\n",
       "      <td>0.00</td>\n",
       "      <td>0.00</td>\n",
       "      <td>0.00</td>\n",
       "      <td>0.00</td>\n",
       "      <td>1.00</td>\n",
       "      <td>0</td>\n",
       "      <td>0</td>\n",
       "      <td>0.00</td>\n",
       "      <td>41</td>\n",
       "    </tr>\n",
       "    <tr>\n",
       "      <th>3</th>\n",
       "      <td>0EF5356002482715299901A</td>\n",
       "      <td>658116</td>\n",
       "      <td>02:35.0</td>\n",
       "      <td>NaN</td>\n",
       "      <td>36</td>\n",
       "      <td>Current</td>\n",
       "      <td>NaN</td>\n",
       "      <td>0.13</td>\n",
       "      <td>0.10</td>\n",
       "      <td>0.09</td>\n",
       "      <td>...</td>\n",
       "      <td>-108.01</td>\n",
       "      <td>0.00</td>\n",
       "      <td>0.00</td>\n",
       "      <td>0.00</td>\n",
       "      <td>0.00</td>\n",
       "      <td>1.00</td>\n",
       "      <td>0</td>\n",
       "      <td>0</td>\n",
       "      <td>0.00</td>\n",
       "      <td>158</td>\n",
       "    </tr>\n",
       "    <tr>\n",
       "      <th>4</th>\n",
       "      <td>0F023589499656230C5E3E2</td>\n",
       "      <td>909464</td>\n",
       "      <td>38:39.1</td>\n",
       "      <td>NaN</td>\n",
       "      <td>36</td>\n",
       "      <td>Current</td>\n",
       "      <td>NaN</td>\n",
       "      <td>0.25</td>\n",
       "      <td>0.21</td>\n",
       "      <td>0.20</td>\n",
       "      <td>...</td>\n",
       "      <td>-60.27</td>\n",
       "      <td>0.00</td>\n",
       "      <td>0.00</td>\n",
       "      <td>0.00</td>\n",
       "      <td>0.00</td>\n",
       "      <td>1.00</td>\n",
       "      <td>0</td>\n",
       "      <td>0</td>\n",
       "      <td>0.00</td>\n",
       "      <td>20</td>\n",
       "    </tr>\n",
       "  </tbody>\n",
       "</table>\n",
       "<p>5 rows × 81 columns</p>\n",
       "</div>"
      ],
      "text/plain": [
       "                ListingKey  ListingNumber ListingCreationDate CreditGrade  \\\n",
       "0  1021339766868145413AB3B         193129             09:29.3           C   \n",
       "1  10273602499503308B223C1        1209647             28:07.9         NaN   \n",
       "2  0EE9337825851032864889A          81716             00:47.1          HR   \n",
       "3  0EF5356002482715299901A         658116             02:35.0         NaN   \n",
       "4  0F023589499656230C5E3E2         909464             38:39.1         NaN   \n",
       "\n",
       "   Term LoanStatus       ClosedDate  BorrowerAPR  BorrowerRate  LenderYield  \\\n",
       "0    36  Completed   8/14/2009 0:00         0.17          0.16         0.14   \n",
       "1    36    Current              NaN         0.12          0.09         0.08   \n",
       "2    36  Completed  12/17/2009 0:00         0.28          0.28         0.24   \n",
       "3    36    Current              NaN         0.13          0.10         0.09   \n",
       "4    36    Current              NaN         0.25          0.21         0.20   \n",
       "\n",
       "   ...  LP_ServiceFees  LP_CollectionFees  LP_GrossPrincipalLoss  \\\n",
       "0  ...         -133.18               0.00                   0.00   \n",
       "1  ...            0.00               0.00                   0.00   \n",
       "2  ...          -24.20               0.00                   0.00   \n",
       "3  ...         -108.01               0.00                   0.00   \n",
       "4  ...          -60.27               0.00                   0.00   \n",
       "\n",
       "   LP_NetPrincipalLoss LP_NonPrincipalRecoverypayments  PercentFunded  \\\n",
       "0                 0.00                            0.00           1.00   \n",
       "1                 0.00                            0.00           1.00   \n",
       "2                 0.00                            0.00           1.00   \n",
       "3                 0.00                            0.00           1.00   \n",
       "4                 0.00                            0.00           1.00   \n",
       "\n",
       "   Recommendations InvestmentFromFriendsCount InvestmentFromFriendsAmount  \\\n",
       "0                0                          0                        0.00   \n",
       "1                0                          0                        0.00   \n",
       "2                0                          0                        0.00   \n",
       "3                0                          0                        0.00   \n",
       "4                0                          0                        0.00   \n",
       "\n",
       "  Investors  \n",
       "0       258  \n",
       "1         1  \n",
       "2        41  \n",
       "3       158  \n",
       "4        20  \n",
       "\n",
       "[5 rows x 81 columns]"
      ]
     },
     "execution_count": 5,
     "metadata": {},
     "output_type": "execute_result"
    }
   ],
   "source": [
    "df= pd.read_csv('downloads/ProsperLoanData.csv')\n",
    "df.head()"
   ]
  },
  {
   "cell_type": "code",
   "execution_count": 6,
   "id": "43da7fd4",
   "metadata": {},
   "outputs": [],
   "source": [
    "df1 = df[['BorrowerRate','EstimatedReturn','ProsperRating (numeric)','ListingCategory (numeric)',' IsBorrowerHomeowner','CreditScoreRangeLower',\n",
    "         'OpenCreditLines','InquiriesLast6Months','PublicRecordsLast12Months','BankcardUtilization','DebtToIncomeRatio','StatedMonthlyIncome','LoanOriginalAmount','LoanOriginationDate','LoanStatus']]"
   ]
  },
  {
   "cell_type": "code",
   "execution_count": 7,
   "id": "d5a64efc",
   "metadata": {},
   "outputs": [],
   "source": [
    "import datetime"
   ]
  },
  {
   "cell_type": "code",
   "execution_count": 8,
   "id": "0490de9c",
   "metadata": {},
   "outputs": [],
   "source": [
    "df1['Datetime']= pd.to_datetime(df1['LoanOriginationDate'])\n"
   ]
  },
  {
   "cell_type": "code",
   "execution_count": 9,
   "id": "ff36cbbf",
   "metadata": {},
   "outputs": [],
   "source": [
    "cutoff_date ='2009-12-31'\n",
    "df1= df1.loc[df1['Datetime'] >= cutoff_date]"
   ]
  },
  {
   "cell_type": "code",
   "execution_count": 10,
   "id": "b6b73340",
   "metadata": {},
   "outputs": [],
   "source": [
    "df1= df1.drop(['Datetime'],axis=1)\n"
   ]
  },
  {
   "cell_type": "code",
   "execution_count": 11,
   "id": "86cc7cbd",
   "metadata": {},
   "outputs": [],
   "source": [
    "df1.drop(df1.index[np.where(df1['LoanStatus'] == 'Current')], inplace=True)\n",
    "df1.drop(df1.index[np.where(df1['LoanStatus'] == 'Past Due (1-15 days)')], inplace=True)\n",
    "df1.drop(df1.index[np.where(df1['LoanStatus'] == 'Past Due (16-30 days)')], inplace=True)\n",
    "df1.drop(df1.index[np.where(df1['LoanStatus'] == 'Past Due (61-90 days)')], inplace=True)\n",
    "df1.drop(df1.index[np.where(df1['LoanStatus'] == 'Past Due (31-60 days)')], inplace=True)\n",
    "df1.drop(df1.index[np.where(df1['LoanStatus'] == 'Past Due (91-120 days)')], inplace=True)\n",
    "df1.drop(df1.index[np.where(df1['LoanStatus'] == 'Past Due (>120 days)')], inplace=True)\n",
    "df1.drop(df1.index[np.where(df1['LoanStatus'] == 'FinalPaymentInProgress')], inplace=True)\n"
   ]
  },
  {
   "cell_type": "code",
   "execution_count": 12,
   "id": "bdc24c0b",
   "metadata": {},
   "outputs": [],
   "source": [
    "label = []\n",
    "\n",
    "for i in range(len(df1)):\n",
    "    if df1.iloc[i][' IsBorrowerHomeowner'] == True :\n",
    "        label.append(1)\n",
    "    else:\n",
    "        label.append(0) "
   ]
  },
  {
   "cell_type": "code",
   "execution_count": 13,
   "id": "2b3818cc",
   "metadata": {},
   "outputs": [],
   "source": [
    "df1.insert(12, 'Home', label , True)"
   ]
  },
  {
   "cell_type": "code",
   "execution_count": 14,
   "id": "76208395",
   "metadata": {},
   "outputs": [],
   "source": [
    "df1=df1.drop([' IsBorrowerHomeowner'], axis=1)"
   ]
  },
  {
   "cell_type": "code",
   "execution_count": 15,
   "id": "f188bf20",
   "metadata": {},
   "outputs": [],
   "source": [
    "labels = []\n",
    "\n",
    "for i in range(len(df1)):\n",
    "    if df1.iloc[i]['LoanStatus'] == 'Completed' :\n",
    "        labels.append(1)\n",
    "    else:\n",
    "        labels.append(0) "
   ]
  },
  {
   "cell_type": "code",
   "execution_count": 16,
   "id": "7abe9396",
   "metadata": {},
   "outputs": [],
   "source": [
    "df1.insert(12, 'Loanstatu', labels , True)"
   ]
  },
  {
   "cell_type": "code",
   "execution_count": 17,
   "id": "09c7cec5",
   "metadata": {},
   "outputs": [],
   "source": [
    "df1= df1.drop(['LoanStatus'], axis=1)"
   ]
  },
  {
   "cell_type": "code",
   "execution_count": 18,
   "id": "5859abbe",
   "metadata": {},
   "outputs": [],
   "source": [
    "df1=df1.dropna(subset=['EstimatedReturn', 'DebtToIncomeRatio', 'ProsperRating (numeric)'])"
   ]
  },
  {
   "cell_type": "code",
   "execution_count": 19,
   "id": "2ad12d86",
   "metadata": {},
   "outputs": [],
   "source": [
    "from sklearn.utils import shuffle"
   ]
  },
  {
   "cell_type": "code",
   "execution_count": 20,
   "id": "2257b5df",
   "metadata": {},
   "outputs": [],
   "source": [
    "df2 = shuffle(df1)"
   ]
  },
  {
   "cell_type": "code",
   "execution_count": 21,
   "id": "6b54fdf4",
   "metadata": {},
   "outputs": [],
   "source": [
    "from sklearn.model_selection import train_test_split"
   ]
  },
  {
   "cell_type": "code",
   "execution_count": 22,
   "id": "4ff25390",
   "metadata": {},
   "outputs": [],
   "source": [
    "del df2['LoanOriginationDate']"
   ]
  },
  {
   "cell_type": "code",
   "execution_count": 23,
   "id": "138a5946",
   "metadata": {},
   "outputs": [],
   "source": [
    "x = df2[['BorrowerRate', 'EstimatedReturn', 'ProsperRating (numeric)',\n",
    "       'ListingCategory (numeric)', 'CreditScoreRangeLower', 'OpenCreditLines',\n",
    "       'InquiriesLast6Months', 'PublicRecordsLast12Months',\n",
    "       'BankcardUtilization', 'DebtToIncomeRatio', 'StatedMonthlyIncome',\n",
    "       'Home', 'LoanOriginalAmount']]"
   ]
  },
  {
   "cell_type": "code",
   "execution_count": 24,
   "id": "ead72b47",
   "metadata": {},
   "outputs": [],
   "source": [
    "y= df2['Loanstatu'].values"
   ]
  },
  {
   "cell_type": "code",
   "execution_count": 25,
   "id": "89187546",
   "metadata": {},
   "outputs": [],
   "source": [
    "x_train, x_test , y_train, y_test = train_test_split(x, y , train_size=.7)"
   ]
  },
  {
   "cell_type": "code",
   "execution_count": 27,
   "id": "35c95cb9",
   "metadata": {},
   "outputs": [],
   "source": [
    "clf= LazyClassifier (verbose=0, ignore_warnings=True,custom_metric=None)"
   ]
  },
  {
   "cell_type": "code",
   "execution_count": 28,
   "id": "4ad0b120",
   "metadata": {},
   "outputs": [
    {
     "name": "stderr",
     "output_type": "stream",
     "text": [
      " 97%|███████████████████████████████████████████████████████████████████████████████▏  | 28/29 [01:15<00:03,  3.25s/it]"
     ]
    },
    {
     "name": "stdout",
     "output_type": "stream",
     "text": [
      "[LightGBM] [Info] Number of positive: 11363, number of negative: 3553\n",
      "[LightGBM] [Info] Auto-choosing row-wise multi-threading, the overhead of testing was 0.002577 seconds.\n",
      "You can set `force_row_wise=true` to remove the overhead.\n",
      "And if memory is not enough, you can set `force_col_wise=true`.\n",
      "[LightGBM] [Info] Total Bins 1342\n",
      "[LightGBM] [Info] Number of data points in the train set: 14916, number of used features: 13\n",
      "[LightGBM] [Info] [binary:BoostFromScore]: pavg=0.761799 -> initscore=1.162570\n",
      "[LightGBM] [Info] Start training from score 1.162570\n"
     ]
    },
    {
     "name": "stderr",
     "output_type": "stream",
     "text": [
      "100%|██████████████████████████████████████████████████████████████████████████████████| 29/29 [01:16<00:00,  2.64s/it]\n"
     ]
    }
   ],
   "source": [
    "models, predictions= clf.fit(x_train, x_test , y_train, y_test )"
   ]
  },
  {
   "cell_type": "code",
   "execution_count": 29,
   "id": "5129368d",
   "metadata": {},
   "outputs": [
    {
     "name": "stdout",
     "output_type": "stream",
     "text": [
      "                               Accuracy  Balanced Accuracy  ROC AUC  F1 Score  \\\n",
      "Model                                                                           \n",
      "NearestCentroid                    0.60               0.63     0.63      0.63   \n",
      "Perceptron                         0.68               0.63     0.63      0.70   \n",
      "BernoulliNB                        0.67               0.62     0.62      0.68   \n",
      "GaussianNB                         0.71               0.60     0.60      0.71   \n",
      "BaggingClassifier                  0.73               0.59     0.59      0.72   \n",
      "XGBClassifier                      0.76               0.58     0.58      0.73   \n",
      "LGBMClassifier                     0.77               0.57     0.57      0.73   \n",
      "DecisionTreeClassifier             0.68               0.57     0.57      0.69   \n",
      "RandomForestClassifier             0.77               0.57     0.57      0.72   \n",
      "LabelSpreading                     0.69               0.57     0.57      0.69   \n",
      "AdaBoostClassifier                 0.77               0.56     0.56      0.72   \n",
      "LabelPropagation                   0.69               0.56     0.56      0.69   \n",
      "ExtraTreesClassifier               0.76               0.56     0.56      0.72   \n",
      "KNeighborsClassifier               0.73               0.56     0.56      0.71   \n",
      "ExtraTreeClassifier                0.67               0.56     0.56      0.68   \n",
      "PassiveAggressiveClassifier        0.65               0.55     0.55      0.66   \n",
      "QuadraticDiscriminantAnalysis      0.76               0.54     0.54      0.70   \n",
      "LogisticRegression                 0.76               0.53     0.53      0.69   \n",
      "CalibratedClassifierCV             0.76               0.53     0.53      0.69   \n",
      "LinearDiscriminantAnalysis         0.76               0.52     0.52      0.69   \n",
      "SVC                                0.77               0.52     0.52      0.68   \n",
      "LinearSVC                          0.76               0.51     0.51      0.67   \n",
      "RidgeClassifier                    0.76               0.51     0.51      0.67   \n",
      "RidgeClassifierCV                  0.76               0.51     0.51      0.67   \n",
      "DummyClassifier                    0.76               0.50     0.50      0.66   \n",
      "SGDClassifier                      0.76               0.50     0.50      0.66   \n",
      "\n",
      "                               Time Taken  \n",
      "Model                                      \n",
      "NearestCentroid                      0.05  \n",
      "Perceptron                           0.08  \n",
      "BernoulliNB                          0.16  \n",
      "GaussianNB                           0.06  \n",
      "BaggingClassifier                    0.84  \n",
      "XGBClassifier                        0.51  \n",
      "LGBMClassifier                       0.87  \n",
      "DecisionTreeClassifier               0.17  \n",
      "RandomForestClassifier               2.55  \n",
      "LabelSpreading                      20.61  \n",
      "AdaBoostClassifier                   0.87  \n",
      "LabelPropagation                    13.05  \n",
      "ExtraTreesClassifier                 2.04  \n",
      "KNeighborsClassifier                 2.52  \n",
      "ExtraTreeClassifier                  0.05  \n",
      "PassiveAggressiveClassifier          0.07  \n",
      "QuadraticDiscriminantAnalysis        0.06  \n",
      "LogisticRegression                   0.11  \n",
      "CalibratedClassifierCV               6.76  \n",
      "LinearDiscriminantAnalysis           0.21  \n",
      "SVC                                 22.46  \n",
      "LinearSVC                            2.02  \n",
      "RidgeClassifier                      0.06  \n",
      "RidgeClassifierCV                    0.07  \n",
      "DummyClassifier                      0.04  \n",
      "SGDClassifier                        0.16  \n"
     ]
    }
   ],
   "source": [
    "print(models)"
   ]
  },
  {
   "cell_type": "code",
   "execution_count": 30,
   "id": "5178d683",
   "metadata": {},
   "outputs": [],
   "source": [
    "from lazypredict.Supervised import LazyRegressor\n"
   ]
  },
  {
   "cell_type": "code",
   "execution_count": 32,
   "id": "02459330",
   "metadata": {},
   "outputs": [
    {
     "name": "stderr",
     "output_type": "stream",
     "text": [
      " 22%|██████████████████▏                                                                | 9/41 [00:05<00:27,  1.15it/s]"
     ]
    },
    {
     "name": "stdout",
     "output_type": "stream",
     "text": [
      "GammaRegressor model failed to execute\n",
      "Some value(s) of y are out of the valid range for family GammaDistribution\n"
     ]
    },
    {
     "name": "stderr",
     "output_type": "stream",
     "text": [
      " 76%|██████████████████████████████████████████████████████████████                    | 31/41 [03:36<00:49,  4.97s/it]"
     ]
    },
    {
     "name": "stdout",
     "output_type": "stream",
     "text": [
      "RANSACRegressor model failed to execute\n",
      "RANSAC could not find a valid consensus set. All `max_trials` iterations were skipped because each randomly chosen sub-sample failed the passing criteria. See estimator attributes for diagnostics (n_skips*).\n"
     ]
    },
    {
     "name": "stderr",
     "output_type": "stream",
     "text": [
      " 98%|████████████████████████████████████████████████████████████████████████████████  | 40/41 [04:07<00:03,  3.46s/it]"
     ]
    },
    {
     "name": "stdout",
     "output_type": "stream",
     "text": [
      "[LightGBM] [Info] Auto-choosing row-wise multi-threading, the overhead of testing was 0.001861 seconds.\n",
      "You can set `force_row_wise=true` to remove the overhead.\n",
      "And if memory is not enough, you can set `force_col_wise=true`.\n",
      "[LightGBM] [Info] Total Bins 1342\n",
      "[LightGBM] [Info] Number of data points in the train set: 14916, number of used features: 13\n",
      "[LightGBM] [Info] Start training from score 0.761799\n"
     ]
    },
    {
     "name": "stderr",
     "output_type": "stream",
     "text": [
      "100%|██████████████████████████████████████████████████████████████████████████████████| 41/41 [04:07<00:00,  6.04s/it]\n"
     ]
    }
   ],
   "source": [
    "reg = LazyRegressor(verbose=0,ignore_warnings=False, custom_metric=None )\n",
    "models,predictions = reg.fit(x_train, x_test, y_train, y_test)\n"
   ]
  },
  {
   "cell_type": "code",
   "execution_count": 33,
   "id": "f8ce184f",
   "metadata": {},
   "outputs": [
    {
     "name": "stdout",
     "output_type": "stream",
     "text": [
      "                               Adjusted R-Squared  R-Squared  RMSE  Time Taken\n",
      "Model                                                                         \n",
      "GradientBoostingRegressor                    0.12       0.12  0.40        2.34\n",
      "HistGradientBoostingRegressor                0.11       0.12  0.40        0.78\n",
      "LGBMRegressor                                0.11       0.11  0.40        0.31\n",
      "MLPRegressor                                 0.09       0.10  0.40        5.60\n",
      "RandomForestRegressor                        0.08       0.08  0.41        7.14\n",
      "ExtraTreesRegressor                          0.08       0.08  0.41        4.06\n",
      "AdaBoostRegressor                            0.07       0.08  0.41        0.34\n",
      "TweedieRegressor                             0.07       0.07  0.41        0.02\n",
      "BayesianRidge                                0.06       0.06  0.41        0.05\n",
      "OrthogonalMatchingPursuit                    0.06       0.06  0.41        0.04\n",
      "ElasticNetCV                                 0.06       0.06  0.41        0.38\n",
      "LassoCV                                      0.06       0.06  0.41        0.38\n",
      "RidgeCV                                      0.06       0.06  0.41        0.05\n",
      "Ridge                                        0.06       0.06  0.41        0.05\n",
      "TransformedTargetRegressor                   0.06       0.06  0.41        0.06\n",
      "LinearRegression                             0.06       0.06  0.41        0.07\n",
      "LassoLarsIC                                  0.06       0.06  0.41        0.05\n",
      "LassoLarsCV                                  0.06       0.06  0.41        0.11\n",
      "LarsCV                                       0.06       0.06  0.41        0.16\n",
      "Lars                                         0.06       0.06  0.41        0.08\n",
      "XGBRegressor                                 0.05       0.05  0.41        0.39\n",
      "OrthogonalMatchingPursuitCV                  0.04       0.05  0.41        0.08\n",
      "SGDRegressor                                 0.04       0.04  0.42        0.05\n",
      "BaggingRegressor                             0.02       0.02  0.42        0.76\n",
      "Lasso                                       -0.00      -0.00  0.42        0.06\n",
      "DummyRegressor                              -0.00      -0.00  0.42        0.04\n",
      "ElasticNet                                  -0.00      -0.00  0.42        0.03\n",
      "LassoLars                                   -0.00      -0.00  0.42        0.04\n",
      "SVR                                         -0.01      -0.00  0.43       22.80\n",
      "PoissonRegressor                            -0.03      -0.03  0.43        0.05\n",
      "KNeighborsRegressor                         -0.05      -0.04  0.43        2.20\n",
      "NuSVR                                       -0.13      -0.13  0.45       44.63\n",
      "HuberRegressor                              -0.31      -0.31  0.49        0.60\n",
      "LinearSVR                                   -0.31      -0.31  0.49        1.88\n",
      "PassiveAggressiveRegressor                  -0.60      -0.59  0.54        0.05\n",
      "DecisionTreeRegressor                       -0.79      -0.79  0.57        0.15\n",
      "ExtraTreeRegressor                          -0.79      -0.79  0.57        0.09\n",
      "GaussianProcessRegressor                    -1.61      -1.60  0.68      105.58\n",
      "KernelRidge                                 -3.18      -3.17  0.87       45.63\n"
     ]
    }
   ],
   "source": [
    "print(models)"
   ]
  },
  {
   "cell_type": "code",
   "execution_count": null,
   "id": "8a4aa6eb",
   "metadata": {},
   "outputs": [],
   "source": []
  }
 ],
 "metadata": {
  "kernelspec": {
   "display_name": "Python 3 (ipykernel)",
   "language": "python",
   "name": "python3"
  },
  "language_info": {
   "codemirror_mode": {
    "name": "ipython",
    "version": 3
   },
   "file_extension": ".py",
   "mimetype": "text/x-python",
   "name": "python",
   "nbconvert_exporter": "python",
   "pygments_lexer": "ipython3",
   "version": "3.12.10"
  }
 },
 "nbformat": 4,
 "nbformat_minor": 5
}
